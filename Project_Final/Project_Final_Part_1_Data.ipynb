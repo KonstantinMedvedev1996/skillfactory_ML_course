{
 "cells": [
  {
   "cell_type": "markdown",
   "metadata": {},
   "source": [
    " ## <center> Итоговый проект \"Модель прогнозирования стоимости жилья для агентства недвижимости\" ##\n",
    "\n"
   ]
  },
  {
   "cell_type": "markdown",
   "metadata": {},
   "source": [
    " ## Часть 1. Загрузка датасета и первое знакомство с данными. ##"
   ]
  },
  {
   "cell_type": "markdown",
   "metadata": {},
   "source": [
    "Импортируем нужные библиотеки"
   ]
  },
  {
   "cell_type": "code",
   "execution_count": 1,
   "metadata": {},
   "outputs": [],
   "source": [
    "import warnings\n",
    "warnings.filterwarnings('ignore')\n",
    "\n",
    "import pandas as pd\n",
    "import numpy as np\n",
    "# import ast\n",
    "import seaborn as sns\n",
    "import matplotlib.pyplot as plt\n",
    "from sklearn.model_selection import train_test_split\n",
    "from sklearn.linear_model import LinearRegression\n",
    "from sklearn.linear_model import Ridge\n",
    "from sklearn.tree import DecisionTreeRegressor\n",
    "from sklearn.ensemble import RandomForestRegressor\n",
    "from xgboost import XGBRegressor\n",
    "from sklearn.metrics import mean_squared_error, r2_score\n",
    "from sklearn.preprocessing import StandardScaler\n",
    "from sklearn.model_selection import GridSearchCV"
   ]
  },
  {
   "cell_type": "markdown",
   "metadata": {},
   "source": [
    "Загрузим и изучим данные"
   ]
  },
  {
   "cell_type": "code",
   "execution_count": 2,
   "metadata": {},
   "outputs": [
    {
     "name": "stdout",
     "output_type": "stream",
     "text": [
      "Размер набора данных: (377185, 18) \n",
      "\n",
      "<class 'pandas.core.frame.DataFrame'>\n",
      "RangeIndex: 377185 entries, 0 to 377184\n",
      "Data columns (total 18 columns):\n",
      " #   Column        Non-Null Count   Dtype \n",
      "---  ------        --------------   ----- \n",
      " 0   status        337267 non-null  object\n",
      " 1   private pool  4181 non-null    object\n",
      " 2   propertyType  342452 non-null  object\n",
      " 3   street        377183 non-null  object\n",
      " 4   baths         270847 non-null  object\n",
      " 5   homeFacts     377185 non-null  object\n",
      " 6   fireplace     103114 non-null  object\n",
      " 7   city          377151 non-null  object\n",
      " 8   schools       377185 non-null  object\n",
      " 9   sqft          336608 non-null  object\n",
      " 10  zipcode       377185 non-null  object\n",
      " 11  beds          285903 non-null  object\n",
      " 12  state         377185 non-null  object\n",
      " 13  stories       226469 non-null  object\n",
      " 14  mls-id        24942 non-null   object\n",
      " 15  PrivatePool   40311 non-null   object\n",
      " 16  MlsId         310305 non-null  object\n",
      " 17  target        374704 non-null  object\n",
      "dtypes: object(18)\n",
      "memory usage: 51.8+ MB\n",
      "None \n",
      "\n"
     ]
    },
    {
     "data": {
      "text/html": [
       "<div>\n",
       "<style scoped>\n",
       "    .dataframe tbody tr th:only-of-type {\n",
       "        vertical-align: middle;\n",
       "    }\n",
       "\n",
       "    .dataframe tbody tr th {\n",
       "        vertical-align: top;\n",
       "    }\n",
       "\n",
       "    .dataframe thead th {\n",
       "        text-align: right;\n",
       "    }\n",
       "</style>\n",
       "<table border=\"1\" class=\"dataframe\">\n",
       "  <thead>\n",
       "    <tr style=\"text-align: right;\">\n",
       "      <th></th>\n",
       "      <th>status</th>\n",
       "      <th>private pool</th>\n",
       "      <th>propertyType</th>\n",
       "      <th>street</th>\n",
       "      <th>baths</th>\n",
       "      <th>homeFacts</th>\n",
       "      <th>fireplace</th>\n",
       "      <th>city</th>\n",
       "      <th>schools</th>\n",
       "      <th>sqft</th>\n",
       "      <th>zipcode</th>\n",
       "      <th>beds</th>\n",
       "      <th>state</th>\n",
       "      <th>stories</th>\n",
       "      <th>mls-id</th>\n",
       "      <th>PrivatePool</th>\n",
       "      <th>MlsId</th>\n",
       "      <th>target</th>\n",
       "    </tr>\n",
       "  </thead>\n",
       "  <tbody>\n",
       "    <tr>\n",
       "      <th>0</th>\n",
       "      <td>Active</td>\n",
       "      <td>NaN</td>\n",
       "      <td>Single Family Home</td>\n",
       "      <td>240 Heather Ln</td>\n",
       "      <td>3.5</td>\n",
       "      <td>{'atAGlanceFacts': [{'factValue': '2019', 'fac...</td>\n",
       "      <td>Gas Logs</td>\n",
       "      <td>Southern Pines</td>\n",
       "      <td>[{'rating': ['4', '4', '7', 'NR', '4', '7', 'N...</td>\n",
       "      <td>2900</td>\n",
       "      <td>28387</td>\n",
       "      <td>4</td>\n",
       "      <td>NC</td>\n",
       "      <td>NaN</td>\n",
       "      <td>NaN</td>\n",
       "      <td>NaN</td>\n",
       "      <td>611019</td>\n",
       "      <td>$418,000</td>\n",
       "    </tr>\n",
       "    <tr>\n",
       "      <th>1</th>\n",
       "      <td>for sale</td>\n",
       "      <td>NaN</td>\n",
       "      <td>single-family home</td>\n",
       "      <td>12911 E Heroy Ave</td>\n",
       "      <td>3 Baths</td>\n",
       "      <td>{'atAGlanceFacts': [{'factValue': '2019', 'fac...</td>\n",
       "      <td>NaN</td>\n",
       "      <td>Spokane Valley</td>\n",
       "      <td>[{'rating': ['4/10', 'None/10', '4/10'], 'data...</td>\n",
       "      <td>1,947 sqft</td>\n",
       "      <td>99216</td>\n",
       "      <td>3 Beds</td>\n",
       "      <td>WA</td>\n",
       "      <td>2.0</td>\n",
       "      <td>NaN</td>\n",
       "      <td>NaN</td>\n",
       "      <td>201916904</td>\n",
       "      <td>$310,000</td>\n",
       "    </tr>\n",
       "    <tr>\n",
       "      <th>2</th>\n",
       "      <td>for sale</td>\n",
       "      <td>NaN</td>\n",
       "      <td>single-family home</td>\n",
       "      <td>2005 Westridge Rd</td>\n",
       "      <td>2 Baths</td>\n",
       "      <td>{'atAGlanceFacts': [{'factValue': '1961', 'fac...</td>\n",
       "      <td>yes</td>\n",
       "      <td>Los Angeles</td>\n",
       "      <td>[{'rating': ['8/10', '4/10', '8/10'], 'data': ...</td>\n",
       "      <td>3,000 sqft</td>\n",
       "      <td>90049</td>\n",
       "      <td>3 Beds</td>\n",
       "      <td>CA</td>\n",
       "      <td>1.0</td>\n",
       "      <td>NaN</td>\n",
       "      <td>yes</td>\n",
       "      <td>FR19221027</td>\n",
       "      <td>$2,895,000</td>\n",
       "    </tr>\n",
       "  </tbody>\n",
       "</table>\n",
       "</div>"
      ],
      "text/plain": [
       "     status private pool        propertyType             street    baths  \\\n",
       "0    Active          NaN  Single Family Home     240 Heather Ln      3.5   \n",
       "1  for sale          NaN  single-family home  12911 E Heroy Ave  3 Baths   \n",
       "2  for sale          NaN  single-family home  2005 Westridge Rd  2 Baths   \n",
       "\n",
       "                                           homeFacts fireplace  \\\n",
       "0  {'atAGlanceFacts': [{'factValue': '2019', 'fac...  Gas Logs   \n",
       "1  {'atAGlanceFacts': [{'factValue': '2019', 'fac...       NaN   \n",
       "2  {'atAGlanceFacts': [{'factValue': '1961', 'fac...       yes   \n",
       "\n",
       "             city                                            schools  \\\n",
       "0  Southern Pines  [{'rating': ['4', '4', '7', 'NR', '4', '7', 'N...   \n",
       "1  Spokane Valley  [{'rating': ['4/10', 'None/10', '4/10'], 'data...   \n",
       "2     Los Angeles  [{'rating': ['8/10', '4/10', '8/10'], 'data': ...   \n",
       "\n",
       "         sqft zipcode    beds state stories mls-id PrivatePool       MlsId  \\\n",
       "0        2900   28387       4    NC     NaN    NaN         NaN      611019   \n",
       "1  1,947 sqft   99216  3 Beds    WA     2.0    NaN         NaN   201916904   \n",
       "2  3,000 sqft   90049  3 Beds    CA     1.0    NaN         yes  FR19221027   \n",
       "\n",
       "       target  \n",
       "0    $418,000  \n",
       "1    $310,000  \n",
       "2  $2,895,000  "
      ]
     },
     "execution_count": 2,
     "metadata": {},
     "output_type": "execute_result"
    }
   ],
   "source": [
    "df = pd.read_csv('data/data.zip')\n",
    "print('Размер набора данных:', df.shape, '\\n')\n",
    "print(df.info(), '\\n')\n",
    "df.head(3)"
   ]
  },
  {
   "cell_type": "markdown",
   "metadata": {},
   "source": [
    "Итак, у нас есть данные о более чем 370 тысяч объектов на рынке недвижимости, которые описываются 18 признаками.\n",
    "\n",
    "Условно разделим признаки на  нескольких групп.\n",
    "\n",
    "**Данные об объекте недвижимости:**\n",
    "* 'MlsId' - идентификационный номер в системе MLS\n",
    "* 'mls-id' - идентификационный номер в системе MLS\n",
    "* 'status' - статус продажи\n",
    "* 'propertyType' - 'тип' объекта недвижимости\n",
    "\n",
    "**Характеристики:**\n",
    "* 'fireplace' - наличие камина\n",
    "* 'baths' - количество ванных комнат\n",
    "* 'beds'- количество спальных комнат\n",
    "* 'private pool' - наличие бассейна\n",
    "* 'PrivatePool' - наличие бассейна\n",
    "* 'stories' - количество этажей\n",
    "\n",
    "**Числовые характеристки:**\n",
    "* 'sqft' - площадь в квадратных футах\n",
    "\n",
    "**Географическая информация:**\n",
    "* 'zipcode' - почтовый индекс\n",
    "* 'state' - штат\n",
    "* 'city' - город\n",
    "* 'street'- адрес\n",
    "\n",
    "**Прочие признаки (требующие особой предобработки обработки):**\n",
    "* 'homeFacts'- информация о строительстве объекта\n",
    "* 'schools' - сведения о школах в районе\n",
    "\n",
    "\n",
    "**Целевая переменная:** \n",
    "* 'target' - цена объекта недвижимости (целевой признак)\n",
    "\n"
   ]
  },
  {
   "cell_type": "markdown",
   "metadata": {},
   "source": [
    " ## Часть 2. Первичная обработка данных. ##"
   ]
  },
  {
   "cell_type": "code",
   "execution_count": 3,
   "metadata": {},
   "outputs": [
    {
     "name": "stdout",
     "output_type": "stream",
     "text": [
      "False    377135\n",
      "True         50\n",
      "Name: count, dtype: int64\n"
     ]
    }
   ],
   "source": [
    "# Проверим наличие повторяющихся строк и удалим их при необходимости.\n",
    "print(df.duplicated().value_counts())\n",
    "df = df.drop_duplicates().reset_index(drop=True)"
   ]
  },
  {
   "cell_type": "code",
   "execution_count": 261,
   "metadata": {},
   "outputs": [
    {
     "data": {
      "text/plain": [
       "status          10.584274\n",
       "private pool    98.891378\n",
       "propertyType     9.209699\n",
       "street           0.000530\n",
       "baths           28.188315\n",
       "homeFacts        0.000000\n",
       "fireplace       72.659393\n",
       "city             0.009015\n",
       "schools          0.000000\n",
       "sqft            10.752118\n",
       "zipcode          0.000000\n",
       "beds            24.196640\n",
       "state            0.000000\n",
       "stories         39.952272\n",
       "mls-id          93.386453\n",
       "PrivatePool     89.311520\n",
       "MlsId           17.730786\n",
       "target           0.657589\n",
       "dtype: float64"
      ]
     },
     "execution_count": 261,
     "metadata": {},
     "output_type": "execute_result"
    }
   ],
   "source": [
    "# Посмотрим на пропуски в процентном отношении по каждому признаку\n",
    "df.isna().sum()/df.shape[0]*100"
   ]
  },
  {
   "cell_type": "code",
   "execution_count": 262,
   "metadata": {},
   "outputs": [
    {
     "data": {
      "image/png": "[encoded data removed]",
      "text/plain": [
       "<Figure size 1500x1000 with 2 Axes>"
      ]
     },
     "metadata": {},
     "output_type": "display_data"
    }
   ],
   "source": [
    "# Визиализируем пропуски\n",
    "fig, ax = plt.subplots(figsize=(15,10))\n",
    "sns_heatmap=sns.heatmap(df.isnull(), yticklabels=False, cbar=True, cmap= 'coolwarm')"
   ]
  },
  {
   "cell_type": "markdown",
   "metadata": {},
   "source": [
    "Признаки mls-id и MlsId"
   ]
  },
  {
   "cell_type": "code",
   "execution_count": 263,
   "metadata": {},
   "outputs": [
    {
     "name": "stdout",
     "output_type": "stream",
     "text": [
      "24907\n"
     ]
    },
    {
     "data": {
      "text/plain": [
       "13          19221142\n",
       "20        SR19195113\n",
       "21         201909438\n",
       "31          T3159863\n",
       "38          T3204536\n",
       "             ...    \n",
       "377041      14170825\n",
       "377043        384383\n",
       "377062    CV19260192\n",
       "377063       7690588\n",
       "377122     F10202858\n",
       "Name: mls-id, Length: 24942, dtype: object"
      ]
     },
     "execution_count": 263,
     "metadata": {},
     "output_type": "execute_result"
    }
   ],
   "source": [
    "# Итак можно заметить, что большинство пропусков содержится в столбцах\n",
    "# private pool и уникальный идентификационный номер объекта. \n",
    "# Посмотрим что из себя представляют эти признаки\n",
    "print(df['mls-id'].nunique())\n",
    "df[~df['mls-id'].isna()]['mls-id']"
   ]
  },
  {
   "cell_type": "code",
   "execution_count": 264,
   "metadata": {},
   "outputs": [
    {
     "name": "stdout",
     "output_type": "stream",
     "text": [
      "232944\n"
     ]
    },
    {
     "data": {
      "text/plain": [
       "0             611019\n",
       "1          201916904\n",
       "2         FR19221027\n",
       "3           14191809\n",
       "4             861745\n",
       "             ...    \n",
       "377127      14087883\n",
       "377129    DCDC444306\n",
       "377130     A10702700\n",
       "377131      10374233\n",
       "377134       1403619\n",
       "Name: MlsId, Length: 310266, dtype: object"
      ]
     },
     "execution_count": 264,
     "metadata": {},
     "output_type": "execute_result"
    }
   ],
   "source": [
    "print(df['MlsId'].nunique())\n",
    "df[~df['MlsId'].isna()]['MlsId']"
   ]
  },
  {
   "cell_type": "code",
   "execution_count": 265,
   "metadata": {},
   "outputs": [
    {
     "data": {
      "text/plain": [
       "(377135, 16)"
      ]
     },
     "execution_count": 265,
     "metadata": {},
     "output_type": "execute_result"
    }
   ],
   "source": [
    "'''Удалим признаки MlsId и mls-id так как во первых в них содержится много пропусков, \n",
    "а во вторых идентификационный номер в связи со своей уникальностью\n",
    "будет бесполезен при построении предсказательной модели'''\n",
    "\n",
    "df.drop(['MlsId','mls-id'], axis=1, inplace=True)\n",
    "df.shape"
   ]
  },
  {
   "cell_type": "markdown",
   "metadata": {},
   "source": [
    "Признак private pool и private_pool"
   ]
  },
  {
   "cell_type": "code",
   "execution_count": 266,
   "metadata": {},
   "outputs": [
    {
     "name": "stdout",
     "output_type": "stream",
     "text": [
      "1 \n",
      "\n",
      "[nan 'Yes'] \n",
      "\n"
     ]
    },
    {
     "data": {
      "text/plain": [
       "205    Yes\n",
       "321    Yes\n",
       "355    Yes\n",
       "Name: private pool, dtype: object"
      ]
     },
     "execution_count": 266,
     "metadata": {},
     "output_type": "execute_result"
    }
   ],
   "source": [
    "'''Посмотрим на признаки указывающие на наличие или отстутсвие бассеина на \n",
    "территории объекта недвижимости.\n",
    "Судя по всему два признака дублируют друг друга.'''\n",
    "\n",
    "print(df['private pool'].nunique(), '\\n')\n",
    "print(df['private pool'].unique(), '\\n')\n",
    "df[~df['private pool'].isna()]['private pool'].head(3)"
   ]
  },
  {
   "cell_type": "code",
   "execution_count": 267,
   "metadata": {},
   "outputs": [
    {
     "name": "stdout",
     "output_type": "stream",
     "text": [
      "2 \n",
      "\n",
      "[nan 'yes' 'Yes'] \n",
      "\n"
     ]
    },
    {
     "data": {
      "text/plain": [
       "2     yes\n",
       "12    yes\n",
       "19    yes\n",
       "Name: PrivatePool, dtype: object"
      ]
     },
     "execution_count": 267,
     "metadata": {},
     "output_type": "execute_result"
    }
   ],
   "source": [
    "print(df['PrivatePool'].nunique(), '\\n')\n",
    "print(df['PrivatePool'].unique(), '\\n')\n",
    "df[~df['PrivatePool'].isna()]['PrivatePool'].head(3)"
   ]
  },
  {
   "cell_type": "code",
   "execution_count": 268,
   "metadata": {},
   "outputs": [
    {
     "data": {
      "text/plain": [
       "(377135, 15)"
      ]
     },
     "execution_count": 268,
     "metadata": {},
     "output_type": "execute_result"
    }
   ],
   "source": [
    "# Судя по всему оба признака дублируют друг друга. Объединим их в один бинарный признак.\n",
    "df['private_pool'] = df[['private pool', 'PrivatePool']].apply(\n",
    "    lambda x: 0 if (x[0] is np.NaN) and (x[1] is np.NaN) else 1, axis=1\n",
    ")\n",
    "df.drop(['private pool', 'PrivatePool'], axis=1, inplace=True )\n",
    "\n",
    "\n",
    "df.shape"
   ]
  },
  {
   "cell_type": "markdown",
   "metadata": {},
   "source": [
    "Признак baths"
   ]
  },
  {
   "cell_type": "code",
   "execution_count": 269,
   "metadata": {},
   "outputs": [
    {
     "name": "stdout",
     "output_type": "stream",
     "text": [
      "229 \n",
      "\n",
      "baths\n",
      "2 Baths       52458\n",
      "3 Baths       35503\n",
      "2             20452\n",
      "2.0           16575\n",
      "4 Baths       14763\n",
      "              ...  \n",
      "4.75 Baths        1\n",
      "5.25 Baths        1\n",
      "41.0              1\n",
      "1.8 Baths         1\n",
      "44.0              1\n",
      "Name: count, Length: 229, dtype: int64 \n",
      "\n"
     ]
    },
    {
     "data": {
      "text/plain": [
       "0        3.5\n",
       "1    3 Baths\n",
       "2    2 Baths\n",
       "Name: baths, dtype: object"
      ]
     },
     "execution_count": 269,
     "metadata": {},
     "output_type": "execute_result"
    }
   ],
   "source": [
    "''' Обработаем столбцы с числовыми показателями bath и beds, \n",
    "которые содержат лишнюю текстовую информацию.'''\n",
    "\n",
    "print(df['baths'].nunique(), '\\n')\n",
    "print(df['baths'].value_counts(), '\\n')\n",
    "\n",
    "df.loc[~df['baths'].isna(), 'baths'].head(3)"
   ]
  },
  {
   "cell_type": "code",
   "execution_count": 270,
   "metadata": {},
   "outputs": [
    {
     "data": {
      "text/html": [
       "<div>\n",
       "<style scoped>\n",
       "    .dataframe tbody tr th:only-of-type {\n",
       "        vertical-align: middle;\n",
       "    }\n",
       "\n",
       "    .dataframe tbody tr th {\n",
       "        vertical-align: top;\n",
       "    }\n",
       "\n",
       "    .dataframe thead th {\n",
       "        text-align: right;\n",
       "    }\n",
       "</style>\n",
       "<table border=\"1\" class=\"dataframe\">\n",
       "  <thead>\n",
       "    <tr style=\"text-align: right;\">\n",
       "      <th></th>\n",
       "      <th>0</th>\n",
       "    </tr>\n",
       "  </thead>\n",
       "  <tbody>\n",
       "    <tr>\n",
       "      <th>0</th>\n",
       "      <td>3</td>\n",
       "    </tr>\n",
       "    <tr>\n",
       "      <th>1</th>\n",
       "      <td>3</td>\n",
       "    </tr>\n",
       "    <tr>\n",
       "      <th>2</th>\n",
       "      <td>2</td>\n",
       "    </tr>\n",
       "    <tr>\n",
       "      <th>3</th>\n",
       "      <td>8</td>\n",
       "    </tr>\n",
       "    <tr>\n",
       "      <th>8</th>\n",
       "      <td>2</td>\n",
       "    </tr>\n",
       "  </tbody>\n",
       "</table>\n",
       "</div>"
      ],
      "text/plain": [
       "   0\n",
       "0  3\n",
       "1  3\n",
       "2  2\n",
       "3  8\n",
       "8  2"
      ]
     },
     "execution_count": 270,
     "metadata": {},
     "output_type": "execute_result"
    }
   ],
   "source": [
    "df.loc[~df['baths'].isna(), 'baths'].str.extract('(\\d+)').head()"
   ]
  },
  {
   "cell_type": "code",
   "execution_count": 271,
   "metadata": {},
   "outputs": [],
   "source": [
    "\"\"\"Заполним пропущенные значения единицей исходя из предположения, что одна ванна\n",
    "всё же должна\"\"\"\n",
    "df['baths'] = df['baths'].str.extract('(\\d+)')\n",
    "df['baths'] = df['baths'].fillna(1)"
   ]
  },
  {
   "cell_type": "markdown",
   "metadata": {},
   "source": [
    "Признак beds"
   ]
  },
  {
   "cell_type": "code",
   "execution_count": 272,
   "metadata": {},
   "outputs": [
    {
     "name": "stdout",
     "output_type": "stream",
     "text": [
      "1184 \n",
      "\n",
      "beds\n",
      "3 Beds         53454\n",
      "4 Beds         35412\n",
      "3              31405\n",
      "2 Beds         26355\n",
      "4              20030\n",
      "               ...  \n",
      "8,023 sqft         1\n",
      "10,193 sqft        1\n",
      "8.93 acres         1\n",
      "5,510 sqft         1\n",
      "8,479 sqft         1\n",
      "Name: count, Length: 1184, dtype: int64 \n",
      "\n"
     ]
    },
    {
     "data": {
      "text/plain": [
       "0         4\n",
       "1    3 Beds\n",
       "2    3 Beds\n",
       "Name: beds, dtype: object"
      ]
     },
     "execution_count": 272,
     "metadata": {},
     "output_type": "execute_result"
    }
   ],
   "source": [
    "\n",
    "print(df['beds'].nunique(), '\\n')\n",
    "print(df['beds'].value_counts(), '\\n')\n",
    "\n",
    "df.loc[~df['beds'].isna(), 'beds'].head(3)"
   ]
  },
  {
   "cell_type": "code",
   "execution_count": 273,
   "metadata": {},
   "outputs": [
    {
     "data": {
      "text/plain": [
       "beds\n",
       "3 Beds    53454\n",
       "4 Beds    35412\n",
       "3         31405\n",
       "2 Beds    26355\n",
       "4         20030\n",
       "2         16109\n",
       "Baths     15282\n",
       "3 bd      12877\n",
       "5 Beds    11270\n",
       "4 bd       8265\n",
       "Name: count, dtype: int64"
      ]
     },
     "execution_count": 273,
     "metadata": {},
     "output_type": "execute_result"
    }
   ],
   "source": [
    "df['beds'].value_counts().head(10)"
   ]
  },
  {
   "cell_type": "code",
   "execution_count": 274,
   "metadata": {},
   "outputs": [
    {
     "data": {
      "text/html": [
       "<div>\n",
       "<style scoped>\n",
       "    .dataframe tbody tr th:only-of-type {\n",
       "        vertical-align: middle;\n",
       "    }\n",
       "\n",
       "    .dataframe tbody tr th {\n",
       "        vertical-align: top;\n",
       "    }\n",
       "\n",
       "    .dataframe thead th {\n",
       "        text-align: right;\n",
       "    }\n",
       "</style>\n",
       "<table border=\"1\" class=\"dataframe\">\n",
       "  <thead>\n",
       "    <tr style=\"text-align: right;\">\n",
       "      <th></th>\n",
       "      <th>0</th>\n",
       "    </tr>\n",
       "  </thead>\n",
       "  <tbody>\n",
       "    <tr>\n",
       "      <th>0</th>\n",
       "      <td>4</td>\n",
       "    </tr>\n",
       "    <tr>\n",
       "      <th>1</th>\n",
       "      <td>3</td>\n",
       "    </tr>\n",
       "    <tr>\n",
       "      <th>2</th>\n",
       "      <td>3</td>\n",
       "    </tr>\n",
       "  </tbody>\n",
       "</table>\n",
       "</div>"
      ],
      "text/plain": [
       "   0\n",
       "0  4\n",
       "1  3\n",
       "2  3"
      ]
     },
     "execution_count": 274,
     "metadata": {},
     "output_type": "execute_result"
    }
   ],
   "source": [
    "df.loc[~df['beds'].isna(), 'beds'].str.extract('(\\d+)').head(3)"
   ]
  },
  {
   "cell_type": "code",
   "execution_count": 275,
   "metadata": {},
   "outputs": [],
   "source": [
    "\"\"\"Заполним пропущенные значения единицей исходя из предположения, что одна спалня\n",
    "всё же должна\"\"\"\n",
    "df['beds'] = df['beds'].str.extract('(\\d+)')\n",
    "df['beds'] = df['beds'].fillna('1')\n",
    "df['beds'].replace('0', '1', inplace=True)"
   ]
  },
  {
   "cell_type": "code",
   "execution_count": 276,
   "metadata": {},
   "outputs": [
    {
     "data": {
      "text/plain": [
       "beds\n",
       "1    117676\n",
       "3    105962\n",
       "4     69091\n",
       "2     50342\n",
       "5     22006\n",
       "Name: count, dtype: int64"
      ]
     },
     "execution_count": 276,
     "metadata": {},
     "output_type": "execute_result"
    }
   ],
   "source": [
    "df['beds'].value_counts().head(5)"
   ]
  },
  {
   "cell_type": "markdown",
   "metadata": {},
   "source": [
    "Признак fireplace"
   ]
  },
  {
   "cell_type": "code",
   "execution_count": 277,
   "metadata": {},
   "outputs": [
    {
     "name": "stdout",
     "output_type": "stream",
     "text": [
      "1652 \n",
      "\n",
      "fireplace\n",
      "yes                                                                     50353\n",
      "Yes                                                                     20856\n",
      "1                                                                       14544\n",
      "2                                                                        2432\n",
      "Not Applicable                                                           1993\n",
      "                                                                        ...  \n",
      "Free-standing, Insert, Wood                                                 1\n",
      "Wood Burning, Attached Fireplace Doors/Screen, Electric, Gas Starter        1\n",
      "One, Living Room                                                            1\n",
      "FAMILYRM, Great Room, Living Room                                           1\n",
      "Ceiling Fan, SMAPL, Utility Connection, Walk-In Closets                     1\n",
      "Name: count, Length: 1652, dtype: int64 \n",
      "\n"
     ]
    },
    {
     "data": {
      "text/plain": [
       "0     Gas Logs\n",
       "2          yes\n",
       "3          yes\n",
       "18         yes\n",
       "21         Yes\n",
       "Name: fireplace, dtype: object"
      ]
     },
     "execution_count": 277,
     "metadata": {},
     "output_type": "execute_result"
    }
   ],
   "source": [
    "# Обработаем признак Fireplace\n",
    "print(df['fireplace'].nunique(), '\\n')\n",
    "print(df['fireplace'].value_counts(), '\\n')\n",
    "\n",
    "df.loc[~df['fireplace'].isna(), 'fireplace'].head(5)"
   ]
  },
  {
   "cell_type": "code",
   "execution_count": 278,
   "metadata": {},
   "outputs": [
    {
     "data": {
      "text/plain": [
       "274024"
      ]
     },
     "execution_count": 278,
     "metadata": {},
     "output_type": "execute_result"
    }
   ],
   "source": [
    "df['fireplace'].isna().sum()"
   ]
  },
  {
   "cell_type": "code",
   "execution_count": 279,
   "metadata": {},
   "outputs": [],
   "source": [
    "df['fireplace'].fillna(0, inplace=True)"
   ]
  },
  {
   "cell_type": "code",
   "execution_count": 280,
   "metadata": {},
   "outputs": [],
   "source": [
    "#переводим в бинарный признак (наличие или отсутствия камина)\n",
    "df['fireplace'] = df['fireplace'].apply(lambda x: 1 if x != 0 else 0)\n"
   ]
  },
  {
   "cell_type": "code",
   "execution_count": 281,
   "metadata": {},
   "outputs": [
    {
     "name": "stdout",
     "output_type": "stream",
     "text": [
      "fireplace\n",
      "0    274024\n",
      "1    103111\n",
      "Name: count, dtype: int64 \n",
      "\n"
     ]
    }
   ],
   "source": [
    "print(df['fireplace'].value_counts(), '\\n')"
   ]
  },
  {
   "cell_type": "markdown",
   "metadata": {},
   "source": [
    "Признак stories (количество этажей)"
   ]
  },
  {
   "cell_type": "code",
   "execution_count": 282,
   "metadata": {},
   "outputs": [
    {
     "name": "stdout",
     "output_type": "stream",
     "text": [
      "347 \n",
      "\n",
      "stories\n",
      "1.0                                  67451\n",
      "2.0                                  55283\n",
      "1                                    23085\n",
      "2                                    18146\n",
      "3.0                                  11272\n",
      "                                     ...  \n",
      "1.2                                      1\n",
      "Manufactured Home, Non-Site Built        1\n",
      "Bedroom - Split Plan                     1\n",
      "78                                       1\n",
      "65.0                                     1\n",
      "Name: count, Length: 347, dtype: int64 \n",
      "\n",
      "150674 \n",
      "\n"
     ]
    },
    {
     "data": {
      "text/plain": [
       "1    2.0\n",
       "2    1.0\n",
       "3    3.0\n",
       "Name: stories, dtype: object"
      ]
     },
     "execution_count": 282,
     "metadata": {},
     "output_type": "execute_result"
    }
   ],
   "source": [
    "print(df['stories'].nunique(), '\\n')\n",
    "print(df['stories'].value_counts(), '\\n')\n",
    "print(df['stories'].isna().sum(), '\\n')\n",
    "\n",
    "df.loc[~df['stories'].isna(), 'stories'].head(3)"
   ]
  },
  {
   "cell_type": "code",
   "execution_count": 283,
   "metadata": {},
   "outputs": [],
   "source": [
    "\"\"\"Извлечем числовую составляющию признака и заполним пропущенные значения\n",
    "stories исходя из предположения, что один этаж должен быть\"\"\"\n",
    "df['stories'] = df['stories'].str.extract('(\\d+)')\n",
    "df['stories'] = df['stories'].fillna('1')\n",
    "df['stories'].replace('0', '1', inplace=True)\n"
   ]
  },
  {
   "cell_type": "code",
   "execution_count": 284,
   "metadata": {},
   "outputs": [
    {
     "data": {
      "text/plain": [
       "stories\n",
       "1    269504\n",
       "2     79437\n",
       "3     17211\n",
       "9      3386\n",
       "4      3118\n",
       "Name: count, dtype: int64"
      ]
     },
     "execution_count": 284,
     "metadata": {},
     "output_type": "execute_result"
    }
   ],
   "source": [
    "df.stories.value_counts().head(5)"
   ]
  },
  {
   "cell_type": "markdown",
   "metadata": {},
   "source": [
    "Признак sqft (жилая площадь постройки)"
   ]
  },
  {
   "cell_type": "code",
   "execution_count": 285,
   "metadata": {},
   "outputs": [
    {
     "name": "stdout",
     "output_type": "stream",
     "text": [
      "40550 \n",
      "\n"
     ]
    },
    {
     "data": {
      "text/plain": [
       "0               2900\n",
       "1         1,947 sqft\n",
       "2         3,000 sqft\n",
       "3         6,457 sqft\n",
       "5           897 sqft\n",
       "             ...    \n",
       "377129         1,417\n",
       "377130         4,017\n",
       "377131    2,000 sqft\n",
       "377132    1,152 sqft\n",
       "377134         1,462\n",
       "Name: sqft, Length: 336585, dtype: object"
      ]
     },
     "execution_count": 285,
     "metadata": {},
     "output_type": "execute_result"
    }
   ],
   "source": [
    "print(df['sqft'].isna().sum(), '\\n')\n",
    "\n",
    "df.loc[~df['sqft'].isna(), 'sqft']"
   ]
  },
  {
   "cell_type": "code",
   "execution_count": 286,
   "metadata": {},
   "outputs": [],
   "source": [
    "\"\"\"Извлечем числовую составляющию признака, пропущенные значения заполним позже агрегируя\n",
    "информацию по zipcode\"\"\"\n",
    "df['sqft'] = df['sqft'].str.replace(',','').str.extract('(\\d+)')"
   ]
  },
  {
   "cell_type": "code",
   "execution_count": 287,
   "metadata": {},
   "outputs": [
    {
     "data": {
      "text/plain": [
       "41370"
      ]
     },
     "execution_count": 287,
     "metadata": {},
     "output_type": "execute_result"
    }
   ],
   "source": [
    "df.sqft.isna().sum()"
   ]
  },
  {
   "cell_type": "markdown",
   "metadata": {},
   "source": [
    "Признак target (целевой признак) - стоимость недвижимости в долларах"
   ]
  },
  {
   "cell_type": "code",
   "execution_count": 288,
   "metadata": {},
   "outputs": [
    {
     "name": "stdout",
     "output_type": "stream",
     "text": [
      "2480 \n",
      "\n"
     ]
    },
    {
     "data": {
      "text/plain": [
       "0      $418,000\n",
       "1      $310,000\n",
       "2    $2,895,000\n",
       "Name: target, dtype: object"
      ]
     },
     "execution_count": 288,
     "metadata": {},
     "output_type": "execute_result"
    }
   ],
   "source": [
    "print(df['target'].isna().sum(), '\\n')\n",
    "\n",
    "df.loc[~df['target'].isna(), 'target'].head(3)"
   ]
  },
  {
   "cell_type": "code",
   "execution_count": 289,
   "metadata": {},
   "outputs": [
    {
     "data": {
      "text/plain": [
       "2480"
      ]
     },
     "execution_count": 289,
     "metadata": {},
     "output_type": "execute_result"
    }
   ],
   "source": [
    "\"\"\"Извлечем числовую составляющию признака, пропущенные значения заполним позже агрегируя\n",
    "информацию по zipcode\"\"\"\n",
    "df['target'] = df['target'].str.replace(',','').str.extract('(\\d+)')\n",
    "df.target.isna().sum()"
   ]
  },
  {
   "cell_type": "code",
   "execution_count": 290,
   "metadata": {},
   "outputs": [
    {
     "data": {
      "text/plain": [
       "0     418000\n",
       "1     310000\n",
       "2    2895000\n",
       "Name: target, dtype: object"
      ]
     },
     "execution_count": 290,
     "metadata": {},
     "output_type": "execute_result"
    }
   ],
   "source": [
    "df.loc[~df['target'].isna(), 'target'].head(3)"
   ]
  },
  {
   "cell_type": "markdown",
   "metadata": {},
   "source": [
    "Признак zipcode"
   ]
  },
  {
   "cell_type": "code",
   "execution_count": 291,
   "metadata": {},
   "outputs": [
    {
     "data": {
      "text/plain": [
       "0"
      ]
     },
     "execution_count": 291,
     "metadata": {},
     "output_type": "execute_result"
    }
   ],
   "source": [
    "df.zipcode.isna().sum()"
   ]
  },
  {
   "cell_type": "code",
   "execution_count": 292,
   "metadata": {},
   "outputs": [
    {
     "data": {
      "text/plain": [
       "zipcode\n",
       "32137    2141\n",
       "33131    1563\n",
       "34747    1488\n",
       "78245    1390\n",
       "34759    1333\n",
       "Name: count, dtype: int64"
      ]
     },
     "execution_count": 292,
     "metadata": {},
     "output_type": "execute_result"
    }
   ],
   "source": [
    "df.zipcode.value_counts().head(5)"
   ]
  },
  {
   "cell_type": "code",
   "execution_count": 293,
   "metadata": {},
   "outputs": [
    {
     "data": {
      "text/plain": [
       "4549"
      ]
     },
     "execution_count": 293,
     "metadata": {},
     "output_type": "execute_result"
    }
   ],
   "source": [
    "df.zipcode.nunique()"
   ]
  },
  {
   "cell_type": "markdown",
   "metadata": {},
   "source": [
    "Признак state"
   ]
  },
  {
   "cell_type": "code",
   "execution_count": 294,
   "metadata": {},
   "outputs": [
    {
     "name": "stdout",
     "output_type": "stream",
     "text": [
      "0\n",
      "39\n",
      "state\n",
      "FL    115434\n",
      "TX     83780\n",
      "NY     24474\n",
      "CA     23385\n",
      "NC     21854\n",
      "TN     18339\n",
      "WA     13820\n",
      "OH     12587\n",
      "IL      8938\n",
      "NV      8482\n",
      "GA      6701\n",
      "CO      6404\n",
      "PA      5561\n",
      "MI      5161\n",
      "DC      4673\n",
      "AZ      3347\n",
      "IN      3327\n",
      "OR      2789\n",
      "MA      1516\n",
      "UT      1325\n",
      "MD      1090\n",
      "VT       868\n",
      "MO       866\n",
      "VA       801\n",
      "WI       452\n",
      "NJ       436\n",
      "ME       259\n",
      "IA       242\n",
      "KY        90\n",
      "OK        49\n",
      "MS        40\n",
      "SC        28\n",
      "MT         7\n",
      "DE         5\n",
      "Fl         1\n",
      "BA         1\n",
      "AL         1\n",
      "OT         1\n",
      "OS         1\n",
      "Name: count, dtype: int64\n"
     ]
    }
   ],
   "source": [
    "print(df.state.isna().sum())\n",
    "print(df.state.nunique())\n",
    "print(df.state.value_counts())"
   ]
  },
  {
   "cell_type": "markdown",
   "metadata": {},
   "source": [
    "Признак city"
   ]
  },
  {
   "cell_type": "code",
   "execution_count": 295,
   "metadata": {},
   "outputs": [],
   "source": [
    "df['city'] = df['city'].str.lower()"
   ]
  },
  {
   "cell_type": "code",
   "execution_count": 296,
   "metadata": {},
   "outputs": [
    {
     "data": {
      "text/plain": [
       "1909"
      ]
     },
     "execution_count": 296,
     "metadata": {},
     "output_type": "execute_result"
    }
   ],
   "source": [
    "df.city.nunique()"
   ]
  },
  {
   "cell_type": "code",
   "execution_count": 297,
   "metadata": {},
   "outputs": [
    {
     "data": {
      "text/plain": [
       "city\n",
       "houston        24441\n",
       "san antonio    15592\n",
       "miami          15528\n",
       "Name: count, dtype: int64"
      ]
     },
     "execution_count": 297,
     "metadata": {},
     "output_type": "execute_result"
    }
   ],
   "source": [
    "df.city.value_counts().head(3)"
   ]
  },
  {
   "cell_type": "code",
   "execution_count": 370,
   "metadata": {},
   "outputs": [],
   "source": [
    "df['city'] = df['city'].fillna(df['city'].mode()[0])"
   ]
  },
  {
   "cell_type": "markdown",
   "metadata": {},
   "source": [
    "Признак street"
   ]
  },
  {
   "cell_type": "code",
   "execution_count": 299,
   "metadata": {},
   "outputs": [
    {
     "name": "stdout",
     "output_type": "stream",
     "text": [
      "336266\n",
      "0       240 heather ln\n",
      "1    12911 e heroy ave\n",
      "2    2005 westridge rd\n",
      "Name: street, dtype: object\n"
     ]
    }
   ],
   "source": [
    "df.street = df.street.str.lower()\n",
    "print(df.street.nunique())\n",
    "print(df['street'].head(3))"
   ]
  },
  {
   "cell_type": "code",
   "execution_count": 300,
   "metadata": {},
   "outputs": [],
   "source": [
    "''' Количество уникальных адресов соответствует размеру датасета. Постараемся извлечь максимум информации из этого \n",
    "признака постаравшись преобразовать его в категориальнй\n",
    "'''\n",
    "\n",
    "def gettingStreet(s, ind):\n",
    "    s = str(s)\n",
    "    \n",
    "    if 'address' in s: return 'no_address'\n",
    "    elif 'blvd' in s or 'boulevard' in s: return 'boulevard'\n",
    "    elif 'way' in s: return 'highway'\n",
    "    elif 'cir' in s: return 'circle'\n",
    "    elif 'ct' in s or 'court' in s: return 'court'\n",
    "    elif 'dr' in s or 'drive' in s: return 'drive'\n",
    "    elif 'rd' in s or 'road' in s: return 'road'\n",
    "    elif 'ave' in s: return 'avenue'\n",
    "    elif 'st' in s or 'street' in s: return 'street'\n",
    "    elif 'pl' in s: return 'place'\n",
    "    elif 'lane' in s: return 'lane'\n",
    "    elif 'tr' in s or 'trl' in s or 'trail' in s: return 'trail'\n",
    "    elif 'park' in s: return 'park'\n",
    "    else: return 'other'\n",
    "    \n",
    "def getting_street_names(df):\n",
    "  res = pd.DataFrame([\n",
    "    gettingStreet(string, ind)\n",
    "    for (string, ind) in zip(df['street'], df.index)\n",
    "  ])\n",
    "  return res"
   ]
  },
  {
   "cell_type": "code",
   "execution_count": 301,
   "metadata": {},
   "outputs": [
    {
     "data": {
      "text/plain": [
       "street        86119\n",
       "drive         65652\n",
       "avenue        60698\n",
       "other         43814\n",
       "road          43252\n",
       "court         20013\n",
       "place         15297\n",
       "boulevard     13637\n",
       "highway       12557\n",
       "circle         8830\n",
       "trail          4345\n",
       "no_address     1835\n",
       "park            747\n",
       "lane            339\n",
       "Name: count, dtype: int64"
      ]
     },
     "execution_count": 301,
     "metadata": {},
     "output_type": "execute_result"
    }
   ],
   "source": [
    "dfs = getting_street_names(df)\n",
    "df.street = dfs\n",
    "dfs.value_counts()"
   ]
  },
  {
   "cell_type": "markdown",
   "metadata": {},
   "source": [
    "Признак status"
   ]
  },
  {
   "cell_type": "code",
   "execution_count": 302,
   "metadata": {},
   "outputs": [
    {
     "name": "stdout",
     "output_type": "stream",
     "text": [
      "152\n",
      "0      active\n",
      "1    for sale\n",
      "2    for sale\n",
      "Name: status, dtype: object\n"
     ]
    }
   ],
   "source": [
    "df.status = df.status.str.lower()\n",
    "print(df.status.nunique())\n",
    "print(df['status'].head(3))"
   ]
  },
  {
   "cell_type": "code",
   "execution_count": 303,
   "metadata": {},
   "outputs": [
    {
     "data": {
      "text/plain": [
       "status\n",
       "for sale            199524\n",
       "active              105207\n",
       "foreclosure           6768\n",
       "new construction      5474\n",
       "pending               4807\n",
       "Name: count, dtype: int64"
      ]
     },
     "execution_count": 303,
     "metadata": {},
     "output_type": "execute_result"
    }
   ],
   "source": [
    "df.status.value_counts()[:5]"
   ]
  },
  {
   "cell_type": "code",
   "execution_count": 304,
   "metadata": {},
   "outputs": [
    {
     "data": {
      "text/plain": [
       "status\n",
       "False    337218\n",
       "True      39917\n",
       "Name: count, dtype: int64"
      ]
     },
     "execution_count": 304,
     "metadata": {},
     "output_type": "execute_result"
    }
   ],
   "source": [
    "df.status.isnull().value_counts()"
   ]
  },
  {
   "cell_type": "code",
   "execution_count": 305,
   "metadata": {},
   "outputs": [
    {
     "data": {
      "text/plain": [
       "for sale        199524\n",
       "active          105909\n",
       "no_data          39917\n",
       "foreclosure       9348\n",
       "pending           6891\n",
       "new               6164\n",
       "contract          3848\n",
       "auction           3070\n",
       "contingent        1027\n",
       "price change       563\n",
       "rent               424\n",
       "sold               313\n",
       "coming             137\n",
       "Name: count, dtype: int64"
      ]
     },
     "execution_count": 305,
     "metadata": {},
     "output_type": "execute_result"
    }
   ],
   "source": [
    "''' Посмотрим на признак статус объекта недвижимости и постараемся подразбить его на категории\n",
    "'''\n",
    "def gettingStatus(s, ind):\n",
    "    s = str(s)\n",
    "    if 'auction' in s: return 'auction'\n",
    "    elif 'comin' in s or 'dilige' in s: return 'coming'\n",
    "    elif 'rent' in s: return 'rent'\n",
    "    elif 'lease' in s: return 'rent'\n",
    "    elif 'purch' in s: return 'rent'\n",
    "    elif 'pend' in s: return 'pending'\n",
    "    elif 'forec' in s: return 'foreclosure'\n",
    "    elif 'new' in s: return 'new'\n",
    "    elif 'contract' in s: return 'contract'\n",
    "    elif 'continge' in s: return 'contingent'\n",
    "    elif 'sold' in s or 'closed' in s or 'accept' in s: return 'sold'\n",
    "    elif 'activ' in s: return 'active'\n",
    "    elif 'for sale' in s: return 'for sale'\n",
    "    elif 'backup' in s: return 'contract'\n",
    "    elif 'back' in s or 'extend' in s: return 'active'\n",
    "    elif 'continue' in s: return 'active'\n",
    "    elif s == 'c' or  s == 'ct': return 'contract'\n",
    "    elif s == 'p': return 'pending'\n",
    "    elif s == 'ps' or s == 'pf' or s == 'pi': return 'pending'\n",
    "    elif s == 'nan': return  \"no_data\"\n",
    "    else: return s\n",
    "\n",
    "def getting_status_name(df):\n",
    "  res = pd.DataFrame([\n",
    "    gettingStatus(string, ind)\n",
    "    for (string, ind) in zip(df['status'], df.index)\n",
    "  ])\n",
    "  \n",
    "  return res\n",
    "\n",
    "stat = getting_status_name(df)\n",
    "df.status = stat\n",
    "stat.value_counts()"
   ]
  },
  {
   "cell_type": "code",
   "execution_count": 306,
   "metadata": {},
   "outputs": [
    {
     "data": {
      "text/plain": [
       "547      5500\n",
       "609     10500\n",
       "2075     6390\n",
       "3025     1200\n",
       "3645     3600\n",
       "4613     5500\n",
       "5515     1200\n",
       "5873     1250\n",
       "6837     1200\n",
       "8167     3250\n",
       "Name: target, dtype: object"
      ]
     },
     "execution_count": 306,
     "metadata": {},
     "output_type": "execute_result"
    }
   ],
   "source": [
    "'''Сразу удалим данные в которых указаны в качестве статуса \"аренда\", для того, чтобы низкая стоимость по сравнению с продажей не вносила шума в целевую переменную.\n",
    "'''\n",
    "df[df.status == 'rent']['target'][:10]"
   ]
  },
  {
   "cell_type": "code",
   "execution_count": 307,
   "metadata": {},
   "outputs": [],
   "source": [
    "df = df[~(df.status == 'rent')]\n",
    "df.reset_index(inplace=True, drop=True)"
   ]
  },
  {
   "cell_type": "code",
   "execution_count": 308,
   "metadata": {},
   "outputs": [
    {
     "data": {
      "image/png": "[encoded data removed]",
      "text/plain": [
       "<Figure size 640x480 with 1 Axes>"
      ]
     },
     "metadata": {},
     "output_type": "display_data"
    }
   ],
   "source": [
    "''' Переведем признак status в категориальны и посомтрим на получившиеся категории, как можно увидеть две самые большие категории это недвижимость находящаяся в активной продаже'''\n",
    "order_list = df.status.value_counts().index.to_list()\n",
    "df_status = pd.Categorical(df['status'], order_list)\n",
    "sns.histplot(shrink = 0.8, legend = True, y=df_status);"
   ]
  },
  {
   "cell_type": "markdown",
   "metadata": {},
   "source": [
    "Признак propertyType"
   ]
  },
  {
   "cell_type": "code",
   "execution_count": 309,
   "metadata": {},
   "outputs": [
    {
     "name": "stdout",
     "output_type": "stream",
     "text": [
      "1272\n",
      "0    single family home\n",
      "1    single-family home\n",
      "2    single-family home\n",
      "Name: propertyType, dtype: object\n"
     ]
    }
   ],
   "source": [
    "df.propertyType = df.propertyType.str.lower()\n",
    "print(df.propertyType.nunique())\n",
    "print(df['propertyType'].head(3))"
   ]
  },
  {
   "cell_type": "code",
   "execution_count": 310,
   "metadata": {},
   "outputs": [
    {
     "data": {
      "text/plain": [
       "34733"
      ]
     },
     "execution_count": 310,
     "metadata": {},
     "output_type": "execute_result"
    }
   ],
   "source": [
    "df.propertyType.isna().sum()"
   ]
  },
  {
   "cell_type": "code",
   "execution_count": 311,
   "metadata": {},
   "outputs": [
    {
     "data": {
      "text/plain": [
       "propertyType\n",
       "single-family home               91982\n",
       "single family                    62867\n",
       "condo                            42518\n",
       "single family home               31717\n",
       "lot/land                         20526\n",
       "townhouse                        18345\n",
       "land                             10934\n",
       "multi-family                      7789\n",
       "condo/townhome/row home/co-op     7700\n",
       "traditional                       5913\n",
       "Name: count, dtype: int64"
      ]
     },
     "execution_count": 311,
     "metadata": {},
     "output_type": "execute_result"
    }
   ],
   "source": [
    "df.propertyType.value_counts()[:10]"
   ]
  },
  {
   "cell_type": "code",
   "execution_count": 312,
   "metadata": {},
   "outputs": [
    {
     "data": {
      "text/plain": [
       "0"
      ]
     },
     "execution_count": 312,
     "metadata": {},
     "output_type": "execute_result"
    }
   ],
   "source": [
    "''' Постараемся узнать из признака propertyType тип застройки к которому относится объект недвижимости'''\n",
    "\n",
    "def getting_type(s, ind):\n",
    "    s = str(s)\n",
    "    if 'single' in s or 'traditional' in s: return 'single'\n",
    "    elif 'condo' in s or 'flat' in s: return 'flat'\n",
    "    elif 'townh' in s: return 'townhouse'\n",
    "    elif 'coop' in s or 'co-op' in s: return 'coop'\n",
    "    elif 'land' in s: return 'land'\n",
    "    elif 'multi' in s: return 'multi'\n",
    "    elif 'contempo' in s: return 'contemporary'\n",
    "    elif 'mobi' in s or 'carri' in s: return 'mobile'\n",
    "    elif 'two' in s or '2' in s: return 'two story'\n",
    "    elif 'one' in s or '1' in s: return 'one story'\n",
    "    elif 'storie' in s in s: return 'multy-story'\n",
    "    elif 'deta' in s or 'deta' in s: return 'detached'\n",
    "    elif 'rise' in s or 'unit' in s or 'high' in s: return 'flat'\n",
    "    elif 'pent' in s: return 'penthouse'\n",
    "    elif 'ran' in s: return 'ranch'\n",
    "    elif 'gard' in s: return 'garden'\n",
    "    elif 'cust' in s or 'manuf' in s or 'craft' in s: return 'custom'\n",
    "    elif 'atta' in s or 'plex' in s: return 'attached'\n",
    "    elif 'farm' in s: return 'farm'\n",
    "    elif 'level' in s: return 'split-level'\n",
    "    elif 'other' in s: return 'other'\n",
    "    elif 'colo' in s: return 'colonial'\n",
    "    elif 'ware' in s or 'com' in s: return 'commercial'\n",
    "    elif 'cott' in s or 'resid' in s or 'court' in s: return 'cottage'\n",
    "    elif 'boat' in s: return 'boathouse'\n",
    "    elif s == 'nan' or s == '': return 'other'\n",
    "    else: return 'other'\n",
    "\n",
    "def getting_type_name(df):\n",
    "  res = pd.DataFrame([\n",
    "    getting_type(string, ind)\n",
    "    for (string, ind) in zip(df['propertyType'], df.index)\n",
    "  ])\n",
    "  return res\n",
    "\n",
    "pt = getting_type_name(df)\n",
    "df['propertyType'] = pt\n",
    "df.propertyType.isna().sum()"
   ]
  },
  {
   "cell_type": "code",
   "execution_count": 313,
   "metadata": {},
   "outputs": [
    {
     "data": {
      "text/plain": [
       "propertyType\n",
       "single          198087\n",
       "flat             52993\n",
       "other            39200\n",
       "land             31468\n",
       "townhouse        18520\n",
       "multi            12364\n",
       "one story         4227\n",
       "coop              3839\n",
       "mobile            3521\n",
       "ranch             3472\n",
       "contemporary      3383\n",
       "two story         2524\n",
       "colonial          1260\n",
       "custom             485\n",
       "garden             358\n",
       "split-level        346\n",
       "attached           166\n",
       "detached           157\n",
       "cottage             84\n",
       "penthouse           79\n",
       "farm                79\n",
       "multy-story         76\n",
       "commercial          19\n",
       "boathouse            4\n",
       "Name: count, dtype: int64"
      ]
     },
     "execution_count": 313,
     "metadata": {},
     "output_type": "execute_result"
    }
   ],
   "source": [
    "df.propertyType.value_counts()"
   ]
  },
  {
   "cell_type": "code",
   "execution_count": 314,
   "metadata": {},
   "outputs": [],
   "source": [
    "''' С целью невилирования лишнего шума удалим информацию относящуюся к  коммерческой недвижимости'''\n",
    "df = df[~((df['propertyType'] == 'farm') | (df['propertyType'] == 'boathouse') | (df['propertyType'] == 'commercial') ) ]\n",
    "df.reset_index(inplace=True, drop=True)"
   ]
  },
  {
   "cell_type": "markdown",
   "metadata": {},
   "source": [
    "Признак homeFacts"
   ]
  },
  {
   "cell_type": "code",
   "execution_count": 315,
   "metadata": {},
   "outputs": [
    {
     "data": {
      "text/plain": [
       "{'atAGlanceFacts': [{'factValue': '2006', 'factLabel': 'Year built'},\n",
       "  {'factValue': '2006', 'factLabel': 'Remodeled year'},\n",
       "  {'factValue': 'Forced Air', 'factLabel': 'Heating'},\n",
       "  {'factValue': 'Central', 'factLabel': 'Cooling'},\n",
       "  {'factValue': 'Detached Garage', 'factLabel': 'Parking'},\n",
       "  {'factValue': '8,220 sqft', 'factLabel': 'lotsize'},\n",
       "  {'factValue': '$371/sqft', 'factLabel': 'Price/sqft'}]}"
      ]
     },
     "execution_count": 315,
     "metadata": {},
     "output_type": "execute_result"
    }
   ],
   "source": [
    "''' При первом взгляде на данный признакам можно заметить, что он представляет из себя словарь по типу JSON. И судя по его структуре в этом признаке содержится информация о :\n",
    "1. Годе постройки\n",
    "2. Годе ремонта\n",
    "3. Тип отопления\n",
    "4. Система кондитирования\n",
    "5. Тип парковочного места\n",
    "6. Размер земелного участка\n",
    "7. Цена за квадратный метра (в дальнейшем для избежения data leakage мы уберем этот признак из дата сета, однако \n",
    "воспользуемся им чтобы посомтреть на среднию цену за квадратный метр по географическуму признаку zipcode'''\n",
    "ast.literal_eval(df.loc[3, 'homeFacts'])"
   ]
  },
  {
   "cell_type": "code",
   "execution_count": 316,
   "metadata": {},
   "outputs": [
    {
     "name": "stdout",
     "output_type": "stream",
     "text": [
      "(376609, 21)\n"
     ]
    }
   ],
   "source": [
    "''' Теперь извлечем информацию из столбца homeFacts. После преобразования количество признаков \n",
    "увеличилось до 21'''\n",
    "\n",
    "def getting_home(string):\n",
    "    facts_list = ast.literal_eval(string)['atAGlanceFacts']\n",
    "    return (\n",
    "        facts_list[0]['factValue'],\n",
    "        facts_list[1]['factValue'],\n",
    "        facts_list[2]['factValue'],\n",
    "        facts_list[3]['factValue'],\n",
    "        facts_list[4]['factValue'],\n",
    "        facts_list[5]['factValue'],\n",
    "        facts_list[6]['factValue']\n",
    "    )\n",
    "\n",
    "(\n",
    "    df['year_built'],\n",
    "    df['year_remodeled'],\n",
    "    df['heating'],\n",
    "    df['cooling'],\n",
    "    df['parking'],\n",
    "    df['lot_size'],\n",
    "    df['price_sqft']\n",
    ") = zip(*df['homeFacts'].apply(getting_home))\n",
    "\n",
    "df = df.drop(['homeFacts'], axis=1)\n",
    "\n",
    "print(df.shape)"
   ]
  },
  {
   "cell_type": "markdown",
   "metadata": {},
   "source": [
    "Признак schools"
   ]
  },
  {
   "cell_type": "code",
   "execution_count": 317,
   "metadata": {},
   "outputs": [
    {
     "data": {
      "text/plain": [
       "[{'rating': ['9/10', '9/10', '10/10', '9/10'],\n",
       "  'data': {'Distance': ['1.05mi', '0.1mi', '1.05mi', '0.81mi'],\n",
       "   'Grades': ['5-6', 'PK-4', '7-8', '9-12']},\n",
       "  'name': ['Mcculloch Intermediate School',\n",
       "   'Bradfield Elementary School',\n",
       "   'Highland Park Middle School',\n",
       "   'Highland Park High School']}]"
      ]
     },
     "execution_count": 317,
     "metadata": {},
     "output_type": "execute_result"
    }
   ],
   "source": [
    "''' При первом взгляде на признак schools можно заметить, что он представляет из себя словарь по типу JSON. И судя по его структуре в этом признаке содержится информация о :\n",
    "1. Рейтинге школы по 10-ти бальной системе\n",
    "2. Растоянии  от объекта недвижимости до школы\n",
    "3. Типе школы (pre-school, middle, high school) эту информацию мы не будем включать в датасет\n",
    "4. название школы. Из этого информации мы так же не будет сосздавать признак'''\n",
    "ast.literal_eval(df.loc[3, 'schools'])"
   ]
  },
  {
   "cell_type": "code",
   "execution_count": 318,
   "metadata": {},
   "outputs": [
    {
     "name": "stdout",
     "output_type": "stream",
     "text": [
      "(376609, 22)\n"
     ]
    }
   ],
   "source": [
    "''' Теперь извлечем информацию из столбца schools. После преобразования количество признаков \n",
    "увеличилось до 22'''\n",
    "\n",
    "def getting_school(string):\n",
    "    school_dict = ast.literal_eval(string)\n",
    "    rates = list()\n",
    "    for rate in school_dict[0]['rating']:\n",
    "         if rate == 'NR':\n",
    "           rates.append(0)\n",
    "         else:\n",
    "           if rate.split('/')[0] in ('None', 'NR', 'NA', ''):\n",
    "              rates.append(0)\n",
    "           else:\n",
    "              rates.append(int(rate.split('/')[0]))\n",
    "    distances = list()\n",
    "    for distance in school_dict[0]['data']['Distance']:\n",
    "        distances.append(float(distance[:-2]))\n",
    "    grades = list()\n",
    "    return (np.mean(rates),\n",
    "            np.mean(distances)\n",
    "           )\n",
    "\n",
    "(\n",
    "  df['school_rate_mean'], \n",
    "  df['school_distance_mean']\n",
    ") = zip(*df['schools'].apply(getting_school))\n",
    "\n",
    "df = df.drop(['schools'], axis=1)\n",
    "\n",
    "print(df.shape)"
   ]
  },
  {
   "cell_type": "markdown",
   "metadata": {},
   "source": [
    "Признак heating (homeFacts №1)"
   ]
  },
  {
   "cell_type": "code",
   "execution_count": 319,
   "metadata": {},
   "outputs": [
    {
     "name": "stdout",
     "output_type": "stream",
     "text": [
      "1969\n"
     ]
    },
    {
     "data": {
      "text/plain": [
       "heating\n",
       "forced air          134296\n",
       "                    105460\n",
       "other                29611\n",
       "electric             10213\n",
       "gas                   9291\n",
       "heat pump             8851\n",
       "no data               8610\n",
       "central air           7814\n",
       "central electric      7111\n",
       "central               6247\n",
       "Name: count, dtype: int64"
      ]
     },
     "execution_count": 319,
     "metadata": {},
     "output_type": "execute_result"
    }
   ],
   "source": [
    "''' Посмотрим что из себя представляет этот признак'''\n",
    "print(df.heating.nunique())\n",
    "df.heating.str.lower().str.strip().value_counts(dropna=False).head(10)\n"
   ]
  },
  {
   "cell_type": "code",
   "execution_count": 320,
   "metadata": {},
   "outputs": [],
   "source": [
    "df.heating = df.heating.str.lower().str.strip()\n",
    "df['heating'] = df['heating'].fillna('no heat')"
   ]
  },
  {
   "cell_type": "code",
   "execution_count": 321,
   "metadata": {},
   "outputs": [],
   "source": [
    "'''Сделаем признак категориальным сократив количество уникальных значений'''\n",
    "def getting_heating(s, ind):\n",
    "    s = str(s)\n",
    "    \n",
    "    if 'no heat' in s or s == '': return 'no_heat'\n",
    "    elif 'central' in s : return 'central'\n",
    "    elif 'no data' in s or 'no' in s: return 'no_heat'\n",
    "    elif 'other' in s: return 'other'\n",
    "    elif 'forced air' in s : return 'forced_air'\n",
    "    elif 'electric' in s: return 'electric'\n",
    "    elif 'gas' in s: return 'gas'\n",
    "    elif 'heat' in s: return 'heat'\n",
    "    else: return 'other'\n",
    "    \n",
    "def list_heating(df):\n",
    "  res = pd.DataFrame([\n",
    "    getting_heating(string, ind)\n",
    "    for (string, ind) in zip(df['heating'], df.index)\n",
    "  ])\n",
    "  return res\n",
    "\n",
    "dfh = list_heating(df)\n",
    "df['heating'] = dfh"
   ]
  },
  {
   "cell_type": "markdown",
   "metadata": {},
   "source": [
    "Признак cooling (homeFacts №2)"
   ]
  },
  {
   "cell_type": "code",
   "execution_count": 322,
   "metadata": {},
   "outputs": [
    {
     "name": "stdout",
     "output_type": "stream",
     "text": [
      "1431\n"
     ]
    },
    {
     "data": {
      "text/plain": [
       "cooling\n",
       "central             158734\n",
       "                    119944\n",
       "central air          14383\n",
       "no data              10615\n",
       "has cooling           9730\n",
       "none                  7390\n",
       "central electric      6151\n",
       "wall                  4016\n",
       "central gas           3573\n",
       "None                  3533\n",
       "Name: count, dtype: int64"
      ]
     },
     "execution_count": 322,
     "metadata": {},
     "output_type": "execute_result"
    }
   ],
   "source": [
    "''' Посмотрим что из себя представляет этот признак'''\n",
    "print(df.cooling.nunique())\n",
    "df.cooling.str.lower().str.strip().value_counts(dropna=False).head(10)"
   ]
  },
  {
   "cell_type": "code",
   "execution_count": 323,
   "metadata": {},
   "outputs": [],
   "source": [
    "df.cooling = df.cooling.str.lower().str.strip()\n",
    "df['cooling'] = df['cooling'].fillna('no cool')"
   ]
  },
  {
   "cell_type": "code",
   "execution_count": 324,
   "metadata": {},
   "outputs": [],
   "source": [
    "''' Аналогично разберемся со столбцом cooling, только переведем его в бинарный признак так как судя по всему категории\n",
    "в этом признаке практически дублируют категории признака heating.'''\n",
    "def getting_cooling(s):\n",
    "    s = str(s)\n",
    "    if 'no cool' in s or s == '': return 0\n",
    "    elif 'central air' in s  : return 1\n",
    "    elif 'no data' in s or 'no' in s: return 0\n",
    "    elif 'cooling' in s or 'system': return 1\n",
    "    elif 'a/c' in s or 'refrigeration' : return 1\n",
    "    else: return 0\n",
    "\n",
    "dfc = df['cooling'].apply(getting_cooling)\n",
    "df['cooling'] = dfc"
   ]
  },
  {
   "cell_type": "code",
   "execution_count": 325,
   "metadata": {},
   "outputs": [
    {
     "data": {
      "text/plain": [
       "cooling\n",
       "1    234849\n",
       "0    141760\n",
       "Name: count, dtype: int64"
      ]
     },
     "execution_count": 325,
     "metadata": {},
     "output_type": "execute_result"
    }
   ],
   "source": [
    "df['cooling'].value_counts(dropna=False)"
   ]
  },
  {
   "cell_type": "markdown",
   "metadata": {},
   "source": [
    "Признак parking (homeFacts №3)"
   ]
  },
  {
   "cell_type": "code",
   "execution_count": 326,
   "metadata": {},
   "outputs": [
    {
     "name": "stdout",
     "output_type": "stream",
     "text": [
      "3343\n"
     ]
    },
    {
     "data": {
      "text/plain": [
       "parking\n",
       "                   171535\n",
       "attached garage     70748\n",
       "2 spaces            28059\n",
       "1 space             14245\n",
       "no data             13333\n",
       "detached garage     13199\n",
       "carport              7742\n",
       "off street           5239\n",
       "3 spaces             4724\n",
       "None                 3533\n",
       "Name: count, dtype: int64"
      ]
     },
     "execution_count": 326,
     "metadata": {},
     "output_type": "execute_result"
    }
   ],
   "source": [
    "''' Посмотрим что из себя представляет этот признак'''\n",
    "print(df.parking.nunique())\n",
    "df.parking.str.lower().str.strip().value_counts(dropna=False).head(10)"
   ]
  },
  {
   "cell_type": "code",
   "execution_count": 327,
   "metadata": {},
   "outputs": [],
   "source": [
    "df['parking'] = df['parking'].str.lower()\n",
    "df['parking'] = df['parking'].fillna('no parking')"
   ]
  },
  {
   "cell_type": "code",
   "execution_count": 328,
   "metadata": {},
   "outputs": [],
   "source": [
    "'''Из признаков parking cоздадим два бинарных признака: наличие парковки, наличие гаража и так же числовой признак количество парковочных мест'''\n",
    "\n",
    "df['has_parking'] = df['parking'].apply(lambda x: 0 if x.strip() in ('', 'no data', 'none', 'no parking', 'no') else 1)\n",
    "df['garage'] = df['parking'].apply(lambda x: 1 if 'garage' in x else 0)\n",
    "df['parking_spaces'] = df['parking'].str.extract('(\\d+)')\n",
    "df['parking_spaces'] = df['parking_spaces'].fillna(0)\n",
    "\n",
    "df = df.drop(['parking'], axis=1)"
   ]
  },
  {
   "cell_type": "markdown",
   "metadata": {},
   "source": [
    "Признак year_built и year_remodeled (homeFacts)"
   ]
  },
  {
   "cell_type": "code",
   "execution_count": 329,
   "metadata": {},
   "outputs": [
    {
     "name": "stdout",
     "output_type": "stream",
     "text": [
      "3606\n"
     ]
    },
    {
     "data": {
      "text/plain": [
       "year_built\n",
       "        58691\n",
       "2019    32138\n",
       "2006     7998\n",
       "Name: count, dtype: int64"
      ]
     },
     "execution_count": 329,
     "metadata": {},
     "output_type": "execute_result"
    }
   ],
   "source": [
    "print(df.year_built.isna().sum())\n",
    "df.year_built.value_counts(dropna=False).head(3)"
   ]
  },
  {
   "cell_type": "code",
   "execution_count": 330,
   "metadata": {},
   "outputs": [
    {
     "name": "stdout",
     "output_type": "stream",
     "text": [
      "26563\n"
     ]
    },
    {
     "data": {
      "text/plain": [
       "year_remodeled\n",
       "        198991\n",
       "None     26563\n",
       "2006      5538\n",
       "Name: count, dtype: int64"
      ]
     },
     "execution_count": 330,
     "metadata": {},
     "output_type": "execute_result"
    }
   ],
   "source": [
    "print(df.year_remodeled.isna().sum())\n",
    "df.year_remodeled.value_counts(dropna=False).head(3)"
   ]
  },
  {
   "cell_type": "code",
   "execution_count": 333,
   "metadata": {},
   "outputs": [],
   "source": [
    "maskb = df['year_built'].isna()\n",
    "df.loc[~maskb, 'year_built'] = df[~maskb]['year_built'].apply(lambda x: np.NaN if x.strip().lower() == 'no data' else x)\n",
    "df['year_built'] = df['year_built'].apply(lambda x: np.NaN if x == '' else x)\n",
    "\n",
    "maskr = df['year_remodeled'].isna()\n",
    "df.loc[~maskr, 'year_remodeled'] = df[~maskr]['year_remodeled'].apply(lambda x: np.NaN if x.strip().lower() == 'no data' else x)\n",
    "df['year_remodeled'] = df['year_remodeled'].apply(lambda x: np.NaN if x == '' else x)\n",
    "\n",
    "df['year_built'] = df['year_built'].astype('float')\n",
    "df['year_remodeled'] = df['year_remodeled'].astype('float')\n",
    "year_built_zipcode = df[~maskb].groupby(by=['zipcode']).agg({'year_built' : ['count', 'mean']})\n",
    "year_rebuilt_zipcode = df[~maskr].groupby(by=['zipcode']).agg({'year_remodeled' : ['count', 'mean']})\n",
    "\n",
    "for zipcode in year_built_zipcode.index:\n",
    "    mask = df['zipcode'] == zipcode\n",
    "    if year_built_zipcode.loc[zipcode, ('year_built', 'count')] > 2:\n",
    "        df.loc[maskb&mask, 'year_built'] = year_built_zipcode.loc[zipcode, ('year_built', 'mean')]\n",
    "        \n",
    "for zipcode in year_rebuilt_zipcode.index:\n",
    "    mask = df['zipcode'] == zipcode\n",
    "    if year_rebuilt_zipcode.loc[zipcode, ('year_remodeled', 'count')] > 2:\n",
    "        df.loc[maskb&mask, 'year_built'] = year_rebuilt_zipcode.loc[zipcode, ('year_remodeled', 'mean')]\n",
    "\n",
    "df['year_remodeled'] = df['year_remodeled'].fillna(df['year_remodeled'].mode()[0])\n",
    "df['year_built'] = df['year_built'].fillna(df['year_built'].mode()[0])"
   ]
  },
  {
   "cell_type": "code",
   "execution_count": 341,
   "metadata": {},
   "outputs": [
    {
     "data": {
      "text/plain": [
       "0"
      ]
     },
     "execution_count": 341,
     "metadata": {},
     "output_type": "execute_result"
    }
   ],
   "source": [
    "df.year_remodeled.isna().sum()\n",
    "df.year_built.isna().sum()"
   ]
  },
  {
   "cell_type": "code",
   "execution_count": 391,
   "metadata": {},
   "outputs": [],
   "source": [
    "# df['year_built'] = df['year_built'].astype('float')\n",
    "# df['year_remodeled'] = df['year_built'].astype('float')"
   ]
  },
  {
   "cell_type": "markdown",
   "metadata": {},
   "source": [
    "Признак sqft (заполнение пропусков)"
   ]
  },
  {
   "cell_type": "code",
   "execution_count": 342,
   "metadata": {},
   "outputs": [
    {
     "data": {
      "text/plain": [
       "sqft\n",
       "0         11854\n",
       "1200       1420\n",
       "1000       1021\n",
       "1500       1014\n",
       "1800        984\n",
       "          ...  \n",
       "18356         1\n",
       "476           1\n",
       "100000        1\n",
       "435164        1\n",
       "13870         1\n",
       "Name: count, Length: 9895, dtype: int64"
      ]
     },
     "execution_count": 342,
     "metadata": {},
     "output_type": "execute_result"
    }
   ],
   "source": [
    "df.sqft.value_counts()"
   ]
  },
  {
   "cell_type": "code",
   "execution_count": 343,
   "metadata": {},
   "outputs": [
    {
     "data": {
      "text/plain": [
       "41332"
      ]
     },
     "execution_count": 343,
     "metadata": {},
     "output_type": "execute_result"
    }
   ],
   "source": [
    "df.sqft.isna().sum()"
   ]
  },
  {
   "cell_type": "code",
   "execution_count": 344,
   "metadata": {},
   "outputs": [],
   "source": [
    "df['sqft'] = df['sqft'].apply(lambda x: np.NaN if x == '' or x == '0' else x)\n",
    "df['sqft'] = df['sqft'].astype(float)\n",
    "mask = df['sqft'].isna()\n",
    "year_zipcode = df[~mask].groupby(by=['zipcode']).agg({'sqft' : ['count', 'mean']})\n",
    "\n",
    "\n",
    "mask1 = df['sqft'].isna()\n",
    "for zipcode in year_zipcode.index:\n",
    "    mask2 = df['zipcode'] == zipcode\n",
    "    if year_zipcode.loc[zipcode, ('sqft', 'count')] > 2:\n",
    "        df.loc[mask1&mask2, 'sqft'] = year_zipcode.loc[zipcode, ('sqft', 'mean')]\n",
    "\n",
    "df['sqft'] = df['sqft'].fillna(df['sqft'].mode()[0])\n"
   ]
  },
  {
   "cell_type": "code",
   "execution_count": 350,
   "metadata": {},
   "outputs": [
    {
     "data": {
      "text/plain": [
       "0"
      ]
     },
     "execution_count": 350,
     "metadata": {},
     "output_type": "execute_result"
    }
   ],
   "source": [
    "df.sqft.isna().sum()"
   ]
  },
  {
   "cell_type": "markdown",
   "metadata": {},
   "source": [
    "Признак lot_size (homeFacts)"
   ]
  },
  {
   "cell_type": "code",
   "execution_count": 355,
   "metadata": {},
   "outputs": [
    {
     "name": "stdout",
     "output_type": "stream",
     "text": [
      "28378\n"
     ]
    },
    {
     "data": {
      "text/plain": [
       "lot_size\n",
       "                  32650\n",
       "—                 25206\n",
       "No Data            5329\n",
       "-- sqft lot        3819\n",
       "0.26 acres         2511\n",
       "                  ...  \n",
       "407 sqft              1\n",
       "7,489 sqft            1\n",
       "3140                  1\n",
       "113169                1\n",
       "7,084 sqft lot        1\n",
       "Name: count, Length: 37386, dtype: int64"
      ]
     },
     "execution_count": 355,
     "metadata": {},
     "output_type": "execute_result"
    }
   ],
   "source": [
    "''' Посмотрим что из себя представляет этот признак'''\n",
    "print(df.lot_size.isna().sum())\n",
    "\n",
    "df.lot_size.value_counts(dropna=True)"
   ]
  },
  {
   "cell_type": "code",
   "execution_count": 401,
   "metadata": {},
   "outputs": [],
   "source": [
    "# df['lot_size'] = df['lot_size'].str.replace(',','').str.extract('(\\d+)')"
   ]
  },
  {
   "cell_type": "code",
   "execution_count": 402,
   "metadata": {},
   "outputs": [
    {
     "data": {
      "text/plain": [
       "95841"
      ]
     },
     "execution_count": 402,
     "metadata": {},
     "output_type": "execute_result"
    }
   ],
   "source": [
    "# df.lot_size.isna().sum()"
   ]
  },
  {
   "cell_type": "code",
   "execution_count": 356,
   "metadata": {},
   "outputs": [],
   "source": [
    "# df['lot_size'] = df['lot_size'].apply(lambda x: np.NaN if x == '' else x)\n",
    "# df['lot_size'] = df['lot_size'].str.replace(',','').str.extract('(\\d+)')\n",
    "df['lot_size'] = df['lot_size'].str.replace(',','').str.extract('(\\d+)')\n",
    "df['lot_size'] = df['lot_size'].astype(float)\n",
    "\n",
    "mask = df['lot_size'].isna()\n",
    "year_zipcode = df[~mask].groupby(by=['zipcode']).agg({'lot_size' : ['count', 'mean']})\n",
    "# year_state = df[~mask].groupby(by=['state']).agg({'lot_size' : ['count', 'mean']})\n",
    "\n",
    "mask1 = df['lot_size'].isna()\n",
    "for zipcode in year_zipcode.index:\n",
    "    mask2 = df['zipcode'] == zipcode\n",
    "    if year_zipcode.loc[zipcode, ('lot_size', 'count')] > 2:\n",
    "        df.loc[mask1&mask2, 'lot_size'] = year_zipcode.loc[zipcode, ('lot_size', 'mean')]\n",
    "\n",
    "# for state in year_state.index:\n",
    "#     mask2 = df['state'] == state\n",
    "#     df.loc[mask1&mask2, 'lot_size'] = year_state.loc[state, ('lot_size', 'mean')]"
   ]
  },
  {
   "cell_type": "code",
   "execution_count": 358,
   "metadata": {},
   "outputs": [],
   "source": [
    "df['lot_size'] = df['lot_size'].fillna(df['lot_size'].mode()[0])"
   ]
  },
  {
   "cell_type": "code",
   "execution_count": 359,
   "metadata": {},
   "outputs": [
    {
     "data": {
      "text/plain": [
       "0"
      ]
     },
     "execution_count": 359,
     "metadata": {},
     "output_type": "execute_result"
    }
   ],
   "source": [
    "df.lot_size.isna().sum()"
   ]
  },
  {
   "cell_type": "markdown",
   "metadata": {},
   "source": [
    "Признак price_sqft (homeFacts)"
   ]
  },
  {
   "cell_type": "code",
   "execution_count": 360,
   "metadata": {},
   "outputs": [
    {
     "name": "stdout",
     "output_type": "stream",
     "text": [
      "58109\n"
     ]
    },
    {
     "data": {
      "text/plain": [
       "price_sqft\n",
       "                    5185\n",
       "No Data             1241\n",
       "$1/sqft              974\n",
       "No Info              954\n",
       "$125/sqft            797\n",
       "                    ... \n",
       "$10714 / Sq. Ft.       1\n",
       "$1104 / Sq. Ft.        1\n",
       "$3,077/sqft            1\n",
       "$2,244/sqft            1\n",
       "$2,032                 1\n",
       "Name: count, Length: 6502, dtype: int64"
      ]
     },
     "execution_count": 360,
     "metadata": {},
     "output_type": "execute_result"
    }
   ],
   "source": [
    "''' Посмотрим что из себя представляет этот признак'''\n",
    "print(df.price_sqft.isna().sum())\n",
    "\n",
    "df.price_sqft.value_counts()"
   ]
  },
  {
   "cell_type": "code",
   "execution_count": 361,
   "metadata": {},
   "outputs": [],
   "source": [
    "df['price_sqft'] = df['price_sqft'].str.replace(',','').str.extract('(\\d+)')\n",
    "df['price_sqft'] = df['price_sqft'].apply(lambda x: np.NaN if x == '' or x == '0' else x)\n",
    "df['price_sqft'] = df['price_sqft'].astype(float)\n",
    "mask = df['price_sqft'].isna()\n",
    "year_zipcode = df[~mask].groupby(by=['zipcode']).agg({'price_sqft' : ['count', 'mean']})\n",
    "# year_state = df[~mask].groupby(by=['state']).agg({'price_sqft' : ['count', 'mean']})\n",
    "\n",
    "mask1 = df['price_sqft'].isna()\n",
    "for zipcode in year_zipcode.index:\n",
    "    mask2 = df['zipcode'] == zipcode\n",
    "    if year_zipcode.loc[zipcode, ('price_sqft', 'count')] > 4:\n",
    "        df.loc[mask1&mask2, 'price_sqft'] = year_zipcode.loc[zipcode, ('price_sqft', 'mean')]\n",
    "\n",
    "# for state in year_state.index:\n",
    "#     mask2 = df['state'] == state\n",
    "#     df.loc[mask1&mask2, 'price_sqft'] = year_state.loc[state, ('price_sqft', 'mean')]\n",
    "\n",
    "df['price_sqft'] = df['price_sqft'].fillna(df['price_sqft'].mode()[0])"
   ]
  },
  {
   "cell_type": "code",
   "execution_count": 362,
   "metadata": {},
   "outputs": [
    {
     "data": {
      "text/plain": [
       "0"
      ]
     },
     "execution_count": 362,
     "metadata": {},
     "output_type": "execute_result"
    }
   ],
   "source": [
    "df['price_sqft'].isna().sum()"
   ]
  },
  {
   "cell_type": "markdown",
   "metadata": {},
   "source": [
    "Признак school_rate_mean (заполнение пропусков)"
   ]
  },
  {
   "cell_type": "code",
   "execution_count": 364,
   "metadata": {},
   "outputs": [],
   "source": [
    "mask = df['school_rate_mean'].isna()\n",
    "year_zipcode = df[~mask].groupby(by=['zipcode']).agg({'school_rate_mean' : ['count', 'mean']})\n",
    "# year_state = df[~mask].groupby(by=['state']).agg({'school_rate_mean' : ['count', 'mean']})\n",
    "\n",
    "mask1 = df['school_rate_mean'].isna()\n",
    "for zipcode in year_zipcode.index:\n",
    "    mask2 = df['zipcode'] == zipcode\n",
    "    if year_zipcode.loc[zipcode, ('school_rate_mean', 'count')] > 2:\n",
    "        df.loc[mask1&mask2, 'school_rate_mean'] = year_zipcode.loc[zipcode, ('school_rate_mean', 'mean')]\n",
    "\n",
    "# for state in year_state.index:\n",
    "#     mask2 = df['state'] == state\n",
    "#     df.loc[mask1&mask2, 'school_rate_mean'] = year_state.loc[state, ('school_rate_mean', 'mean')]\n",
    "\n",
    "df['school_rate_mean'] = df['school_rate_mean'].fillna(df['school_rate_mean'].mode()[0])"
   ]
  },
  {
   "cell_type": "markdown",
   "metadata": {},
   "source": [
    "Признак school_distance_mean (заполнение пропусков)"
   ]
  },
  {
   "cell_type": "code",
   "execution_count": 365,
   "metadata": {},
   "outputs": [],
   "source": [
    "mask = df['school_distance_mean'].isna()\n",
    "year_zipcode = df[~mask].groupby(by=['zipcode']).agg({'school_distance_mean' : ['count', 'mean']})\n",
    "# year_state = df[~mask].groupby(by=['state']).agg({'school_distance_mean' : ['count', 'mean']})\n",
    "\n",
    "mask1 = df['school_distance_mean'].isna()\n",
    "for zipcode in year_zipcode.index:\n",
    "    mask2 = df['zipcode'] == zipcode\n",
    "    if year_zipcode.loc[zipcode, ('school_distance_mean', 'count')] > 4:\n",
    "        df.loc[mask1&mask2, 'school_distance_mean'] = year_zipcode.loc[zipcode, ('school_distance_mean', 'mean')]\n",
    "\n",
    "# for state in year_state.index:\n",
    "#     mask2 = df['state'] == state\n",
    "#     df.loc[mask1&mask2, 'school_distance_mean'] = year_state.loc[state, ('school_distance_mean', 'mean')]\n",
    "\n",
    "df['school_distance_mean'] = df['school_distance_mean'].fillna(df['school_distance_mean'].mode()[0])"
   ]
  },
  {
   "cell_type": "markdown",
   "metadata": {},
   "source": [
    "Признак target (целевой признак)"
   ]
  },
  {
   "cell_type": "code",
   "execution_count": 366,
   "metadata": {},
   "outputs": [
    {
     "data": {
      "text/plain": [
       "2480"
      ]
     },
     "execution_count": 366,
     "metadata": {},
     "output_type": "execute_result"
    }
   ],
   "source": [
    "df.target.isna().sum()"
   ]
  },
  {
   "cell_type": "code",
   "execution_count": 367,
   "metadata": {},
   "outputs": [],
   "source": [
    "mask = df['target'].isna()\n",
    "df.loc[mask, 'target'] = df[mask][['price_sqft', 'sqft']].apply(\n",
    "    lambda x: x[0]*x[1] if x[0] is not np.NaN and x[1] is not np.NaN else np.NaN, axis=1\n",
    ")"
   ]
  },
  {
   "cell_type": "code",
   "execution_count": 368,
   "metadata": {},
   "outputs": [
    {
     "data": {
      "text/plain": [
       "0"
      ]
     },
     "execution_count": 368,
     "metadata": {},
     "output_type": "execute_result"
    }
   ],
   "source": [
    "df['target'].isna().sum()"
   ]
  },
  {
   "cell_type": "markdown",
   "metadata": {},
   "source": [
    " ## Часть 3. Финальная очистка датасета. ##"
   ]
  },
  {
   "cell_type": "code",
   "execution_count": 372,
   "metadata": {},
   "outputs": [
    {
     "data": {
      "text/plain": [
       "status                  0\n",
       "propertyType            0\n",
       "street                  0\n",
       "baths                   0\n",
       "fireplace               0\n",
       "city                    0\n",
       "sqft                    0\n",
       "zipcode                 0\n",
       "beds                    0\n",
       "state                   0\n",
       "stories                 0\n",
       "target                  0\n",
       "private_pool            0\n",
       "year_built              0\n",
       "year_remodeled          0\n",
       "heating                 0\n",
       "cooling                 0\n",
       "lot_size                0\n",
       "price_sqft              0\n",
       "school_rate_mean        0\n",
       "school_distance_mean    0\n",
       "has_parking             0\n",
       "garage                  0\n",
       "parking_spaces          0\n",
       "dtype: int64"
      ]
     },
     "execution_count": 372,
     "metadata": {},
     "output_type": "execute_result"
    }
   ],
   "source": [
    "'''Проверим получившийся датасет на пропуски'''\n",
    "df.isna().sum()"
   ]
  },
  {
   "cell_type": "code",
   "execution_count": 375,
   "metadata": {},
   "outputs": [
    {
     "data": {
      "text/plain": [
       "status                   object\n",
       "propertyType             object\n",
       "street                   object\n",
       "baths                    object\n",
       "fireplace                 int64\n",
       "city                     object\n",
       "sqft                    float64\n",
       "zipcode                  object\n",
       "beds                     object\n",
       "state                    object\n",
       "stories                  object\n",
       "target                   object\n",
       "private_pool              int64\n",
       "year_built              float64\n",
       "year_remodeled          float64\n",
       "heating                  object\n",
       "cooling                   int64\n",
       "lot_size                float64\n",
       "price_sqft              float64\n",
       "school_rate_mean        float64\n",
       "school_distance_mean    float64\n",
       "has_parking               int64\n",
       "garage                    int64\n",
       "parking_spaces           object\n",
       "dtype: object"
      ]
     },
     "execution_count": 375,
     "metadata": {},
     "output_type": "execute_result"
    }
   ],
   "source": [
    "df.dtypes"
   ]
  },
  {
   "cell_type": "code",
   "execution_count": 376,
   "metadata": {},
   "outputs": [],
   "source": [
    "'''Приведем признаки к соответствующим типам данных'''\n",
    "df['baths'] = df['baths'].astype(int)\n",
    "df['fireplace'] = df['fireplace'].astype(int)\n",
    "df['beds'] = df['beds'].astype(int)\n",
    "df['cooling'] = df['cooling'].astype(int)\n",
    "df['stories'] = df['stories'].astype(int)\n",
    "df['target'] = df['target'].astype(float)\n",
    "df['year_built'] = df['year_built'].astype(int)\n",
    "df['year_remodeled'] = df['year_remodeled'].astype(float).astype(int)\n",
    "df['parking_spaces'] = df['parking_spaces'].astype(int)"
   ]
  },
  {
   "cell_type": "code",
   "execution_count": 377,
   "metadata": {},
   "outputs": [
    {
     "name": "stdout",
     "output_type": "stream",
     "text": [
      "<class 'pandas.core.frame.DataFrame'>\n",
      "RangeIndex: 376609 entries, 0 to 376608\n",
      "Data columns (total 24 columns):\n",
      " #   Column                Non-Null Count   Dtype  \n",
      "---  ------                --------------   -----  \n",
      " 0   status                376609 non-null  object \n",
      " 1   propertyType          376609 non-null  object \n",
      " 2   street                376609 non-null  object \n",
      " 3   baths                 376609 non-null  int32  \n",
      " 4   fireplace             376609 non-null  int32  \n",
      " 5   city                  376609 non-null  object \n",
      " 6   sqft                  376609 non-null  float64\n",
      " 7   zipcode               376609 non-null  object \n",
      " 8   beds                  376609 non-null  int32  \n",
      " 9   state                 376609 non-null  object \n",
      " 10  stories               376609 non-null  int32  \n",
      " 11  target                376609 non-null  float64\n",
      " 12  private_pool          376609 non-null  int64  \n",
      " 13  year_built            376609 non-null  int32  \n",
      " 14  year_remodeled        376609 non-null  int32  \n",
      " 15  heating               376609 non-null  object \n",
      " 16  cooling               376609 non-null  int32  \n",
      " 17  lot_size              376609 non-null  float64\n",
      " 18  price_sqft            376609 non-null  float64\n",
      " 19  school_rate_mean      376609 non-null  float64\n",
      " 20  school_distance_mean  376609 non-null  float64\n",
      " 21  has_parking           376609 non-null  int64  \n",
      " 22  garage                376609 non-null  int64  \n",
      " 23  parking_spaces        376609 non-null  int32  \n",
      "dtypes: float64(6), int32(8), int64(3), object(7)\n",
      "memory usage: 57.5+ MB\n"
     ]
    }
   ],
   "source": [
    "df.info()"
   ]
  },
  {
   "cell_type": "markdown",
   "metadata": {},
   "source": [
    "Для последующей работы сохраним датафрейм в отдельный файл "
   ]
  },
  {
   "cell_type": "code",
   "execution_count": 378,
   "metadata": {},
   "outputs": [],
   "source": [
    "df.to_pickle('data/df_for_eda_i2.pickle')"
   ]
  }
 ],
 "metadata": {
  "kernelspec": {
   "display_name": "Python 3",
   "language": "python",
   "name": "python3"
  },
  "language_info": {
   "codemirror_mode": {
    "name": "ipython",
    "version": 3
   },
   "file_extension": ".py",
   "mimetype": "text/x-python",
   "name": "python",
   "nbconvert_exporter": "python",
   "pygments_lexer": "ipython3",
   "version": "3.10.5"
  }
 },
 "nbformat": 4,
 "nbformat_minor": 2
}
