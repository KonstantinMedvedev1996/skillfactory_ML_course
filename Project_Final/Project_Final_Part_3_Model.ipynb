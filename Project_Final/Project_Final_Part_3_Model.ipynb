{
 "cells": [
  {
   "cell_type": "code",
   "execution_count": 25,
   "metadata": {},
   "outputs": [],
   "source": [
    "import pandas as pd\n",
    "import numpy as np\n",
    "import ast\n",
    "import seaborn as sns\n",
    "import matplotlib.pyplot as plt\n",
    "from sklearn.model_selection import train_test_split\n",
    "from sklearn.linear_model import LinearRegression\n",
    "from sklearn.linear_model import Ridge\n",
    "from sklearn.tree import DecisionTreeRegressor\n",
    "from sklearn.ensemble import RandomForestRegressor\n",
    "from xgboost import XGBRegressor\n",
    "from sklearn.metrics import mean_squared_error, r2_score\n",
    "from sklearn.preprocessing import StandardScaler, MinMaxScaler, OneHotEncoder\n",
    "from sklearn.compose import make_column_transformer\n",
    "from sklearn.model_selection import GridSearchCV\n",
    "from sklearn.pipeline import make_pipeline\n",
    "import plotly.express as px\n",
    "from scipy import stats\n",
    "import optuna\n",
    "import pickle\n",
    "from sklearn.model_selection import RandomizedSearchCV\n",
    "from sklearn import metrics\n",
    "\n",
    "import warnings\n",
    "warnings.filterwarnings('ignore')"
   ]
  },
  {
   "cell_type": "code",
   "execution_count": 2,
   "metadata": {},
   "outputs": [],
   "source": [
    "# from sklearn.model_selection import RandomizedSearchCV\n",
    "# from sklearn import metrics"
   ]
  },
  {
   "cell_type": "markdown",
   "metadata": {},
   "source": [
    "## Часть 1. Загрузка подготовленного датасета. ##"
   ]
  },
  {
   "cell_type": "code",
   "execution_count": 5,
   "metadata": {},
   "outputs": [
    {
     "data": {
      "text/html": [
       "<div>\n",
       "<style scoped>\n",
       "    .dataframe tbody tr th:only-of-type {\n",
       "        vertical-align: middle;\n",
       "    }\n",
       "\n",
       "    .dataframe tbody tr th {\n",
       "        vertical-align: top;\n",
       "    }\n",
       "\n",
       "    .dataframe thead th {\n",
       "        text-align: right;\n",
       "    }\n",
       "</style>\n",
       "<table border=\"1\" class=\"dataframe\">\n",
       "  <thead>\n",
       "    <tr style=\"text-align: right;\">\n",
       "      <th></th>\n",
       "      <th>status</th>\n",
       "      <th>propertyType</th>\n",
       "      <th>street</th>\n",
       "      <th>baths</th>\n",
       "      <th>fireplace</th>\n",
       "      <th>sqft</th>\n",
       "      <th>beds</th>\n",
       "      <th>stories</th>\n",
       "      <th>target</th>\n",
       "      <th>private_pool</th>\n",
       "      <th>...</th>\n",
       "      <th>heating</th>\n",
       "      <th>cooling</th>\n",
       "      <th>lot_size</th>\n",
       "      <th>school_rate_mean</th>\n",
       "      <th>school_distance_mean</th>\n",
       "      <th>has_parking</th>\n",
       "      <th>garage</th>\n",
       "      <th>parking_spaces</th>\n",
       "      <th>states_shoted</th>\n",
       "      <th>cities_shorted</th>\n",
       "    </tr>\n",
       "  </thead>\n",
       "  <tbody>\n",
       "    <tr>\n",
       "      <th>1</th>\n",
       "      <td>for sale</td>\n",
       "      <td>single</td>\n",
       "      <td>avenue</td>\n",
       "      <td>3</td>\n",
       "      <td>0</td>\n",
       "      <td>1947.0</td>\n",
       "      <td>3</td>\n",
       "      <td>2</td>\n",
       "      <td>310000.0</td>\n",
       "      <td>0</td>\n",
       "      <td>...</td>\n",
       "      <td>no_heat</td>\n",
       "      <td>0</td>\n",
       "      <td>5828.0</td>\n",
       "      <td>2.666667</td>\n",
       "      <td>1.326667</td>\n",
       "      <td>0</td>\n",
       "      <td>0</td>\n",
       "      <td>0</td>\n",
       "      <td>WA</td>\n",
       "      <td>others</td>\n",
       "    </tr>\n",
       "    <tr>\n",
       "      <th>2</th>\n",
       "      <td>for sale</td>\n",
       "      <td>single</td>\n",
       "      <td>road</td>\n",
       "      <td>2</td>\n",
       "      <td>1</td>\n",
       "      <td>3000.0</td>\n",
       "      <td>3</td>\n",
       "      <td>1</td>\n",
       "      <td>2895000.0</td>\n",
       "      <td>1</td>\n",
       "      <td>...</td>\n",
       "      <td>forced_air</td>\n",
       "      <td>1</td>\n",
       "      <td>8626.0</td>\n",
       "      <td>6.666667</td>\n",
       "      <td>1.960000</td>\n",
       "      <td>1</td>\n",
       "      <td>1</td>\n",
       "      <td>0</td>\n",
       "      <td>CA</td>\n",
       "      <td>los angeles</td>\n",
       "    </tr>\n",
       "    <tr>\n",
       "      <th>3</th>\n",
       "      <td>for sale</td>\n",
       "      <td>single</td>\n",
       "      <td>avenue</td>\n",
       "      <td>8</td>\n",
       "      <td>1</td>\n",
       "      <td>6457.0</td>\n",
       "      <td>5</td>\n",
       "      <td>3</td>\n",
       "      <td>2395000.0</td>\n",
       "      <td>0</td>\n",
       "      <td>...</td>\n",
       "      <td>forced_air</td>\n",
       "      <td>1</td>\n",
       "      <td>8220.0</td>\n",
       "      <td>9.250000</td>\n",
       "      <td>0.752500</td>\n",
       "      <td>1</td>\n",
       "      <td>1</td>\n",
       "      <td>0</td>\n",
       "      <td>TX</td>\n",
       "      <td>dallas</td>\n",
       "    </tr>\n",
       "  </tbody>\n",
       "</table>\n",
       "<p>3 rows × 21 columns</p>\n",
       "</div>"
      ],
      "text/plain": [
       "     status propertyType  street  baths  fireplace    sqft  beds  stories  \\\n",
       "1  for sale       single  avenue      3          0  1947.0     3        2   \n",
       "2  for sale       single    road      2          1  3000.0     3        1   \n",
       "3  for sale       single  avenue      8          1  6457.0     5        3   \n",
       "\n",
       "      target  private_pool  ...     heating cooling  lot_size  \\\n",
       "1   310000.0             0  ...     no_heat       0    5828.0   \n",
       "2  2895000.0             1  ...  forced_air       1    8626.0   \n",
       "3  2395000.0             0  ...  forced_air       1    8220.0   \n",
       "\n",
       "   school_rate_mean  school_distance_mean  has_parking  garage  \\\n",
       "1          2.666667              1.326667            0       0   \n",
       "2          6.666667              1.960000            1       1   \n",
       "3          9.250000              0.752500            1       1   \n",
       "\n",
       "   parking_spaces  states_shoted cities_shorted  \n",
       "1               0             WA         others  \n",
       "2               0             CA    los angeles  \n",
       "3               0             TX         dallas  \n",
       "\n",
       "[3 rows x 21 columns]"
      ]
     },
     "execution_count": 5,
     "metadata": {},
     "output_type": "execute_result"
    }
   ],
   "source": [
    "df = pd.read_pickle('data/df_for_model.pickle')\n",
    "df = df.drop(['log_target'], axis=1)\n",
    "df.head(3)"
   ]
  },
  {
   "cell_type": "code",
   "execution_count": 6,
   "metadata": {},
   "outputs": [],
   "source": [
    "''' Подготовим список категориальных признаков и числовых признаков'''\n",
    "str_col = ['status','propertyType','street','heating','states_shoted','cities_shorted']\n",
    "num_col = ['baths',\n",
    " 'fireplace',\n",
    " 'sqft',\n",
    " 'beds',\n",
    " 'stories',\n",
    " 'private_pool',\n",
    " 'year_built',\n",
    " 'cooling',\n",
    " 'lot_size',\n",
    " 'school_rate_mean',\n",
    " 'school_distance_mean',\n",
    " 'has_parking',\n",
    " 'garage',\n",
    " 'parking_spaces']\n"
   ]
  },
  {
   "cell_type": "markdown",
   "metadata": {},
   "source": [
    "## Часть 2. Выбор модели регрессии. ##"
   ]
  },
  {
   "cell_type": "code",
   "execution_count": 7,
   "metadata": {},
   "outputs": [
    {
     "name": "stdout",
     "output_type": "stream",
     "text": [
      "Размер датасета до кодирования категориальных признаков (348298, 21)\n",
      "Размер датасета (348298, 194)\n"
     ]
    }
   ],
   "source": [
    "''' Создание копии исходного датасета, кодирование категориальных признаков'''\n",
    "dft = df.copy()\n",
    "print(f'Размер датасета до кодирования категориальных признаков {dft.shape}')\n",
    "dft = pd.concat([dft, pd.get_dummies(dft[str_col])], axis=1)\n",
    "dft = dft.drop(['status','propertyType','street','heating','states_shoted','cities_shorted',], axis=1)\n",
    "print(f'Размер датасета {dft.shape}')"
   ]
  },
  {
   "cell_type": "code",
   "execution_count": 8,
   "metadata": {},
   "outputs": [],
   "source": [
    "'''Разделение данных на тестовую и тренировочную выборки'''\n",
    "X = dft.drop(['target'], axis=1)\n",
    "y = dft['target']\n",
    "\n",
    "X_train, X_test, y_train, y_test = train_test_split(X, y, test_size=0.2, random_state=42)"
   ]
  },
  {
   "cell_type": "code",
   "execution_count": 9,
   "metadata": {},
   "outputs": [],
   "source": [
    "'''Предподготовка данных'''\n",
    "scaler = StandardScaler()\n",
    "X_train_scaled = pd.DataFrame(data=scaler.fit_transform(X_train), columns=X_train.columns)\n",
    "X_test_scaled = pd.DataFrame(data=scaler.transform(X_test), columns=X_test.columns)"
   ]
  },
  {
   "cell_type": "code",
   "execution_count": 10,
   "metadata": {},
   "outputs": [],
   "source": [
    "table_dict = dict()\n",
    "table_columns = ['Тренировчный', 'Тествовый']"
   ]
  },
  {
   "cell_type": "markdown",
   "metadata": {},
   "source": [
    "base_line linear regression"
   ]
  },
  {
   "cell_type": "code",
   "execution_count": 17,
   "metadata": {},
   "outputs": [
    {
     "name": "stdout",
     "output_type": "stream",
     "text": [
      "Train RMSE: 368927.95467205165\n",
      "Test RMSE: 371023.02902920434\n"
     ]
    }
   ],
   "source": [
    "# за отправную точку возьмем линейную регрессию\n",
    "lin_regr = LinearRegression()\n",
    "lin_regr.fit(X_train, y_train)\n",
    "y_train_pred = lin_regr.predict(X_train)\n",
    "y_test_pred = lin_regr.predict(X_test)\n",
    "\n",
    "table_dict['Linear regression'] = [\n",
    "    mean_squared_error(y_train, y_train_pred, squared=False),\n",
    "    mean_squared_error(y_test, y_test_pred, squared=False)\n",
    "]\n",
    "\n",
    "print('Train RMSE:', mean_squared_error(y_train, y_train_pred, squared=False))\n",
    "print('Test RMSE:', mean_squared_error(y_test, y_test_pred, squared=False))"
   ]
  },
  {
   "cell_type": "markdown",
   "metadata": {},
   "source": [
    "модель random forest regressor"
   ]
  },
  {
   "cell_type": "code",
   "execution_count": 18,
   "metadata": {},
   "outputs": [
    {
     "name": "stdout",
     "output_type": "stream",
     "text": [
      "Train RMSE: 357009.65183225577\n",
      "Test RMSE: 363979.78188651847\n"
     ]
    }
   ],
   "source": [
    "'''Постраемся улучшить предсказания используя RandomForest'''\n",
    "rf_best_params = {'criterion': 'squared_error', 'max_depth': 7, 'min_samples_split': 2, 'n_estimators': 100}\n",
    "\n",
    "randfor = RandomForestRegressor(random_state=42, **rf_best_params)\n",
    "randfor.fit(X_train_scaled, y_train)\n",
    "y_train_pred = randfor.predict(X_train_scaled)\n",
    "y_test_pred  = randfor.predict(X_test_scaled)\n",
    "\n",
    "table_dict['Random Forest'] = [\n",
    "    mean_squared_error(y_train, y_train_pred, squared=False),\n",
    "    mean_squared_error(y_test, y_test_pred, squared=False)\n",
    "]\n",
    "\n",
    "print('Train RMSE:', mean_squared_error(y_train, y_train_pred, squared=False))\n",
    "print('Test RMSE:', mean_squared_error(y_test, y_test_pred, squared=False))"
   ]
  },
  {
   "cell_type": "markdown",
   "metadata": {},
   "source": [
    "модель xgbregressor"
   ]
  },
  {
   "cell_type": "code",
   "execution_count": 20,
   "metadata": {},
   "outputs": [
    {
     "name": "stdout",
     "output_type": "stream",
     "text": [
      "Train RMSE: 262844.91247013584\n",
      "Test RMSE: 282854.47852583375\n"
     ]
    }
   ],
   "source": [
    "''' И наконец воспользуемся XGBRegressor сдефолтными настройками '''\n",
    "xgb = XGBRegressor(seed=42)\n",
    "xgb.fit(X_train_scaled, y_train)\n",
    "y_train_pred = xgb.predict(X_train_scaled)\n",
    "y_test_pred  = xgb.predict(X_test_scaled)\n",
    "\n",
    "table_dict['XGBoost'] = [\n",
    "    mean_squared_error(y_train, y_train_pred, squared=False),\n",
    "    mean_squared_error(y_test, y_test_pred, squared=False)\n",
    "]\n",
    "\n",
    "print('Train RMSE:', mean_squared_error(y_train, y_train_pred, squared=False))\n",
    "print('Test RMSE:', mean_squared_error(y_test, y_test_pred, squared=False))"
   ]
  },
  {
   "cell_type": "code",
   "execution_count": 21,
   "metadata": {},
   "outputs": [
    {
     "data": {
      "text/html": [
       "<div>\n",
       "<style scoped>\n",
       "    .dataframe tbody tr th:only-of-type {\n",
       "        vertical-align: middle;\n",
       "    }\n",
       "\n",
       "    .dataframe tbody tr th {\n",
       "        vertical-align: top;\n",
       "    }\n",
       "\n",
       "    .dataframe thead th {\n",
       "        text-align: right;\n",
       "    }\n",
       "</style>\n",
       "<table border=\"1\" class=\"dataframe\">\n",
       "  <thead>\n",
       "    <tr style=\"text-align: right;\">\n",
       "      <th></th>\n",
       "      <th>Train</th>\n",
       "      <th>Test</th>\n",
       "    </tr>\n",
       "  </thead>\n",
       "  <tbody>\n",
       "    <tr>\n",
       "      <th>Linear regression (r12n)</th>\n",
       "      <td>368928.0</td>\n",
       "      <td>371023.0</td>\n",
       "    </tr>\n",
       "    <tr>\n",
       "      <th>Random Forest</th>\n",
       "      <td>357010.0</td>\n",
       "      <td>363980.0</td>\n",
       "    </tr>\n",
       "    <tr>\n",
       "      <th>XGBoost</th>\n",
       "      <td>262845.0</td>\n",
       "      <td>282854.0</td>\n",
       "    </tr>\n",
       "  </tbody>\n",
       "</table>\n",
       "</div>"
      ],
      "text/plain": [
       "                             Train      Test\n",
       "Linear regression (r12n)  368928.0  371023.0\n",
       "Random Forest             357010.0  363980.0\n",
       "XGBoost                   262845.0  282854.0"
      ]
     },
     "execution_count": 21,
     "metadata": {},
     "output_type": "execute_result"
    }
   ],
   "source": [
    "'''Наилучший результат показала модель регрессии XGBoost'''\n",
    "final_table = pd.DataFrame.from_dict(data=table_dict, orient='index', columns=table_columns)\n",
    "final_table.round()"
   ]
  },
  {
   "cell_type": "markdown",
   "metadata": {},
   "source": [
    "## Часть 3. Модель XGBoost. ##"
   ]
  },
  {
   "cell_type": "code",
   "execution_count": 22,
   "metadata": {},
   "outputs": [],
   "source": [
    "''' Постараемся подобрать оптимальные гиперпараметры модели XGBoost показавшей\n",
    "наилучшие результаты с использованием библиотеки Optuna'''\n",
    "def objective(trial):\n",
    "    param = {\n",
    "        'max_depth': trial.suggest_int('max_depth', 1, 10),\n",
    "        'learning_rate': trial.suggest_float('learning_rate', 0.01, 1.0),\n",
    "        'n_estimators': trial.suggest_int('n_estimators', 50, 1000),\n",
    "        'min_child_weight': trial.suggest_int('min_child_weight', 1, 10),\n",
    "        'gamma': trial.suggest_float('gamma', 0.01, 1.0),\n",
    "        'subsample': trial.suggest_float('subsample', 0.01, 1.0),\n",
    "        'colsample_bytree': trial.suggest_float('colsample_bytree', 0.01, 1.0),\n",
    "        'reg_alpha': trial.suggest_float('reg_alpha', 0.01, 1.0),\n",
    "        'reg_lambda': trial.suggest_float('reg_lambda', 0.01, 1.0)\n",
    "        \n",
    "    }\n",
    "    model = XGBRegressor(seed = 42, **param)\n",
    "    model.fit(X_train_scaled, y_train)\n",
    "    y_pred = model.predict(X_test_scaled)\n",
    "    return mean_squared_error(y_test, y_pred, squared=False)"
   ]
  },
  {
   "cell_type": "code",
   "execution_count": 11,
   "metadata": {},
   "outputs": [
    {
     "name": "stderr",
     "output_type": "stream",
     "text": [
      "\u001b[32m[I 2023-12-06 21:55:52,285]\u001b[0m A new study created in memory with name: regression\u001b[0m\n",
      "\u001b[32m[I 2023-12-06 21:56:34,333]\u001b[0m Trial 0 finished with value: 331225.6830055093 and parameters: {'max_depth': 9, 'learning_rate': 0.01574221120942059, 'n_estimators': 441, 'min_child_weight': 10, 'gamma': 0.6707209451069464, 'subsample': 0.8881213139866544, 'colsample_bytree': 0.12413226262191117, 'reg_alpha': 0.16822080582595858, 'reg_lambda': 0.5458268558886962}. Best is trial 0 with value: 331225.6830055093.\u001b[0m\n",
      "\u001b[32m[I 2023-12-06 22:01:37,519]\u001b[0m Trial 1 finished with value: 258969.91937812365 and parameters: {'max_depth': 10, 'learning_rate': 0.01650161066734016, 'n_estimators': 927, 'min_child_weight': 9, 'gamma': 0.4821188404382099, 'subsample': 0.9135612177628304, 'colsample_bytree': 0.808163137991467, 'reg_alpha': 0.4006455008122476, 'reg_lambda': 0.25961109573442}. Best is trial 1 with value: 258969.91937812365.\u001b[0m\n",
      "\u001b[32m[I 2023-12-06 22:03:41,940]\u001b[0m Trial 2 finished with value: 312603.81443005183 and parameters: {'max_depth': 5, 'learning_rate': 0.9312203813156253, 'n_estimators': 764, 'min_child_weight': 9, 'gamma': 0.4580181639217392, 'subsample': 0.5405438720686079, 'colsample_bytree': 0.6399667689539339, 'reg_alpha': 0.8796882680162655, 'reg_lambda': 0.7623507682588652}. Best is trial 1 with value: 258969.91937812365.\u001b[0m\n",
      "\u001b[32m[I 2023-12-06 22:06:39,444]\u001b[0m Trial 3 finished with value: 381412.4099053585 and parameters: {'max_depth': 10, 'learning_rate': 0.7306810212361252, 'n_estimators': 562, 'min_child_weight': 1, 'gamma': 0.5660717598324663, 'subsample': 0.4072466944167353, 'colsample_bytree': 0.6908531468057707, 'reg_alpha': 0.5478124492054649, 'reg_lambda': 0.7801164569074578}. Best is trial 1 with value: 258969.91937812365.\u001b[0m\n",
      "\u001b[32m[I 2023-12-06 22:07:05,560]\u001b[0m Trial 4 finished with value: 279725.1418925262 and parameters: {'max_depth': 9, 'learning_rate': 0.6627619688033208, 'n_estimators': 178, 'min_child_weight': 4, 'gamma': 0.37649152119043683, 'subsample': 0.8626188437662636, 'colsample_bytree': 0.2484430605344574, 'reg_alpha': 0.4887808194315365, 'reg_lambda': 0.9816904278774786}. Best is trial 1 with value: 258969.91937812365.\u001b[0m\n"
     ]
    }
   ],
   "source": [
    "# Create the study\n",
    "optuna.visualization.is_available()\n",
    "study = optuna.create_study(direction='minimize', study_name='regression')\n",
    "study.optimize(objective, n_trials=5)"
   ]
  },
  {
   "cell_type": "code",
   "execution_count": 12,
   "metadata": {},
   "outputs": [
    {
     "name": "stderr",
     "output_type": "stream",
     "text": [
      "\u001b[32m[I 2023-12-06 22:10:35,985]\u001b[0m Trial 5 finished with value: 399628.84937239095 and parameters: {'max_depth': 5, 'learning_rate': 0.791429223876852, 'n_estimators': 764, 'min_child_weight': 6, 'gamma': 0.8834571201068376, 'subsample': 0.27958846201567117, 'colsample_bytree': 0.9053686538258173, 'reg_alpha': 0.6398487207117788, 'reg_lambda': 0.5447957990517379}. Best is trial 1 with value: 258969.91937812365.\u001b[0m\n",
      "\u001b[32m[I 2023-12-06 22:11:32,567]\u001b[0m Trial 6 finished with value: 277062.0359064567 and parameters: {'max_depth': 7, 'learning_rate': 0.4540710238450949, 'n_estimators': 495, 'min_child_weight': 6, 'gamma': 0.5499696444738131, 'subsample': 0.511485010167603, 'colsample_bytree': 0.22183262404845858, 'reg_alpha': 0.7265131614425244, 'reg_lambda': 0.16385868774324178}. Best is trial 1 with value: 258969.91937812365.\u001b[0m\n",
      "\u001b[32m[I 2023-12-06 22:12:15,614]\u001b[0m Trial 7 finished with value: 311042.58201601397 and parameters: {'max_depth': 10, 'learning_rate': 0.8973074811535617, 'n_estimators': 127, 'min_child_weight': 2, 'gamma': 0.8942669559038356, 'subsample': 0.8329718429652883, 'colsample_bytree': 0.7637315046685719, 'reg_alpha': 0.10806427272614828, 'reg_lambda': 0.3949813361254671}. Best is trial 1 with value: 258969.91937812365.\u001b[0m\n",
      "\u001b[32m[I 2023-12-06 22:12:28,595]\u001b[0m Trial 8 finished with value: 331473.01983934134 and parameters: {'max_depth': 2, 'learning_rate': 0.9297295674763578, 'n_estimators': 134, 'min_child_weight': 6, 'gamma': 0.8870998457920546, 'subsample': 0.1211860701309592, 'colsample_bytree': 0.8305407300760599, 'reg_alpha': 0.9767766038174992, 'reg_lambda': 0.5060486420173769}. Best is trial 1 with value: 258969.91937812365.\u001b[0m\n",
      "\u001b[32m[I 2023-12-06 22:13:02,125]\u001b[0m Trial 9 finished with value: 352634.5057240892 and parameters: {'max_depth': 3, 'learning_rate': 0.9623322789094331, 'n_estimators': 719, 'min_child_weight': 5, 'gamma': 0.8726412456358438, 'subsample': 0.08045595439550224, 'colsample_bytree': 0.043160997814501216, 'reg_alpha': 0.40537014482867945, 'reg_lambda': 0.23942328948363223}. Best is trial 1 with value: 258969.91937812365.\u001b[0m\n",
      "\u001b[32m[I 2023-12-06 22:17:48,035]\u001b[0m Trial 10 finished with value: 257417.6426239618 and parameters: {'max_depth': 7, 'learning_rate': 0.056000452115238464, 'n_estimators': 975, 'min_child_weight': 8, 'gamma': 0.1437052218412268, 'subsample': 0.6835388330264649, 'colsample_bytree': 0.9958410892029097, 'reg_alpha': 0.3298193920730552, 'reg_lambda': 0.04674750705751829}. Best is trial 10 with value: 257417.6426239618.\u001b[0m\n",
      "\u001b[32m[I 2023-12-06 22:22:44,511]\u001b[0m Trial 11 finished with value: 274066.84440504876 and parameters: {'max_depth': 7, 'learning_rate': 0.02134623785003393, 'n_estimators': 954, 'min_child_weight': 8, 'gamma': 0.10435962603602178, 'subsample': 0.6899035704148097, 'colsample_bytree': 0.9811823732588885, 'reg_alpha': 0.3011529026180073, 'reg_lambda': 0.030711025290038663}. Best is trial 10 with value: 257417.6426239618.\u001b[0m\n",
      "\u001b[32m[I 2023-12-06 22:27:26,721]\u001b[0m Trial 12 finished with value: 244429.23547512427 and parameters: {'max_depth': 7, 'learning_rate': 0.17873850091778148, 'n_estimators': 999, 'min_child_weight': 8, 'gamma': 0.04180276495007755, 'subsample': 0.9935736112057069, 'colsample_bytree': 0.9984435190840755, 'reg_alpha': 0.32685836395176915, 'reg_lambda': 0.048636815515163884}. Best is trial 12 with value: 244429.23547512427.\u001b[0m\n",
      "\u001b[32m[I 2023-12-06 22:32:08,846]\u001b[0m Trial 13 finished with value: 245249.8245186915 and parameters: {'max_depth': 7, 'learning_rate': 0.20022048319536678, 'n_estimators': 995, 'min_child_weight': 8, 'gamma': 0.016271753570870698, 'subsample': 0.9926834531106351, 'colsample_bytree': 0.991551192193408, 'reg_alpha': 0.25599523168286237, 'reg_lambda': 0.03869059231955837}. Best is trial 12 with value: 244429.23547512427.\u001b[0m\n",
      "\u001b[32m[I 2023-12-06 22:34:21,968]\u001b[0m Trial 14 finished with value: 251862.2154470351 and parameters: {'max_depth': 6, 'learning_rate': 0.2418828047109613, 'n_estimators': 834, 'min_child_weight': 8, 'gamma': 0.025003434004694403, 'subsample': 0.9695366812748709, 'colsample_bytree': 0.5396766988165387, 'reg_alpha': 0.040778797054208754, 'reg_lambda': 0.0411847637626587}. Best is trial 12 with value: 244429.23547512427.\u001b[0m\n",
      "\u001b[32m[I 2023-12-06 22:36:03,338]\u001b[0m Trial 15 finished with value: 269337.21197996516 and parameters: {'max_depth': 4, 'learning_rate': 0.25902923630402713, 'n_estimators': 635, 'min_child_weight': 7, 'gamma': 0.25898503863052885, 'subsample': 0.9817139402448266, 'colsample_bytree': 0.8843894785508584, 'reg_alpha': 0.21468933531325352, 'reg_lambda': 0.172010563548571}. Best is trial 12 with value: 244429.23547512427.\u001b[0m\n",
      "\u001b[32m[I 2023-12-06 22:37:42,945]\u001b[0m Trial 16 finished with value: 257532.725184267 and parameters: {'max_depth': 7, 'learning_rate': 0.22974004153682864, 'n_estimators': 351, 'min_child_weight': 10, 'gamma': 0.04328392215687489, 'subsample': 0.7483776064826826, 'colsample_bytree': 0.9287279823968042, 'reg_alpha': 0.2419166512746307, 'reg_lambda': 0.3456699600263254}. Best is trial 12 with value: 244429.23547512427.\u001b[0m\n",
      "\u001b[32m[I 2023-12-06 22:38:47,572]\u001b[0m Trial 17 finished with value: 344860.9703086121 and parameters: {'max_depth': 1, 'learning_rate': 0.403468116360344, 'n_estimators': 867, 'min_child_weight': 3, 'gamma': 0.20649064933152544, 'subsample': 0.7853037132709564, 'colsample_bytree': 0.9989083055196484, 'reg_alpha': 0.10760314616532302, 'reg_lambda': 0.12884792098205247}. Best is trial 12 with value: 244429.23547512427.\u001b[0m\n",
      "\u001b[32m[I 2023-12-06 22:42:59,287]\u001b[0m Trial 18 finished with value: 258405.4202929406 and parameters: {'max_depth': 8, 'learning_rate': 0.5498030385099932, 'n_estimators': 987, 'min_child_weight': 7, 'gamma': 0.020250265511035738, 'subsample': 0.9923614959821261, 'colsample_bytree': 0.7474830890700441, 'reg_alpha': 0.017049406083351037, 'reg_lambda': 0.10800779963460178}. Best is trial 12 with value: 244429.23547512427.\u001b[0m\n",
      "\u001b[32m[I 2023-12-06 22:45:24,992]\u001b[0m Trial 19 finished with value: 259752.35378558424 and parameters: {'max_depth': 6, 'learning_rate': 0.346168707816354, 'n_estimators': 631, 'min_child_weight': 9, 'gamma': 0.27965788426864585, 'subsample': 0.6816167152984745, 'colsample_bytree': 0.848241287853456, 'reg_alpha': 0.31448996504682525, 'reg_lambda': 0.01978869456133707}. Best is trial 12 with value: 244429.23547512427.\u001b[0m\n",
      "\u001b[32m[I 2023-12-06 22:48:21,939]\u001b[0m Trial 20 finished with value: 245769.2298981347 and parameters: {'max_depth': 8, 'learning_rate': 0.15774109928765329, 'n_estimators': 814, 'min_child_weight': 7, 'gamma': 0.14829580433831002, 'subsample': 0.8109619771756227, 'colsample_bytree': 0.5752603052461833, 'reg_alpha': 0.18765645564144348, 'reg_lambda': 0.2437755789636659}. Best is trial 12 with value: 244429.23547512427.\u001b[0m\n",
      "\u001b[32m[I 2023-12-06 22:50:57,607]\u001b[0m Trial 21 finished with value: 246043.6304815775 and parameters: {'max_depth': 8, 'learning_rate': 0.14624804785977707, 'n_estimators': 861, 'min_child_weight': 7, 'gamma': 0.11946800646733564, 'subsample': 0.8895542547313696, 'colsample_bytree': 0.4499933545744493, 'reg_alpha': 0.18364456109053867, 'reg_lambda': 0.2095530454898049}. Best is trial 12 with value: 244429.23547512427.\u001b[0m\n",
      "\u001b[32m[I 2023-12-06 22:54:56,944]\u001b[0m Trial 22 finished with value: 240478.57220798158 and parameters: {'max_depth': 8, 'learning_rate': 0.15797742335663176, 'n_estimators': 999, 'min_child_weight': 5, 'gamma': 0.18475049444547675, 'subsample': 0.9988216580955317, 'colsample_bytree': 0.6646712692491394, 'reg_alpha': 0.24434594746204255, 'reg_lambda': 0.11389213451280997}. Best is trial 22 with value: 240478.57220798158.\u001b[0m\n",
      "\u001b[32m[I 2023-12-06 22:58:17,879]\u001b[0m Trial 23 finished with value: 248696.5395322157 and parameters: {'max_depth': 6, 'learning_rate': 0.3117000440466973, 'n_estimators': 902, 'min_child_weight': 4, 'gamma': 0.22594727991792435, 'subsample': 0.9985672093937303, 'colsample_bytree': 0.894554376060103, 'reg_alpha': 0.3879402574576071, 'reg_lambda': 0.10515821323423133}. Best is trial 22 with value: 240478.57220798158.\u001b[0m\n",
      "\u001b[32m[I 2023-12-06 23:03:03,339]\u001b[0m Trial 24 finished with value: 239947.43788789416 and parameters: {'max_depth': 9, 'learning_rate': 0.10132124100237531, 'n_estimators': 1000, 'min_child_weight': 5, 'gamma': 0.015627381373821386, 'subsample': 0.9149919530169237, 'colsample_bytree': 0.7429947215177118, 'reg_alpha': 0.2691968842826249, 'reg_lambda': 0.12048902013069457}. Best is trial 24 with value: 239947.43788789416.\u001b[0m\n",
      "\u001b[32m[I 2023-12-06 23:04:22,408]\u001b[0m Trial 25 finished with value: 253194.8510546283 and parameters: {'max_depth': 9, 'learning_rate': 0.1213555127833458, 'n_estimators': 289, 'min_child_weight': 5, 'gamma': 0.09141866616497862, 'subsample': 0.903456825323483, 'colsample_bytree': 0.6871926264538584, 'reg_alpha': 0.30123284090110836, 'reg_lambda': 0.29873071672873536}. Best is trial 24 with value: 239947.43788789416.\u001b[0m\n",
      "\u001b[32m[I 2023-12-06 23:07:38,699]\u001b[0m Trial 26 finished with value: 247761.67547916868 and parameters: {'max_depth': 8, 'learning_rate': 0.10025517126848438, 'n_estimators': 729, 'min_child_weight': 4, 'gamma': 0.1800948788668027, 'subsample': 0.7589576306347021, 'colsample_bytree': 0.7591860640070005, 'reg_alpha': 0.4310504218733666, 'reg_lambda': 0.12534149920747226}. Best is trial 24 with value: 239947.43788789416.\u001b[0m\n",
      "\u001b[32m[I 2023-12-06 23:11:26,028]\u001b[0m Trial 27 finished with value: 239784.69815351424 and parameters: {'max_depth': 9, 'learning_rate': 0.1814664054954299, 'n_estimators': 919, 'min_child_weight': 3, 'gamma': 0.32363552739998613, 'subsample': 0.8994113878618348, 'colsample_bytree': 0.6037697340965472, 'reg_alpha': 0.3534564116335551, 'reg_lambda': 0.20044147046743402}. Best is trial 27 with value: 239784.69815351424.\u001b[0m\n",
      "\u001b[32m[I 2023-12-06 23:14:35,254]\u001b[0m Trial 28 finished with value: 241572.8681928076 and parameters: {'max_depth': 9, 'learning_rate': 0.0995524390478802, 'n_estimators': 909, 'min_child_weight': 3, 'gamma': 0.3442945490375813, 'subsample': 0.8460831770529489, 'colsample_bytree': 0.46063123723447646, 'reg_alpha': 0.470826928184596, 'reg_lambda': 0.17637382434079052}. Best is trial 27 with value: 239784.69815351424.\u001b[0m\n",
      "\u001b[32m[I 2023-12-06 23:17:42,438]\u001b[0m Trial 29 finished with value: 245944.75104744546 and parameters: {'max_depth': 10, 'learning_rate': 0.315586240250073, 'n_estimators': 665, 'min_child_weight': 2, 'gamma': 0.3152911470985915, 'subsample': 0.9171486188088616, 'colsample_bytree': 0.6153485533729641, 'reg_alpha': 0.12475436609939118, 'reg_lambda': 0.37222715492210506}. Best is trial 27 with value: 239784.69815351424.\u001b[0m\n",
      "\u001b[32m[I 2023-12-06 23:19:19,254]\u001b[0m Trial 30 finished with value: 257030.12097490163 and parameters: {'max_depth': 9, 'learning_rate': 0.06766240501184748, 'n_estimators': 412, 'min_child_weight': 3, 'gamma': 0.21810415010411294, 'subsample': 0.6120844546279767, 'colsample_bytree': 0.4944978401868006, 'reg_alpha': 0.25254253372823415, 'reg_lambda': 0.4365042478414385}. Best is trial 27 with value: 239784.69815351424.\u001b[0m\n",
      "\u001b[32m[I 2023-12-06 23:22:27,769]\u001b[0m Trial 31 finished with value: 242484.20873910474 and parameters: {'max_depth': 9, 'learning_rate': 0.09820865667761478, 'n_estimators': 917, 'min_child_weight': 3, 'gamma': 0.3412545167057245, 'subsample': 0.8432138408648114, 'colsample_bytree': 0.4505490440442294, 'reg_alpha': 0.5153080522242346, 'reg_lambda': 0.18785594346504572}. Best is trial 27 with value: 239784.69815351424.\u001b[0m\n",
      "\u001b[32m[I 2023-12-06 23:26:08,637]\u001b[0m Trial 32 finished with value: 240733.33853505147 and parameters: {'max_depth': 9, 'learning_rate': 0.1558965055937957, 'n_estimators': 923, 'min_child_weight': 5, 'gamma': 0.39225346583539544, 'subsample': 0.9186529644577509, 'colsample_bytree': 0.5817421308313723, 'reg_alpha': 0.3692842729862442, 'reg_lambda': 0.29915190523661467}. Best is trial 27 with value: 239784.69815351424.\u001b[0m\n",
      "\u001b[32m[I 2023-12-06 23:30:02,899]\u001b[0m Trial 33 finished with value: 254407.8010508892 and parameters: {'max_depth': 10, 'learning_rate': 0.024341994059975752, 'n_estimators': 822, 'min_child_weight': 5, 'gamma': 0.40824989001000345, 'subsample': 0.9187410055628786, 'colsample_bytree': 0.617308663984295, 'reg_alpha': 0.3576390175859276, 'reg_lambda': 0.28759664553417885}. Best is trial 27 with value: 239784.69815351424.\u001b[0m\n",
      "\u001b[32m[I 2023-12-06 23:33:47,125]\u001b[0m Trial 34 finished with value: 242395.38530666335 and parameters: {'max_depth': 8, 'learning_rate': 0.18160336679457403, 'n_estimators': 927, 'min_child_weight': 4, 'gamma': 0.4217430070770273, 'subsample': 0.9337442732614603, 'colsample_bytree': 0.6862855865976202, 'reg_alpha': 0.39369168871496607, 'reg_lambda': 0.3156800795192157}. Best is trial 27 with value: 239784.69815351424.\u001b[0m\n",
      "\u001b[32m[I 2023-12-06 23:36:52,053]\u001b[0m Trial 35 finished with value: 244601.9195036017 and parameters: {'max_depth': 9, 'learning_rate': 0.249349401586976, 'n_estimators': 782, 'min_child_weight': 5, 'gamma': 0.3067892903762066, 'subsample': 0.8849148057322515, 'colsample_bytree': 0.5680573583763988, 'reg_alpha': 0.2650404371450243, 'reg_lambda': 0.24859388797009485}. Best is trial 27 with value: 239784.69815351424.\u001b[0m\n",
      "\u001b[32m[I 2023-12-06 23:41:13,468]\u001b[0m Trial 36 finished with value: 237617.4457350021 and parameters: {'max_depth': 10, 'learning_rate': 0.15731514140750152, 'n_estimators': 884, 'min_child_weight': 2, 'gamma': 0.4786406006113764, 'subsample': 0.9370506411504153, 'colsample_bytree': 0.6588413851034691, 'reg_alpha': 0.42809669399162953, 'reg_lambda': 0.2730450833215283}. Best is trial 36 with value: 237617.4457350021.\u001b[0m\n",
      "\u001b[32m[I 2023-12-06 23:45:34,637]\u001b[0m Trial 37 finished with value: 239430.57322179753 and parameters: {'max_depth': 10, 'learning_rate': 0.06649037201850252, 'n_estimators': 854, 'min_child_weight': 1, 'gamma': 0.48444713014781365, 'subsample': 0.7912749119363625, 'colsample_bytree': 0.6571296488189665, 'reg_alpha': 0.44810533854874757, 'reg_lambda': 0.23137476129130297}. Best is trial 36 with value: 237617.4457350021.\u001b[0m\n",
      "\u001b[32m[I 2023-12-06 23:49:33,987]\u001b[0m Trial 38 finished with value: 251256.50123379313 and parameters: {'max_depth': 10, 'learning_rate': 0.03032974342233624, 'n_estimators': 710, 'min_child_weight': 1, 'gamma': 0.4997549402400829, 'subsample': 0.7967751360621156, 'colsample_bytree': 0.7395569357136492, 'reg_alpha': 0.5634643596961056, 'reg_lambda': 0.43426789299480517}. Best is trial 36 with value: 237617.4457350021.\u001b[0m\n",
      "\u001b[32m[I 2023-12-06 23:54:33,953]\u001b[0m Trial 39 finished with value: 237793.2644967822 and parameters: {'max_depth': 10, 'learning_rate': 0.07654674000052027, 'n_estimators': 872, 'min_child_weight': 2, 'gamma': 0.46693034763817026, 'subsample': 0.8446262565068078, 'colsample_bytree': 0.7828165627939803, 'reg_alpha': 0.4519690237905545, 'reg_lambda': 0.21545197717160938}. Best is trial 36 with value: 237617.4457350021.\u001b[0m\n"
     ]
    }
   ],
   "source": [
    "study.optimize(objective, n_trials=35)"
   ]
  },
  {
   "cell_type": "code",
   "execution_count": 13,
   "metadata": {},
   "outputs": [
    {
     "name": "stdout",
     "output_type": "stream",
     "text": [
      "Best parameters {'max_depth': 10, 'learning_rate': 0.15731514140750152, 'n_estimators': 884, 'min_child_weight': 2, 'gamma': 0.4786406006113764, 'subsample': 0.9370506411504153, 'colsample_bytree': 0.6588413851034691, 'reg_alpha': 0.42809669399162953, 'reg_lambda': 0.2730450833215283}\n",
      "Best value 237617.4457350021\n"
     ]
    }
   ],
   "source": [
    "# Print the best parameters\n",
    "print('Best parameters', study.best_params)\n",
    "# Print the best value\n",
    "print('Best value', study.best_value)"
   ]
  },
  {
   "cell_type": "code",
   "execution_count": 14,
   "metadata": {},
   "outputs": [
    {
     "data": {
      "application/vnd.plotly.v1+json": {
       "config": {
        "plotlyServerURL": "https://plot.ly"
       },
       "data": [
        {
         "mode": "markers",
         "name": "rmse",
         "type": "scatter",
         "x": [
          0,
          1,
          2,
          3,
          4,
          5,
          6,
          7,
          8,
          9,
          10,
          11,
          12,
          13,
          14,
          15,
          16,
          17,
          18,
          19,
          20,
          21,
          22,
          23,
          24,
          25,
          26,
          27,
          28,
          29,
          30,
          31,
          32,
          33,
          34,
          35,
          36,
          37,
          38,
          39
         ],
         "y": [
          331225.6830055093,
          258969.91937812365,
          312603.81443005183,
          381412.4099053585,
          279725.1418925262,
          399628.84937239095,
          277062.0359064567,
          311042.58201601397,
          331473.01983934134,
          352634.5057240892,
          257417.6426239618,
          274066.84440504876,
          244429.23547512427,
          245249.8245186915,
          251862.2154470351,
          269337.21197996516,
          257532.725184267,
          344860.9703086121,
          258405.4202929406,
          259752.35378558424,
          245769.2298981347,
          246043.6304815775,
          240478.57220798158,
          248696.5395322157,
          239947.43788789416,
          253194.8510546283,
          247761.67547916868,
          239784.69815351424,
          241572.8681928076,
          245944.75104744546,
          257030.12097490163,
          242484.20873910474,
          240733.33853505147,
          254407.8010508892,
          242395.38530666335,
          244601.9195036017,
          237617.4457350021,
          239430.57322179753,
          251256.50123379313,
          237793.2644967822
         ]
        },
        {
         "name": "Best Value",
         "type": "scatter",
         "x": [
          0,
          1,
          2,
          3,
          4,
          5,
          6,
          7,
          8,
          9,
          10,
          11,
          12,
          13,
          14,
          15,
          16,
          17,
          18,
          19,
          20,
          21,
          22,
          23,
          24,
          25,
          26,
          27,
          28,
          29,
          30,
          31,
          32,
          33,
          34,
          35,
          36,
          37,
          38,
          39
         ],
         "y": [
          331225.6830055093,
          258969.91937812365,
          258969.91937812365,
          258969.91937812365,
          258969.91937812365,
          258969.91937812365,
          258969.91937812365,
          258969.91937812365,
          258969.91937812365,
          258969.91937812365,
          257417.6426239618,
          257417.6426239618,
          244429.23547512427,
          244429.23547512427,
          244429.23547512427,
          244429.23547512427,
          244429.23547512427,
          244429.23547512427,
          244429.23547512427,
          244429.23547512427,
          244429.23547512427,
          244429.23547512427,
          240478.57220798158,
          240478.57220798158,
          239947.43788789416,
          239947.43788789416,
          239947.43788789416,
          239784.69815351424,
          239784.69815351424,
          239784.69815351424,
          239784.69815351424,
          239784.69815351424,
          239784.69815351424,
          239784.69815351424,
          239784.69815351424,
          239784.69815351424,
          237617.4457350021,
          237617.4457350021,
          237617.4457350021,
          237617.4457350021
         ]
        }
       ],
       "layout": {
        "template": {
         "data": {
          "bar": [
           {
            "error_x": {
             "color": "#2a3f5f"
            },
            "error_y": {
             "color": "#2a3f5f"
            },
            "marker": {
             "line": {
              "color": "#E5ECF6",
              "width": 0.5
             },
             "pattern": {
              "fillmode": "overlay",
              "size": 10,
              "solidity": 0.2
             }
            },
            "type": "bar"
           }
          ],
          "barpolar": [
           {
            "marker": {
             "line": {
              "color": "#E5ECF6",
              "width": 0.5
             },
             "pattern": {
              "fillmode": "overlay",
              "size": 10,
              "solidity": 0.2
             }
            },
            "type": "barpolar"
           }
          ],
          "carpet": [
           {
            "aaxis": {
             "endlinecolor": "#2a3f5f",
             "gridcolor": "white",
             "linecolor": "white",
             "minorgridcolor": "white",
             "startlinecolor": "#2a3f5f"
            },
            "baxis": {
             "endlinecolor": "#2a3f5f",
             "gridcolor": "white",
             "linecolor": "white",
             "minorgridcolor": "white",
             "startlinecolor": "#2a3f5f"
            },
            "type": "carpet"
           }
          ],
          "choropleth": [
           {
            "colorbar": {
             "outlinewidth": 0,
             "ticks": ""
            },
            "type": "choropleth"
           }
          ],
          "contour": [
           {
            "colorbar": {
             "outlinewidth": 0,
             "ticks": ""
            },
            "colorscale": [
             [
              0,
              "#0d0887"
             ],
             [
              0.1111111111111111,
              "#46039f"
             ],
             [
              0.2222222222222222,
              "#7201a8"
             ],
             [
              0.3333333333333333,
              "#9c179e"
             ],
             [
              0.4444444444444444,
              "#bd3786"
             ],
             [
              0.5555555555555556,
              "#d8576b"
             ],
             [
              0.6666666666666666,
              "#ed7953"
             ],
             [
              0.7777777777777778,
              "#fb9f3a"
             ],
             [
              0.8888888888888888,
              "#fdca26"
             ],
             [
              1,
              "#f0f921"
             ]
            ],
            "type": "contour"
           }
          ],
          "contourcarpet": [
           {
            "colorbar": {
             "outlinewidth": 0,
             "ticks": ""
            },
            "type": "contourcarpet"
           }
          ],
          "heatmap": [
           {
            "colorbar": {
             "outlinewidth": 0,
             "ticks": ""
            },
            "colorscale": [
             [
              0,
              "#0d0887"
             ],
             [
              0.1111111111111111,
              "#46039f"
             ],
             [
              0.2222222222222222,
              "#7201a8"
             ],
             [
              0.3333333333333333,
              "#9c179e"
             ],
             [
              0.4444444444444444,
              "#bd3786"
             ],
             [
              0.5555555555555556,
              "#d8576b"
             ],
             [
              0.6666666666666666,
              "#ed7953"
             ],
             [
              0.7777777777777778,
              "#fb9f3a"
             ],
             [
              0.8888888888888888,
              "#fdca26"
             ],
             [
              1,
              "#f0f921"
             ]
            ],
            "type": "heatmap"
           }
          ],
          "heatmapgl": [
           {
            "colorbar": {
             "outlinewidth": 0,
             "ticks": ""
            },
            "colorscale": [
             [
              0,
              "#0d0887"
             ],
             [
              0.1111111111111111,
              "#46039f"
             ],
             [
              0.2222222222222222,
              "#7201a8"
             ],
             [
              0.3333333333333333,
              "#9c179e"
             ],
             [
              0.4444444444444444,
              "#bd3786"
             ],
             [
              0.5555555555555556,
              "#d8576b"
             ],
             [
              0.6666666666666666,
              "#ed7953"
             ],
             [
              0.7777777777777778,
              "#fb9f3a"
             ],
             [
              0.8888888888888888,
              "#fdca26"
             ],
             [
              1,
              "#f0f921"
             ]
            ],
            "type": "heatmapgl"
           }
          ],
          "histogram": [
           {
            "marker": {
             "pattern": {
              "fillmode": "overlay",
              "size": 10,
              "solidity": 0.2
             }
            },
            "type": "histogram"
           }
          ],
          "histogram2d": [
           {
            "colorbar": {
             "outlinewidth": 0,
             "ticks": ""
            },
            "colorscale": [
             [
              0,
              "#0d0887"
             ],
             [
              0.1111111111111111,
              "#46039f"
             ],
             [
              0.2222222222222222,
              "#7201a8"
             ],
             [
              0.3333333333333333,
              "#9c179e"
             ],
             [
              0.4444444444444444,
              "#bd3786"
             ],
             [
              0.5555555555555556,
              "#d8576b"
             ],
             [
              0.6666666666666666,
              "#ed7953"
             ],
             [
              0.7777777777777778,
              "#fb9f3a"
             ],
             [
              0.8888888888888888,
              "#fdca26"
             ],
             [
              1,
              "#f0f921"
             ]
            ],
            "type": "histogram2d"
           }
          ],
          "histogram2dcontour": [
           {
            "colorbar": {
             "outlinewidth": 0,
             "ticks": ""
            },
            "colorscale": [
             [
              0,
              "#0d0887"
             ],
             [
              0.1111111111111111,
              "#46039f"
             ],
             [
              0.2222222222222222,
              "#7201a8"
             ],
             [
              0.3333333333333333,
              "#9c179e"
             ],
             [
              0.4444444444444444,
              "#bd3786"
             ],
             [
              0.5555555555555556,
              "#d8576b"
             ],
             [
              0.6666666666666666,
              "#ed7953"
             ],
             [
              0.7777777777777778,
              "#fb9f3a"
             ],
             [
              0.8888888888888888,
              "#fdca26"
             ],
             [
              1,
              "#f0f921"
             ]
            ],
            "type": "histogram2dcontour"
           }
          ],
          "mesh3d": [
           {
            "colorbar": {
             "outlinewidth": 0,
             "ticks": ""
            },
            "type": "mesh3d"
           }
          ],
          "parcoords": [
           {
            "line": {
             "colorbar": {
              "outlinewidth": 0,
              "ticks": ""
             }
            },
            "type": "parcoords"
           }
          ],
          "pie": [
           {
            "automargin": true,
            "type": "pie"
           }
          ],
          "scatter": [
           {
            "fillpattern": {
             "fillmode": "overlay",
             "size": 10,
             "solidity": 0.2
            },
            "type": "scatter"
           }
          ],
          "scatter3d": [
           {
            "line": {
             "colorbar": {
              "outlinewidth": 0,
              "ticks": ""
             }
            },
            "marker": {
             "colorbar": {
              "outlinewidth": 0,
              "ticks": ""
             }
            },
            "type": "scatter3d"
           }
          ],
          "scattercarpet": [
           {
            "marker": {
             "colorbar": {
              "outlinewidth": 0,
              "ticks": ""
             }
            },
            "type": "scattercarpet"
           }
          ],
          "scattergeo": [
           {
            "marker": {
             "colorbar": {
              "outlinewidth": 0,
              "ticks": ""
             }
            },
            "type": "scattergeo"
           }
          ],
          "scattergl": [
           {
            "marker": {
             "colorbar": {
              "outlinewidth": 0,
              "ticks": ""
             }
            },
            "type": "scattergl"
           }
          ],
          "scattermapbox": [
           {
            "marker": {
             "colorbar": {
              "outlinewidth": 0,
              "ticks": ""
             }
            },
            "type": "scattermapbox"
           }
          ],
          "scatterpolar": [
           {
            "marker": {
             "colorbar": {
              "outlinewidth": 0,
              "ticks": ""
             }
            },
            "type": "scatterpolar"
           }
          ],
          "scatterpolargl": [
           {
            "marker": {
             "colorbar": {
              "outlinewidth": 0,
              "ticks": ""
             }
            },
            "type": "scatterpolargl"
           }
          ],
          "scatterternary": [
           {
            "marker": {
             "colorbar": {
              "outlinewidth": 0,
              "ticks": ""
             }
            },
            "type": "scatterternary"
           }
          ],
          "surface": [
           {
            "colorbar": {
             "outlinewidth": 0,
             "ticks": ""
            },
            "colorscale": [
             [
              0,
              "#0d0887"
             ],
             [
              0.1111111111111111,
              "#46039f"
             ],
             [
              0.2222222222222222,
              "#7201a8"
             ],
             [
              0.3333333333333333,
              "#9c179e"
             ],
             [
              0.4444444444444444,
              "#bd3786"
             ],
             [
              0.5555555555555556,
              "#d8576b"
             ],
             [
              0.6666666666666666,
              "#ed7953"
             ],
             [
              0.7777777777777778,
              "#fb9f3a"
             ],
             [
              0.8888888888888888,
              "#fdca26"
             ],
             [
              1,
              "#f0f921"
             ]
            ],
            "type": "surface"
           }
          ],
          "table": [
           {
            "cells": {
             "fill": {
              "color": "#EBF0F8"
             },
             "line": {
              "color": "white"
             }
            },
            "header": {
             "fill": {
              "color": "#C8D4E3"
             },
             "line": {
              "color": "white"
             }
            },
            "type": "table"
           }
          ]
         },
         "layout": {
          "annotationdefaults": {
           "arrowcolor": "#2a3f5f",
           "arrowhead": 0,
           "arrowwidth": 1
          },
          "autotypenumbers": "strict",
          "coloraxis": {
           "colorbar": {
            "outlinewidth": 0,
            "ticks": ""
           }
          },
          "colorscale": {
           "diverging": [
            [
             0,
             "#8e0152"
            ],
            [
             0.1,
             "#c51b7d"
            ],
            [
             0.2,
             "#de77ae"
            ],
            [
             0.3,
             "#f1b6da"
            ],
            [
             0.4,
             "#fde0ef"
            ],
            [
             0.5,
             "#f7f7f7"
            ],
            [
             0.6,
             "#e6f5d0"
            ],
            [
             0.7,
             "#b8e186"
            ],
            [
             0.8,
             "#7fbc41"
            ],
            [
             0.9,
             "#4d9221"
            ],
            [
             1,
             "#276419"
            ]
           ],
           "sequential": [
            [
             0,
             "#0d0887"
            ],
            [
             0.1111111111111111,
             "#46039f"
            ],
            [
             0.2222222222222222,
             "#7201a8"
            ],
            [
             0.3333333333333333,
             "#9c179e"
            ],
            [
             0.4444444444444444,
             "#bd3786"
            ],
            [
             0.5555555555555556,
             "#d8576b"
            ],
            [
             0.6666666666666666,
             "#ed7953"
            ],
            [
             0.7777777777777778,
             "#fb9f3a"
            ],
            [
             0.8888888888888888,
             "#fdca26"
            ],
            [
             1,
             "#f0f921"
            ]
           ],
           "sequentialminus": [
            [
             0,
             "#0d0887"
            ],
            [
             0.1111111111111111,
             "#46039f"
            ],
            [
             0.2222222222222222,
             "#7201a8"
            ],
            [
             0.3333333333333333,
             "#9c179e"
            ],
            [
             0.4444444444444444,
             "#bd3786"
            ],
            [
             0.5555555555555556,
             "#d8576b"
            ],
            [
             0.6666666666666666,
             "#ed7953"
            ],
            [
             0.7777777777777778,
             "#fb9f3a"
            ],
            [
             0.8888888888888888,
             "#fdca26"
            ],
            [
             1,
             "#f0f921"
            ]
           ]
          },
          "colorway": [
           "#636efa",
           "#EF553B",
           "#00cc96",
           "#ab63fa",
           "#FFA15A",
           "#19d3f3",
           "#FF6692",
           "#B6E880",
           "#FF97FF",
           "#FECB52"
          ],
          "font": {
           "color": "#2a3f5f"
          },
          "geo": {
           "bgcolor": "white",
           "lakecolor": "white",
           "landcolor": "#E5ECF6",
           "showlakes": true,
           "showland": true,
           "subunitcolor": "white"
          },
          "hoverlabel": {
           "align": "left"
          },
          "hovermode": "closest",
          "mapbox": {
           "style": "light"
          },
          "paper_bgcolor": "white",
          "plot_bgcolor": "#E5ECF6",
          "polar": {
           "angularaxis": {
            "gridcolor": "white",
            "linecolor": "white",
            "ticks": ""
           },
           "bgcolor": "#E5ECF6",
           "radialaxis": {
            "gridcolor": "white",
            "linecolor": "white",
            "ticks": ""
           }
          },
          "scene": {
           "xaxis": {
            "backgroundcolor": "#E5ECF6",
            "gridcolor": "white",
            "gridwidth": 2,
            "linecolor": "white",
            "showbackground": true,
            "ticks": "",
            "zerolinecolor": "white"
           },
           "yaxis": {
            "backgroundcolor": "#E5ECF6",
            "gridcolor": "white",
            "gridwidth": 2,
            "linecolor": "white",
            "showbackground": true,
            "ticks": "",
            "zerolinecolor": "white"
           },
           "zaxis": {
            "backgroundcolor": "#E5ECF6",
            "gridcolor": "white",
            "gridwidth": 2,
            "linecolor": "white",
            "showbackground": true,
            "ticks": "",
            "zerolinecolor": "white"
           }
          },
          "shapedefaults": {
           "line": {
            "color": "#2a3f5f"
           }
          },
          "ternary": {
           "aaxis": {
            "gridcolor": "white",
            "linecolor": "white",
            "ticks": ""
           },
           "baxis": {
            "gridcolor": "white",
            "linecolor": "white",
            "ticks": ""
           },
           "bgcolor": "#E5ECF6",
           "caxis": {
            "gridcolor": "white",
            "linecolor": "white",
            "ticks": ""
           }
          },
          "title": {
           "x": 0.05
          },
          "xaxis": {
           "automargin": true,
           "gridcolor": "white",
           "linecolor": "white",
           "ticks": "",
           "title": {
            "standoff": 15
           },
           "zerolinecolor": "white",
           "zerolinewidth": 2
          },
          "yaxis": {
           "automargin": true,
           "gridcolor": "white",
           "linecolor": "white",
           "ticks": "",
           "title": {
            "standoff": 15
           },
           "zerolinecolor": "white",
           "zerolinewidth": 2
          }
         }
        },
        "title": {
         "text": "Optimization History Plot"
        },
        "xaxis": {
         "title": {
          "text": "Trial"
         }
        },
        "yaxis": {
         "title": {
          "text": "rmse"
         }
        }
       }
      }
     },
     "metadata": {},
     "output_type": "display_data"
    }
   ],
   "source": [
    "optuna.visualization.plot_optimization_history(study, target_name=\"rmse\")"
   ]
  },
  {
   "cell_type": "code",
   "execution_count": 15,
   "metadata": {},
   "outputs": [
    {
     "data": {
      "application/vnd.plotly.v1+json": {
       "config": {
        "plotlyServerURL": "https://plot.ly"
       },
       "data": [
        {
         "cliponaxis": false,
         "hovertemplate": [
          "min_child_weight (IntDistribution): 0.016584979532932715<extra></extra>",
          "colsample_bytree (FloatDistribution): 0.017094685753359342<extra></extra>",
          "reg_alpha (FloatDistribution): 0.021922384933101554<extra></extra>",
          "n_estimators (IntDistribution): 0.027741000065422388<extra></extra>",
          "subsample (FloatDistribution): 0.04723762364190609<extra></extra>",
          "reg_lambda (FloatDistribution): 0.06988930608745345<extra></extra>",
          "max_depth (IntDistribution): 0.13156182776512657<extra></extra>",
          "learning_rate (FloatDistribution): 0.20486305758196524<extra></extra>",
          "gamma (FloatDistribution): 0.46310513463873265<extra></extra>"
         ],
         "marker": {
          "color": "rgb(66,146,198)"
         },
         "orientation": "h",
         "text": [
          "0.02",
          "0.02",
          "0.02",
          "0.03",
          "0.05",
          "0.07",
          "0.13",
          "0.20",
          "0.46"
         ],
         "textposition": "outside",
         "type": "bar",
         "x": [
          0.016584979532932715,
          0.017094685753359342,
          0.021922384933101554,
          0.027741000065422388,
          0.04723762364190609,
          0.06988930608745345,
          0.13156182776512657,
          0.20486305758196524,
          0.46310513463873265
         ],
         "y": [
          "min_child_weight",
          "colsample_bytree",
          "reg_alpha",
          "n_estimators",
          "subsample",
          "reg_lambda",
          "max_depth",
          "learning_rate",
          "gamma"
         ]
        }
       ],
       "layout": {
        "showlegend": false,
        "template": {
         "data": {
          "bar": [
           {
            "error_x": {
             "color": "#2a3f5f"
            },
            "error_y": {
             "color": "#2a3f5f"
            },
            "marker": {
             "line": {
              "color": "#E5ECF6",
              "width": 0.5
             },
             "pattern": {
              "fillmode": "overlay",
              "size": 10,
              "solidity": 0.2
             }
            },
            "type": "bar"
           }
          ],
          "barpolar": [
           {
            "marker": {
             "line": {
              "color": "#E5ECF6",
              "width": 0.5
             },
             "pattern": {
              "fillmode": "overlay",
              "size": 10,
              "solidity": 0.2
             }
            },
            "type": "barpolar"
           }
          ],
          "carpet": [
           {
            "aaxis": {
             "endlinecolor": "#2a3f5f",
             "gridcolor": "white",
             "linecolor": "white",
             "minorgridcolor": "white",
             "startlinecolor": "#2a3f5f"
            },
            "baxis": {
             "endlinecolor": "#2a3f5f",
             "gridcolor": "white",
             "linecolor": "white",
             "minorgridcolor": "white",
             "startlinecolor": "#2a3f5f"
            },
            "type": "carpet"
           }
          ],
          "choropleth": [
           {
            "colorbar": {
             "outlinewidth": 0,
             "ticks": ""
            },
            "type": "choropleth"
           }
          ],
          "contour": [
           {
            "colorbar": {
             "outlinewidth": 0,
             "ticks": ""
            },
            "colorscale": [
             [
              0,
              "#0d0887"
             ],
             [
              0.1111111111111111,
              "#46039f"
             ],
             [
              0.2222222222222222,
              "#7201a8"
             ],
             [
              0.3333333333333333,
              "#9c179e"
             ],
             [
              0.4444444444444444,
              "#bd3786"
             ],
             [
              0.5555555555555556,
              "#d8576b"
             ],
             [
              0.6666666666666666,
              "#ed7953"
             ],
             [
              0.7777777777777778,
              "#fb9f3a"
             ],
             [
              0.8888888888888888,
              "#fdca26"
             ],
             [
              1,
              "#f0f921"
             ]
            ],
            "type": "contour"
           }
          ],
          "contourcarpet": [
           {
            "colorbar": {
             "outlinewidth": 0,
             "ticks": ""
            },
            "type": "contourcarpet"
           }
          ],
          "heatmap": [
           {
            "colorbar": {
             "outlinewidth": 0,
             "ticks": ""
            },
            "colorscale": [
             [
              0,
              "#0d0887"
             ],
             [
              0.1111111111111111,
              "#46039f"
             ],
             [
              0.2222222222222222,
              "#7201a8"
             ],
             [
              0.3333333333333333,
              "#9c179e"
             ],
             [
              0.4444444444444444,
              "#bd3786"
             ],
             [
              0.5555555555555556,
              "#d8576b"
             ],
             [
              0.6666666666666666,
              "#ed7953"
             ],
             [
              0.7777777777777778,
              "#fb9f3a"
             ],
             [
              0.8888888888888888,
              "#fdca26"
             ],
             [
              1,
              "#f0f921"
             ]
            ],
            "type": "heatmap"
           }
          ],
          "heatmapgl": [
           {
            "colorbar": {
             "outlinewidth": 0,
             "ticks": ""
            },
            "colorscale": [
             [
              0,
              "#0d0887"
             ],
             [
              0.1111111111111111,
              "#46039f"
             ],
             [
              0.2222222222222222,
              "#7201a8"
             ],
             [
              0.3333333333333333,
              "#9c179e"
             ],
             [
              0.4444444444444444,
              "#bd3786"
             ],
             [
              0.5555555555555556,
              "#d8576b"
             ],
             [
              0.6666666666666666,
              "#ed7953"
             ],
             [
              0.7777777777777778,
              "#fb9f3a"
             ],
             [
              0.8888888888888888,
              "#fdca26"
             ],
             [
              1,
              "#f0f921"
             ]
            ],
            "type": "heatmapgl"
           }
          ],
          "histogram": [
           {
            "marker": {
             "pattern": {
              "fillmode": "overlay",
              "size": 10,
              "solidity": 0.2
             }
            },
            "type": "histogram"
           }
          ],
          "histogram2d": [
           {
            "colorbar": {
             "outlinewidth": 0,
             "ticks": ""
            },
            "colorscale": [
             [
              0,
              "#0d0887"
             ],
             [
              0.1111111111111111,
              "#46039f"
             ],
             [
              0.2222222222222222,
              "#7201a8"
             ],
             [
              0.3333333333333333,
              "#9c179e"
             ],
             [
              0.4444444444444444,
              "#bd3786"
             ],
             [
              0.5555555555555556,
              "#d8576b"
             ],
             [
              0.6666666666666666,
              "#ed7953"
             ],
             [
              0.7777777777777778,
              "#fb9f3a"
             ],
             [
              0.8888888888888888,
              "#fdca26"
             ],
             [
              1,
              "#f0f921"
             ]
            ],
            "type": "histogram2d"
           }
          ],
          "histogram2dcontour": [
           {
            "colorbar": {
             "outlinewidth": 0,
             "ticks": ""
            },
            "colorscale": [
             [
              0,
              "#0d0887"
             ],
             [
              0.1111111111111111,
              "#46039f"
             ],
             [
              0.2222222222222222,
              "#7201a8"
             ],
             [
              0.3333333333333333,
              "#9c179e"
             ],
             [
              0.4444444444444444,
              "#bd3786"
             ],
             [
              0.5555555555555556,
              "#d8576b"
             ],
             [
              0.6666666666666666,
              "#ed7953"
             ],
             [
              0.7777777777777778,
              "#fb9f3a"
             ],
             [
              0.8888888888888888,
              "#fdca26"
             ],
             [
              1,
              "#f0f921"
             ]
            ],
            "type": "histogram2dcontour"
           }
          ],
          "mesh3d": [
           {
            "colorbar": {
             "outlinewidth": 0,
             "ticks": ""
            },
            "type": "mesh3d"
           }
          ],
          "parcoords": [
           {
            "line": {
             "colorbar": {
              "outlinewidth": 0,
              "ticks": ""
             }
            },
            "type": "parcoords"
           }
          ],
          "pie": [
           {
            "automargin": true,
            "type": "pie"
           }
          ],
          "scatter": [
           {
            "fillpattern": {
             "fillmode": "overlay",
             "size": 10,
             "solidity": 0.2
            },
            "type": "scatter"
           }
          ],
          "scatter3d": [
           {
            "line": {
             "colorbar": {
              "outlinewidth": 0,
              "ticks": ""
             }
            },
            "marker": {
             "colorbar": {
              "outlinewidth": 0,
              "ticks": ""
             }
            },
            "type": "scatter3d"
           }
          ],
          "scattercarpet": [
           {
            "marker": {
             "colorbar": {
              "outlinewidth": 0,
              "ticks": ""
             }
            },
            "type": "scattercarpet"
           }
          ],
          "scattergeo": [
           {
            "marker": {
             "colorbar": {
              "outlinewidth": 0,
              "ticks": ""
             }
            },
            "type": "scattergeo"
           }
          ],
          "scattergl": [
           {
            "marker": {
             "colorbar": {
              "outlinewidth": 0,
              "ticks": ""
             }
            },
            "type": "scattergl"
           }
          ],
          "scattermapbox": [
           {
            "marker": {
             "colorbar": {
              "outlinewidth": 0,
              "ticks": ""
             }
            },
            "type": "scattermapbox"
           }
          ],
          "scatterpolar": [
           {
            "marker": {
             "colorbar": {
              "outlinewidth": 0,
              "ticks": ""
             }
            },
            "type": "scatterpolar"
           }
          ],
          "scatterpolargl": [
           {
            "marker": {
             "colorbar": {
              "outlinewidth": 0,
              "ticks": ""
             }
            },
            "type": "scatterpolargl"
           }
          ],
          "scatterternary": [
           {
            "marker": {
             "colorbar": {
              "outlinewidth": 0,
              "ticks": ""
             }
            },
            "type": "scatterternary"
           }
          ],
          "surface": [
           {
            "colorbar": {
             "outlinewidth": 0,
             "ticks": ""
            },
            "colorscale": [
             [
              0,
              "#0d0887"
             ],
             [
              0.1111111111111111,
              "#46039f"
             ],
             [
              0.2222222222222222,
              "#7201a8"
             ],
             [
              0.3333333333333333,
              "#9c179e"
             ],
             [
              0.4444444444444444,
              "#bd3786"
             ],
             [
              0.5555555555555556,
              "#d8576b"
             ],
             [
              0.6666666666666666,
              "#ed7953"
             ],
             [
              0.7777777777777778,
              "#fb9f3a"
             ],
             [
              0.8888888888888888,
              "#fdca26"
             ],
             [
              1,
              "#f0f921"
             ]
            ],
            "type": "surface"
           }
          ],
          "table": [
           {
            "cells": {
             "fill": {
              "color": "#EBF0F8"
             },
             "line": {
              "color": "white"
             }
            },
            "header": {
             "fill": {
              "color": "#C8D4E3"
             },
             "line": {
              "color": "white"
             }
            },
            "type": "table"
           }
          ]
         },
         "layout": {
          "annotationdefaults": {
           "arrowcolor": "#2a3f5f",
           "arrowhead": 0,
           "arrowwidth": 1
          },
          "autotypenumbers": "strict",
          "coloraxis": {
           "colorbar": {
            "outlinewidth": 0,
            "ticks": ""
           }
          },
          "colorscale": {
           "diverging": [
            [
             0,
             "#8e0152"
            ],
            [
             0.1,
             "#c51b7d"
            ],
            [
             0.2,
             "#de77ae"
            ],
            [
             0.3,
             "#f1b6da"
            ],
            [
             0.4,
             "#fde0ef"
            ],
            [
             0.5,
             "#f7f7f7"
            ],
            [
             0.6,
             "#e6f5d0"
            ],
            [
             0.7,
             "#b8e186"
            ],
            [
             0.8,
             "#7fbc41"
            ],
            [
             0.9,
             "#4d9221"
            ],
            [
             1,
             "#276419"
            ]
           ],
           "sequential": [
            [
             0,
             "#0d0887"
            ],
            [
             0.1111111111111111,
             "#46039f"
            ],
            [
             0.2222222222222222,
             "#7201a8"
            ],
            [
             0.3333333333333333,
             "#9c179e"
            ],
            [
             0.4444444444444444,
             "#bd3786"
            ],
            [
             0.5555555555555556,
             "#d8576b"
            ],
            [
             0.6666666666666666,
             "#ed7953"
            ],
            [
             0.7777777777777778,
             "#fb9f3a"
            ],
            [
             0.8888888888888888,
             "#fdca26"
            ],
            [
             1,
             "#f0f921"
            ]
           ],
           "sequentialminus": [
            [
             0,
             "#0d0887"
            ],
            [
             0.1111111111111111,
             "#46039f"
            ],
            [
             0.2222222222222222,
             "#7201a8"
            ],
            [
             0.3333333333333333,
             "#9c179e"
            ],
            [
             0.4444444444444444,
             "#bd3786"
            ],
            [
             0.5555555555555556,
             "#d8576b"
            ],
            [
             0.6666666666666666,
             "#ed7953"
            ],
            [
             0.7777777777777778,
             "#fb9f3a"
            ],
            [
             0.8888888888888888,
             "#fdca26"
            ],
            [
             1,
             "#f0f921"
            ]
           ]
          },
          "colorway": [
           "#636efa",
           "#EF553B",
           "#00cc96",
           "#ab63fa",
           "#FFA15A",
           "#19d3f3",
           "#FF6692",
           "#B6E880",
           "#FF97FF",
           "#FECB52"
          ],
          "font": {
           "color": "#2a3f5f"
          },
          "geo": {
           "bgcolor": "white",
           "lakecolor": "white",
           "landcolor": "#E5ECF6",
           "showlakes": true,
           "showland": true,
           "subunitcolor": "white"
          },
          "hoverlabel": {
           "align": "left"
          },
          "hovermode": "closest",
          "mapbox": {
           "style": "light"
          },
          "paper_bgcolor": "white",
          "plot_bgcolor": "#E5ECF6",
          "polar": {
           "angularaxis": {
            "gridcolor": "white",
            "linecolor": "white",
            "ticks": ""
           },
           "bgcolor": "#E5ECF6",
           "radialaxis": {
            "gridcolor": "white",
            "linecolor": "white",
            "ticks": ""
           }
          },
          "scene": {
           "xaxis": {
            "backgroundcolor": "#E5ECF6",
            "gridcolor": "white",
            "gridwidth": 2,
            "linecolor": "white",
            "showbackground": true,
            "ticks": "",
            "zerolinecolor": "white"
           },
           "yaxis": {
            "backgroundcolor": "#E5ECF6",
            "gridcolor": "white",
            "gridwidth": 2,
            "linecolor": "white",
            "showbackground": true,
            "ticks": "",
            "zerolinecolor": "white"
           },
           "zaxis": {
            "backgroundcolor": "#E5ECF6",
            "gridcolor": "white",
            "gridwidth": 2,
            "linecolor": "white",
            "showbackground": true,
            "ticks": "",
            "zerolinecolor": "white"
           }
          },
          "shapedefaults": {
           "line": {
            "color": "#2a3f5f"
           }
          },
          "ternary": {
           "aaxis": {
            "gridcolor": "white",
            "linecolor": "white",
            "ticks": ""
           },
           "baxis": {
            "gridcolor": "white",
            "linecolor": "white",
            "ticks": ""
           },
           "bgcolor": "#E5ECF6",
           "caxis": {
            "gridcolor": "white",
            "linecolor": "white",
            "ticks": ""
           }
          },
          "title": {
           "x": 0.05
          },
          "xaxis": {
           "automargin": true,
           "gridcolor": "white",
           "linecolor": "white",
           "ticks": "",
           "title": {
            "standoff": 15
           },
           "zerolinecolor": "white",
           "zerolinewidth": 2
          },
          "yaxis": {
           "automargin": true,
           "gridcolor": "white",
           "linecolor": "white",
           "ticks": "",
           "title": {
            "standoff": 15
           },
           "zerolinecolor": "white",
           "zerolinewidth": 2
          }
         }
        },
        "title": {
         "text": "Hyperparameter Importances"
        },
        "xaxis": {
         "title": {
          "text": "Importance for rmse"
         }
        },
        "yaxis": {
         "title": {
          "text": "Hyperparameter"
         }
        }
       }
      }
     },
     "metadata": {},
     "output_type": "display_data"
    }
   ],
   "source": [
    "optuna.visualization.plot_param_importances(study, target_name=\"rmse\")"
   ]
  },
  {
   "cell_type": "code",
   "execution_count": 31,
   "metadata": {},
   "outputs": [],
   "source": [
    "# best_params_ = {'max_depth': 10, 'learning_rate': 0.27709654408982404, 'n_estimators': 665, 'min_child_weight': 5, 'gamma': 0.7761973587710317, 'subsample': 0.7887000601591988, 'colsample_bytree': 0.4221933346229272, 'reg_alpha': 0.342970136714684, 'reg_lambda': 0.8236712370675622}"
   ]
  },
  {
   "cell_type": "code",
   "execution_count": 23,
   "metadata": {},
   "outputs": [],
   "source": [
    "best_params_ = {'max_depth': 10, 'learning_rate': 0.15731514140750152, 'n_estimators': 884, 'min_child_weight': 2, 'gamma': 0.4786406006113764, 'subsample': 0.9370506411504153, 'colsample_bytree': 0.6588413851034691, 'reg_alpha': 0.42809669399162953, 'reg_lambda': 0.2730450833215283}"
   ]
  },
  {
   "cell_type": "code",
   "execution_count": 24,
   "metadata": {},
   "outputs": [
    {
     "name": "stdout",
     "output_type": "stream",
     "text": [
      "Train RMSE: 99072.72550874576\n",
      "Test RMSE: 238175.26621843217\n"
     ]
    }
   ],
   "source": [
    "''' Создадим модель  воспользовавшись параметрами получеными из Optuna'''\n",
    "xgb = XGBRegressor(**best_params_, seed=42)\n",
    "xgb.fit(X_train_scaled, y_train)\n",
    "y_train_pred = xgb.predict(X_train_scaled)\n",
    "y_test_pred  = xgb.predict(X_test_scaled)\n",
    "print('Train RMSE:', mean_squared_error(y_train, y_train_pred, squared=False))\n",
    "print('Test RMSE:', mean_squared_error(y_test, y_test_pred, squared=False))"
   ]
  },
  {
   "cell_type": "code",
   "execution_count": 26,
   "metadata": {},
   "outputs": [
    {
     "name": "stdout",
     "output_type": "stream",
     "text": [
      "Train RMSE: 0.9630607597344069\n",
      "Test RMSE: 0.7896900109626972\n",
      "MeAE on the validation sample: 54104.2 долларов\n"
     ]
    }
   ],
   "source": [
    "''' Мы можем утверждать, что модель уловила около 78% закономерности в данных,\n",
    "а абсолютная медианная ошибка в предсказании стоимости недвижимости составляет\n",
    "54 тыс. долларов'''\n",
    "\n",
    "print('Train RMSE:', r2_score(y_train, y_train_pred))\n",
    "print('Test RMSE:', r2_score(y_test, y_test_pred))\n",
    "\n",
    "print('MeAE on the validation sample: {:.1f} долларов'.format(\n",
    "    metrics.median_absolute_error(y_test, y_test_pred)))"
   ]
  },
  {
   "cell_type": "markdown",
   "metadata": {},
   "source": [
    "## Часть 4. Создание pipeline. ##"
   ]
  },
  {
   "cell_type": "code",
   "execution_count": 27,
   "metadata": {},
   "outputs": [],
   "source": [
    "''' Создание копии исходного датасета, кодирование категориальных признаков'''\n",
    "dft = df.copy()"
   ]
  },
  {
   "cell_type": "code",
   "execution_count": 9,
   "metadata": {},
   "outputs": [],
   "source": [
    "# best_params_ = {'max_depth': 10, 'learning_rate': 0.27709654408982404, 'n_estimators': 665, 'min_child_weight': 5, 'gamma': 0.7761973587710317, 'subsample': 0.7887000601591988, 'colsample_bytree': 0.4221933346229272, 'reg_alpha': 0.342970136714684, 'reg_lambda': 0.8236712370675622}"
   ]
  },
  {
   "cell_type": "code",
   "execution_count": 28,
   "metadata": {},
   "outputs": [],
   "source": [
    "preprocessor = make_column_transformer(\n",
    "    (StandardScaler(), num_col),\n",
    "    (OneHotEncoder(handle_unknown=\"ignore\", drop=\"first\"), str_col))"
   ]
  },
  {
   "cell_type": "code",
   "execution_count": 29,
   "metadata": {},
   "outputs": [],
   "source": [
    "clf = make_pipeline(preprocessor, XGBRegressor(**best_params_,seed=42))"
   ]
  },
  {
   "cell_type": "code",
   "execution_count": 30,
   "metadata": {},
   "outputs": [],
   "source": [
    "X = dft.drop('target', axis=1)\n",
    "y = dft['target']\n",
    "X_train, X_test, y_train, y_test = train_test_split(X, y, test_size=0.2, random_state=42)"
   ]
  },
  {
   "cell_type": "code",
   "execution_count": 31,
   "metadata": {},
   "outputs": [
    {
     "data": {
      "text/html": [
       "<style>#sk-container-id-1 {color: black;}#sk-container-id-1 pre{padding: 0;}#sk-container-id-1 div.sk-toggleable {background-color: white;}#sk-container-id-1 label.sk-toggleable__label {cursor: pointer;display: block;width: 100%;margin-bottom: 0;padding: 0.3em;box-sizing: border-box;text-align: center;}#sk-container-id-1 label.sk-toggleable__label-arrow:before {content: \"▸\";float: left;margin-right: 0.25em;color: #696969;}#sk-container-id-1 label.sk-toggleable__label-arrow:hover:before {color: black;}#sk-container-id-1 div.sk-estimator:hover label.sk-toggleable__label-arrow:before {color: black;}#sk-container-id-1 div.sk-toggleable__content {max-height: 0;max-width: 0;overflow: hidden;text-align: left;background-color: #f0f8ff;}#sk-container-id-1 div.sk-toggleable__content pre {margin: 0.2em;color: black;border-radius: 0.25em;background-color: #f0f8ff;}#sk-container-id-1 input.sk-toggleable__control:checked~div.sk-toggleable__content {max-height: 200px;max-width: 100%;overflow: auto;}#sk-container-id-1 input.sk-toggleable__control:checked~label.sk-toggleable__label-arrow:before {content: \"▾\";}#sk-container-id-1 div.sk-estimator input.sk-toggleable__control:checked~label.sk-toggleable__label {background-color: #d4ebff;}#sk-container-id-1 div.sk-label input.sk-toggleable__control:checked~label.sk-toggleable__label {background-color: #d4ebff;}#sk-container-id-1 input.sk-hidden--visually {border: 0;clip: rect(1px 1px 1px 1px);clip: rect(1px, 1px, 1px, 1px);height: 1px;margin: -1px;overflow: hidden;padding: 0;position: absolute;width: 1px;}#sk-container-id-1 div.sk-estimator {font-family: monospace;background-color: #f0f8ff;border: 1px dotted black;border-radius: 0.25em;box-sizing: border-box;margin-bottom: 0.5em;}#sk-container-id-1 div.sk-estimator:hover {background-color: #d4ebff;}#sk-container-id-1 div.sk-parallel-item::after {content: \"\";width: 100%;border-bottom: 1px solid gray;flex-grow: 1;}#sk-container-id-1 div.sk-label:hover label.sk-toggleable__label {background-color: #d4ebff;}#sk-container-id-1 div.sk-serial::before {content: \"\";position: absolute;border-left: 1px solid gray;box-sizing: border-box;top: 0;bottom: 0;left: 50%;z-index: 0;}#sk-container-id-1 div.sk-serial {display: flex;flex-direction: column;align-items: center;background-color: white;padding-right: 0.2em;padding-left: 0.2em;position: relative;}#sk-container-id-1 div.sk-item {position: relative;z-index: 1;}#sk-container-id-1 div.sk-parallel {display: flex;align-items: stretch;justify-content: center;background-color: white;position: relative;}#sk-container-id-1 div.sk-item::before, #sk-container-id-1 div.sk-parallel-item::before {content: \"\";position: absolute;border-left: 1px solid gray;box-sizing: border-box;top: 0;bottom: 0;left: 50%;z-index: -1;}#sk-container-id-1 div.sk-parallel-item {display: flex;flex-direction: column;z-index: 1;position: relative;background-color: white;}#sk-container-id-1 div.sk-parallel-item:first-child::after {align-self: flex-end;width: 50%;}#sk-container-id-1 div.sk-parallel-item:last-child::after {align-self: flex-start;width: 50%;}#sk-container-id-1 div.sk-parallel-item:only-child::after {width: 0;}#sk-container-id-1 div.sk-dashed-wrapped {border: 1px dashed gray;margin: 0 0.4em 0.5em 0.4em;box-sizing: border-box;padding-bottom: 0.4em;background-color: white;}#sk-container-id-1 div.sk-label label {font-family: monospace;font-weight: bold;display: inline-block;line-height: 1.2em;}#sk-container-id-1 div.sk-label-container {text-align: center;}#sk-container-id-1 div.sk-container {/* jupyter's `normalize.less` sets `[hidden] { display: none; }` but bootstrap.min.css set `[hidden] { display: none !important; }` so we also need the `!important` here to be able to override the default hidden behavior on the sphinx rendered scikit-learn.org. See: https://github.com/scikit-learn/scikit-learn/issues/21755 */display: inline-block !important;position: relative;}#sk-container-id-1 div.sk-text-repr-fallback {display: none;}</style><div id=\"sk-container-id-1\" class=\"sk-top-container\"><div class=\"sk-text-repr-fallback\"><pre>Pipeline(steps=[(&#x27;columntransformer&#x27;,\n",
       "                 ColumnTransformer(transformers=[(&#x27;standardscaler&#x27;,\n",
       "                                                  StandardScaler(),\n",
       "                                                  [&#x27;baths&#x27;, &#x27;fireplace&#x27;, &#x27;sqft&#x27;,\n",
       "                                                   &#x27;beds&#x27;, &#x27;stories&#x27;,\n",
       "                                                   &#x27;private_pool&#x27;, &#x27;year_built&#x27;,\n",
       "                                                   &#x27;cooling&#x27;, &#x27;lot_size&#x27;,\n",
       "                                                   &#x27;school_rate_mean&#x27;,\n",
       "                                                   &#x27;school_distance_mean&#x27;,\n",
       "                                                   &#x27;has_parking&#x27;, &#x27;garage&#x27;,\n",
       "                                                   &#x27;parking_spaces&#x27;]),\n",
       "                                                 (&#x27;onehotencoder&#x27;,\n",
       "                                                  OneHotEncoder(drop=&#x27;first&#x27;,\n",
       "                                                                handle_unknown=&#x27;ignore&#x27;)...\n",
       "                              grow_policy=None, importance_type=None,\n",
       "                              interaction_constraints=None,\n",
       "                              learning_rate=0.15731514140750152, max_bin=None,\n",
       "                              max_cat_threshold=None, max_cat_to_onehot=None,\n",
       "                              max_delta_step=None, max_depth=10,\n",
       "                              max_leaves=None, min_child_weight=2, missing=nan,\n",
       "                              monotone_constraints=None, multi_strategy=None,\n",
       "                              n_estimators=884, n_jobs=None,\n",
       "                              num_parallel_tree=None, random_state=None, ...))])</pre><b>In a Jupyter environment, please rerun this cell to show the HTML representation or trust the notebook. <br />On GitHub, the HTML representation is unable to render, please try loading this page with nbviewer.org.</b></div><div class=\"sk-container\" hidden><div class=\"sk-item sk-dashed-wrapped\"><div class=\"sk-label-container\"><div class=\"sk-label sk-toggleable\"><input class=\"sk-toggleable__control sk-hidden--visually\" id=\"sk-estimator-id-1\" type=\"checkbox\" ><label for=\"sk-estimator-id-1\" class=\"sk-toggleable__label sk-toggleable__label-arrow\">Pipeline</label><div class=\"sk-toggleable__content\"><pre>Pipeline(steps=[(&#x27;columntransformer&#x27;,\n",
       "                 ColumnTransformer(transformers=[(&#x27;standardscaler&#x27;,\n",
       "                                                  StandardScaler(),\n",
       "                                                  [&#x27;baths&#x27;, &#x27;fireplace&#x27;, &#x27;sqft&#x27;,\n",
       "                                                   &#x27;beds&#x27;, &#x27;stories&#x27;,\n",
       "                                                   &#x27;private_pool&#x27;, &#x27;year_built&#x27;,\n",
       "                                                   &#x27;cooling&#x27;, &#x27;lot_size&#x27;,\n",
       "                                                   &#x27;school_rate_mean&#x27;,\n",
       "                                                   &#x27;school_distance_mean&#x27;,\n",
       "                                                   &#x27;has_parking&#x27;, &#x27;garage&#x27;,\n",
       "                                                   &#x27;parking_spaces&#x27;]),\n",
       "                                                 (&#x27;onehotencoder&#x27;,\n",
       "                                                  OneHotEncoder(drop=&#x27;first&#x27;,\n",
       "                                                                handle_unknown=&#x27;ignore&#x27;)...\n",
       "                              grow_policy=None, importance_type=None,\n",
       "                              interaction_constraints=None,\n",
       "                              learning_rate=0.15731514140750152, max_bin=None,\n",
       "                              max_cat_threshold=None, max_cat_to_onehot=None,\n",
       "                              max_delta_step=None, max_depth=10,\n",
       "                              max_leaves=None, min_child_weight=2, missing=nan,\n",
       "                              monotone_constraints=None, multi_strategy=None,\n",
       "                              n_estimators=884, n_jobs=None,\n",
       "                              num_parallel_tree=None, random_state=None, ...))])</pre></div></div></div><div class=\"sk-serial\"><div class=\"sk-item sk-dashed-wrapped\"><div class=\"sk-label-container\"><div class=\"sk-label sk-toggleable\"><input class=\"sk-toggleable__control sk-hidden--visually\" id=\"sk-estimator-id-2\" type=\"checkbox\" ><label for=\"sk-estimator-id-2\" class=\"sk-toggleable__label sk-toggleable__label-arrow\">columntransformer: ColumnTransformer</label><div class=\"sk-toggleable__content\"><pre>ColumnTransformer(transformers=[(&#x27;standardscaler&#x27;, StandardScaler(),\n",
       "                                 [&#x27;baths&#x27;, &#x27;fireplace&#x27;, &#x27;sqft&#x27;, &#x27;beds&#x27;,\n",
       "                                  &#x27;stories&#x27;, &#x27;private_pool&#x27;, &#x27;year_built&#x27;,\n",
       "                                  &#x27;cooling&#x27;, &#x27;lot_size&#x27;, &#x27;school_rate_mean&#x27;,\n",
       "                                  &#x27;school_distance_mean&#x27;, &#x27;has_parking&#x27;,\n",
       "                                  &#x27;garage&#x27;, &#x27;parking_spaces&#x27;]),\n",
       "                                (&#x27;onehotencoder&#x27;,\n",
       "                                 OneHotEncoder(drop=&#x27;first&#x27;,\n",
       "                                               handle_unknown=&#x27;ignore&#x27;),\n",
       "                                 [&#x27;status&#x27;, &#x27;propertyType&#x27;, &#x27;street&#x27;, &#x27;heating&#x27;,\n",
       "                                  &#x27;states_shoted&#x27;, &#x27;cities_shorted&#x27;])])</pre></div></div></div><div class=\"sk-parallel\"><div class=\"sk-parallel-item\"><div class=\"sk-item\"><div class=\"sk-label-container\"><div class=\"sk-label sk-toggleable\"><input class=\"sk-toggleable__control sk-hidden--visually\" id=\"sk-estimator-id-3\" type=\"checkbox\" ><label for=\"sk-estimator-id-3\" class=\"sk-toggleable__label sk-toggleable__label-arrow\">standardscaler</label><div class=\"sk-toggleable__content\"><pre>[&#x27;baths&#x27;, &#x27;fireplace&#x27;, &#x27;sqft&#x27;, &#x27;beds&#x27;, &#x27;stories&#x27;, &#x27;private_pool&#x27;, &#x27;year_built&#x27;, &#x27;cooling&#x27;, &#x27;lot_size&#x27;, &#x27;school_rate_mean&#x27;, &#x27;school_distance_mean&#x27;, &#x27;has_parking&#x27;, &#x27;garage&#x27;, &#x27;parking_spaces&#x27;]</pre></div></div></div><div class=\"sk-serial\"><div class=\"sk-item\"><div class=\"sk-estimator sk-toggleable\"><input class=\"sk-toggleable__control sk-hidden--visually\" id=\"sk-estimator-id-4\" type=\"checkbox\" ><label for=\"sk-estimator-id-4\" class=\"sk-toggleable__label sk-toggleable__label-arrow\">StandardScaler</label><div class=\"sk-toggleable__content\"><pre>StandardScaler()</pre></div></div></div></div></div></div><div class=\"sk-parallel-item\"><div class=\"sk-item\"><div class=\"sk-label-container\"><div class=\"sk-label sk-toggleable\"><input class=\"sk-toggleable__control sk-hidden--visually\" id=\"sk-estimator-id-5\" type=\"checkbox\" ><label for=\"sk-estimator-id-5\" class=\"sk-toggleable__label sk-toggleable__label-arrow\">onehotencoder</label><div class=\"sk-toggleable__content\"><pre>[&#x27;status&#x27;, &#x27;propertyType&#x27;, &#x27;street&#x27;, &#x27;heating&#x27;, &#x27;states_shoted&#x27;, &#x27;cities_shorted&#x27;]</pre></div></div></div><div class=\"sk-serial\"><div class=\"sk-item\"><div class=\"sk-estimator sk-toggleable\"><input class=\"sk-toggleable__control sk-hidden--visually\" id=\"sk-estimator-id-6\" type=\"checkbox\" ><label for=\"sk-estimator-id-6\" class=\"sk-toggleable__label sk-toggleable__label-arrow\">OneHotEncoder</label><div class=\"sk-toggleable__content\"><pre>OneHotEncoder(drop=&#x27;first&#x27;, handle_unknown=&#x27;ignore&#x27;)</pre></div></div></div></div></div></div></div></div><div class=\"sk-item\"><div class=\"sk-estimator sk-toggleable\"><input class=\"sk-toggleable__control sk-hidden--visually\" id=\"sk-estimator-id-7\" type=\"checkbox\" ><label for=\"sk-estimator-id-7\" class=\"sk-toggleable__label sk-toggleable__label-arrow\">XGBRegressor</label><div class=\"sk-toggleable__content\"><pre>XGBRegressor(base_score=None, booster=None, callbacks=None,\n",
       "             colsample_bylevel=None, colsample_bynode=None,\n",
       "             colsample_bytree=0.6588413851034691, device=None,\n",
       "             early_stopping_rounds=None, enable_categorical=False,\n",
       "             eval_metric=None, feature_types=None, gamma=0.4786406006113764,\n",
       "             grow_policy=None, importance_type=None,\n",
       "             interaction_constraints=None, learning_rate=0.15731514140750152,\n",
       "             max_bin=None, max_cat_threshold=None, max_cat_to_onehot=None,\n",
       "             max_delta_step=None, max_depth=10, max_leaves=None,\n",
       "             min_child_weight=2, missing=nan, monotone_constraints=None,\n",
       "             multi_strategy=None, n_estimators=884, n_jobs=None,\n",
       "             num_parallel_tree=None, random_state=None, ...)</pre></div></div></div></div></div></div></div>"
      ],
      "text/plain": [
       "Pipeline(steps=[('columntransformer',\n",
       "                 ColumnTransformer(transformers=[('standardscaler',\n",
       "                                                  StandardScaler(),\n",
       "                                                  ['baths', 'fireplace', 'sqft',\n",
       "                                                   'beds', 'stories',\n",
       "                                                   'private_pool', 'year_built',\n",
       "                                                   'cooling', 'lot_size',\n",
       "                                                   'school_rate_mean',\n",
       "                                                   'school_distance_mean',\n",
       "                                                   'has_parking', 'garage',\n",
       "                                                   'parking_spaces']),\n",
       "                                                 ('onehotencoder',\n",
       "                                                  OneHotEncoder(drop='first',\n",
       "                                                                handle_unknown='ignore')...\n",
       "                              grow_policy=None, importance_type=None,\n",
       "                              interaction_constraints=None,\n",
       "                              learning_rate=0.15731514140750152, max_bin=None,\n",
       "                              max_cat_threshold=None, max_cat_to_onehot=None,\n",
       "                              max_delta_step=None, max_depth=10,\n",
       "                              max_leaves=None, min_child_weight=2, missing=nan,\n",
       "                              monotone_constraints=None, multi_strategy=None,\n",
       "                              n_estimators=884, n_jobs=None,\n",
       "                              num_parallel_tree=None, random_state=None, ...))])"
      ]
     },
     "execution_count": 31,
     "metadata": {},
     "output_type": "execute_result"
    }
   ],
   "source": [
    "clf.fit(X_train,y_train)"
   ]
  },
  {
   "cell_type": "code",
   "execution_count": 32,
   "metadata": {},
   "outputs": [
    {
     "name": "stdout",
     "output_type": "stream",
     "text": [
      "Train RMSE: 101665.14543235565\n",
      "Test RMSE: 237894.87480632623\n"
     ]
    }
   ],
   "source": [
    "y_train_pred = clf.predict(X_train)\n",
    "y_test_pred  = clf.predict(X_test)\n",
    "print('Train RMSE:', mean_squared_error(y_train, y_train_pred, squared=False))\n",
    "print('Test RMSE:', mean_squared_error(y_test, y_test_pred, squared=False))"
   ]
  },
  {
   "cell_type": "code",
   "execution_count": 33,
   "metadata": {},
   "outputs": [
    {
     "name": "stdout",
     "output_type": "stream",
     "text": [
      "Train RMSE: 0.9611023011056339\n",
      "Test RMSE: 0.7901848936186393\n"
     ]
    }
   ],
   "source": [
    "print('Train RMSE:', r2_score(y_train, y_train_pred))\n",
    "print('Test RMSE:', r2_score(y_test, y_test_pred))"
   ]
  },
  {
   "cell_type": "code",
   "execution_count": 34,
   "metadata": {},
   "outputs": [
    {
     "name": "stdout",
     "output_type": "stream",
     "text": [
      "mean rmse is: 101321.66445569078\n",
      "mean rmse is: 236329.08676845557\n"
     ]
    }
   ],
   "source": [
    "'''Протестируем наш получившийся пайплан на нескольких фолдах тренировочной выборки'''\n",
    "from sklearn.model_selection import KFold\n",
    "kf = KFold(n_splits=5, shuffle=True, random_state=42)\n",
    "import numpy as np\n",
    "\n",
    "best_params = best_params_\n",
    "rmse_train = []\n",
    "rmse_test = []\n",
    "for train_index, test_index in kf.split(X):\n",
    "    X_train, X_test = X.iloc[train_index], X.iloc[test_index]\n",
    "    y_train, y_test = y.iloc[train_index], y.iloc[test_index]\n",
    "    clf.fit(X_train, y_train)\n",
    "    y_train_pred = clf.predict(X_train)\n",
    "    y_test_pred = clf.predict(X_test)\n",
    "    rmse_train.append(mean_squared_error(y_train, y_train_pred, squared=False))\n",
    "    rmse_test.append(mean_squared_error(y_test, y_test_pred, squared=False))\n",
    "rmse_train = np.array(rmse_train)\n",
    "rmse_test = np.array(rmse_test)\n",
    "print(\"mean rmse is: {}\".format(rmse_train.mean()))\n",
    "print(\"mean rmse is: {}\".format(rmse_test.mean()))"
   ]
  },
  {
   "cell_type": "code",
   "execution_count": 36,
   "metadata": {},
   "outputs": [
    {
     "data": {
      "image/png": "[encoded data removed]",
      "text/plain": [
       "<Figure size 640x480 with 1 Axes>"
      ]
     },
     "metadata": {},
     "output_type": "display_data"
    }
   ],
   "source": [
    "''' Как можно увидеть из графика модель показывает\n",
    "устойчивый результат на тестовой выборке в районе 240 тыс.'''\n",
    "folds = range(1, kf.get_n_splits() + 1)\n",
    "plt.plot(folds, rmse_train, 'o-', color='green', label='тренировочная')\n",
    "plt.plot(folds, rmse_test, 'o-', color='red', label='тестовая')\n",
    "plt.legend()\n",
    "plt.grid()\n",
    "plt.xlabel('Количество фолдов')\n",
    "plt.ylabel('RMSE')\n",
    "plt.show()"
   ]
  },
  {
   "cell_type": "markdown",
   "metadata": {},
   "source": [
    "## Часть 5. Финальная подготовка модели. ##"
   ]
  },
  {
   "cell_type": "code",
   "execution_count": 37,
   "metadata": {},
   "outputs": [],
   "source": [
    "import joblib\n",
    "import json"
   ]
  },
  {
   "cell_type": "code",
   "execution_count": 39,
   "metadata": {},
   "outputs": [],
   "source": [
    "path_model = \"models/model.sav\"\n",
    "path_unique_values = \"data/unique_values.json\""
   ]
  },
  {
   "cell_type": "code",
   "execution_count": 40,
   "metadata": {},
   "outputs": [],
   "source": [
    "#Сохраним модел в отдельный файл\n",
    "joblib.dump(clf, path_model)\n",
    "\n",
    "#Так же сохраним уникальные значения из датесета в .JSON файл\n",
    "dict_unique = {key: X[key].unique().tolist() for key in X.columns}\n",
    "with open(path_unique_values, 'w') as file:\n",
    "    json.dump(dict_unique, file)"
   ]
  }
 ],
 "metadata": {
  "kernelspec": {
   "display_name": ".venv",
   "language": "python",
   "name": "python3"
  },
  "language_info": {
   "codemirror_mode": {
    "name": "ipython",
    "version": 3
   },
   "file_extension": ".py",
   "mimetype": "text/x-python",
   "name": "python",
   "nbconvert_exporter": "python",
   "pygments_lexer": "ipython3",
   "version": "3.10.5"
  }
 },
 "nbformat": 4,
 "nbformat_minor": 2
}
