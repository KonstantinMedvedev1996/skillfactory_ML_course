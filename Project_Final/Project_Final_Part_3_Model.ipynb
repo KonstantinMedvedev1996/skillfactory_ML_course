{
 "cells": [
  {
   "cell_type": "code",
   "execution_count": 3,
   "metadata": {},
   "outputs": [
    {
     "name": "stderr",
     "output_type": "stream",
     "text": [
      "c:\\IDE\\skillfactory_ML_course\\.venv\\lib\\site-packages\\tqdm\\auto.py:21: TqdmWarning: IProgress not found. Please update jupyter and ipywidgets. See https://ipywidgets.readthedocs.io/en/stable/user_install.html\n",
      "  from .autonotebook import tqdm as notebook_tqdm\n"
     ]
    }
   ],
   "source": [
    "import pandas as pd\n",
    "import numpy as np\n",
    "import ast\n",
    "import seaborn as sns\n",
    "import matplotlib.pyplot as plt\n",
    "from sklearn.model_selection import train_test_split\n",
    "from sklearn.linear_model import LinearRegression\n",
    "from sklearn.linear_model import Ridge\n",
    "from sklearn.tree import DecisionTreeRegressor\n",
    "from sklearn.ensemble import RandomForestRegressor\n",
    "from xgboost import XGBRegressor\n",
    "from sklearn.metrics import mean_squared_error, r2_score\n",
    "from sklearn.preprocessing import StandardScaler, MinMaxScaler, OneHotEncoder\n",
    "from sklearn.compose import make_column_transformer\n",
    "from sklearn.model_selection import GridSearchCV\n",
    "from sklearn.pipeline import make_pipeline\n",
    "# import plotly.express as px\n",
    "from scipy import stats\n",
    "import optuna\n",
    "import pickle\n",
    "\n",
    "import warnings\n",
    "warnings.filterwarnings('ignore')"
   ]
  },
  {
   "cell_type": "code",
   "execution_count": 2,
   "metadata": {},
   "outputs": [],
   "source": [
    "from sklearn.model_selection import RandomizedSearchCV\n",
    "from sklearn import metrics"
   ]
  },
  {
   "cell_type": "code",
   "execution_count": 30,
   "metadata": {},
   "outputs": [
    {
     "data": {
      "text/html": [
       "<div>\n",
       "<style scoped>\n",
       "    .dataframe tbody tr th:only-of-type {\n",
       "        vertical-align: middle;\n",
       "    }\n",
       "\n",
       "    .dataframe tbody tr th {\n",
       "        vertical-align: top;\n",
       "    }\n",
       "\n",
       "    .dataframe thead th {\n",
       "        text-align: right;\n",
       "    }\n",
       "</style>\n",
       "<table border=\"1\" class=\"dataframe\">\n",
       "  <thead>\n",
       "    <tr style=\"text-align: right;\">\n",
       "      <th></th>\n",
       "      <th>status</th>\n",
       "      <th>propertyType</th>\n",
       "      <th>street</th>\n",
       "      <th>baths</th>\n",
       "      <th>fireplace</th>\n",
       "      <th>sqft</th>\n",
       "      <th>beds</th>\n",
       "      <th>stories</th>\n",
       "      <th>target</th>\n",
       "      <th>private_pool</th>\n",
       "      <th>...</th>\n",
       "      <th>cooling</th>\n",
       "      <th>lot_size</th>\n",
       "      <th>school_rate_mean</th>\n",
       "      <th>school_distance_mean</th>\n",
       "      <th>has_parking</th>\n",
       "      <th>garage</th>\n",
       "      <th>parking_spaces</th>\n",
       "      <th>log_target</th>\n",
       "      <th>states_shoted</th>\n",
       "      <th>cities_shorted</th>\n",
       "    </tr>\n",
       "  </thead>\n",
       "  <tbody>\n",
       "    <tr>\n",
       "      <th>1</th>\n",
       "      <td>for sale</td>\n",
       "      <td>single</td>\n",
       "      <td>avenue</td>\n",
       "      <td>3</td>\n",
       "      <td>0</td>\n",
       "      <td>1947.0</td>\n",
       "      <td>3</td>\n",
       "      <td>2</td>\n",
       "      <td>310000.0</td>\n",
       "      <td>0</td>\n",
       "      <td>...</td>\n",
       "      <td>0</td>\n",
       "      <td>5828.0</td>\n",
       "      <td>2.666667</td>\n",
       "      <td>1.326667</td>\n",
       "      <td>0</td>\n",
       "      <td>0</td>\n",
       "      <td>0</td>\n",
       "      <td>12.644331</td>\n",
       "      <td>WA</td>\n",
       "      <td>others</td>\n",
       "    </tr>\n",
       "    <tr>\n",
       "      <th>2</th>\n",
       "      <td>for sale</td>\n",
       "      <td>single</td>\n",
       "      <td>road</td>\n",
       "      <td>2</td>\n",
       "      <td>1</td>\n",
       "      <td>3000.0</td>\n",
       "      <td>3</td>\n",
       "      <td>1</td>\n",
       "      <td>2895000.0</td>\n",
       "      <td>1</td>\n",
       "      <td>...</td>\n",
       "      <td>1</td>\n",
       "      <td>8626.0</td>\n",
       "      <td>6.666667</td>\n",
       "      <td>1.960000</td>\n",
       "      <td>1</td>\n",
       "      <td>1</td>\n",
       "      <td>0</td>\n",
       "      <td>14.878496</td>\n",
       "      <td>CA</td>\n",
       "      <td>los angeles</td>\n",
       "    </tr>\n",
       "    <tr>\n",
       "      <th>3</th>\n",
       "      <td>for sale</td>\n",
       "      <td>single</td>\n",
       "      <td>avenue</td>\n",
       "      <td>8</td>\n",
       "      <td>1</td>\n",
       "      <td>6457.0</td>\n",
       "      <td>5</td>\n",
       "      <td>3</td>\n",
       "      <td>2395000.0</td>\n",
       "      <td>0</td>\n",
       "      <td>...</td>\n",
       "      <td>1</td>\n",
       "      <td>8220.0</td>\n",
       "      <td>9.250000</td>\n",
       "      <td>0.752500</td>\n",
       "      <td>1</td>\n",
       "      <td>1</td>\n",
       "      <td>0</td>\n",
       "      <td>14.688894</td>\n",
       "      <td>TX</td>\n",
       "      <td>dallas</td>\n",
       "    </tr>\n",
       "  </tbody>\n",
       "</table>\n",
       "<p>3 rows × 22 columns</p>\n",
       "</div>"
      ],
      "text/plain": [
       "     status propertyType  street  baths  fireplace    sqft  beds  stories   \n",
       "1  for sale       single  avenue      3          0  1947.0     3        2  \\\n",
       "2  for sale       single    road      2          1  3000.0     3        1   \n",
       "3  for sale       single  avenue      8          1  6457.0     5        3   \n",
       "\n",
       "      target  private_pool  ...  cooling lot_size  school_rate_mean   \n",
       "1   310000.0             0  ...        0   5828.0          2.666667  \\\n",
       "2  2895000.0             1  ...        1   8626.0          6.666667   \n",
       "3  2395000.0             0  ...        1   8220.0          9.250000   \n",
       "\n",
       "   school_distance_mean  has_parking  garage  parking_spaces  log_target   \n",
       "1              1.326667            0       0               0   12.644331  \\\n",
       "2              1.960000            1       1               0   14.878496   \n",
       "3              0.752500            1       1               0   14.688894   \n",
       "\n",
       "   states_shoted  cities_shorted  \n",
       "1             WA          others  \n",
       "2             CA     los angeles  \n",
       "3             TX          dallas  \n",
       "\n",
       "[3 rows x 22 columns]"
      ]
     },
     "execution_count": 30,
     "metadata": {},
     "output_type": "execute_result"
    }
   ],
   "source": [
    "df = pd.read_pickle('data/df_for_model_3.pickle')\n",
    "df.head(3)"
   ]
  },
  {
   "cell_type": "code",
   "execution_count": 31,
   "metadata": {},
   "outputs": [
    {
     "name": "stdout",
     "output_type": "stream",
     "text": [
      "<class 'pandas.core.frame.DataFrame'>\n",
      "Index: 348298 entries, 1 to 376608\n",
      "Data columns (total 22 columns):\n",
      " #   Column                Non-Null Count   Dtype  \n",
      "---  ------                --------------   -----  \n",
      " 0   status                348298 non-null  object \n",
      " 1   propertyType          348298 non-null  object \n",
      " 2   street                348298 non-null  object \n",
      " 3   baths                 348298 non-null  int32  \n",
      " 4   fireplace             348298 non-null  int32  \n",
      " 5   sqft                  348298 non-null  float64\n",
      " 6   beds                  348298 non-null  int32  \n",
      " 7   stories               348298 non-null  int32  \n",
      " 8   target                348298 non-null  float64\n",
      " 9   private_pool          348298 non-null  int64  \n",
      " 10  year_built            348298 non-null  int32  \n",
      " 11  heating               348298 non-null  object \n",
      " 12  cooling               348298 non-null  int32  \n",
      " 13  lot_size              348298 non-null  float64\n",
      " 14  school_rate_mean      348298 non-null  float64\n",
      " 15  school_distance_mean  348298 non-null  float64\n",
      " 16  has_parking           348298 non-null  int64  \n",
      " 17  garage                348298 non-null  int64  \n",
      " 18  parking_spaces        348298 non-null  int32  \n",
      " 19  log_target            348298 non-null  float64\n",
      " 20  states_shoted         348298 non-null  object \n",
      " 21  cities_shorted        348298 non-null  object \n",
      "dtypes: float64(6), int32(7), int64(3), object(6)\n",
      "memory usage: 51.8+ MB\n"
     ]
    }
   ],
   "source": [
    "df.info()"
   ]
  },
  {
   "cell_type": "code",
   "execution_count": 4,
   "metadata": {},
   "outputs": [
    {
     "data": {
      "text/html": [
       "<div>\n",
       "<style scoped>\n",
       "    .dataframe tbody tr th:only-of-type {\n",
       "        vertical-align: middle;\n",
       "    }\n",
       "\n",
       "    .dataframe tbody tr th {\n",
       "        vertical-align: top;\n",
       "    }\n",
       "\n",
       "    .dataframe thead th {\n",
       "        text-align: right;\n",
       "    }\n",
       "</style>\n",
       "<table border=\"1\" class=\"dataframe\">\n",
       "  <thead>\n",
       "    <tr style=\"text-align: right;\">\n",
       "      <th></th>\n",
       "      <th>status</th>\n",
       "      <th>propertyType</th>\n",
       "      <th>street</th>\n",
       "      <th>heating</th>\n",
       "      <th>states_shoted</th>\n",
       "      <th>cities_shorted</th>\n",
       "    </tr>\n",
       "  </thead>\n",
       "  <tbody>\n",
       "    <tr>\n",
       "      <th>1</th>\n",
       "      <td>for sale</td>\n",
       "      <td>single</td>\n",
       "      <td>avenue</td>\n",
       "      <td>no_heat</td>\n",
       "      <td>WA</td>\n",
       "      <td>others</td>\n",
       "    </tr>\n",
       "    <tr>\n",
       "      <th>2</th>\n",
       "      <td>for sale</td>\n",
       "      <td>single</td>\n",
       "      <td>road</td>\n",
       "      <td>forced_air</td>\n",
       "      <td>CA</td>\n",
       "      <td>los angeles</td>\n",
       "    </tr>\n",
       "    <tr>\n",
       "      <th>3</th>\n",
       "      <td>for sale</td>\n",
       "      <td>single</td>\n",
       "      <td>avenue</td>\n",
       "      <td>forced_air</td>\n",
       "      <td>TX</td>\n",
       "      <td>dallas</td>\n",
       "    </tr>\n",
       "    <tr>\n",
       "      <th>5</th>\n",
       "      <td>for sale</td>\n",
       "      <td>townhouse</td>\n",
       "      <td>street</td>\n",
       "      <td>forced_air</td>\n",
       "      <td>PA</td>\n",
       "      <td>philadelphia</td>\n",
       "    </tr>\n",
       "    <tr>\n",
       "      <th>6</th>\n",
       "      <td>active</td>\n",
       "      <td>other</td>\n",
       "      <td>court</td>\n",
       "      <td>electric</td>\n",
       "      <td>FL</td>\n",
       "      <td>poinciana</td>\n",
       "    </tr>\n",
       "    <tr>\n",
       "      <th>...</th>\n",
       "      <td>...</td>\n",
       "      <td>...</td>\n",
       "      <td>...</td>\n",
       "      <td>...</td>\n",
       "      <td>...</td>\n",
       "      <td>...</td>\n",
       "    </tr>\n",
       "    <tr>\n",
       "      <th>376604</th>\n",
       "      <td>no_data</td>\n",
       "      <td>single</td>\n",
       "      <td>road</td>\n",
       "      <td>other</td>\n",
       "      <td>FL</td>\n",
       "      <td>miami</td>\n",
       "    </tr>\n",
       "    <tr>\n",
       "      <th>376605</th>\n",
       "      <td>for sale</td>\n",
       "      <td>flat</td>\n",
       "      <td>drive</td>\n",
       "      <td>other</td>\n",
       "      <td>IL</td>\n",
       "      <td>chicago</td>\n",
       "    </tr>\n",
       "    <tr>\n",
       "      <th>376606</th>\n",
       "      <td>for sale</td>\n",
       "      <td>single</td>\n",
       "      <td>boulevard</td>\n",
       "      <td>other</td>\n",
       "      <td>NY</td>\n",
       "      <td>jamaica</td>\n",
       "    </tr>\n",
       "    <tr>\n",
       "      <th>376607</th>\n",
       "      <td>no_data</td>\n",
       "      <td>other</td>\n",
       "      <td>street</td>\n",
       "      <td>no_heat</td>\n",
       "      <td>TX</td>\n",
       "      <td>houston</td>\n",
       "    </tr>\n",
       "    <tr>\n",
       "      <th>376608</th>\n",
       "      <td>no_data</td>\n",
       "      <td>single</td>\n",
       "      <td>drive</td>\n",
       "      <td>electric</td>\n",
       "      <td>TX</td>\n",
       "      <td>san antonio</td>\n",
       "    </tr>\n",
       "  </tbody>\n",
       "</table>\n",
       "<p>348298 rows × 6 columns</p>\n",
       "</div>"
      ],
      "text/plain": [
       "          status propertyType     street     heating states_shoted   \n",
       "1       for sale       single     avenue     no_heat            WA  \\\n",
       "2       for sale       single       road  forced_air            CA   \n",
       "3       for sale       single     avenue  forced_air            TX   \n",
       "5       for sale    townhouse     street  forced_air            PA   \n",
       "6         active        other      court    electric            FL   \n",
       "...          ...          ...        ...         ...           ...   \n",
       "376604   no_data       single       road       other            FL   \n",
       "376605  for sale         flat      drive       other            IL   \n",
       "376606  for sale       single  boulevard       other            NY   \n",
       "376607   no_data        other     street     no_heat            TX   \n",
       "376608   no_data       single      drive    electric            TX   \n",
       "\n",
       "       cities_shorted  \n",
       "1              others  \n",
       "2         los angeles  \n",
       "3              dallas  \n",
       "5        philadelphia  \n",
       "6           poinciana  \n",
       "...               ...  \n",
       "376604          miami  \n",
       "376605        chicago  \n",
       "376606        jamaica  \n",
       "376607        houston  \n",
       "376608    san antonio  \n",
       "\n",
       "[348298 rows x 6 columns]"
      ]
     },
     "execution_count": 4,
     "metadata": {},
     "output_type": "execute_result"
    }
   ],
   "source": [
    "df.select_dtypes(include=['object'])"
   ]
  },
  {
   "cell_type": "code",
   "execution_count": 5,
   "metadata": {},
   "outputs": [
    {
     "data": {
      "text/html": [
       "<div>\n",
       "<style scoped>\n",
       "    .dataframe tbody tr th:only-of-type {\n",
       "        vertical-align: middle;\n",
       "    }\n",
       "\n",
       "    .dataframe tbody tr th {\n",
       "        vertical-align: top;\n",
       "    }\n",
       "\n",
       "    .dataframe thead th {\n",
       "        text-align: right;\n",
       "    }\n",
       "</style>\n",
       "<table border=\"1\" class=\"dataframe\">\n",
       "  <thead>\n",
       "    <tr style=\"text-align: right;\">\n",
       "      <th></th>\n",
       "      <th>baths</th>\n",
       "      <th>fireplace</th>\n",
       "      <th>sqft</th>\n",
       "      <th>beds</th>\n",
       "      <th>stories</th>\n",
       "      <th>target</th>\n",
       "      <th>private_pool</th>\n",
       "      <th>year_built</th>\n",
       "      <th>cooling</th>\n",
       "      <th>lot_size</th>\n",
       "      <th>school_rate_mean</th>\n",
       "      <th>school_distance_mean</th>\n",
       "      <th>has_parking</th>\n",
       "      <th>garage</th>\n",
       "      <th>parking_spaces</th>\n",
       "      <th>log_target</th>\n",
       "    </tr>\n",
       "  </thead>\n",
       "  <tbody>\n",
       "    <tr>\n",
       "      <th>1</th>\n",
       "      <td>3</td>\n",
       "      <td>0</td>\n",
       "      <td>1947.000000</td>\n",
       "      <td>3</td>\n",
       "      <td>2</td>\n",
       "      <td>3.100000e+05</td>\n",
       "      <td>0</td>\n",
       "      <td>2019</td>\n",
       "      <td>0</td>\n",
       "      <td>5828.000000</td>\n",
       "      <td>2.666667</td>\n",
       "      <td>1.326667</td>\n",
       "      <td>0</td>\n",
       "      <td>0</td>\n",
       "      <td>0</td>\n",
       "      <td>12.644331</td>\n",
       "    </tr>\n",
       "    <tr>\n",
       "      <th>2</th>\n",
       "      <td>2</td>\n",
       "      <td>1</td>\n",
       "      <td>3000.000000</td>\n",
       "      <td>3</td>\n",
       "      <td>1</td>\n",
       "      <td>2.895000e+06</td>\n",
       "      <td>1</td>\n",
       "      <td>1961</td>\n",
       "      <td>1</td>\n",
       "      <td>8626.000000</td>\n",
       "      <td>6.666667</td>\n",
       "      <td>1.960000</td>\n",
       "      <td>1</td>\n",
       "      <td>1</td>\n",
       "      <td>0</td>\n",
       "      <td>14.878496</td>\n",
       "    </tr>\n",
       "    <tr>\n",
       "      <th>3</th>\n",
       "      <td>8</td>\n",
       "      <td>1</td>\n",
       "      <td>6457.000000</td>\n",
       "      <td>5</td>\n",
       "      <td>3</td>\n",
       "      <td>2.395000e+06</td>\n",
       "      <td>0</td>\n",
       "      <td>2006</td>\n",
       "      <td>1</td>\n",
       "      <td>8220.000000</td>\n",
       "      <td>9.250000</td>\n",
       "      <td>0.752500</td>\n",
       "      <td>1</td>\n",
       "      <td>1</td>\n",
       "      <td>0</td>\n",
       "      <td>14.688894</td>\n",
       "    </tr>\n",
       "    <tr>\n",
       "      <th>5</th>\n",
       "      <td>1</td>\n",
       "      <td>0</td>\n",
       "      <td>897.000000</td>\n",
       "      <td>2</td>\n",
       "      <td>2</td>\n",
       "      <td>2.090000e+05</td>\n",
       "      <td>0</td>\n",
       "      <td>1920</td>\n",
       "      <td>1</td>\n",
       "      <td>680.000000</td>\n",
       "      <td>1.395706</td>\n",
       "      <td>0.443466</td>\n",
       "      <td>0</td>\n",
       "      <td>0</td>\n",
       "      <td>0</td>\n",
       "      <td>12.250094</td>\n",
       "    </tr>\n",
       "    <tr>\n",
       "      <th>6</th>\n",
       "      <td>1</td>\n",
       "      <td>0</td>\n",
       "      <td>1507.000000</td>\n",
       "      <td>1</td>\n",
       "      <td>1</td>\n",
       "      <td>1.815000e+05</td>\n",
       "      <td>0</td>\n",
       "      <td>2006</td>\n",
       "      <td>1</td>\n",
       "      <td>4996.000000</td>\n",
       "      <td>1.750000</td>\n",
       "      <td>3.825000</td>\n",
       "      <td>0</td>\n",
       "      <td>0</td>\n",
       "      <td>0</td>\n",
       "      <td>12.109016</td>\n",
       "    </tr>\n",
       "    <tr>\n",
       "      <th>...</th>\n",
       "      <td>...</td>\n",
       "      <td>...</td>\n",
       "      <td>...</td>\n",
       "      <td>...</td>\n",
       "      <td>...</td>\n",
       "      <td>...</td>\n",
       "      <td>...</td>\n",
       "      <td>...</td>\n",
       "      <td>...</td>\n",
       "      <td>...</td>\n",
       "      <td>...</td>\n",
       "      <td>...</td>\n",
       "      <td>...</td>\n",
       "      <td>...</td>\n",
       "      <td>...</td>\n",
       "      <td>...</td>\n",
       "    </tr>\n",
       "    <tr>\n",
       "      <th>376604</th>\n",
       "      <td>6</td>\n",
       "      <td>0</td>\n",
       "      <td>4017.000000</td>\n",
       "      <td>5</td>\n",
       "      <td>1</td>\n",
       "      <td>1.249000e+06</td>\n",
       "      <td>1</td>\n",
       "      <td>1990</td>\n",
       "      <td>1</td>\n",
       "      <td>8500.000000</td>\n",
       "      <td>7.500000</td>\n",
       "      <td>16.600000</td>\n",
       "      <td>1</td>\n",
       "      <td>0</td>\n",
       "      <td>2</td>\n",
       "      <td>14.037855</td>\n",
       "    </tr>\n",
       "    <tr>\n",
       "      <th>376605</th>\n",
       "      <td>3</td>\n",
       "      <td>0</td>\n",
       "      <td>2000.000000</td>\n",
       "      <td>3</td>\n",
       "      <td>9</td>\n",
       "      <td>6.749990e+05</td>\n",
       "      <td>0</td>\n",
       "      <td>1924</td>\n",
       "      <td>0</td>\n",
       "      <td>2120.714286</td>\n",
       "      <td>4.333333</td>\n",
       "      <td>4.143333</td>\n",
       "      <td>0</td>\n",
       "      <td>0</td>\n",
       "      <td>0</td>\n",
       "      <td>13.422468</td>\n",
       "    </tr>\n",
       "    <tr>\n",
       "      <th>376606</th>\n",
       "      <td>3</td>\n",
       "      <td>0</td>\n",
       "      <td>1152.000000</td>\n",
       "      <td>3</td>\n",
       "      <td>2</td>\n",
       "      <td>5.280000e+05</td>\n",
       "      <td>0</td>\n",
       "      <td>1950</td>\n",
       "      <td>0</td>\n",
       "      <td>1600.000000</td>\n",
       "      <td>4.500000</td>\n",
       "      <td>0.605000</td>\n",
       "      <td>1</td>\n",
       "      <td>0</td>\n",
       "      <td>2</td>\n",
       "      <td>13.176853</td>\n",
       "    </tr>\n",
       "    <tr>\n",
       "      <th>376607</th>\n",
       "      <td>1</td>\n",
       "      <td>0</td>\n",
       "      <td>1985.524752</td>\n",
       "      <td>8</td>\n",
       "      <td>1</td>\n",
       "      <td>2.135520e+05</td>\n",
       "      <td>0</td>\n",
       "      <td>1957</td>\n",
       "      <td>0</td>\n",
       "      <td>6859.959538</td>\n",
       "      <td>0.000000</td>\n",
       "      <td>1.233333</td>\n",
       "      <td>0</td>\n",
       "      <td>0</td>\n",
       "      <td>0</td>\n",
       "      <td>12.271640</td>\n",
       "    </tr>\n",
       "    <tr>\n",
       "      <th>376608</th>\n",
       "      <td>2</td>\n",
       "      <td>1</td>\n",
       "      <td>1462.000000</td>\n",
       "      <td>3</td>\n",
       "      <td>1</td>\n",
       "      <td>2.049000e+05</td>\n",
       "      <td>0</td>\n",
       "      <td>2019</td>\n",
       "      <td>1</td>\n",
       "      <td>6969.000000</td>\n",
       "      <td>4.000000</td>\n",
       "      <td>1.833333</td>\n",
       "      <td>0</td>\n",
       "      <td>0</td>\n",
       "      <td>0</td>\n",
       "      <td>12.230282</td>\n",
       "    </tr>\n",
       "  </tbody>\n",
       "</table>\n",
       "<p>348298 rows × 16 columns</p>\n",
       "</div>"
      ],
      "text/plain": [
       "        baths  fireplace         sqft  beds  stories        target   \n",
       "1           3          0  1947.000000     3        2  3.100000e+05  \\\n",
       "2           2          1  3000.000000     3        1  2.895000e+06   \n",
       "3           8          1  6457.000000     5        3  2.395000e+06   \n",
       "5           1          0   897.000000     2        2  2.090000e+05   \n",
       "6           1          0  1507.000000     1        1  1.815000e+05   \n",
       "...       ...        ...          ...   ...      ...           ...   \n",
       "376604      6          0  4017.000000     5        1  1.249000e+06   \n",
       "376605      3          0  2000.000000     3        9  6.749990e+05   \n",
       "376606      3          0  1152.000000     3        2  5.280000e+05   \n",
       "376607      1          0  1985.524752     8        1  2.135520e+05   \n",
       "376608      2          1  1462.000000     3        1  2.049000e+05   \n",
       "\n",
       "        private_pool  year_built  cooling     lot_size  school_rate_mean   \n",
       "1                  0        2019        0  5828.000000          2.666667  \\\n",
       "2                  1        1961        1  8626.000000          6.666667   \n",
       "3                  0        2006        1  8220.000000          9.250000   \n",
       "5                  0        1920        1   680.000000          1.395706   \n",
       "6                  0        2006        1  4996.000000          1.750000   \n",
       "...              ...         ...      ...          ...               ...   \n",
       "376604             1        1990        1  8500.000000          7.500000   \n",
       "376605             0        1924        0  2120.714286          4.333333   \n",
       "376606             0        1950        0  1600.000000          4.500000   \n",
       "376607             0        1957        0  6859.959538          0.000000   \n",
       "376608             0        2019        1  6969.000000          4.000000   \n",
       "\n",
       "        school_distance_mean  has_parking  garage  parking_spaces  log_target  \n",
       "1                   1.326667            0       0               0   12.644331  \n",
       "2                   1.960000            1       1               0   14.878496  \n",
       "3                   0.752500            1       1               0   14.688894  \n",
       "5                   0.443466            0       0               0   12.250094  \n",
       "6                   3.825000            0       0               0   12.109016  \n",
       "...                      ...          ...     ...             ...         ...  \n",
       "376604             16.600000            1       0               2   14.037855  \n",
       "376605              4.143333            0       0               0   13.422468  \n",
       "376606              0.605000            1       0               2   13.176853  \n",
       "376607              1.233333            0       0               0   12.271640  \n",
       "376608              1.833333            0       0               0   12.230282  \n",
       "\n",
       "[348298 rows x 16 columns]"
      ]
     },
     "execution_count": 5,
     "metadata": {},
     "output_type": "execute_result"
    }
   ],
   "source": [
    "df.select_dtypes(exclude=['object'])"
   ]
  },
  {
   "cell_type": "code",
   "execution_count": 6,
   "metadata": {},
   "outputs": [
    {
     "data": {
      "text/plain": [
       "0"
      ]
     },
     "execution_count": 6,
     "metadata": {},
     "output_type": "execute_result"
    }
   ],
   "source": [
    "df.isna().sum().sum()"
   ]
  },
  {
   "cell_type": "code",
   "execution_count": 32,
   "metadata": {},
   "outputs": [
    {
     "name": "stdout",
     "output_type": "stream",
     "text": [
      "<class 'pandas.core.frame.DataFrame'>\n",
      "Index: 348298 entries, 1 to 376608\n",
      "Data columns (total 22 columns):\n",
      " #   Column                Non-Null Count   Dtype  \n",
      "---  ------                --------------   -----  \n",
      " 0   status                348298 non-null  object \n",
      " 1   propertyType          348298 non-null  object \n",
      " 2   street                348298 non-null  object \n",
      " 3   baths                 348298 non-null  int32  \n",
      " 4   fireplace             348298 non-null  int32  \n",
      " 5   sqft                  348298 non-null  float64\n",
      " 6   beds                  348298 non-null  int32  \n",
      " 7   stories               348298 non-null  int32  \n",
      " 8   target                348298 non-null  float64\n",
      " 9   private_pool          348298 non-null  int64  \n",
      " 10  year_built            348298 non-null  int32  \n",
      " 11  heating               348298 non-null  object \n",
      " 12  cooling               348298 non-null  int32  \n",
      " 13  lot_size              348298 non-null  float64\n",
      " 14  school_rate_mean      348298 non-null  float64\n",
      " 15  school_distance_mean  348298 non-null  float64\n",
      " 16  has_parking           348298 non-null  int64  \n",
      " 17  garage                348298 non-null  int64  \n",
      " 18  parking_spaces        348298 non-null  int32  \n",
      " 19  log_target            348298 non-null  float64\n",
      " 20  states_shoted         348298 non-null  object \n",
      " 21  cities_shorted        348298 non-null  object \n",
      "dtypes: float64(6), int32(7), int64(3), object(6)\n",
      "memory usage: 51.8+ MB\n"
     ]
    }
   ],
   "source": [
    "df.info()"
   ]
  },
  {
   "cell_type": "code",
   "execution_count": 5,
   "metadata": {},
   "outputs": [],
   "source": [
    "\n",
    "col_obj = ['status','propertyType','street','heating','states_shoted','cities_shorted']"
   ]
  },
  {
   "cell_type": "code",
   "execution_count": 34,
   "metadata": {},
   "outputs": [],
   "source": [
    "dft = df.copy()"
   ]
  },
  {
   "cell_type": "code",
   "execution_count": 26,
   "metadata": {},
   "outputs": [],
   "source": [
    "# num_col = dft.select_dtypes(exclude=['object']).columns.to_list()"
   ]
  },
  {
   "cell_type": "code",
   "execution_count": 10,
   "metadata": {},
   "outputs": [],
   "source": [
    "num_col = ['baths',\n",
    " 'fireplace',\n",
    " 'sqft',\n",
    " 'beds',\n",
    " 'stories',\n",
    " 'private_pool',\n",
    " 'year_built',\n",
    " 'cooling',\n",
    " 'lot_size',\n",
    " 'school_rate_mean',\n",
    " 'school_distance_mean',\n",
    " 'has_parking',\n",
    " 'garage',\n",
    " 'parking_spaces']"
   ]
  },
  {
   "cell_type": "code",
   "execution_count": 37,
   "metadata": {},
   "outputs": [],
   "source": [
    "str_col = dft.select_dtypes(include=['object']).columns.to_list()"
   ]
  },
  {
   "cell_type": "code",
   "execution_count": 24,
   "metadata": {},
   "outputs": [
    {
     "data": {
      "text/plain": [
       "['status',\n",
       " 'propertyType',\n",
       " 'street',\n",
       " 'heating',\n",
       " 'states_shoted',\n",
       " 'cities_shorted']"
      ]
     },
     "execution_count": 24,
     "metadata": {},
     "output_type": "execute_result"
    }
   ],
   "source": [
    "str_col"
   ]
  },
  {
   "cell_type": "code",
   "execution_count": 35,
   "metadata": {},
   "outputs": [
    {
     "data": {
      "text/plain": [
       "(348298, 22)"
      ]
     },
     "execution_count": 35,
     "metadata": {},
     "output_type": "execute_result"
    }
   ],
   "source": [
    "dft.shape"
   ]
  },
  {
   "cell_type": "code",
   "execution_count": 38,
   "metadata": {},
   "outputs": [],
   "source": [
    "dft = pd.concat([dft, pd.get_dummies(dft[str_col])], axis=1)"
   ]
  },
  {
   "cell_type": "code",
   "execution_count": 40,
   "metadata": {},
   "outputs": [
    {
     "data": {
      "text/plain": [
       "(348298, 201)"
      ]
     },
     "execution_count": 40,
     "metadata": {},
     "output_type": "execute_result"
    }
   ],
   "source": [
    "dft.shape"
   ]
  },
  {
   "cell_type": "code",
   "execution_count": 41,
   "metadata": {},
   "outputs": [],
   "source": [
    "# dft = pd.concat([dft, pd.get_dummies(dft[str_col])], axis=1)\n",
    "dft = dft.drop(['status','propertyType','street','heating','states_shoted','cities_shorted'], axis=1)"
   ]
  },
  {
   "cell_type": "code",
   "execution_count": 42,
   "metadata": {},
   "outputs": [
    {
     "data": {
      "text/plain": [
       "(348298, 195)"
      ]
     },
     "execution_count": 42,
     "metadata": {},
     "output_type": "execute_result"
    }
   ],
   "source": [
    "dft.shape"
   ]
  },
  {
   "cell_type": "code",
   "execution_count": 44,
   "metadata": {},
   "outputs": [
    {
     "name": "stdout",
     "output_type": "stream",
     "text": [
      "<class 'pandas.core.frame.DataFrame'>\n",
      "Index: 348298 entries, 1 to 376608\n",
      "Columns: 195 entries, baths to cities_shorted_winston salem\n",
      "dtypes: bool(179), float64(6), int32(7), int64(3)\n",
      "memory usage: 95.3 MB\n"
     ]
    }
   ],
   "source": [
    "dft.info()"
   ]
  },
  {
   "cell_type": "code",
   "execution_count": 17,
   "metadata": {},
   "outputs": [],
   "source": [
    "X = dft.drop(['target'], axis=1)\n",
    "y = dft['target']\n",
    "\n",
    "X_train, X_test, y_train, y_test = train_test_split(X, y, test_size=0.2, random_state=42)"
   ]
  },
  {
   "cell_type": "code",
   "execution_count": 45,
   "metadata": {},
   "outputs": [],
   "source": [
    "X = dft.drop(['target','log_target'], axis=1)\n",
    "y = dft['target']\n",
    "\n",
    "X_train, X_test, y_train, y_test = train_test_split(X, y, test_size=0.2, random_state=42)"
   ]
  },
  {
   "cell_type": "code",
   "execution_count": 46,
   "metadata": {},
   "outputs": [],
   "source": [
    "scaler = StandardScaler()\n",
    "X_train_scaled = pd.DataFrame(data=scaler.fit_transform(X_train), columns=X_train.columns)\n",
    "X_test_scaled = pd.DataFrame(data=scaler.transform(X_test), columns=X_test.columns)"
   ]
  },
  {
   "cell_type": "code",
   "execution_count": null,
   "metadata": {},
   "outputs": [],
   "source": []
  },
  {
   "cell_type": "code",
   "execution_count": 26,
   "metadata": {},
   "outputs": [],
   "source": [
    "# scaler = MinMaxScaler()\n",
    "# scaler.fit(X_train)\n",
    "# X_train_scaled = scaler.transform(X_train)\n",
    "# X_test_scaled = scaler.transform(X_test)"
   ]
  },
  {
   "cell_type": "code",
   "execution_count": 47,
   "metadata": {},
   "outputs": [
    {
     "name": "stdout",
     "output_type": "stream",
     "text": [
      "Train RMSE: 1764888.9775799133\n",
      "Test RMSE: 2035946.164579697\n"
     ]
    }
   ],
   "source": [
    "linrg = Ridge(random_state=42, alpha=0.5)\n",
    "linrg.fit(X_train_scaled, y_train)\n",
    "y_train_pred = linrg.predict(X_train_scaled)\n",
    "y_test_pred  = linrg.predict(X_test_scaled)\n",
    "print('Train RMSE:', mean_squared_error(y_train, y_train_pred, squared=False))\n",
    "print('Test RMSE:', mean_squared_error(y_test, y_test_pred, squared=False))"
   ]
  },
  {
   "cell_type": "code",
   "execution_count": null,
   "metadata": {},
   "outputs": [],
   "source": [
    "# ваш код здесь\n",
    "lin_regr = LinearRegression()\n",
    "lin_regr.fit(X_train, y_train_log)\n",
    "y_pred_train_log = lin_regr.predict(X_train)\n",
    "y_pred_valid_log = lin_regr.predict(X_test)\n",
    "\n",
    "print('RMSLE on the train sample: {:.2f}'.format(\n",
    "    np.sqrt(metrics.mean_squared_error(y_train_log, y_pred_train_log))))\n",
    "print('RMSLE on the validation sample: {:.2f}'.format(\n",
    "    np.sqrt(metrics.mean_squared_error(y_test_log, y_pred_valid_log))))"
   ]
  },
  {
   "cell_type": "code",
   "execution_count": 37,
   "metadata": {},
   "outputs": [
    {
     "name": "stdout",
     "output_type": "stream",
     "text": [
      "CPU times: total: 16.1 s\n",
      "Wall time: 2min 34s\n",
      "Train RMSE: 409490.3318233742\n",
      "Test RMSE: 408169.2349218025\n"
     ]
    }
   ],
   "source": [
    "param_grid = [\n",
    "              {'alpha': [0.01, 0.05, 0.1, 0.2, 0.3, 0.5] , # тип регуляризации\n",
    "              'solver': ['lsqr', 'sag']} # алгоритм оптимизации\n",
    "]\n",
    "\n",
    "grid_search_1 = RandomizedSearchCV(\n",
    "    estimator=Ridge(random_state=42), \n",
    "    param_distributions=param_grid, \n",
    "    cv=5, \n",
    "    n_jobs = 5,\n",
    "    n_iter = 10\n",
    ")  \n",
    "%time grid_search_1.fit(X_train_scaled, y_train) \n",
    "# print(\"accuracy на тестовом наборе: {:.2f}\".format(grid_search_1.mean_squared_error(X_test_scaled, y_test)))\n",
    "# y_test_pred = grid_search_1.predict(X_test_scaled)\n",
    "# print('f1_score на тестовом наборе: {:.2f}'.format(metrics.f1_score(y_test, y_test_pred)))\n",
    "# print(\"Наилучшие значения гиперпараметров: {}\".format(grid_search_1.best_params_))\n",
    "y_train_pred = grid_search_1.predict(X_train_scaled)\n",
    "y_test_pred  = grid_search_1.predict(X_test_scaled)\n",
    "print('Train RMSE:', mean_squared_error(y_train, y_train_pred, squared=False))\n",
    "print('Test RMSE:', mean_squared_error(y_test, y_test_pred, squared=False))"
   ]
  },
  {
   "cell_type": "code",
   "execution_count": 38,
   "metadata": {},
   "outputs": [
    {
     "name": "stdout",
     "output_type": "stream",
     "text": [
      "Наилучшие значения гиперпараметров: {'solver': 'sag', 'alpha': 0.3}\n"
     ]
    }
   ],
   "source": [
    "print(\"Наилучшие значения гиперпараметров: {}\".format(grid_search_1.best_params_))"
   ]
  },
  {
   "cell_type": "code",
   "execution_count": null,
   "metadata": {},
   "outputs": [],
   "source": [
    "table_dict = dict()\n",
    "table_columns = ['Train', 'Test']"
   ]
  },
  {
   "cell_type": "code",
   "execution_count": null,
   "metadata": {},
   "outputs": [],
   "source": [
    "table_dict['Linear regression (r12n)'] = [\n",
    "    mean_squared_error(y_train, y_train_pred, squared=False),\n",
    "    mean_squared_error(y_test, y_test_pred, squared=False)\n",
    "]"
   ]
  },
  {
   "cell_type": "code",
   "execution_count": 38,
   "metadata": {},
   "outputs": [
    {
     "name": "stderr",
     "output_type": "stream",
     "text": [
      "c:\\IDE\\Skillfactory\\.venv\\lib\\site-packages\\sklearn\\model_selection\\_search.py:305: UserWarning: The total space of parameters 18 is smaller than n_iter=20. Running 18 iterations. For exhaustive searches, use GridSearchCV.\n",
      "  warnings.warn(\n"
     ]
    },
    {
     "name": "stdout",
     "output_type": "stream",
     "text": [
      "CPU times: total: 4.05 s\n",
      "Wall time: 1min 23s\n",
      "Train RMSE: 420212.9338945511\n",
      "Test RMSE: 423492.5002186049\n"
     ]
    }
   ],
   "source": [
    "dectree = DecisionTreeRegressor(random_state=42, criterion='squared_error')\n",
    "\n",
    "parameters = {\n",
    "    'splitter' : ['best', 'random'],\n",
    "    'max_depth' : [4, 5, 6],\n",
    "    'min_samples_split' : [4, 6, 8]\n",
    "}\n",
    "\n",
    "grid_search_2 = RandomizedSearchCV(\n",
    "    estimator = dectree,\n",
    "    param_distributions = parameters,\n",
    "    cv = 5,\n",
    "    n_jobs=5,\n",
    "    n_iter=20\n",
    ")\n",
    "\n",
    "%time grid_search_2.fit(X_train_scaled, y_train) \n",
    "# grid_dt.fit(X_train_scaled, y_train)\n",
    "# dt_best_params = grid_dt.best_params_\n",
    "# print('Оптимальные параметры:', grid_dt.best_params_)\n",
    "\n",
    "y_train_pred = grid_search_2.predict(X_train_scaled)\n",
    "y_test_pred  = grid_search_2.predict(X_test_scaled)\n",
    "print('Train RMSE:', mean_squared_error(y_train, y_train_pred, squared=False))\n",
    "print('Test RMSE:', mean_squared_error(y_test, y_test_pred, squared=False))\n"
   ]
  },
  {
   "cell_type": "code",
   "execution_count": 40,
   "metadata": {},
   "outputs": [
    {
     "name": "stdout",
     "output_type": "stream",
     "text": [
      "Оптимальные параметры: {'splitter': 'best', 'min_samples_split': 4, 'max_depth': 6}\n"
     ]
    }
   ],
   "source": [
    "print('Оптимальные параметры:', grid_search_2.best_params_)"
   ]
  },
  {
   "cell_type": "code",
   "execution_count": 48,
   "metadata": {},
   "outputs": [],
   "source": [
    "best_params = {'splitter': 'best', 'min_samples_split': 4, 'max_depth': 6}"
   ]
  },
  {
   "cell_type": "code",
   "execution_count": 24,
   "metadata": {},
   "outputs": [
    {
     "name": "stdout",
     "output_type": "stream",
     "text": [
      "Train RMSE: 606269.3543159844\n",
      "Test RMSE: 1193810.4011255277\n"
     ]
    }
   ],
   "source": [
    "xgb = XGBRegressor(seed=42)\n",
    "xgb.fit(X_train_scaled, y_train)\n",
    "y_train_pred = xgb.predict(X_train_scaled)\n",
    "y_test_pred  = xgb.predict(X_test_scaled)\n",
    "print('Train RMSE:', mean_squared_error(y_train, y_train_pred, squared=False))\n",
    "print('Test RMSE:', mean_squared_error(y_test, y_test_pred, squared=False))"
   ]
  },
  {
   "cell_type": "code",
   "execution_count": 52,
   "metadata": {},
   "outputs": [
    {
     "name": "stdout",
     "output_type": "stream",
     "text": [
      "[20:08:17] WARNING: C:\\buildkite-agent\\builds\\buildkite-windows-cpu-autoscaling-group-i-0fdc6d574b9c0d168-1\\xgboost\\xgboost-ci-windows\\src\\learner.cc:767: \n",
      "Parameters: { \"min_samples_split\", \"splitter\" } are not used.\n",
      "\n",
      "Train RMSE: 606269.3543159844\n",
      "Test RMSE: 1193810.4011255277\n"
     ]
    }
   ],
   "source": [
    "xgb = XGBRegressor(**best_params, seed=42)\n",
    "xgb.fit(X_train_scaled, y_train)\n",
    "y_train_pred = xgb.predict(X_train_scaled)\n",
    "y_test_pred  = xgb.predict(X_test_scaled)\n",
    "print('Train RMSE:', mean_squared_error(y_train, y_train_pred, squared=False))\n",
    "print('Test RMSE:', mean_squared_error(y_test, y_test_pred, squared=False))"
   ]
  },
  {
   "cell_type": "code",
   "execution_count": 41,
   "metadata": {},
   "outputs": [
    {
     "name": "stdout",
     "output_type": "stream",
     "text": [
      "Train RMSE: 0.7391167027160221\n",
      "Test RMSE: 0.7024977663747415\n"
     ]
    }
   ],
   "source": [
    "print('Train RMSE:', r2_score(y_train, y_train_pred))\n",
    "print('Test RMSE:', r2_score(y_test, y_test_pred))"
   ]
  },
  {
   "cell_type": "code",
   "execution_count": 51,
   "metadata": {},
   "outputs": [
    {
     "ename": "NameError",
     "evalue": "name 'num_col' is not defined",
     "output_type": "error",
     "traceback": [
      "\u001b[1;31m---------------------------------------------------------------------------\u001b[0m",
      "\u001b[1;31mNameError\u001b[0m                                 Traceback (most recent call last)",
      "\u001b[1;32mc:\\IDE\\Skillfactory\\Project_diplom\\home_prices\\Project_Final_Part_3_Model.ipynb Cell 38\u001b[0m line \u001b[0;36m2\n\u001b[0;32m      <a href='vscode-notebook-cell:/c%3A/IDE/Skillfactory/Project_diplom/home_prices/Project_Final_Part_3_Model.ipynb#X46sZmlsZQ%3D%3D?line=0'>1</a>\u001b[0m preprocessor \u001b[39m=\u001b[39m make_column_transformer(\n\u001b[1;32m----> <a href='vscode-notebook-cell:/c%3A/IDE/Skillfactory/Project_diplom/home_prices/Project_Final_Part_3_Model.ipynb#X46sZmlsZQ%3D%3D?line=1'>2</a>\u001b[0m     (StandardScaler(), num_col),\n\u001b[0;32m      <a href='vscode-notebook-cell:/c%3A/IDE/Skillfactory/Project_diplom/home_prices/Project_Final_Part_3_Model.ipynb#X46sZmlsZQ%3D%3D?line=2'>3</a>\u001b[0m     (OneHotEncoder(handle_unknown\u001b[39m=\u001b[39m\u001b[39m\"\u001b[39m\u001b[39mignore\u001b[39m\u001b[39m\"\u001b[39m, drop\u001b[39m=\u001b[39m\u001b[39m\"\u001b[39m\u001b[39mfirst\u001b[39m\u001b[39m\"\u001b[39m), str_col))\n",
      "\u001b[1;31mNameError\u001b[0m: name 'num_col' is not defined"
     ]
    }
   ],
   "source": [
    "preprocessor = make_column_transformer(\n",
    "    (StandardScaler(), num_col),\n",
    "    (OneHotEncoder(handle_unknown=\"ignore\", drop=\"first\"), str_col))"
   ]
  },
  {
   "cell_type": "code",
   "execution_count": 113,
   "metadata": {},
   "outputs": [],
   "source": [
    "clf = make_pipeline(preprocessor, XGBRegressor(seed=42))"
   ]
  },
  {
   "cell_type": "code",
   "execution_count": 114,
   "metadata": {},
   "outputs": [],
   "source": [
    "X = dft.drop('target', axis=1)\n",
    "y = dft['target']\n",
    "X_train, X_test, y_train, y_test = train_test_split(X, y, test_size=0.2, random_state=42)"
   ]
  },
  {
   "cell_type": "code",
   "execution_count": 115,
   "metadata": {},
   "outputs": [
    {
     "data": {
      "text/html": [
       "<style>#sk-container-id-1 {color: black;background-color: white;}#sk-container-id-1 pre{padding: 0;}#sk-container-id-1 div.sk-toggleable {background-color: white;}#sk-container-id-1 label.sk-toggleable__label {cursor: pointer;display: block;width: 100%;margin-bottom: 0;padding: 0.3em;box-sizing: border-box;text-align: center;}#sk-container-id-1 label.sk-toggleable__label-arrow:before {content: \"▸\";float: left;margin-right: 0.25em;color: #696969;}#sk-container-id-1 label.sk-toggleable__label-arrow:hover:before {color: black;}#sk-container-id-1 div.sk-estimator:hover label.sk-toggleable__label-arrow:before {color: black;}#sk-container-id-1 div.sk-toggleable__content {max-height: 0;max-width: 0;overflow: hidden;text-align: left;background-color: #f0f8ff;}#sk-container-id-1 div.sk-toggleable__content pre {margin: 0.2em;color: black;border-radius: 0.25em;background-color: #f0f8ff;}#sk-container-id-1 input.sk-toggleable__control:checked~div.sk-toggleable__content {max-height: 200px;max-width: 100%;overflow: auto;}#sk-container-id-1 input.sk-toggleable__control:checked~label.sk-toggleable__label-arrow:before {content: \"▾\";}#sk-container-id-1 div.sk-estimator input.sk-toggleable__control:checked~label.sk-toggleable__label {background-color: #d4ebff;}#sk-container-id-1 div.sk-label input.sk-toggleable__control:checked~label.sk-toggleable__label {background-color: #d4ebff;}#sk-container-id-1 input.sk-hidden--visually {border: 0;clip: rect(1px 1px 1px 1px);clip: rect(1px, 1px, 1px, 1px);height: 1px;margin: -1px;overflow: hidden;padding: 0;position: absolute;width: 1px;}#sk-container-id-1 div.sk-estimator {font-family: monospace;background-color: #f0f8ff;border: 1px dotted black;border-radius: 0.25em;box-sizing: border-box;margin-bottom: 0.5em;}#sk-container-id-1 div.sk-estimator:hover {background-color: #d4ebff;}#sk-container-id-1 div.sk-parallel-item::after {content: \"\";width: 100%;border-bottom: 1px solid gray;flex-grow: 1;}#sk-container-id-1 div.sk-label:hover label.sk-toggleable__label {background-color: #d4ebff;}#sk-container-id-1 div.sk-serial::before {content: \"\";position: absolute;border-left: 1px solid gray;box-sizing: border-box;top: 0;bottom: 0;left: 50%;z-index: 0;}#sk-container-id-1 div.sk-serial {display: flex;flex-direction: column;align-items: center;background-color: white;padding-right: 0.2em;padding-left: 0.2em;position: relative;}#sk-container-id-1 div.sk-item {position: relative;z-index: 1;}#sk-container-id-1 div.sk-parallel {display: flex;align-items: stretch;justify-content: center;background-color: white;position: relative;}#sk-container-id-1 div.sk-item::before, #sk-container-id-1 div.sk-parallel-item::before {content: \"\";position: absolute;border-left: 1px solid gray;box-sizing: border-box;top: 0;bottom: 0;left: 50%;z-index: -1;}#sk-container-id-1 div.sk-parallel-item {display: flex;flex-direction: column;z-index: 1;position: relative;background-color: white;}#sk-container-id-1 div.sk-parallel-item:first-child::after {align-self: flex-end;width: 50%;}#sk-container-id-1 div.sk-parallel-item:last-child::after {align-self: flex-start;width: 50%;}#sk-container-id-1 div.sk-parallel-item:only-child::after {width: 0;}#sk-container-id-1 div.sk-dashed-wrapped {border: 1px dashed gray;margin: 0 0.4em 0.5em 0.4em;box-sizing: border-box;padding-bottom: 0.4em;background-color: white;}#sk-container-id-1 div.sk-label label {font-family: monospace;font-weight: bold;display: inline-block;line-height: 1.2em;}#sk-container-id-1 div.sk-label-container {text-align: center;}#sk-container-id-1 div.sk-container {/* jupyter's `normalize.less` sets `[hidden] { display: none; }` but bootstrap.min.css set `[hidden] { display: none !important; }` so we also need the `!important` here to be able to override the default hidden behavior on the sphinx rendered scikit-learn.org. See: https://github.com/scikit-learn/scikit-learn/issues/21755 */display: inline-block !important;position: relative;}#sk-container-id-1 div.sk-text-repr-fallback {display: none;}</style><div id=\"sk-container-id-1\" class=\"sk-top-container\"><div class=\"sk-text-repr-fallback\"><pre>Pipeline(steps=[(&#x27;columntransformer&#x27;,\n",
       "                 ColumnTransformer(transformers=[(&#x27;standardscaler&#x27;,\n",
       "                                                  StandardScaler(),\n",
       "                                                  [&#x27;baths&#x27;, &#x27;fireplace&#x27;, &#x27;sqft&#x27;,\n",
       "                                                   &#x27;beds&#x27;, &#x27;stories&#x27;,\n",
       "                                                   &#x27;private_pool&#x27;, &#x27;year_built&#x27;,\n",
       "                                                   &#x27;cooling&#x27;, &#x27;lot_size&#x27;,\n",
       "                                                   &#x27;school_rate_mean&#x27;,\n",
       "                                                   &#x27;school_distance_mean&#x27;,\n",
       "                                                   &#x27;has_parking&#x27;, &#x27;garage&#x27;,\n",
       "                                                   &#x27;parking_spaces&#x27;]),\n",
       "                                                 (&#x27;onehotencoder&#x27;,\n",
       "                                                  OneHotEncoder(drop=&#x27;first&#x27;,\n",
       "                                                                handle_unknown=&#x27;ignore&#x27;)...\n",
       "                              feature_types=None, gamma=None, gpu_id=None,\n",
       "                              grow_policy=None, importance_type=None,\n",
       "                              interaction_constraints=None, learning_rate=None,\n",
       "                              max_bin=None, max_cat_threshold=None,\n",
       "                              max_cat_to_onehot=None, max_delta_step=None,\n",
       "                              max_depth=None, max_leaves=None,\n",
       "                              min_child_weight=None, missing=nan,\n",
       "                              monotone_constraints=None, n_estimators=100,\n",
       "                              n_jobs=None, num_parallel_tree=None,\n",
       "                              predictor=None, random_state=None, ...))])</pre><b>In a Jupyter environment, please rerun this cell to show the HTML representation or trust the notebook. <br />On GitHub, the HTML representation is unable to render, please try loading this page with nbviewer.org.</b></div><div class=\"sk-container\" hidden><div class=\"sk-item sk-dashed-wrapped\"><div class=\"sk-label-container\"><div class=\"sk-label sk-toggleable\"><input class=\"sk-toggleable__control sk-hidden--visually\" id=\"sk-estimator-id-1\" type=\"checkbox\" ><label for=\"sk-estimator-id-1\" class=\"sk-toggleable__label sk-toggleable__label-arrow\">Pipeline</label><div class=\"sk-toggleable__content\"><pre>Pipeline(steps=[(&#x27;columntransformer&#x27;,\n",
       "                 ColumnTransformer(transformers=[(&#x27;standardscaler&#x27;,\n",
       "                                                  StandardScaler(),\n",
       "                                                  [&#x27;baths&#x27;, &#x27;fireplace&#x27;, &#x27;sqft&#x27;,\n",
       "                                                   &#x27;beds&#x27;, &#x27;stories&#x27;,\n",
       "                                                   &#x27;private_pool&#x27;, &#x27;year_built&#x27;,\n",
       "                                                   &#x27;cooling&#x27;, &#x27;lot_size&#x27;,\n",
       "                                                   &#x27;school_rate_mean&#x27;,\n",
       "                                                   &#x27;school_distance_mean&#x27;,\n",
       "                                                   &#x27;has_parking&#x27;, &#x27;garage&#x27;,\n",
       "                                                   &#x27;parking_spaces&#x27;]),\n",
       "                                                 (&#x27;onehotencoder&#x27;,\n",
       "                                                  OneHotEncoder(drop=&#x27;first&#x27;,\n",
       "                                                                handle_unknown=&#x27;ignore&#x27;)...\n",
       "                              feature_types=None, gamma=None, gpu_id=None,\n",
       "                              grow_policy=None, importance_type=None,\n",
       "                              interaction_constraints=None, learning_rate=None,\n",
       "                              max_bin=None, max_cat_threshold=None,\n",
       "                              max_cat_to_onehot=None, max_delta_step=None,\n",
       "                              max_depth=None, max_leaves=None,\n",
       "                              min_child_weight=None, missing=nan,\n",
       "                              monotone_constraints=None, n_estimators=100,\n",
       "                              n_jobs=None, num_parallel_tree=None,\n",
       "                              predictor=None, random_state=None, ...))])</pre></div></div></div><div class=\"sk-serial\"><div class=\"sk-item sk-dashed-wrapped\"><div class=\"sk-label-container\"><div class=\"sk-label sk-toggleable\"><input class=\"sk-toggleable__control sk-hidden--visually\" id=\"sk-estimator-id-2\" type=\"checkbox\" ><label for=\"sk-estimator-id-2\" class=\"sk-toggleable__label sk-toggleable__label-arrow\">columntransformer: ColumnTransformer</label><div class=\"sk-toggleable__content\"><pre>ColumnTransformer(transformers=[(&#x27;standardscaler&#x27;, StandardScaler(),\n",
       "                                 [&#x27;baths&#x27;, &#x27;fireplace&#x27;, &#x27;sqft&#x27;, &#x27;beds&#x27;,\n",
       "                                  &#x27;stories&#x27;, &#x27;private_pool&#x27;, &#x27;year_built&#x27;,\n",
       "                                  &#x27;cooling&#x27;, &#x27;lot_size&#x27;, &#x27;school_rate_mean&#x27;,\n",
       "                                  &#x27;school_distance_mean&#x27;, &#x27;has_parking&#x27;,\n",
       "                                  &#x27;garage&#x27;, &#x27;parking_spaces&#x27;]),\n",
       "                                (&#x27;onehotencoder&#x27;,\n",
       "                                 OneHotEncoder(drop=&#x27;first&#x27;,\n",
       "                                               handle_unknown=&#x27;ignore&#x27;),\n",
       "                                 [&#x27;status&#x27;, &#x27;propertyType&#x27;, &#x27;street&#x27;, &#x27;heating&#x27;,\n",
       "                                  &#x27;states_shoted&#x27;, &#x27;cities_shorted&#x27;])])</pre></div></div></div><div class=\"sk-parallel\"><div class=\"sk-parallel-item\"><div class=\"sk-item\"><div class=\"sk-label-container\"><div class=\"sk-label sk-toggleable\"><input class=\"sk-toggleable__control sk-hidden--visually\" id=\"sk-estimator-id-3\" type=\"checkbox\" ><label for=\"sk-estimator-id-3\" class=\"sk-toggleable__label sk-toggleable__label-arrow\">standardscaler</label><div class=\"sk-toggleable__content\"><pre>[&#x27;baths&#x27;, &#x27;fireplace&#x27;, &#x27;sqft&#x27;, &#x27;beds&#x27;, &#x27;stories&#x27;, &#x27;private_pool&#x27;, &#x27;year_built&#x27;, &#x27;cooling&#x27;, &#x27;lot_size&#x27;, &#x27;school_rate_mean&#x27;, &#x27;school_distance_mean&#x27;, &#x27;has_parking&#x27;, &#x27;garage&#x27;, &#x27;parking_spaces&#x27;]</pre></div></div></div><div class=\"sk-serial\"><div class=\"sk-item\"><div class=\"sk-estimator sk-toggleable\"><input class=\"sk-toggleable__control sk-hidden--visually\" id=\"sk-estimator-id-4\" type=\"checkbox\" ><label for=\"sk-estimator-id-4\" class=\"sk-toggleable__label sk-toggleable__label-arrow\">StandardScaler</label><div class=\"sk-toggleable__content\"><pre>StandardScaler()</pre></div></div></div></div></div></div><div class=\"sk-parallel-item\"><div class=\"sk-item\"><div class=\"sk-label-container\"><div class=\"sk-label sk-toggleable\"><input class=\"sk-toggleable__control sk-hidden--visually\" id=\"sk-estimator-id-5\" type=\"checkbox\" ><label for=\"sk-estimator-id-5\" class=\"sk-toggleable__label sk-toggleable__label-arrow\">onehotencoder</label><div class=\"sk-toggleable__content\"><pre>[&#x27;status&#x27;, &#x27;propertyType&#x27;, &#x27;street&#x27;, &#x27;heating&#x27;, &#x27;states_shoted&#x27;, &#x27;cities_shorted&#x27;]</pre></div></div></div><div class=\"sk-serial\"><div class=\"sk-item\"><div class=\"sk-estimator sk-toggleable\"><input class=\"sk-toggleable__control sk-hidden--visually\" id=\"sk-estimator-id-6\" type=\"checkbox\" ><label for=\"sk-estimator-id-6\" class=\"sk-toggleable__label sk-toggleable__label-arrow\">OneHotEncoder</label><div class=\"sk-toggleable__content\"><pre>OneHotEncoder(drop=&#x27;first&#x27;, handle_unknown=&#x27;ignore&#x27;)</pre></div></div></div></div></div></div></div></div><div class=\"sk-item\"><div class=\"sk-estimator sk-toggleable\"><input class=\"sk-toggleable__control sk-hidden--visually\" id=\"sk-estimator-id-7\" type=\"checkbox\" ><label for=\"sk-estimator-id-7\" class=\"sk-toggleable__label sk-toggleable__label-arrow\">XGBRegressor</label><div class=\"sk-toggleable__content\"><pre>XGBRegressor(base_score=None, booster=None, callbacks=None,\n",
       "             colsample_bylevel=None, colsample_bynode=None,\n",
       "             colsample_bytree=None, early_stopping_rounds=None,\n",
       "             enable_categorical=False, eval_metric=None, feature_types=None,\n",
       "             gamma=None, gpu_id=None, grow_policy=None, importance_type=None,\n",
       "             interaction_constraints=None, learning_rate=None, max_bin=None,\n",
       "             max_cat_threshold=None, max_cat_to_onehot=None,\n",
       "             max_delta_step=None, max_depth=None, max_leaves=None,\n",
       "             min_child_weight=None, missing=nan, monotone_constraints=None,\n",
       "             n_estimators=100, n_jobs=None, num_parallel_tree=None,\n",
       "             predictor=None, random_state=None, ...)</pre></div></div></div></div></div></div></div>"
      ],
      "text/plain": [
       "Pipeline(steps=[('columntransformer',\n",
       "                 ColumnTransformer(transformers=[('standardscaler',\n",
       "                                                  StandardScaler(),\n",
       "                                                  ['baths', 'fireplace', 'sqft',\n",
       "                                                   'beds', 'stories',\n",
       "                                                   'private_pool', 'year_built',\n",
       "                                                   'cooling', 'lot_size',\n",
       "                                                   'school_rate_mean',\n",
       "                                                   'school_distance_mean',\n",
       "                                                   'has_parking', 'garage',\n",
       "                                                   'parking_spaces']),\n",
       "                                                 ('onehotencoder',\n",
       "                                                  OneHotEncoder(drop='first',\n",
       "                                                                handle_unknown='ignore')...\n",
       "                              feature_types=None, gamma=None, gpu_id=None,\n",
       "                              grow_policy=None, importance_type=None,\n",
       "                              interaction_constraints=None, learning_rate=None,\n",
       "                              max_bin=None, max_cat_threshold=None,\n",
       "                              max_cat_to_onehot=None, max_delta_step=None,\n",
       "                              max_depth=None, max_leaves=None,\n",
       "                              min_child_weight=None, missing=nan,\n",
       "                              monotone_constraints=None, n_estimators=100,\n",
       "                              n_jobs=None, num_parallel_tree=None,\n",
       "                              predictor=None, random_state=None, ...))])"
      ]
     },
     "execution_count": 115,
     "metadata": {},
     "output_type": "execute_result"
    }
   ],
   "source": [
    "clf.fit(X_train,y_train)"
   ]
  },
  {
   "cell_type": "code",
   "execution_count": 116,
   "metadata": {},
   "outputs": [
    {
     "name": "stdout",
     "output_type": "stream",
     "text": [
      "Train RMSE: 295612.07665623137\n",
      "Test RMSE: 315305.1306865405\n"
     ]
    }
   ],
   "source": [
    "y_train_pred = clf.predict(X_train)\n",
    "y_test_pred  = clf.predict(X_test)\n",
    "print('Train RMSE:', mean_squared_error(y_train, y_train_pred, squared=False))\n",
    "print('Test RMSE:', mean_squared_error(y_test, y_test_pred, squared=False))"
   ]
  },
  {
   "cell_type": "code",
   "execution_count": 50,
   "metadata": {},
   "outputs": [
    {
     "name": "stdout",
     "output_type": "stream",
     "text": [
      "Train RMSE: 0.3351674032525429\n",
      "Test RMSE: 0.2568350511283851\n"
     ]
    }
   ],
   "source": [
    "print('Train RMSE:', r2_score(y_train, y_train_pred))\n",
    "print('Test RMSE:', r2_score(y_test, y_test_pred))"
   ]
  },
  {
   "cell_type": "code",
   "execution_count": 38,
   "metadata": {},
   "outputs": [],
   "source": [
    "def objective(trial):\n",
    "    param = {\n",
    "        'max_depth': trial.suggest_int('max_depth', 1, 10),\n",
    "        'learning_rate': trial.suggest_float('learning_rate', 0.01, 1.0),\n",
    "        'n_estimators': trial.suggest_int('n_estimators', 50, 1000),\n",
    "        'min_child_weight': trial.suggest_int('min_child_weight', 1, 10),\n",
    "        'gamma': trial.suggest_float('gamma', 0.01, 1.0),\n",
    "        'subsample': trial.suggest_float('subsample', 0.01, 1.0),\n",
    "        'colsample_bytree': trial.suggest_float('colsample_bytree', 0.01, 1.0),\n",
    "        'reg_alpha': trial.suggest_float('reg_alpha', 0.01, 1.0),\n",
    "        'reg_lambda': trial.suggest_float('reg_lambda', 0.01, 1.0),\n",
    "        'random_state': trial.suggest_int('random_state', 1, 1000)\n",
    "    }\n",
    "    model = XGBRegressor(**param)\n",
    "    model.fit(X_train_scaled, y_train)\n",
    "    y_pred = model.predict(X_test_scaled)\n",
    "    return mean_squared_error(y_test, y_pred, squared=False)\n"
   ]
  },
  {
   "cell_type": "code",
   "execution_count": 39,
   "metadata": {},
   "outputs": [
    {
     "name": "stderr",
     "output_type": "stream",
     "text": [
      "\u001b[32m[I 2023-11-27 18:14:49,492]\u001b[0m A new study created in memory with name: regression\u001b[0m\n",
      "\u001b[32m[I 2023-11-27 18:14:56,871]\u001b[0m Trial 0 finished with value: 398445.9956703492 and parameters: {'max_depth': 1, 'learning_rate': 0.41753849123143616, 'n_estimators': 105, 'min_child_weight': 7, 'gamma': 0.7396079174152242, 'subsample': 0.2671811582443633, 'colsample_bytree': 0.8491262030781767, 'reg_alpha': 0.5143726253932969, 'reg_lambda': 0.461045285970103, 'random_state': 977}. Best is trial 0 with value: 398445.9956703492.\u001b[0m\n",
      "\u001b[32m[I 2023-11-27 18:17:33,355]\u001b[0m Trial 1 finished with value: 1017494.6196596569 and parameters: {'max_depth': 9, 'learning_rate': 0.6078608834820108, 'n_estimators': 886, 'min_child_weight': 6, 'gamma': 0.3529235169312115, 'subsample': 0.16339745818124207, 'colsample_bytree': 0.43604602363088185, 'reg_alpha': 0.02368542665831514, 'reg_lambda': 0.9207731010581247, 'random_state': 126}. Best is trial 0 with value: 398445.9956703492.\u001b[0m\n",
      "\u001b[32m[I 2023-11-27 18:18:50,403]\u001b[0m Trial 2 finished with value: 311609.7220823553 and parameters: {'max_depth': 3, 'learning_rate': 0.45905731618014656, 'n_estimators': 930, 'min_child_weight': 5, 'gamma': 0.271140720637586, 'subsample': 0.8599931933946937, 'colsample_bytree': 0.4631574515060802, 'reg_alpha': 0.5736990248213166, 'reg_lambda': 0.3189188524936715, 'random_state': 306}. Best is trial 2 with value: 311609.7220823553.\u001b[0m\n",
      "\u001b[32m[I 2023-11-27 18:19:42,529]\u001b[0m Trial 3 finished with value: 348742.68114448263 and parameters: {'max_depth': 7, 'learning_rate': 0.20987721417957023, 'n_estimators': 654, 'min_child_weight': 5, 'gamma': 0.7730841964181122, 'subsample': 0.04288919626574597, 'colsample_bytree': 0.17274586060927752, 'reg_alpha': 0.7841732837526411, 'reg_lambda': 0.9272700775626148, 'random_state': 257}. Best is trial 2 with value: 311609.7220823553.\u001b[0m\n",
      "\u001b[32m[I 2023-11-27 18:20:09,327]\u001b[0m Trial 4 finished with value: 364120.2937291291 and parameters: {'max_depth': 5, 'learning_rate': 0.7446383359976578, 'n_estimators': 290, 'min_child_weight': 10, 'gamma': 0.5067181227116195, 'subsample': 0.20122636657073464, 'colsample_bytree': 0.32000692705656714, 'reg_alpha': 0.10471614180799309, 'reg_lambda': 0.738293704821228, 'random_state': 419}. Best is trial 2 with value: 311609.7220823553.\u001b[0m\n",
      "\u001b[32m[I 2023-11-27 18:20:27,611]\u001b[0m Trial 5 finished with value: 375506.7720123557 and parameters: {'max_depth': 2, 'learning_rate': 0.26132231993915706, 'n_estimators': 408, 'min_child_weight': 4, 'gamma': 0.4258168029058187, 'subsample': 0.6720992470395368, 'colsample_bytree': 0.03969050449103103, 'reg_alpha': 0.7897827889383379, 'reg_lambda': 0.03155568005730416, 'random_state': 878}. Best is trial 2 with value: 311609.7220823553.\u001b[0m\n",
      "\u001b[32m[I 2023-11-27 18:21:30,409]\u001b[0m Trial 6 finished with value: 308534.10427990305 and parameters: {'max_depth': 8, 'learning_rate': 0.4620004705647757, 'n_estimators': 290, 'min_child_weight': 7, 'gamma': 0.6112240251930244, 'subsample': 0.6125560982344325, 'colsample_bytree': 0.5843223215732959, 'reg_alpha': 0.41058530005285165, 'reg_lambda': 0.21723462596442705, 'random_state': 639}. Best is trial 6 with value: 308534.10427990305.\u001b[0m\n",
      "\u001b[32m[I 2023-11-27 18:22:00,586]\u001b[0m Trial 7 finished with value: 340177.4117122764 and parameters: {'max_depth': 2, 'learning_rate': 0.9281000120946996, 'n_estimators': 337, 'min_child_weight': 4, 'gamma': 0.4303978088359935, 'subsample': 0.7561193770492253, 'colsample_bytree': 0.7656129466094193, 'reg_alpha': 0.19776744683326106, 'reg_lambda': 0.5189263948915994, 'random_state': 290}. Best is trial 6 with value: 308534.10427990305.\u001b[0m\n",
      "\u001b[32m[I 2023-11-27 18:23:28,433]\u001b[0m Trial 8 finished with value: 333158.7183261136 and parameters: {'max_depth': 6, 'learning_rate': 0.5398408084632466, 'n_estimators': 601, 'min_child_weight': 9, 'gamma': 0.37552606841537195, 'subsample': 0.34120503232141386, 'colsample_bytree': 0.5062477740680359, 'reg_alpha': 0.42032271472490856, 'reg_lambda': 0.02638196036756464, 'random_state': 695}. Best is trial 6 with value: 308534.10427990305.\u001b[0m\n",
      "\u001b[32m[I 2023-11-27 18:27:59,642]\u001b[0m Trial 9 finished with value: 301441.8453243442 and parameters: {'max_depth': 8, 'learning_rate': 0.5857603430263628, 'n_estimators': 712, 'min_child_weight': 10, 'gamma': 0.8608770141069374, 'subsample': 0.8914373690290588, 'colsample_bytree': 0.8022520819057581, 'reg_alpha': 0.8200382160134515, 'reg_lambda': 0.882237576161878, 'random_state': 178}. Best is trial 9 with value: 301441.8453243442.\u001b[0m\n"
     ]
    }
   ],
   "source": [
    "# Create the study\n",
    "study = optuna.create_study(direction='minimize', study_name='regression')\n",
    "study.optimize(objective, n_trials=10)\n"
   ]
  },
  {
   "cell_type": "code",
   "execution_count": 40,
   "metadata": {},
   "outputs": [
    {
     "name": "stdout",
     "output_type": "stream",
     "text": [
      "Best parameters {'max_depth': 8, 'learning_rate': 0.5857603430263628, 'n_estimators': 712, 'min_child_weight': 10, 'gamma': 0.8608770141069374, 'subsample': 0.8914373690290588, 'colsample_bytree': 0.8022520819057581, 'reg_alpha': 0.8200382160134515, 'reg_lambda': 0.882237576161878, 'random_state': 178}\n"
     ]
    }
   ],
   "source": [
    "# Print the best parameters\n",
    "print('Best parameters', study.best_params)\n"
   ]
  },
  {
   "cell_type": "code",
   "execution_count": 41,
   "metadata": {},
   "outputs": [
    {
     "name": "stdout",
     "output_type": "stream",
     "text": [
      "Best value 301441.8453243442\n"
     ]
    }
   ],
   "source": [
    "# Print the best value\n",
    "print('Best value', study.best_value)\n"
   ]
  },
  {
   "cell_type": "code",
   "execution_count": 42,
   "metadata": {},
   "outputs": [
    {
     "name": "stdout",
     "output_type": "stream",
     "text": [
      "MSE:  90867186112.54582\n",
      "RMSE:  301441.8453243442\n"
     ]
    }
   ],
   "source": [
    "model = XGBRegressor(**study.best_params)\n",
    "model.fit(X_train_scaled, y_train)\n",
    "y_pred = model.predict(X_test_scaled)\n",
    "\n",
    "print('MSE: ', mean_squared_error(y_test, y_pred))\n",
    "print('RMSE: ', np.sqrt(mean_squared_error(y_test, y_pred)))\n"
   ]
  },
  {
   "cell_type": "code",
   "execution_count": null,
   "metadata": {},
   "outputs": [],
   "source": [
    "filename = \"data/xgbregressor.pickle\"\n",
    "pickle.dump(model, open(filename, \"wb\"))\n"
   ]
  },
  {
   "cell_type": "code",
   "execution_count": 44,
   "metadata": {},
   "outputs": [
    {
     "name": "stdout",
     "output_type": "stream",
     "text": [
      "Test RMSE: 0.7258033230380283\n"
     ]
    }
   ],
   "source": [
    "# print('Train RMSE:', r2_score(y_train, y_train_pred))\n",
    "print('Test RMSE:', r2_score(y_test, y_pred))"
   ]
  },
  {
   "cell_type": "code",
   "execution_count": null,
   "metadata": {},
   "outputs": [],
   "source": [
    "# def rmsle(y_true: np.ndarray, y_pred: np.ndarray) -> np.float64:\n",
    "#     \"\"\"_summary_\n",
    "\n",
    "#     the Root Mean Squared Log Error (RMSLE) metric\n",
    "#     \"\"\"\n",
    "#     return np.sqrt(mean_squared_log_error(y_true,y_pred))"
   ]
  },
  {
   "cell_type": "code",
   "execution_count": null,
   "metadata": {},
   "outputs": [],
   "source": [
    "# # target function\n",
    "\n",
    "# def objective(trial, X, y):\n",
    "#     param_grid = {\n",
    "#         \"n_estimators\": trial.suggest_categorical(\"n_estimators\", [1000]),\n",
    "#         \"learning_rate\": trial.suggest_float(\"learning_rate\", 0.01, 0.3),\n",
    "#         \"num_leaves\": trial.suggest_int(\"num_leaves\", 20, 300, step=50),\n",
    "#         \"max_depth\": trial.suggest_int(\"max_depth\", 3, 10, step=2),\n",
    "#         \"min_child_samples\":trial.suggest_int(\"min_child_samples\", 5, 200, step=50)\n",
    "#     }\n",
    "    \n",
    "#     cv = KFold(n_splits=N_FOLDS, shuffle=True, random_state=RANDOM_STATE)\n",
    "    \n",
    "#     cv_predicts = np.empty(5)\n",
    "#     for idx, (train_idx, test_idx) in enumerate(cv.split(X,y)):\n",
    "#         X_train, X_test = X.iloc[train_idx], X.iloc[test_idx]\n",
    "#         y_train, y_test = y.iloc[train_idx], y.iloc[test_idx]\n",
    "        \n",
    "#         pruning_callback = optuna.integration.LightGBMPruningCallback(\n",
    "#             trial, \"l2\")\n",
    "#         model = XGBRegressor(**param_grid)\n",
    "#         model.fit(X_train_scaled,\n",
    "#                   y_train,\n",
    "#                   eval_set = [(X_test_scaled, y_test)],\n",
    "#                   eval_metric=\"rmse\",\n",
    "#                   callbacks=[pruning_callback]\n",
    "#                 #   verbose = -1\n",
    "#                   # early_stopping_rounds = 100\n",
    "#                   )\n",
    "#     preds = model.predict(X_test)\n",
    "#     cv_predicts[idx] = rmsle(y_test, preds)\n",
    "    \n",
    "#     return np.mean(cv_predicts)      \n",
    "        \n",
    "        "
   ]
  },
  {
   "cell_type": "code",
   "execution_count": null,
   "metadata": {},
   "outputs": [],
   "source": [
    "    param = {\n",
    "        'max_depth': trial.suggest_int('max_depth', 1, 10),\n",
    "        'learning_rate': trial.suggest_float('learning_rate', 0.01, 1.0),\n",
    "        'n_estimators': trial.suggest_int('n_estimators', 50, 1000),\n",
    "        'min_child_weight': trial.suggest_int('min_child_weight', 1, 10),\n",
    "        'gamma': trial.suggest_float('gamma', 0.01, 1.0),\n",
    "        'subsample': trial.suggest_float('subsample', 0.01, 1.0),\n",
    "        'colsample_bytree': trial.suggest_float('colsample_bytree', 0.01, 1.0),\n",
    "        'reg_alpha': trial.suggest_float('reg_alpha', 0.01, 1.0),\n",
    "        'reg_lambda': trial.suggest_float('reg_lambda', 0.01, 1.0),\n",
    "        'random_state': trial.suggest_int('random_state', 1, 1000)\n",
    "    }"
   ]
  },
  {
   "cell_type": "code",
   "execution_count": 21,
   "metadata": {},
   "outputs": [],
   "source": [
    "def optuna_rf(trial):\n",
    "  # задаем пространства поиска гиперпараметров\n",
    "  n_estimators = trial.suggest_int('n_estimators', 50, 500, 50)\n",
    "  max_depth = trial.suggest_int('max_depth', 1, 30, 1)\n",
    "  min_child_weight = trial.suggest_int('min_child_weight', 1, 10, 1)\n",
    "\n",
    "  # создаем модель\n",
    "  model = XGBRegressor(n_estimators=n_estimators,\n",
    "                                          max_depth=max_depth,\n",
    "                                          min_child_weight=min_child_weight,\n",
    "                                          random_state=42)\n",
    "  # обучаем модель\n",
    "  model.fit(X_train_scaled, y_train)\n",
    "  score = metrics.f1_score(y_train, model.predict(X_train_scaled))\n",
    "\n",
    "  return score"
   ]
  },
  {
   "cell_type": "code",
   "execution_count": 22,
   "metadata": {},
   "outputs": [
    {
     "name": "stderr",
     "output_type": "stream",
     "text": [
      "\u001b[32m[I 2023-11-27 22:21:34,989]\u001b[0m A new study created in memory with name: XGboostry\u001b[0m\n",
      "\u001b[33m[W 2023-11-27 22:23:35,017]\u001b[0m Trial 0 failed with parameters: {'n_estimators': 450, 'max_depth': 10, 'min_child_weight': 8} because of the following error: KeyboardInterrupt().\u001b[0m\n",
      "Traceback (most recent call last):\n",
      "  File \"c:\\IDE\\Skillfactory\\.venv\\lib\\site-packages\\optuna\\study\\_optimize.py\", line 200, in _run_trial\n",
      "    value_or_values = func(trial)\n",
      "  File \"C:\\Users\\John Lee\\AppData\\Local\\Temp\\ipykernel_24444\\743921878.py\", line 13, in optuna_rf\n",
      "    model.fit(X_train_scaled, y_train)\n",
      "  File \"c:\\IDE\\Skillfactory\\.venv\\lib\\site-packages\\xgboost\\core.py\", line 620, in inner_f\n",
      "    return func(**kwargs)\n",
      "  File \"c:\\IDE\\Skillfactory\\.venv\\lib\\site-packages\\xgboost\\sklearn.py\", line 1025, in fit\n",
      "    self._Booster = train(\n",
      "  File \"c:\\IDE\\Skillfactory\\.venv\\lib\\site-packages\\xgboost\\core.py\", line 620, in inner_f\n",
      "    return func(**kwargs)\n",
      "  File \"c:\\IDE\\Skillfactory\\.venv\\lib\\site-packages\\xgboost\\training.py\", line 185, in train\n",
      "    bst.update(dtrain, i, obj)\n",
      "  File \"c:\\IDE\\Skillfactory\\.venv\\lib\\site-packages\\xgboost\\core.py\", line 1918, in update\n",
      "    _check_call(_LIB.XGBoosterUpdateOneIter(self.handle,\n",
      "KeyboardInterrupt\n",
      "\u001b[33m[W 2023-11-27 22:23:35,018]\u001b[0m Trial 0 failed with value None.\u001b[0m\n"
     ]
    },
    {
     "ename": "KeyboardInterrupt",
     "evalue": "",
     "output_type": "error",
     "traceback": [
      "\u001b[1;31m---------------------------------------------------------------------------\u001b[0m",
      "\u001b[1;31mKeyboardInterrupt\u001b[0m                         Traceback (most recent call last)",
      "File \u001b[1;32m<timed exec>:5\u001b[0m\n",
      "File \u001b[1;32mc:\\IDE\\Skillfactory\\.venv\\lib\\site-packages\\optuna\\study\\study.py:425\u001b[0m, in \u001b[0;36mStudy.optimize\u001b[1;34m(self, func, n_trials, timeout, n_jobs, catch, callbacks, gc_after_trial, show_progress_bar)\u001b[0m\n\u001b[0;32m    321\u001b[0m \u001b[39mdef\u001b[39;00m \u001b[39moptimize\u001b[39m(\n\u001b[0;32m    322\u001b[0m     \u001b[39mself\u001b[39m,\n\u001b[0;32m    323\u001b[0m     func: ObjectiveFuncType,\n\u001b[1;32m   (...)\u001b[0m\n\u001b[0;32m    330\u001b[0m     show_progress_bar: \u001b[39mbool\u001b[39m \u001b[39m=\u001b[39m \u001b[39mFalse\u001b[39;00m,\n\u001b[0;32m    331\u001b[0m ) \u001b[39m-\u001b[39m\u001b[39m>\u001b[39m \u001b[39mNone\u001b[39;00m:\n\u001b[0;32m    332\u001b[0m \u001b[39m    \u001b[39m\u001b[39m\"\"\"Optimize an objective function.\u001b[39;00m\n\u001b[0;32m    333\u001b[0m \n\u001b[0;32m    334\u001b[0m \u001b[39m    Optimization is done by choosing a suitable set of hyperparameter values from a given\u001b[39;00m\n\u001b[1;32m   (...)\u001b[0m\n\u001b[0;32m    422\u001b[0m \u001b[39m            If nested invocation of this method occurs.\u001b[39;00m\n\u001b[0;32m    423\u001b[0m \u001b[39m    \"\"\"\u001b[39;00m\n\u001b[1;32m--> 425\u001b[0m     _optimize(\n\u001b[0;32m    426\u001b[0m         study\u001b[39m=\u001b[39;49m\u001b[39mself\u001b[39;49m,\n\u001b[0;32m    427\u001b[0m         func\u001b[39m=\u001b[39;49mfunc,\n\u001b[0;32m    428\u001b[0m         n_trials\u001b[39m=\u001b[39;49mn_trials,\n\u001b[0;32m    429\u001b[0m         timeout\u001b[39m=\u001b[39;49mtimeout,\n\u001b[0;32m    430\u001b[0m         n_jobs\u001b[39m=\u001b[39;49mn_jobs,\n\u001b[0;32m    431\u001b[0m         catch\u001b[39m=\u001b[39;49m\u001b[39mtuple\u001b[39;49m(catch) \u001b[39mif\u001b[39;49;00m \u001b[39misinstance\u001b[39;49m(catch, Iterable) \u001b[39melse\u001b[39;49;00m (catch,),\n\u001b[0;32m    432\u001b[0m         callbacks\u001b[39m=\u001b[39;49mcallbacks,\n\u001b[0;32m    433\u001b[0m         gc_after_trial\u001b[39m=\u001b[39;49mgc_after_trial,\n\u001b[0;32m    434\u001b[0m         show_progress_bar\u001b[39m=\u001b[39;49mshow_progress_bar,\n\u001b[0;32m    435\u001b[0m     )\n",
      "File \u001b[1;32mc:\\IDE\\Skillfactory\\.venv\\lib\\site-packages\\optuna\\study\\_optimize.py:66\u001b[0m, in \u001b[0;36m_optimize\u001b[1;34m(study, func, n_trials, timeout, n_jobs, catch, callbacks, gc_after_trial, show_progress_bar)\u001b[0m\n\u001b[0;32m     64\u001b[0m \u001b[39mtry\u001b[39;00m:\n\u001b[0;32m     65\u001b[0m     \u001b[39mif\u001b[39;00m n_jobs \u001b[39m==\u001b[39m \u001b[39m1\u001b[39m:\n\u001b[1;32m---> 66\u001b[0m         _optimize_sequential(\n\u001b[0;32m     67\u001b[0m             study,\n\u001b[0;32m     68\u001b[0m             func,\n\u001b[0;32m     69\u001b[0m             n_trials,\n\u001b[0;32m     70\u001b[0m             timeout,\n\u001b[0;32m     71\u001b[0m             catch,\n\u001b[0;32m     72\u001b[0m             callbacks,\n\u001b[0;32m     73\u001b[0m             gc_after_trial,\n\u001b[0;32m     74\u001b[0m             reseed_sampler_rng\u001b[39m=\u001b[39;49m\u001b[39mFalse\u001b[39;49;00m,\n\u001b[0;32m     75\u001b[0m             time_start\u001b[39m=\u001b[39;49m\u001b[39mNone\u001b[39;49;00m,\n\u001b[0;32m     76\u001b[0m             progress_bar\u001b[39m=\u001b[39;49mprogress_bar,\n\u001b[0;32m     77\u001b[0m         )\n\u001b[0;32m     78\u001b[0m     \u001b[39melse\u001b[39;00m:\n\u001b[0;32m     79\u001b[0m         \u001b[39mif\u001b[39;00m n_jobs \u001b[39m==\u001b[39m \u001b[39m-\u001b[39m\u001b[39m1\u001b[39m:\n",
      "File \u001b[1;32mc:\\IDE\\Skillfactory\\.venv\\lib\\site-packages\\optuna\\study\\_optimize.py:163\u001b[0m, in \u001b[0;36m_optimize_sequential\u001b[1;34m(study, func, n_trials, timeout, catch, callbacks, gc_after_trial, reseed_sampler_rng, time_start, progress_bar)\u001b[0m\n\u001b[0;32m    160\u001b[0m         \u001b[39mbreak\u001b[39;00m\n\u001b[0;32m    162\u001b[0m \u001b[39mtry\u001b[39;00m:\n\u001b[1;32m--> 163\u001b[0m     frozen_trial \u001b[39m=\u001b[39m _run_trial(study, func, catch)\n\u001b[0;32m    164\u001b[0m \u001b[39mfinally\u001b[39;00m:\n\u001b[0;32m    165\u001b[0m     \u001b[39m# The following line mitigates memory problems that can be occurred in some\u001b[39;00m\n\u001b[0;32m    166\u001b[0m     \u001b[39m# environments (e.g., services that use computing containers such as GitHub Actions).\u001b[39;00m\n\u001b[0;32m    167\u001b[0m     \u001b[39m# Please refer to the following PR for further details:\u001b[39;00m\n\u001b[0;32m    168\u001b[0m     \u001b[39m# https://github.com/optuna/optuna/pull/325.\u001b[39;00m\n\u001b[0;32m    169\u001b[0m     \u001b[39mif\u001b[39;00m gc_after_trial:\n",
      "File \u001b[1;32mc:\\IDE\\Skillfactory\\.venv\\lib\\site-packages\\optuna\\study\\_optimize.py:251\u001b[0m, in \u001b[0;36m_run_trial\u001b[1;34m(study, func, catch)\u001b[0m\n\u001b[0;32m    244\u001b[0m         \u001b[39massert\u001b[39;00m \u001b[39mFalse\u001b[39;00m, \u001b[39m\"\u001b[39m\u001b[39mShould not reach.\u001b[39m\u001b[39m\"\u001b[39m\n\u001b[0;32m    246\u001b[0m \u001b[39mif\u001b[39;00m (\n\u001b[0;32m    247\u001b[0m     frozen_trial\u001b[39m.\u001b[39mstate \u001b[39m==\u001b[39m TrialState\u001b[39m.\u001b[39mFAIL\n\u001b[0;32m    248\u001b[0m     \u001b[39mand\u001b[39;00m func_err \u001b[39mis\u001b[39;00m \u001b[39mnot\u001b[39;00m \u001b[39mNone\u001b[39;00m\n\u001b[0;32m    249\u001b[0m     \u001b[39mand\u001b[39;00m \u001b[39mnot\u001b[39;00m \u001b[39misinstance\u001b[39m(func_err, catch)\n\u001b[0;32m    250\u001b[0m ):\n\u001b[1;32m--> 251\u001b[0m     \u001b[39mraise\u001b[39;00m func_err\n\u001b[0;32m    252\u001b[0m \u001b[39mreturn\u001b[39;00m frozen_trial\n",
      "File \u001b[1;32mc:\\IDE\\Skillfactory\\.venv\\lib\\site-packages\\optuna\\study\\_optimize.py:200\u001b[0m, in \u001b[0;36m_run_trial\u001b[1;34m(study, func, catch)\u001b[0m\n\u001b[0;32m    198\u001b[0m \u001b[39mwith\u001b[39;00m get_heartbeat_thread(trial\u001b[39m.\u001b[39m_trial_id, study\u001b[39m.\u001b[39m_storage):\n\u001b[0;32m    199\u001b[0m     \u001b[39mtry\u001b[39;00m:\n\u001b[1;32m--> 200\u001b[0m         value_or_values \u001b[39m=\u001b[39m func(trial)\n\u001b[0;32m    201\u001b[0m     \u001b[39mexcept\u001b[39;00m exceptions\u001b[39m.\u001b[39mTrialPruned \u001b[39mas\u001b[39;00m e:\n\u001b[0;32m    202\u001b[0m         \u001b[39m# TODO(mamu): Handle multi-objective cases.\u001b[39;00m\n\u001b[0;32m    203\u001b[0m         state \u001b[39m=\u001b[39m TrialState\u001b[39m.\u001b[39mPRUNED\n",
      "\u001b[1;32mc:\\IDE\\Skillfactory\\Project_diplom\\home_prices\\Project_5_model_train_i2.ipynb Cell 62\u001b[0m line \u001b[0;36m1\n\u001b[0;32m      <a href='vscode-notebook-cell:/c%3A/IDE/Skillfactory/Project_diplom/home_prices/Project_5_model_train_i2.ipynb#Y132sZmlsZQ%3D%3D?line=7'>8</a>\u001b[0m model \u001b[39m=\u001b[39m XGBRegressor(n_estimators\u001b[39m=\u001b[39mn_estimators,\n\u001b[0;32m      <a href='vscode-notebook-cell:/c%3A/IDE/Skillfactory/Project_diplom/home_prices/Project_5_model_train_i2.ipynb#Y132sZmlsZQ%3D%3D?line=8'>9</a>\u001b[0m                                         max_depth\u001b[39m=\u001b[39mmax_depth,\n\u001b[0;32m     <a href='vscode-notebook-cell:/c%3A/IDE/Skillfactory/Project_diplom/home_prices/Project_5_model_train_i2.ipynb#Y132sZmlsZQ%3D%3D?line=9'>10</a>\u001b[0m                                         min_child_weight\u001b[39m=\u001b[39mmin_child_weight,\n\u001b[0;32m     <a href='vscode-notebook-cell:/c%3A/IDE/Skillfactory/Project_diplom/home_prices/Project_5_model_train_i2.ipynb#Y132sZmlsZQ%3D%3D?line=10'>11</a>\u001b[0m                                         random_state\u001b[39m=\u001b[39m\u001b[39m42\u001b[39m)\n\u001b[0;32m     <a href='vscode-notebook-cell:/c%3A/IDE/Skillfactory/Project_diplom/home_prices/Project_5_model_train_i2.ipynb#Y132sZmlsZQ%3D%3D?line=11'>12</a>\u001b[0m \u001b[39m# обучаем модель\u001b[39;00m\n\u001b[1;32m---> <a href='vscode-notebook-cell:/c%3A/IDE/Skillfactory/Project_diplom/home_prices/Project_5_model_train_i2.ipynb#Y132sZmlsZQ%3D%3D?line=12'>13</a>\u001b[0m model\u001b[39m.\u001b[39;49mfit(X_train_scaled, y_train)\n\u001b[0;32m     <a href='vscode-notebook-cell:/c%3A/IDE/Skillfactory/Project_diplom/home_prices/Project_5_model_train_i2.ipynb#Y132sZmlsZQ%3D%3D?line=13'>14</a>\u001b[0m score \u001b[39m=\u001b[39m metrics\u001b[39m.\u001b[39mf1_score(y_train, model\u001b[39m.\u001b[39mpredict(X_train_scaled))\n\u001b[0;32m     <a href='vscode-notebook-cell:/c%3A/IDE/Skillfactory/Project_diplom/home_prices/Project_5_model_train_i2.ipynb#Y132sZmlsZQ%3D%3D?line=15'>16</a>\u001b[0m \u001b[39mreturn\u001b[39;00m score\n",
      "File \u001b[1;32mc:\\IDE\\Skillfactory\\.venv\\lib\\site-packages\\xgboost\\core.py:620\u001b[0m, in \u001b[0;36mrequire_keyword_args.<locals>.throw_if.<locals>.inner_f\u001b[1;34m(*args, **kwargs)\u001b[0m\n\u001b[0;32m    618\u001b[0m \u001b[39mfor\u001b[39;00m k, arg \u001b[39min\u001b[39;00m \u001b[39mzip\u001b[39m(sig\u001b[39m.\u001b[39mparameters, args):\n\u001b[0;32m    619\u001b[0m     kwargs[k] \u001b[39m=\u001b[39m arg\n\u001b[1;32m--> 620\u001b[0m \u001b[39mreturn\u001b[39;00m func(\u001b[39m*\u001b[39m\u001b[39m*\u001b[39mkwargs)\n",
      "File \u001b[1;32mc:\\IDE\\Skillfactory\\.venv\\lib\\site-packages\\xgboost\\sklearn.py:1025\u001b[0m, in \u001b[0;36mXGBModel.fit\u001b[1;34m(self, X, y, sample_weight, base_margin, eval_set, eval_metric, early_stopping_rounds, verbose, xgb_model, sample_weight_eval_set, base_margin_eval_set, feature_weights, callbacks)\u001b[0m\n\u001b[0;32m   1014\u001b[0m     obj \u001b[39m=\u001b[39m \u001b[39mNone\u001b[39;00m\n\u001b[0;32m   1016\u001b[0m (\n\u001b[0;32m   1017\u001b[0m     model,\n\u001b[0;32m   1018\u001b[0m     metric,\n\u001b[1;32m   (...)\u001b[0m\n\u001b[0;32m   1023\u001b[0m     xgb_model, eval_metric, params, early_stopping_rounds, callbacks\n\u001b[0;32m   1024\u001b[0m )\n\u001b[1;32m-> 1025\u001b[0m \u001b[39mself\u001b[39m\u001b[39m.\u001b[39m_Booster \u001b[39m=\u001b[39m train(\n\u001b[0;32m   1026\u001b[0m     params,\n\u001b[0;32m   1027\u001b[0m     train_dmatrix,\n\u001b[0;32m   1028\u001b[0m     \u001b[39mself\u001b[39;49m\u001b[39m.\u001b[39;49mget_num_boosting_rounds(),\n\u001b[0;32m   1029\u001b[0m     evals\u001b[39m=\u001b[39;49mevals,\n\u001b[0;32m   1030\u001b[0m     early_stopping_rounds\u001b[39m=\u001b[39;49mearly_stopping_rounds,\n\u001b[0;32m   1031\u001b[0m     evals_result\u001b[39m=\u001b[39;49mevals_result,\n\u001b[0;32m   1032\u001b[0m     obj\u001b[39m=\u001b[39;49mobj,\n\u001b[0;32m   1033\u001b[0m     custom_metric\u001b[39m=\u001b[39;49mmetric,\n\u001b[0;32m   1034\u001b[0m     verbose_eval\u001b[39m=\u001b[39;49mverbose,\n\u001b[0;32m   1035\u001b[0m     xgb_model\u001b[39m=\u001b[39;49mmodel,\n\u001b[0;32m   1036\u001b[0m     callbacks\u001b[39m=\u001b[39;49mcallbacks,\n\u001b[0;32m   1037\u001b[0m )\n\u001b[0;32m   1039\u001b[0m \u001b[39mself\u001b[39m\u001b[39m.\u001b[39m_set_evaluation_result(evals_result)\n\u001b[0;32m   1040\u001b[0m \u001b[39mreturn\u001b[39;00m \u001b[39mself\u001b[39m\n",
      "File \u001b[1;32mc:\\IDE\\Skillfactory\\.venv\\lib\\site-packages\\xgboost\\core.py:620\u001b[0m, in \u001b[0;36mrequire_keyword_args.<locals>.throw_if.<locals>.inner_f\u001b[1;34m(*args, **kwargs)\u001b[0m\n\u001b[0;32m    618\u001b[0m \u001b[39mfor\u001b[39;00m k, arg \u001b[39min\u001b[39;00m \u001b[39mzip\u001b[39m(sig\u001b[39m.\u001b[39mparameters, args):\n\u001b[0;32m    619\u001b[0m     kwargs[k] \u001b[39m=\u001b[39m arg\n\u001b[1;32m--> 620\u001b[0m \u001b[39mreturn\u001b[39;00m func(\u001b[39m*\u001b[39m\u001b[39m*\u001b[39mkwargs)\n",
      "File \u001b[1;32mc:\\IDE\\Skillfactory\\.venv\\lib\\site-packages\\xgboost\\training.py:185\u001b[0m, in \u001b[0;36mtrain\u001b[1;34m(params, dtrain, num_boost_round, evals, obj, feval, maximize, early_stopping_rounds, evals_result, verbose_eval, xgb_model, callbacks, custom_metric)\u001b[0m\n\u001b[0;32m    183\u001b[0m \u001b[39mif\u001b[39;00m cb_container\u001b[39m.\u001b[39mbefore_iteration(bst, i, dtrain, evals):\n\u001b[0;32m    184\u001b[0m     \u001b[39mbreak\u001b[39;00m\n\u001b[1;32m--> 185\u001b[0m bst\u001b[39m.\u001b[39;49mupdate(dtrain, i, obj)\n\u001b[0;32m    186\u001b[0m \u001b[39mif\u001b[39;00m cb_container\u001b[39m.\u001b[39mafter_iteration(bst, i, dtrain, evals):\n\u001b[0;32m    187\u001b[0m     \u001b[39mbreak\u001b[39;00m\n",
      "File \u001b[1;32mc:\\IDE\\Skillfactory\\.venv\\lib\\site-packages\\xgboost\\core.py:1918\u001b[0m, in \u001b[0;36mBooster.update\u001b[1;34m(self, dtrain, iteration, fobj)\u001b[0m\n\u001b[0;32m   1915\u001b[0m \u001b[39mself\u001b[39m\u001b[39m.\u001b[39m_validate_dmatrix_features(dtrain)\n\u001b[0;32m   1917\u001b[0m \u001b[39mif\u001b[39;00m fobj \u001b[39mis\u001b[39;00m \u001b[39mNone\u001b[39;00m:\n\u001b[1;32m-> 1918\u001b[0m     _check_call(_LIB\u001b[39m.\u001b[39;49mXGBoosterUpdateOneIter(\u001b[39mself\u001b[39;49m\u001b[39m.\u001b[39;49mhandle,\n\u001b[0;32m   1919\u001b[0m                                             ctypes\u001b[39m.\u001b[39;49mc_int(iteration),\n\u001b[0;32m   1920\u001b[0m                                             dtrain\u001b[39m.\u001b[39;49mhandle))\n\u001b[0;32m   1921\u001b[0m \u001b[39melse\u001b[39;00m:\n\u001b[0;32m   1922\u001b[0m     pred \u001b[39m=\u001b[39m \u001b[39mself\u001b[39m\u001b[39m.\u001b[39mpredict(dtrain, output_margin\u001b[39m=\u001b[39m\u001b[39mTrue\u001b[39;00m, training\u001b[39m=\u001b[39m\u001b[39mTrue\u001b[39;00m)\n",
      "\u001b[1;31mKeyboardInterrupt\u001b[0m: "
     ]
    }
   ],
   "source": [
    "%%time\n",
    "# cоздаем объект исследования\n",
    "# можем напрямую указать, что нам необходимо максимизировать метрику direction=\"maximize\"\n",
    "study = optuna.create_study(study_name=\"XGboostry\", direction=\"minimize\")\n",
    "# ищем лучшую комбинацию гиперпараметров n_trials раз\n",
    "study.optimize(optuna_rf, n_trials=10)"
   ]
  }
 ],
 "metadata": {
  "kernelspec": {
   "display_name": ".venv",
   "language": "python",
   "name": "python3"
  },
  "language_info": {
   "codemirror_mode": {
    "name": "ipython",
    "version": 3
   },
   "file_extension": ".py",
   "mimetype": "text/x-python",
   "name": "python",
   "nbconvert_exporter": "python",
   "pygments_lexer": "ipython3",
   "version": "3.10.5"
  }
 },
 "nbformat": 4,
 "nbformat_minor": 2
}
