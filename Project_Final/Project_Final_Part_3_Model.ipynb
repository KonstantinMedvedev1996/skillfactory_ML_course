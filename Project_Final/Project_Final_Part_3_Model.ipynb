{
 "cells": [
  {
   "cell_type": "code",
   "execution_count": 1,
   "metadata": {},
   "outputs": [
    {
     "name": "stderr",
     "output_type": "stream",
     "text": [
      "c:\\IDE\\skillfactory_ML_course\\.venv\\lib\\site-packages\\tqdm\\auto.py:21: TqdmWarning: IProgress not found. Please update jupyter and ipywidgets. See https://ipywidgets.readthedocs.io/en/stable/user_install.html\n",
      "  from .autonotebook import tqdm as notebook_tqdm\n"
     ]
    }
   ],
   "source": [
    "import pandas as pd\n",
    "import numpy as np\n",
    "import ast\n",
    "import seaborn as sns\n",
    "import matplotlib.pyplot as plt\n",
    "from sklearn.model_selection import train_test_split\n",
    "from sklearn.linear_model import LinearRegression\n",
    "from sklearn.linear_model import Ridge\n",
    "from sklearn.tree import DecisionTreeRegressor\n",
    "from sklearn.ensemble import RandomForestRegressor\n",
    "from xgboost import XGBRegressor\n",
    "from sklearn.metrics import mean_squared_error, r2_score\n",
    "from sklearn.preprocessing import StandardScaler, MinMaxScaler, OneHotEncoder\n",
    "from sklearn.compose import make_column_transformer\n",
    "from sklearn.model_selection import GridSearchCV\n",
    "from sklearn.pipeline import make_pipeline\n",
    "import plotly.express as px\n",
    "from scipy import stats\n",
    "import optuna\n",
    "import pickle\n",
    "\n",
    "import warnings\n",
    "warnings.filterwarnings('ignore')"
   ]
  },
  {
   "cell_type": "code",
   "execution_count": 2,
   "metadata": {},
   "outputs": [],
   "source": [
    "from sklearn.model_selection import RandomizedSearchCV\n",
    "from sklearn import metrics"
   ]
  },
  {
   "cell_type": "markdown",
   "metadata": {},
   "source": [
    "## Часть 1. Загрузка подготовленного датасета. ##"
   ]
  },
  {
   "cell_type": "code",
   "execution_count": 3,
   "metadata": {},
   "outputs": [
    {
     "data": {
      "text/html": [
       "<div>\n",
       "<style scoped>\n",
       "    .dataframe tbody tr th:only-of-type {\n",
       "        vertical-align: middle;\n",
       "    }\n",
       "\n",
       "    .dataframe tbody tr th {\n",
       "        vertical-align: top;\n",
       "    }\n",
       "\n",
       "    .dataframe thead th {\n",
       "        text-align: right;\n",
       "    }\n",
       "</style>\n",
       "<table border=\"1\" class=\"dataframe\">\n",
       "  <thead>\n",
       "    <tr style=\"text-align: right;\">\n",
       "      <th></th>\n",
       "      <th>status</th>\n",
       "      <th>propertyType</th>\n",
       "      <th>street</th>\n",
       "      <th>baths</th>\n",
       "      <th>fireplace</th>\n",
       "      <th>sqft</th>\n",
       "      <th>beds</th>\n",
       "      <th>stories</th>\n",
       "      <th>target</th>\n",
       "      <th>private_pool</th>\n",
       "      <th>...</th>\n",
       "      <th>cooling</th>\n",
       "      <th>lot_size</th>\n",
       "      <th>school_rate_mean</th>\n",
       "      <th>school_distance_mean</th>\n",
       "      <th>has_parking</th>\n",
       "      <th>garage</th>\n",
       "      <th>parking_spaces</th>\n",
       "      <th>log_target</th>\n",
       "      <th>states_shoted</th>\n",
       "      <th>cities_shorted</th>\n",
       "    </tr>\n",
       "  </thead>\n",
       "  <tbody>\n",
       "    <tr>\n",
       "      <th>1</th>\n",
       "      <td>for sale</td>\n",
       "      <td>single</td>\n",
       "      <td>avenue</td>\n",
       "      <td>3</td>\n",
       "      <td>0</td>\n",
       "      <td>1947.0</td>\n",
       "      <td>3</td>\n",
       "      <td>2</td>\n",
       "      <td>310000.0</td>\n",
       "      <td>0</td>\n",
       "      <td>...</td>\n",
       "      <td>0</td>\n",
       "      <td>5828.0</td>\n",
       "      <td>2.666667</td>\n",
       "      <td>1.326667</td>\n",
       "      <td>0</td>\n",
       "      <td>0</td>\n",
       "      <td>0</td>\n",
       "      <td>12.644331</td>\n",
       "      <td>WA</td>\n",
       "      <td>others</td>\n",
       "    </tr>\n",
       "    <tr>\n",
       "      <th>2</th>\n",
       "      <td>for sale</td>\n",
       "      <td>single</td>\n",
       "      <td>road</td>\n",
       "      <td>2</td>\n",
       "      <td>1</td>\n",
       "      <td>3000.0</td>\n",
       "      <td>3</td>\n",
       "      <td>1</td>\n",
       "      <td>2895000.0</td>\n",
       "      <td>1</td>\n",
       "      <td>...</td>\n",
       "      <td>1</td>\n",
       "      <td>8626.0</td>\n",
       "      <td>6.666667</td>\n",
       "      <td>1.960000</td>\n",
       "      <td>1</td>\n",
       "      <td>1</td>\n",
       "      <td>0</td>\n",
       "      <td>14.878496</td>\n",
       "      <td>CA</td>\n",
       "      <td>los angeles</td>\n",
       "    </tr>\n",
       "    <tr>\n",
       "      <th>3</th>\n",
       "      <td>for sale</td>\n",
       "      <td>single</td>\n",
       "      <td>avenue</td>\n",
       "      <td>8</td>\n",
       "      <td>1</td>\n",
       "      <td>6457.0</td>\n",
       "      <td>5</td>\n",
       "      <td>3</td>\n",
       "      <td>2395000.0</td>\n",
       "      <td>0</td>\n",
       "      <td>...</td>\n",
       "      <td>1</td>\n",
       "      <td>8220.0</td>\n",
       "      <td>9.250000</td>\n",
       "      <td>0.752500</td>\n",
       "      <td>1</td>\n",
       "      <td>1</td>\n",
       "      <td>0</td>\n",
       "      <td>14.688894</td>\n",
       "      <td>TX</td>\n",
       "      <td>dallas</td>\n",
       "    </tr>\n",
       "  </tbody>\n",
       "</table>\n",
       "<p>3 rows × 22 columns</p>\n",
       "</div>"
      ],
      "text/plain": [
       "     status propertyType  street  baths  fireplace    sqft  beds  stories  \\\n",
       "1  for sale       single  avenue      3          0  1947.0     3        2   \n",
       "2  for sale       single    road      2          1  3000.0     3        1   \n",
       "3  for sale       single  avenue      8          1  6457.0     5        3   \n",
       "\n",
       "      target  private_pool  ...  cooling lot_size  school_rate_mean  \\\n",
       "1   310000.0             0  ...        0   5828.0          2.666667   \n",
       "2  2895000.0             1  ...        1   8626.0          6.666667   \n",
       "3  2395000.0             0  ...        1   8220.0          9.250000   \n",
       "\n",
       "   school_distance_mean  has_parking  garage  parking_spaces  log_target  \\\n",
       "1              1.326667            0       0               0   12.644331   \n",
       "2              1.960000            1       1               0   14.878496   \n",
       "3              0.752500            1       1               0   14.688894   \n",
       "\n",
       "   states_shoted  cities_shorted  \n",
       "1             WA          others  \n",
       "2             CA     los angeles  \n",
       "3             TX          dallas  \n",
       "\n",
       "[3 rows x 22 columns]"
      ]
     },
     "execution_count": 3,
     "metadata": {},
     "output_type": "execute_result"
    }
   ],
   "source": [
    "df = pd.read_pickle('data/df_for_model.pickle')\n",
    "df.head(3)"
   ]
  },
  {
   "cell_type": "code",
   "execution_count": 4,
   "metadata": {},
   "outputs": [],
   "source": [
    "''' Подготовим список категориальных признаков и числовых признаков'''\n",
    "str_col = ['status','propertyType','street','heating','states_shoted','cities_shorted']\n",
    "num_col = ['baths',\n",
    " 'fireplace',\n",
    " 'sqft',\n",
    " 'beds',\n",
    " 'stories',\n",
    " 'private_pool',\n",
    " 'year_built',\n",
    " 'cooling',\n",
    " 'lot_size',\n",
    " 'school_rate_mean',\n",
    " 'school_distance_mean',\n",
    " 'has_parking',\n",
    " 'garage',\n",
    " 'parking_spaces']\n"
   ]
  },
  {
   "cell_type": "code",
   "execution_count": 5,
   "metadata": {},
   "outputs": [],
   "source": [
    "df = df.drop(['log_target'], axis=1)"
   ]
  },
  {
   "cell_type": "markdown",
   "metadata": {},
   "source": [
    "## Часть 2. Выбор модели регрессии. ##"
   ]
  },
  {
   "cell_type": "code",
   "execution_count": 6,
   "metadata": {},
   "outputs": [
    {
     "name": "stdout",
     "output_type": "stream",
     "text": [
      "Размер датасета до кодирования категориальных признаков (348298, 21)\n",
      "Размер датасета (348298, 194)\n"
     ]
    }
   ],
   "source": [
    "''' Создание копии исходного датасета, кодирование категориальных признаков'''\n",
    "dft = df.copy()\n",
    "print(f'Размер датасета до кодирования категориальных признаков {dft.shape}')\n",
    "dft = pd.concat([dft, pd.get_dummies(dft[str_col])], axis=1)\n",
    "dft = dft.drop(['status','propertyType','street','heating','states_shoted','cities_shorted',], axis=1)\n",
    "print(f'Размер датасета {dft.shape}')"
   ]
  },
  {
   "cell_type": "code",
   "execution_count": 7,
   "metadata": {},
   "outputs": [],
   "source": [
    "'''Разделение данных на тестовую и тренировочную выборки'''\n",
    "X = dft.drop(['target'], axis=1)\n",
    "y = dft['target']\n",
    "\n",
    "X_train, X_test, y_train, y_test = train_test_split(X, y, test_size=0.2, random_state=42)"
   ]
  },
  {
   "cell_type": "code",
   "execution_count": 8,
   "metadata": {},
   "outputs": [],
   "source": [
    "'''Предподготовка данных'''\n",
    "scaler = StandardScaler()\n",
    "X_train_scaled = pd.DataFrame(data=scaler.fit_transform(X_train), columns=X_train.columns)\n",
    "X_test_scaled = pd.DataFrame(data=scaler.transform(X_test), columns=X_test.columns)"
   ]
  },
  {
   "cell_type": "code",
   "execution_count": 9,
   "metadata": {},
   "outputs": [],
   "source": [
    "table_dict = dict()\n",
    "table_columns = ['Train', 'Test']"
   ]
  },
  {
   "cell_type": "markdown",
   "metadata": {},
   "source": [
    "base_line linear regression"
   ]
  },
  {
   "cell_type": "code",
   "execution_count": 22,
   "metadata": {},
   "outputs": [
    {
     "name": "stdout",
     "output_type": "stream",
     "text": [
      "Train RMSE: 368927.95467205165\n",
      "Test RMSE: 371023.02902920434\n"
     ]
    }
   ],
   "source": [
    "# за отправную точку возьмем линейную регрессию\n",
    "lin_regr = LinearRegression()\n",
    "lin_regr.fit(X_train, y_train)\n",
    "y_train_pred = lin_regr.predict(X_train_scaled)\n",
    "y_test_pred = lin_regr.predict(X_test_scaled)\n",
    "\n",
    "# print('RMSE on the train sample: {:.2f}'.format(\n",
    "#     np.sqrt(metrics.mean_squared_error(y_train, y_train_pred))))\n",
    "# print('RMSE on the validation sample: {:.2f}'.format(\n",
    "#     np.sqrt(metrics.mean_squared_error(y_test, y_test_pred))))\n",
    "\n",
    "print('Train RMSE:', mean_squared_error(y_train, y_train_pred, squared=False))\n",
    "print('Test RMSE:', mean_squared_error(y_test, y_test_pred, squared=False))"
   ]
  },
  {
   "cell_type": "code",
   "execution_count": 23,
   "metadata": {},
   "outputs": [],
   "source": [
    "table_dict['Linear regression (r12n)'] = [\n",
    "    mean_squared_error(y_train, y_train_pred, squared=False),\n",
    "    mean_squared_error(y_test, y_test_pred, squared=False)\n",
    "]"
   ]
  },
  {
   "cell_type": "markdown",
   "metadata": {},
   "source": [
    "модель randomforestregressor"
   ]
  },
  {
   "cell_type": "code",
   "execution_count": 24,
   "metadata": {},
   "outputs": [
    {
     "name": "stdout",
     "output_type": "stream",
     "text": [
      "Train RMSE: 357009.65183225577\n",
      "Test RMSE: 363979.78188651847\n"
     ]
    }
   ],
   "source": [
    "rf_best_params = {'criterion': 'squared_error', 'max_depth': 7, 'min_samples_split': 2, 'n_estimators': 100}\n",
    "randfor = RandomForestRegressor(random_state=42, **rf_best_params)\n",
    "randfor.fit(X_train_scaled, y_train)\n",
    "y_train_pred = randfor.predict(X_train_scaled)\n",
    "y_test_pred  = randfor.predict(X_test_scaled)\n",
    "print('Train RMSE:', mean_squared_error(y_train, y_train_pred, squared=False))\n",
    "print('Test RMSE:', mean_squared_error(y_test, y_test_pred, squared=False))"
   ]
  },
  {
   "cell_type": "code",
   "execution_count": 25,
   "metadata": {},
   "outputs": [],
   "source": [
    "table_dict['Random Forest'] = [\n",
    "    mean_squared_error(y_train, y_train_pred, squared=False),\n",
    "    mean_squared_error(y_test, y_test_pred, squared=False)\n",
    "]"
   ]
  },
  {
   "cell_type": "markdown",
   "metadata": {},
   "source": [
    "модель xgbregressor"
   ]
  },
  {
   "cell_type": "code",
   "execution_count": 26,
   "metadata": {},
   "outputs": [
    {
     "name": "stdout",
     "output_type": "stream",
     "text": [
      "Train RMSE: 259990.7813460986\n",
      "Test RMSE: 280517.7563035519\n"
     ]
    }
   ],
   "source": [
    "xgb = XGBRegressor(seed=42)\n",
    "xgb.fit(X_train_scaled, y_train)\n",
    "y_train_pred = xgb.predict(X_train_scaled)\n",
    "y_test_pred  = xgb.predict(X_test_scaled)\n",
    "print('Train RMSE:', mean_squared_error(y_train, y_train_pred, squared=False))\n",
    "print('Test RMSE:', mean_squared_error(y_test, y_test_pred, squared=False))"
   ]
  },
  {
   "cell_type": "code",
   "execution_count": 27,
   "metadata": {},
   "outputs": [],
   "source": [
    "table_dict['XGBoost'] = [\n",
    "    mean_squared_error(y_train, y_train_pred, squared=False),\n",
    "    mean_squared_error(y_test, y_test_pred, squared=False)\n",
    "]"
   ]
  },
  {
   "cell_type": "code",
   "execution_count": 29,
   "metadata": {},
   "outputs": [
    {
     "data": {
      "text/html": [
       "<div>\n",
       "<style scoped>\n",
       "    .dataframe tbody tr th:only-of-type {\n",
       "        vertical-align: middle;\n",
       "    }\n",
       "\n",
       "    .dataframe tbody tr th {\n",
       "        vertical-align: top;\n",
       "    }\n",
       "\n",
       "    .dataframe thead th {\n",
       "        text-align: right;\n",
       "    }\n",
       "</style>\n",
       "<table border=\"1\" class=\"dataframe\">\n",
       "  <thead>\n",
       "    <tr style=\"text-align: right;\">\n",
       "      <th></th>\n",
       "      <th>Train</th>\n",
       "      <th>Test</th>\n",
       "    </tr>\n",
       "  </thead>\n",
       "  <tbody>\n",
       "    <tr>\n",
       "      <th>Linear regression (r12n)</th>\n",
       "      <td>368928.0</td>\n",
       "      <td>371023.0</td>\n",
       "    </tr>\n",
       "    <tr>\n",
       "      <th>Random Forest</th>\n",
       "      <td>357010.0</td>\n",
       "      <td>363980.0</td>\n",
       "    </tr>\n",
       "    <tr>\n",
       "      <th>XGBoost</th>\n",
       "      <td>259991.0</td>\n",
       "      <td>280518.0</td>\n",
       "    </tr>\n",
       "  </tbody>\n",
       "</table>\n",
       "</div>"
      ],
      "text/plain": [
       "                             Train      Test\n",
       "Linear regression (r12n)  368928.0  371023.0\n",
       "Random Forest             357010.0  363980.0\n",
       "XGBoost                   259991.0  280518.0"
      ]
     },
     "execution_count": 29,
     "metadata": {},
     "output_type": "execute_result"
    }
   ],
   "source": [
    "'''Наилутший результат показала модель регрессии с дефолтными настройками XGBoost'''\n",
    "final_table = pd.DataFrame.from_dict(data=table_dict, orient='index', columns=table_columns)\n",
    "final_table.round()"
   ]
  },
  {
   "cell_type": "markdown",
   "metadata": {},
   "source": [
    "## Часть 3. Модель XGBoost. ##"
   ]
  },
  {
   "cell_type": "code",
   "execution_count": 10,
   "metadata": {},
   "outputs": [],
   "source": [
    "''' Постараемся подобрать оптимальные гиперпараметры модели XGBoost показавшей\n",
    "наилучшие результаты с использованием Optuna'''\n",
    "def objective(trial):\n",
    "    param = {\n",
    "        'max_depth': trial.suggest_int('max_depth', 1, 10),\n",
    "        'learning_rate': trial.suggest_float('learning_rate', 0.01, 1.0),\n",
    "        'n_estimators': trial.suggest_int('n_estimators', 50, 1000),\n",
    "        'min_child_weight': trial.suggest_int('min_child_weight', 1, 10),\n",
    "        'gamma': trial.suggest_float('gamma', 0.01, 1.0),\n",
    "        'subsample': trial.suggest_float('subsample', 0.01, 1.0),\n",
    "        'colsample_bytree': trial.suggest_float('colsample_bytree', 0.01, 1.0),\n",
    "        'reg_alpha': trial.suggest_float('reg_alpha', 0.01, 1.0),\n",
    "        'reg_lambda': trial.suggest_float('reg_lambda', 0.01, 1.0)\n",
    "        \n",
    "    }\n",
    "    model = XGBRegressor(seed = 42, **param)\n",
    "    model.fit(X_train_scaled, y_train)\n",
    "    y_pred = model.predict(X_test_scaled)\n",
    "    return mean_squared_error(y_test, y_pred, squared=False)"
   ]
  },
  {
   "cell_type": "code",
   "execution_count": 11,
   "metadata": {},
   "outputs": [
    {
     "name": "stderr",
     "output_type": "stream",
     "text": [
      "\u001b[32m[I 2023-12-06 21:55:52,285]\u001b[0m A new study created in memory with name: regression\u001b[0m\n",
      "\u001b[32m[I 2023-12-06 21:56:34,333]\u001b[0m Trial 0 finished with value: 331225.6830055093 and parameters: {'max_depth': 9, 'learning_rate': 0.01574221120942059, 'n_estimators': 441, 'min_child_weight': 10, 'gamma': 0.6707209451069464, 'subsample': 0.8881213139866544, 'colsample_bytree': 0.12413226262191117, 'reg_alpha': 0.16822080582595858, 'reg_lambda': 0.5458268558886962}. Best is trial 0 with value: 331225.6830055093.\u001b[0m\n",
      "\u001b[32m[I 2023-12-06 22:01:37,519]\u001b[0m Trial 1 finished with value: 258969.91937812365 and parameters: {'max_depth': 10, 'learning_rate': 0.01650161066734016, 'n_estimators': 927, 'min_child_weight': 9, 'gamma': 0.4821188404382099, 'subsample': 0.9135612177628304, 'colsample_bytree': 0.808163137991467, 'reg_alpha': 0.4006455008122476, 'reg_lambda': 0.25961109573442}. Best is trial 1 with value: 258969.91937812365.\u001b[0m\n",
      "\u001b[32m[I 2023-12-06 22:03:41,940]\u001b[0m Trial 2 finished with value: 312603.81443005183 and parameters: {'max_depth': 5, 'learning_rate': 0.9312203813156253, 'n_estimators': 764, 'min_child_weight': 9, 'gamma': 0.4580181639217392, 'subsample': 0.5405438720686079, 'colsample_bytree': 0.6399667689539339, 'reg_alpha': 0.8796882680162655, 'reg_lambda': 0.7623507682588652}. Best is trial 1 with value: 258969.91937812365.\u001b[0m\n",
      "\u001b[32m[I 2023-12-06 22:06:39,444]\u001b[0m Trial 3 finished with value: 381412.4099053585 and parameters: {'max_depth': 10, 'learning_rate': 0.7306810212361252, 'n_estimators': 562, 'min_child_weight': 1, 'gamma': 0.5660717598324663, 'subsample': 0.4072466944167353, 'colsample_bytree': 0.6908531468057707, 'reg_alpha': 0.5478124492054649, 'reg_lambda': 0.7801164569074578}. Best is trial 1 with value: 258969.91937812365.\u001b[0m\n",
      "\u001b[32m[I 2023-12-06 22:07:05,560]\u001b[0m Trial 4 finished with value: 279725.1418925262 and parameters: {'max_depth': 9, 'learning_rate': 0.6627619688033208, 'n_estimators': 178, 'min_child_weight': 4, 'gamma': 0.37649152119043683, 'subsample': 0.8626188437662636, 'colsample_bytree': 0.2484430605344574, 'reg_alpha': 0.4887808194315365, 'reg_lambda': 0.9816904278774786}. Best is trial 1 with value: 258969.91937812365.\u001b[0m\n"
     ]
    }
   ],
   "source": [
    "# Create the study\n",
    "optuna.visualization.is_available()\n",
    "study = optuna.create_study(direction='minimize', study_name='regression')\n",
    "study.optimize(objective, n_trials=5)"
   ]
  },
  {
   "cell_type": "code",
   "execution_count": 12,
   "metadata": {},
   "outputs": [
    {
     "name": "stderr",
     "output_type": "stream",
     "text": [
      "\u001b[32m[I 2023-12-06 22:10:35,985]\u001b[0m Trial 5 finished with value: 399628.84937239095 and parameters: {'max_depth': 5, 'learning_rate': 0.791429223876852, 'n_estimators': 764, 'min_child_weight': 6, 'gamma': 0.8834571201068376, 'subsample': 0.27958846201567117, 'colsample_bytree': 0.9053686538258173, 'reg_alpha': 0.6398487207117788, 'reg_lambda': 0.5447957990517379}. Best is trial 1 with value: 258969.91937812365.\u001b[0m\n",
      "\u001b[32m[I 2023-12-06 22:11:32,567]\u001b[0m Trial 6 finished with value: 277062.0359064567 and parameters: {'max_depth': 7, 'learning_rate': 0.4540710238450949, 'n_estimators': 495, 'min_child_weight': 6, 'gamma': 0.5499696444738131, 'subsample': 0.511485010167603, 'colsample_bytree': 0.22183262404845858, 'reg_alpha': 0.7265131614425244, 'reg_lambda': 0.16385868774324178}. Best is trial 1 with value: 258969.91937812365.\u001b[0m\n",
      "\u001b[32m[I 2023-12-06 22:12:15,614]\u001b[0m Trial 7 finished with value: 311042.58201601397 and parameters: {'max_depth': 10, 'learning_rate': 0.8973074811535617, 'n_estimators': 127, 'min_child_weight': 2, 'gamma': 0.8942669559038356, 'subsample': 0.8329718429652883, 'colsample_bytree': 0.7637315046685719, 'reg_alpha': 0.10806427272614828, 'reg_lambda': 0.3949813361254671}. Best is trial 1 with value: 258969.91937812365.\u001b[0m\n",
      "\u001b[32m[I 2023-12-06 22:12:28,595]\u001b[0m Trial 8 finished with value: 331473.01983934134 and parameters: {'max_depth': 2, 'learning_rate': 0.9297295674763578, 'n_estimators': 134, 'min_child_weight': 6, 'gamma': 0.8870998457920546, 'subsample': 0.1211860701309592, 'colsample_bytree': 0.8305407300760599, 'reg_alpha': 0.9767766038174992, 'reg_lambda': 0.5060486420173769}. Best is trial 1 with value: 258969.91937812365.\u001b[0m\n",
      "\u001b[32m[I 2023-12-06 22:13:02,125]\u001b[0m Trial 9 finished with value: 352634.5057240892 and parameters: {'max_depth': 3, 'learning_rate': 0.9623322789094331, 'n_estimators': 719, 'min_child_weight': 5, 'gamma': 0.8726412456358438, 'subsample': 0.08045595439550224, 'colsample_bytree': 0.043160997814501216, 'reg_alpha': 0.40537014482867945, 'reg_lambda': 0.23942328948363223}. Best is trial 1 with value: 258969.91937812365.\u001b[0m\n",
      "\u001b[32m[I 2023-12-06 22:17:48,035]\u001b[0m Trial 10 finished with value: 257417.6426239618 and parameters: {'max_depth': 7, 'learning_rate': 0.056000452115238464, 'n_estimators': 975, 'min_child_weight': 8, 'gamma': 0.1437052218412268, 'subsample': 0.6835388330264649, 'colsample_bytree': 0.9958410892029097, 'reg_alpha': 0.3298193920730552, 'reg_lambda': 0.04674750705751829}. Best is trial 10 with value: 257417.6426239618.\u001b[0m\n",
      "\u001b[32m[I 2023-12-06 22:22:44,511]\u001b[0m Trial 11 finished with value: 274066.84440504876 and parameters: {'max_depth': 7, 'learning_rate': 0.02134623785003393, 'n_estimators': 954, 'min_child_weight': 8, 'gamma': 0.10435962603602178, 'subsample': 0.6899035704148097, 'colsample_bytree': 0.9811823732588885, 'reg_alpha': 0.3011529026180073, 'reg_lambda': 0.030711025290038663}. Best is trial 10 with value: 257417.6426239618.\u001b[0m\n",
      "\u001b[32m[I 2023-12-06 22:27:26,721]\u001b[0m Trial 12 finished with value: 244429.23547512427 and parameters: {'max_depth': 7, 'learning_rate': 0.17873850091778148, 'n_estimators': 999, 'min_child_weight': 8, 'gamma': 0.04180276495007755, 'subsample': 0.9935736112057069, 'colsample_bytree': 0.9984435190840755, 'reg_alpha': 0.32685836395176915, 'reg_lambda': 0.048636815515163884}. Best is trial 12 with value: 244429.23547512427.\u001b[0m\n",
      "\u001b[32m[I 2023-12-06 22:32:08,846]\u001b[0m Trial 13 finished with value: 245249.8245186915 and parameters: {'max_depth': 7, 'learning_rate': 0.20022048319536678, 'n_estimators': 995, 'min_child_weight': 8, 'gamma': 0.016271753570870698, 'subsample': 0.9926834531106351, 'colsample_bytree': 0.991551192193408, 'reg_alpha': 0.25599523168286237, 'reg_lambda': 0.03869059231955837}. Best is trial 12 with value: 244429.23547512427.\u001b[0m\n",
      "\u001b[32m[I 2023-12-06 22:34:21,968]\u001b[0m Trial 14 finished with value: 251862.2154470351 and parameters: {'max_depth': 6, 'learning_rate': 0.2418828047109613, 'n_estimators': 834, 'min_child_weight': 8, 'gamma': 0.025003434004694403, 'subsample': 0.9695366812748709, 'colsample_bytree': 0.5396766988165387, 'reg_alpha': 0.040778797054208754, 'reg_lambda': 0.0411847637626587}. Best is trial 12 with value: 244429.23547512427.\u001b[0m\n",
      "\u001b[32m[I 2023-12-06 22:36:03,338]\u001b[0m Trial 15 finished with value: 269337.21197996516 and parameters: {'max_depth': 4, 'learning_rate': 0.25902923630402713, 'n_estimators': 635, 'min_child_weight': 7, 'gamma': 0.25898503863052885, 'subsample': 0.9817139402448266, 'colsample_bytree': 0.8843894785508584, 'reg_alpha': 0.21468933531325352, 'reg_lambda': 0.172010563548571}. Best is trial 12 with value: 244429.23547512427.\u001b[0m\n",
      "\u001b[32m[I 2023-12-06 22:37:42,945]\u001b[0m Trial 16 finished with value: 257532.725184267 and parameters: {'max_depth': 7, 'learning_rate': 0.22974004153682864, 'n_estimators': 351, 'min_child_weight': 10, 'gamma': 0.04328392215687489, 'subsample': 0.7483776064826826, 'colsample_bytree': 0.9287279823968042, 'reg_alpha': 0.2419166512746307, 'reg_lambda': 0.3456699600263254}. Best is trial 12 with value: 244429.23547512427.\u001b[0m\n",
      "\u001b[32m[I 2023-12-06 22:38:47,572]\u001b[0m Trial 17 finished with value: 344860.9703086121 and parameters: {'max_depth': 1, 'learning_rate': 0.403468116360344, 'n_estimators': 867, 'min_child_weight': 3, 'gamma': 0.20649064933152544, 'subsample': 0.7853037132709564, 'colsample_bytree': 0.9989083055196484, 'reg_alpha': 0.10760314616532302, 'reg_lambda': 0.12884792098205247}. Best is trial 12 with value: 244429.23547512427.\u001b[0m\n",
      "\u001b[32m[I 2023-12-06 22:42:59,287]\u001b[0m Trial 18 finished with value: 258405.4202929406 and parameters: {'max_depth': 8, 'learning_rate': 0.5498030385099932, 'n_estimators': 987, 'min_child_weight': 7, 'gamma': 0.020250265511035738, 'subsample': 0.9923614959821261, 'colsample_bytree': 0.7474830890700441, 'reg_alpha': 0.017049406083351037, 'reg_lambda': 0.10800779963460178}. Best is trial 12 with value: 244429.23547512427.\u001b[0m\n",
      "\u001b[32m[I 2023-12-06 22:45:24,992]\u001b[0m Trial 19 finished with value: 259752.35378558424 and parameters: {'max_depth': 6, 'learning_rate': 0.346168707816354, 'n_estimators': 631, 'min_child_weight': 9, 'gamma': 0.27965788426864585, 'subsample': 0.6816167152984745, 'colsample_bytree': 0.848241287853456, 'reg_alpha': 0.31448996504682525, 'reg_lambda': 0.01978869456133707}. Best is trial 12 with value: 244429.23547512427.\u001b[0m\n",
      "\u001b[32m[I 2023-12-06 22:48:21,939]\u001b[0m Trial 20 finished with value: 245769.2298981347 and parameters: {'max_depth': 8, 'learning_rate': 0.15774109928765329, 'n_estimators': 814, 'min_child_weight': 7, 'gamma': 0.14829580433831002, 'subsample': 0.8109619771756227, 'colsample_bytree': 0.5752603052461833, 'reg_alpha': 0.18765645564144348, 'reg_lambda': 0.2437755789636659}. Best is trial 12 with value: 244429.23547512427.\u001b[0m\n",
      "\u001b[32m[I 2023-12-06 22:50:57,607]\u001b[0m Trial 21 finished with value: 246043.6304815775 and parameters: {'max_depth': 8, 'learning_rate': 0.14624804785977707, 'n_estimators': 861, 'min_child_weight': 7, 'gamma': 0.11946800646733564, 'subsample': 0.8895542547313696, 'colsample_bytree': 0.4499933545744493, 'reg_alpha': 0.18364456109053867, 'reg_lambda': 0.2095530454898049}. Best is trial 12 with value: 244429.23547512427.\u001b[0m\n",
      "\u001b[32m[I 2023-12-06 22:54:56,944]\u001b[0m Trial 22 finished with value: 240478.57220798158 and parameters: {'max_depth': 8, 'learning_rate': 0.15797742335663176, 'n_estimators': 999, 'min_child_weight': 5, 'gamma': 0.18475049444547675, 'subsample': 0.9988216580955317, 'colsample_bytree': 0.6646712692491394, 'reg_alpha': 0.24434594746204255, 'reg_lambda': 0.11389213451280997}. Best is trial 22 with value: 240478.57220798158.\u001b[0m\n",
      "\u001b[32m[I 2023-12-06 22:58:17,879]\u001b[0m Trial 23 finished with value: 248696.5395322157 and parameters: {'max_depth': 6, 'learning_rate': 0.3117000440466973, 'n_estimators': 902, 'min_child_weight': 4, 'gamma': 0.22594727991792435, 'subsample': 0.9985672093937303, 'colsample_bytree': 0.894554376060103, 'reg_alpha': 0.3879402574576071, 'reg_lambda': 0.10515821323423133}. Best is trial 22 with value: 240478.57220798158.\u001b[0m\n",
      "\u001b[32m[I 2023-12-06 23:03:03,339]\u001b[0m Trial 24 finished with value: 239947.43788789416 and parameters: {'max_depth': 9, 'learning_rate': 0.10132124100237531, 'n_estimators': 1000, 'min_child_weight': 5, 'gamma': 0.015627381373821386, 'subsample': 0.9149919530169237, 'colsample_bytree': 0.7429947215177118, 'reg_alpha': 0.2691968842826249, 'reg_lambda': 0.12048902013069457}. Best is trial 24 with value: 239947.43788789416.\u001b[0m\n",
      "\u001b[32m[I 2023-12-06 23:04:22,408]\u001b[0m Trial 25 finished with value: 253194.8510546283 and parameters: {'max_depth': 9, 'learning_rate': 0.1213555127833458, 'n_estimators': 289, 'min_child_weight': 5, 'gamma': 0.09141866616497862, 'subsample': 0.903456825323483, 'colsample_bytree': 0.6871926264538584, 'reg_alpha': 0.30123284090110836, 'reg_lambda': 0.29873071672873536}. Best is trial 24 with value: 239947.43788789416.\u001b[0m\n",
      "\u001b[32m[I 2023-12-06 23:07:38,699]\u001b[0m Trial 26 finished with value: 247761.67547916868 and parameters: {'max_depth': 8, 'learning_rate': 0.10025517126848438, 'n_estimators': 729, 'min_child_weight': 4, 'gamma': 0.1800948788668027, 'subsample': 0.7589576306347021, 'colsample_bytree': 0.7591860640070005, 'reg_alpha': 0.4310504218733666, 'reg_lambda': 0.12534149920747226}. Best is trial 24 with value: 239947.43788789416.\u001b[0m\n",
      "\u001b[32m[I 2023-12-06 23:11:26,028]\u001b[0m Trial 27 finished with value: 239784.69815351424 and parameters: {'max_depth': 9, 'learning_rate': 0.1814664054954299, 'n_estimators': 919, 'min_child_weight': 3, 'gamma': 0.32363552739998613, 'subsample': 0.8994113878618348, 'colsample_bytree': 0.6037697340965472, 'reg_alpha': 0.3534564116335551, 'reg_lambda': 0.20044147046743402}. Best is trial 27 with value: 239784.69815351424.\u001b[0m\n",
      "\u001b[32m[I 2023-12-06 23:14:35,254]\u001b[0m Trial 28 finished with value: 241572.8681928076 and parameters: {'max_depth': 9, 'learning_rate': 0.0995524390478802, 'n_estimators': 909, 'min_child_weight': 3, 'gamma': 0.3442945490375813, 'subsample': 0.8460831770529489, 'colsample_bytree': 0.46063123723447646, 'reg_alpha': 0.470826928184596, 'reg_lambda': 0.17637382434079052}. Best is trial 27 with value: 239784.69815351424.\u001b[0m\n",
      "\u001b[32m[I 2023-12-06 23:17:42,438]\u001b[0m Trial 29 finished with value: 245944.75104744546 and parameters: {'max_depth': 10, 'learning_rate': 0.315586240250073, 'n_estimators': 665, 'min_child_weight': 2, 'gamma': 0.3152911470985915, 'subsample': 0.9171486188088616, 'colsample_bytree': 0.6153485533729641, 'reg_alpha': 0.12475436609939118, 'reg_lambda': 0.37222715492210506}. Best is trial 27 with value: 239784.69815351424.\u001b[0m\n",
      "\u001b[32m[I 2023-12-06 23:19:19,254]\u001b[0m Trial 30 finished with value: 257030.12097490163 and parameters: {'max_depth': 9, 'learning_rate': 0.06766240501184748, 'n_estimators': 412, 'min_child_weight': 3, 'gamma': 0.21810415010411294, 'subsample': 0.6120844546279767, 'colsample_bytree': 0.4944978401868006, 'reg_alpha': 0.25254253372823415, 'reg_lambda': 0.4365042478414385}. Best is trial 27 with value: 239784.69815351424.\u001b[0m\n",
      "\u001b[32m[I 2023-12-06 23:22:27,769]\u001b[0m Trial 31 finished with value: 242484.20873910474 and parameters: {'max_depth': 9, 'learning_rate': 0.09820865667761478, 'n_estimators': 917, 'min_child_weight': 3, 'gamma': 0.3412545167057245, 'subsample': 0.8432138408648114, 'colsample_bytree': 0.4505490440442294, 'reg_alpha': 0.5153080522242346, 'reg_lambda': 0.18785594346504572}. Best is trial 27 with value: 239784.69815351424.\u001b[0m\n",
      "\u001b[32m[I 2023-12-06 23:26:08,637]\u001b[0m Trial 32 finished with value: 240733.33853505147 and parameters: {'max_depth': 9, 'learning_rate': 0.1558965055937957, 'n_estimators': 923, 'min_child_weight': 5, 'gamma': 0.39225346583539544, 'subsample': 0.9186529644577509, 'colsample_bytree': 0.5817421308313723, 'reg_alpha': 0.3692842729862442, 'reg_lambda': 0.29915190523661467}. Best is trial 27 with value: 239784.69815351424.\u001b[0m\n",
      "\u001b[32m[I 2023-12-06 23:30:02,899]\u001b[0m Trial 33 finished with value: 254407.8010508892 and parameters: {'max_depth': 10, 'learning_rate': 0.024341994059975752, 'n_estimators': 822, 'min_child_weight': 5, 'gamma': 0.40824989001000345, 'subsample': 0.9187410055628786, 'colsample_bytree': 0.617308663984295, 'reg_alpha': 0.3576390175859276, 'reg_lambda': 0.28759664553417885}. Best is trial 27 with value: 239784.69815351424.\u001b[0m\n",
      "\u001b[32m[I 2023-12-06 23:33:47,125]\u001b[0m Trial 34 finished with value: 242395.38530666335 and parameters: {'max_depth': 8, 'learning_rate': 0.18160336679457403, 'n_estimators': 927, 'min_child_weight': 4, 'gamma': 0.4217430070770273, 'subsample': 0.9337442732614603, 'colsample_bytree': 0.6862855865976202, 'reg_alpha': 0.39369168871496607, 'reg_lambda': 0.3156800795192157}. Best is trial 27 with value: 239784.69815351424.\u001b[0m\n",
      "\u001b[32m[I 2023-12-06 23:36:52,053]\u001b[0m Trial 35 finished with value: 244601.9195036017 and parameters: {'max_depth': 9, 'learning_rate': 0.249349401586976, 'n_estimators': 782, 'min_child_weight': 5, 'gamma': 0.3067892903762066, 'subsample': 0.8849148057322515, 'colsample_bytree': 0.5680573583763988, 'reg_alpha': 0.2650404371450243, 'reg_lambda': 0.24859388797009485}. Best is trial 27 with value: 239784.69815351424.\u001b[0m\n",
      "\u001b[32m[I 2023-12-06 23:41:13,468]\u001b[0m Trial 36 finished with value: 237617.4457350021 and parameters: {'max_depth': 10, 'learning_rate': 0.15731514140750152, 'n_estimators': 884, 'min_child_weight': 2, 'gamma': 0.4786406006113764, 'subsample': 0.9370506411504153, 'colsample_bytree': 0.6588413851034691, 'reg_alpha': 0.42809669399162953, 'reg_lambda': 0.2730450833215283}. Best is trial 36 with value: 237617.4457350021.\u001b[0m\n",
      "\u001b[32m[I 2023-12-06 23:45:34,637]\u001b[0m Trial 37 finished with value: 239430.57322179753 and parameters: {'max_depth': 10, 'learning_rate': 0.06649037201850252, 'n_estimators': 854, 'min_child_weight': 1, 'gamma': 0.48444713014781365, 'subsample': 0.7912749119363625, 'colsample_bytree': 0.6571296488189665, 'reg_alpha': 0.44810533854874757, 'reg_lambda': 0.23137476129130297}. Best is trial 36 with value: 237617.4457350021.\u001b[0m\n",
      "\u001b[32m[I 2023-12-06 23:49:33,987]\u001b[0m Trial 38 finished with value: 251256.50123379313 and parameters: {'max_depth': 10, 'learning_rate': 0.03032974342233624, 'n_estimators': 710, 'min_child_weight': 1, 'gamma': 0.4997549402400829, 'subsample': 0.7967751360621156, 'colsample_bytree': 0.7395569357136492, 'reg_alpha': 0.5634643596961056, 'reg_lambda': 0.43426789299480517}. Best is trial 36 with value: 237617.4457350021.\u001b[0m\n",
      "\u001b[32m[I 2023-12-06 23:54:33,953]\u001b[0m Trial 39 finished with value: 237793.2644967822 and parameters: {'max_depth': 10, 'learning_rate': 0.07654674000052027, 'n_estimators': 872, 'min_child_weight': 2, 'gamma': 0.46693034763817026, 'subsample': 0.8446262565068078, 'colsample_bytree': 0.7828165627939803, 'reg_alpha': 0.4519690237905545, 'reg_lambda': 0.21545197717160938}. Best is trial 36 with value: 237617.4457350021.\u001b[0m\n"
     ]
    }
   ],
   "source": [
    "study.optimize(objective, n_trials=35)"
   ]
  },
  {
   "cell_type": "code",
   "execution_count": 13,
   "metadata": {},
   "outputs": [
    {
     "name": "stdout",
     "output_type": "stream",
     "text": [
      "Best parameters {'max_depth': 10, 'learning_rate': 0.15731514140750152, 'n_estimators': 884, 'min_child_weight': 2, 'gamma': 0.4786406006113764, 'subsample': 0.9370506411504153, 'colsample_bytree': 0.6588413851034691, 'reg_alpha': 0.42809669399162953, 'reg_lambda': 0.2730450833215283}\n",
      "Best value 237617.4457350021\n"
     ]
    }
   ],
   "source": [
    "# Print the best parameters\n",
    "print('Best parameters', study.best_params)\n",
    "# Print the best value\n",
    "print('Best value', study.best_value)"
   ]
  },
  {
   "cell_type": "code",
   "execution_count": 14,
   "metadata": {},
   "outputs": [
    {
     "data": {
      "application/vnd.plotly.v1+json": {
       "config": {
        "plotlyServerURL": "https://plot.ly"
       },
       "data": [
        {
         "mode": "markers",
         "name": "rmse",
         "type": "scatter",
         "x": [
          0,
          1,
          2,
          3,
          4,
          5,
          6,
          7,
          8,
          9,
          10,
          11,
          12,
          13,
          14,
          15,
          16,
          17,
          18,
          19,
          20,
          21,
          22,
          23,
          24,
          25,
          26,
          27,
          28,
          29,
          30,
          31,
          32,
          33,
          34,
          35,
          36,
          37,
          38,
          39
         ],
         "y": [
          331225.6830055093,
          258969.91937812365,
          312603.81443005183,
          381412.4099053585,
          279725.1418925262,
          399628.84937239095,
          277062.0359064567,
          311042.58201601397,
          331473.01983934134,
          352634.5057240892,
          257417.6426239618,
          274066.84440504876,
          244429.23547512427,
          245249.8245186915,
          251862.2154470351,
          269337.21197996516,
          257532.725184267,
          344860.9703086121,
          258405.4202929406,
          259752.35378558424,
          245769.2298981347,
          246043.6304815775,
          240478.57220798158,
          248696.5395322157,
          239947.43788789416,
          253194.8510546283,
          247761.67547916868,
          239784.69815351424,
          241572.8681928076,
          245944.75104744546,
          257030.12097490163,
          242484.20873910474,
          240733.33853505147,
          254407.8010508892,
          242395.38530666335,
          244601.9195036017,
          237617.4457350021,
          239430.57322179753,
          251256.50123379313,
          237793.2644967822
         ]
        },
        {
         "name": "Best Value",
         "type": "scatter",
         "x": [
          0,
          1,
          2,
          3,
          4,
          5,
          6,
          7,
          8,
          9,
          10,
          11,
          12,
          13,
          14,
          15,
          16,
          17,
          18,
          19,
          20,
          21,
          22,
          23,
          24,
          25,
          26,
          27,
          28,
          29,
          30,
          31,
          32,
          33,
          34,
          35,
          36,
          37,
          38,
          39
         ],
         "y": [
          331225.6830055093,
          258969.91937812365,
          258969.91937812365,
          258969.91937812365,
          258969.91937812365,
          258969.91937812365,
          258969.91937812365,
          258969.91937812365,
          258969.91937812365,
          258969.91937812365,
          257417.6426239618,
          257417.6426239618,
          244429.23547512427,
          244429.23547512427,
          244429.23547512427,
          244429.23547512427,
          244429.23547512427,
          244429.23547512427,
          244429.23547512427,
          244429.23547512427,
          244429.23547512427,
          244429.23547512427,
          240478.57220798158,
          240478.57220798158,
          239947.43788789416,
          239947.43788789416,
          239947.43788789416,
          239784.69815351424,
          239784.69815351424,
          239784.69815351424,
          239784.69815351424,
          239784.69815351424,
          239784.69815351424,
          239784.69815351424,
          239784.69815351424,
          239784.69815351424,
          237617.4457350021,
          237617.4457350021,
          237617.4457350021,
          237617.4457350021
         ]
        }
       ],
       "layout": {
        "template": {
         "data": {
          "bar": [
           {
            "error_x": {
             "color": "#2a3f5f"
            },
            "error_y": {
             "color": "#2a3f5f"
            },
            "marker": {
             "line": {
              "color": "#E5ECF6",
              "width": 0.5
             },
             "pattern": {
              "fillmode": "overlay",
              "size": 10,
              "solidity": 0.2
             }
            },
            "type": "bar"
           }
          ],
          "barpolar": [
           {
            "marker": {
             "line": {
              "color": "#E5ECF6",
              "width": 0.5
             },
             "pattern": {
              "fillmode": "overlay",
              "size": 10,
              "solidity": 0.2
             }
            },
            "type": "barpolar"
           }
          ],
          "carpet": [
           {
            "aaxis": {
             "endlinecolor": "#2a3f5f",
             "gridcolor": "white",
             "linecolor": "white",
             "minorgridcolor": "white",
             "startlinecolor": "#2a3f5f"
            },
            "baxis": {
             "endlinecolor": "#2a3f5f",
             "gridcolor": "white",
             "linecolor": "white",
             "minorgridcolor": "white",
             "startlinecolor": "#2a3f5f"
            },
            "type": "carpet"
           }
          ],
          "choropleth": [
           {
            "colorbar": {
             "outlinewidth": 0,
             "ticks": ""
            },
            "type": "choropleth"
           }
          ],
          "contour": [
           {
            "colorbar": {
             "outlinewidth": 0,
             "ticks": ""
            },
            "colorscale": [
             [
              0,
              "#0d0887"
             ],
             [
              0.1111111111111111,
              "#46039f"
             ],
             [
              0.2222222222222222,
              "#7201a8"
             ],
             [
              0.3333333333333333,
              "#9c179e"
             ],
             [
              0.4444444444444444,
              "#bd3786"
             ],
             [
              0.5555555555555556,
              "#d8576b"
             ],
             [
              0.6666666666666666,
              "#ed7953"
             ],
             [
              0.7777777777777778,
              "#fb9f3a"
             ],
             [
              0.8888888888888888,
              "#fdca26"
             ],
             [
              1,
              "#f0f921"
             ]
            ],
            "type": "contour"
           }
          ],
          "contourcarpet": [
           {
            "colorbar": {
             "outlinewidth": 0,
             "ticks": ""
            },
            "type": "contourcarpet"
           }
          ],
          "heatmap": [
           {
            "colorbar": {
             "outlinewidth": 0,
             "ticks": ""
            },
            "colorscale": [
             [
              0,
              "#0d0887"
             ],
             [
              0.1111111111111111,
              "#46039f"
             ],
             [
              0.2222222222222222,
              "#7201a8"
             ],
             [
              0.3333333333333333,
              "#9c179e"
             ],
             [
              0.4444444444444444,
              "#bd3786"
             ],
             [
              0.5555555555555556,
              "#d8576b"
             ],
             [
              0.6666666666666666,
              "#ed7953"
             ],
             [
              0.7777777777777778,
              "#fb9f3a"
             ],
             [
              0.8888888888888888,
              "#fdca26"
             ],
             [
              1,
              "#f0f921"
             ]
            ],
            "type": "heatmap"
           }
          ],
          "heatmapgl": [
           {
            "colorbar": {
             "outlinewidth": 0,
             "ticks": ""
            },
            "colorscale": [
             [
              0,
              "#0d0887"
             ],
             [
              0.1111111111111111,
              "#46039f"
             ],
             [
              0.2222222222222222,
              "#7201a8"
             ],
             [
              0.3333333333333333,
              "#9c179e"
             ],
             [
              0.4444444444444444,
              "#bd3786"
             ],
             [
              0.5555555555555556,
              "#d8576b"
             ],
             [
              0.6666666666666666,
              "#ed7953"
             ],
             [
              0.7777777777777778,
              "#fb9f3a"
             ],
             [
              0.8888888888888888,
              "#fdca26"
             ],
             [
              1,
              "#f0f921"
             ]
            ],
            "type": "heatmapgl"
           }
          ],
          "histogram": [
           {
            "marker": {
             "pattern": {
              "fillmode": "overlay",
              "size": 10,
              "solidity": 0.2
             }
            },
            "type": "histogram"
           }
          ],
          "histogram2d": [
           {
            "colorbar": {
             "outlinewidth": 0,
             "ticks": ""
            },
            "colorscale": [
             [
              0,
              "#0d0887"
             ],
             [
              0.1111111111111111,
              "#46039f"
             ],
             [
              0.2222222222222222,
              "#7201a8"
             ],
             [
              0.3333333333333333,
              "#9c179e"
             ],
             [
              0.4444444444444444,
              "#bd3786"
             ],
             [
              0.5555555555555556,
              "#d8576b"
             ],
             [
              0.6666666666666666,
              "#ed7953"
             ],
             [
              0.7777777777777778,
              "#fb9f3a"
             ],
             [
              0.8888888888888888,
              "#fdca26"
             ],
             [
              1,
              "#f0f921"
             ]
            ],
            "type": "histogram2d"
           }
          ],
          "histogram2dcontour": [
           {
            "colorbar": {
             "outlinewidth": 0,
             "ticks": ""
            },
            "colorscale": [
             [
              0,
              "#0d0887"
             ],
             [
              0.1111111111111111,
              "#46039f"
             ],
             [
              0.2222222222222222,
              "#7201a8"
             ],
             [
              0.3333333333333333,
              "#9c179e"
             ],
             [
              0.4444444444444444,
              "#bd3786"
             ],
             [
              0.5555555555555556,
              "#d8576b"
             ],
             [
              0.6666666666666666,
              "#ed7953"
             ],
             [
              0.7777777777777778,
              "#fb9f3a"
             ],
             [
              0.8888888888888888,
              "#fdca26"
             ],
             [
              1,
              "#f0f921"
             ]
            ],
            "type": "histogram2dcontour"
           }
          ],
          "mesh3d": [
           {
            "colorbar": {
             "outlinewidth": 0,
             "ticks": ""
            },
            "type": "mesh3d"
           }
          ],
          "parcoords": [
           {
            "line": {
             "colorbar": {
              "outlinewidth": 0,
              "ticks": ""
             }
            },
            "type": "parcoords"
           }
          ],
          "pie": [
           {
            "automargin": true,
            "type": "pie"
           }
          ],
          "scatter": [
           {
            "fillpattern": {
             "fillmode": "overlay",
             "size": 10,
             "solidity": 0.2
            },
            "type": "scatter"
           }
          ],
          "scatter3d": [
           {
            "line": {
             "colorbar": {
              "outlinewidth": 0,
              "ticks": ""
             }
            },
            "marker": {
             "colorbar": {
              "outlinewidth": 0,
              "ticks": ""
             }
            },
            "type": "scatter3d"
           }
          ],
          "scattercarpet": [
           {
            "marker": {
             "colorbar": {
              "outlinewidth": 0,
              "ticks": ""
             }
            },
            "type": "scattercarpet"
           }
          ],
          "scattergeo": [
           {
            "marker": {
             "colorbar": {
              "outlinewidth": 0,
              "ticks": ""
             }
            },
            "type": "scattergeo"
           }
          ],
          "scattergl": [
           {
            "marker": {
             "colorbar": {
              "outlinewidth": 0,
              "ticks": ""
             }
            },
            "type": "scattergl"
           }
          ],
          "scattermapbox": [
           {
            "marker": {
             "colorbar": {
              "outlinewidth": 0,
              "ticks": ""
             }
            },
            "type": "scattermapbox"
           }
          ],
          "scatterpolar": [
           {
            "marker": {
             "colorbar": {
              "outlinewidth": 0,
              "ticks": ""
             }
            },
            "type": "scatterpolar"
           }
          ],
          "scatterpolargl": [
           {
            "marker": {
             "colorbar": {
              "outlinewidth": 0,
              "ticks": ""
             }
            },
            "type": "scatterpolargl"
           }
          ],
          "scatterternary": [
           {
            "marker": {
             "colorbar": {
              "outlinewidth": 0,
              "ticks": ""
             }
            },
            "type": "scatterternary"
           }
          ],
          "surface": [
           {
            "colorbar": {
             "outlinewidth": 0,
             "ticks": ""
            },
            "colorscale": [
             [
              0,
              "#0d0887"
             ],
             [
              0.1111111111111111,
              "#46039f"
             ],
             [
              0.2222222222222222,
              "#7201a8"
             ],
             [
              0.3333333333333333,
              "#9c179e"
             ],
             [
              0.4444444444444444,
              "#bd3786"
             ],
             [
              0.5555555555555556,
              "#d8576b"
             ],
             [
              0.6666666666666666,
              "#ed7953"
             ],
             [
              0.7777777777777778,
              "#fb9f3a"
             ],
             [
              0.8888888888888888,
              "#fdca26"
             ],
             [
              1,
              "#f0f921"
             ]
            ],
            "type": "surface"
           }
          ],
          "table": [
           {
            "cells": {
             "fill": {
              "color": "#EBF0F8"
             },
             "line": {
              "color": "white"
             }
            },
            "header": {
             "fill": {
              "color": "#C8D4E3"
             },
             "line": {
              "color": "white"
             }
            },
            "type": "table"
           }
          ]
         },
         "layout": {
          "annotationdefaults": {
           "arrowcolor": "#2a3f5f",
           "arrowhead": 0,
           "arrowwidth": 1
          },
          "autotypenumbers": "strict",
          "coloraxis": {
           "colorbar": {
            "outlinewidth": 0,
            "ticks": ""
           }
          },
          "colorscale": {
           "diverging": [
            [
             0,
             "#8e0152"
            ],
            [
             0.1,
             "#c51b7d"
            ],
            [
             0.2,
             "#de77ae"
            ],
            [
             0.3,
             "#f1b6da"
            ],
            [
             0.4,
             "#fde0ef"
            ],
            [
             0.5,
             "#f7f7f7"
            ],
            [
             0.6,
             "#e6f5d0"
            ],
            [
             0.7,
             "#b8e186"
            ],
            [
             0.8,
             "#7fbc41"
            ],
            [
             0.9,
             "#4d9221"
            ],
            [
             1,
             "#276419"
            ]
           ],
           "sequential": [
            [
             0,
             "#0d0887"
            ],
            [
             0.1111111111111111,
             "#46039f"
            ],
            [
             0.2222222222222222,
             "#7201a8"
            ],
            [
             0.3333333333333333,
             "#9c179e"
            ],
            [
             0.4444444444444444,
             "#bd3786"
            ],
            [
             0.5555555555555556,
             "#d8576b"
            ],
            [
             0.6666666666666666,
             "#ed7953"
            ],
            [
             0.7777777777777778,
             "#fb9f3a"
            ],
            [
             0.8888888888888888,
             "#fdca26"
            ],
            [
             1,
             "#f0f921"
            ]
           ],
           "sequentialminus": [
            [
             0,
             "#0d0887"
            ],
            [
             0.1111111111111111,
             "#46039f"
            ],
            [
             0.2222222222222222,
             "#7201a8"
            ],
            [
             0.3333333333333333,
             "#9c179e"
            ],
            [
             0.4444444444444444,
             "#bd3786"
            ],
            [
             0.5555555555555556,
             "#d8576b"
            ],
            [
             0.6666666666666666,
             "#ed7953"
            ],
            [
             0.7777777777777778,
             "#fb9f3a"
            ],
            [
             0.8888888888888888,
             "#fdca26"
            ],
            [
             1,
             "#f0f921"
            ]
           ]
          },
          "colorway": [
           "#636efa",
           "#EF553B",
           "#00cc96",
           "#ab63fa",
           "#FFA15A",
           "#19d3f3",
           "#FF6692",
           "#B6E880",
           "#FF97FF",
           "#FECB52"
          ],
          "font": {
           "color": "#2a3f5f"
          },
          "geo": {
           "bgcolor": "white",
           "lakecolor": "white",
           "landcolor": "#E5ECF6",
           "showlakes": true,
           "showland": true,
           "subunitcolor": "white"
          },
          "hoverlabel": {
           "align": "left"
          },
          "hovermode": "closest",
          "mapbox": {
           "style": "light"
          },
          "paper_bgcolor": "white",
          "plot_bgcolor": "#E5ECF6",
          "polar": {
           "angularaxis": {
            "gridcolor": "white",
            "linecolor": "white",
            "ticks": ""
           },
           "bgcolor": "#E5ECF6",
           "radialaxis": {
            "gridcolor": "white",
            "linecolor": "white",
            "ticks": ""
           }
          },
          "scene": {
           "xaxis": {
            "backgroundcolor": "#E5ECF6",
            "gridcolor": "white",
            "gridwidth": 2,
            "linecolor": "white",
            "showbackground": true,
            "ticks": "",
            "zerolinecolor": "white"
           },
           "yaxis": {
            "backgroundcolor": "#E5ECF6",
            "gridcolor": "white",
            "gridwidth": 2,
            "linecolor": "white",
            "showbackground": true,
            "ticks": "",
            "zerolinecolor": "white"
           },
           "zaxis": {
            "backgroundcolor": "#E5ECF6",
            "gridcolor": "white",
            "gridwidth": 2,
            "linecolor": "white",
            "showbackground": true,
            "ticks": "",
            "zerolinecolor": "white"
           }
          },
          "shapedefaults": {
           "line": {
            "color": "#2a3f5f"
           }
          },
          "ternary": {
           "aaxis": {
            "gridcolor": "white",
            "linecolor": "white",
            "ticks": ""
           },
           "baxis": {
            "gridcolor": "white",
            "linecolor": "white",
            "ticks": ""
           },
           "bgcolor": "#E5ECF6",
           "caxis": {
            "gridcolor": "white",
            "linecolor": "white",
            "ticks": ""
           }
          },
          "title": {
           "x": 0.05
          },
          "xaxis": {
           "automargin": true,
           "gridcolor": "white",
           "linecolor": "white",
           "ticks": "",
           "title": {
            "standoff": 15
           },
           "zerolinecolor": "white",
           "zerolinewidth": 2
          },
          "yaxis": {
           "automargin": true,
           "gridcolor": "white",
           "linecolor": "white",
           "ticks": "",
           "title": {
            "standoff": 15
           },
           "zerolinecolor": "white",
           "zerolinewidth": 2
          }
         }
        },
        "title": {
         "text": "Optimization History Plot"
        },
        "xaxis": {
         "title": {
          "text": "Trial"
         }
        },
        "yaxis": {
         "title": {
          "text": "rmse"
         }
        }
       }
      }
     },
     "metadata": {},
     "output_type": "display_data"
    }
   ],
   "source": [
    "optuna.visualization.plot_optimization_history(study, target_name=\"rmse\")"
   ]
  },
  {
   "cell_type": "code",
   "execution_count": 15,
   "metadata": {},
   "outputs": [
    {
     "data": {
      "application/vnd.plotly.v1+json": {
       "config": {
        "plotlyServerURL": "https://plot.ly"
       },
       "data": [
        {
         "cliponaxis": false,
         "hovertemplate": [
          "min_child_weight (IntDistribution): 0.016584979532932715<extra></extra>",
          "colsample_bytree (FloatDistribution): 0.017094685753359342<extra></extra>",
          "reg_alpha (FloatDistribution): 0.021922384933101554<extra></extra>",
          "n_estimators (IntDistribution): 0.027741000065422388<extra></extra>",
          "subsample (FloatDistribution): 0.04723762364190609<extra></extra>",
          "reg_lambda (FloatDistribution): 0.06988930608745345<extra></extra>",
          "max_depth (IntDistribution): 0.13156182776512657<extra></extra>",
          "learning_rate (FloatDistribution): 0.20486305758196524<extra></extra>",
          "gamma (FloatDistribution): 0.46310513463873265<extra></extra>"
         ],
         "marker": {
          "color": "rgb(66,146,198)"
         },
         "orientation": "h",
         "text": [
          "0.02",
          "0.02",
          "0.02",
          "0.03",
          "0.05",
          "0.07",
          "0.13",
          "0.20",
          "0.46"
         ],
         "textposition": "outside",
         "type": "bar",
         "x": [
          0.016584979532932715,
          0.017094685753359342,
          0.021922384933101554,
          0.027741000065422388,
          0.04723762364190609,
          0.06988930608745345,
          0.13156182776512657,
          0.20486305758196524,
          0.46310513463873265
         ],
         "y": [
          "min_child_weight",
          "colsample_bytree",
          "reg_alpha",
          "n_estimators",
          "subsample",
          "reg_lambda",
          "max_depth",
          "learning_rate",
          "gamma"
         ]
        }
       ],
       "layout": {
        "showlegend": false,
        "template": {
         "data": {
          "bar": [
           {
            "error_x": {
             "color": "#2a3f5f"
            },
            "error_y": {
             "color": "#2a3f5f"
            },
            "marker": {
             "line": {
              "color": "#E5ECF6",
              "width": 0.5
             },
             "pattern": {
              "fillmode": "overlay",
              "size": 10,
              "solidity": 0.2
             }
            },
            "type": "bar"
           }
          ],
          "barpolar": [
           {
            "marker": {
             "line": {
              "color": "#E5ECF6",
              "width": 0.5
             },
             "pattern": {
              "fillmode": "overlay",
              "size": 10,
              "solidity": 0.2
             }
            },
            "type": "barpolar"
           }
          ],
          "carpet": [
           {
            "aaxis": {
             "endlinecolor": "#2a3f5f",
             "gridcolor": "white",
             "linecolor": "white",
             "minorgridcolor": "white",
             "startlinecolor": "#2a3f5f"
            },
            "baxis": {
             "endlinecolor": "#2a3f5f",
             "gridcolor": "white",
             "linecolor": "white",
             "minorgridcolor": "white",
             "startlinecolor": "#2a3f5f"
            },
            "type": "carpet"
           }
          ],
          "choropleth": [
           {
            "colorbar": {
             "outlinewidth": 0,
             "ticks": ""
            },
            "type": "choropleth"
           }
          ],
          "contour": [
           {
            "colorbar": {
             "outlinewidth": 0,
             "ticks": ""
            },
            "colorscale": [
             [
              0,
              "#0d0887"
             ],
             [
              0.1111111111111111,
              "#46039f"
             ],
             [
              0.2222222222222222,
              "#7201a8"
             ],
             [
              0.3333333333333333,
              "#9c179e"
             ],
             [
              0.4444444444444444,
              "#bd3786"
             ],
             [
              0.5555555555555556,
              "#d8576b"
             ],
             [
              0.6666666666666666,
              "#ed7953"
             ],
             [
              0.7777777777777778,
              "#fb9f3a"
             ],
             [
              0.8888888888888888,
              "#fdca26"
             ],
             [
              1,
              "#f0f921"
             ]
            ],
            "type": "contour"
           }
          ],
          "contourcarpet": [
           {
            "colorbar": {
             "outlinewidth": 0,
             "ticks": ""
            },
            "type": "contourcarpet"
           }
          ],
          "heatmap": [
           {
            "colorbar": {
             "outlinewidth": 0,
             "ticks": ""
            },
            "colorscale": [
             [
              0,
              "#0d0887"
             ],
             [
              0.1111111111111111,
              "#46039f"
             ],
             [
              0.2222222222222222,
              "#7201a8"
             ],
             [
              0.3333333333333333,
              "#9c179e"
             ],
             [
              0.4444444444444444,
              "#bd3786"
             ],
             [
              0.5555555555555556,
              "#d8576b"
             ],
             [
              0.6666666666666666,
              "#ed7953"
             ],
             [
              0.7777777777777778,
              "#fb9f3a"
             ],
             [
              0.8888888888888888,
              "#fdca26"
             ],
             [
              1,
              "#f0f921"
             ]
            ],
            "type": "heatmap"
           }
          ],
          "heatmapgl": [
           {
            "colorbar": {
             "outlinewidth": 0,
             "ticks": ""
            },
            "colorscale": [
             [
              0,
              "#0d0887"
             ],
             [
              0.1111111111111111,
              "#46039f"
             ],
             [
              0.2222222222222222,
              "#7201a8"
             ],
             [
              0.3333333333333333,
              "#9c179e"
             ],
             [
              0.4444444444444444,
              "#bd3786"
             ],
             [
              0.5555555555555556,
              "#d8576b"
             ],
             [
              0.6666666666666666,
              "#ed7953"
             ],
             [
              0.7777777777777778,
              "#fb9f3a"
             ],
             [
              0.8888888888888888,
              "#fdca26"
             ],
             [
              1,
              "#f0f921"
             ]
            ],
            "type": "heatmapgl"
           }
          ],
          "histogram": [
           {
            "marker": {
             "pattern": {
              "fillmode": "overlay",
              "size": 10,
              "solidity": 0.2
             }
            },
            "type": "histogram"
           }
          ],
          "histogram2d": [
           {
            "colorbar": {
             "outlinewidth": 0,
             "ticks": ""
            },
            "colorscale": [
             [
              0,
              "#0d0887"
             ],
             [
              0.1111111111111111,
              "#46039f"
             ],
             [
              0.2222222222222222,
              "#7201a8"
             ],
             [
              0.3333333333333333,
              "#9c179e"
             ],
             [
              0.4444444444444444,
              "#bd3786"
             ],
             [
              0.5555555555555556,
              "#d8576b"
             ],
             [
              0.6666666666666666,
              "#ed7953"
             ],
             [
              0.7777777777777778,
              "#fb9f3a"
             ],
             [
              0.8888888888888888,
              "#fdca26"
             ],
             [
              1,
              "#f0f921"
             ]
            ],
            "type": "histogram2d"
           }
          ],
          "histogram2dcontour": [
           {
            "colorbar": {
             "outlinewidth": 0,
             "ticks": ""
            },
            "colorscale": [
             [
              0,
              "#0d0887"
             ],
             [
              0.1111111111111111,
              "#46039f"
             ],
             [
              0.2222222222222222,
              "#7201a8"
             ],
             [
              0.3333333333333333,
              "#9c179e"
             ],
             [
              0.4444444444444444,
              "#bd3786"
             ],
             [
              0.5555555555555556,
              "#d8576b"
             ],
             [
              0.6666666666666666,
              "#ed7953"
             ],
             [
              0.7777777777777778,
              "#fb9f3a"
             ],
             [
              0.8888888888888888,
              "#fdca26"
             ],
             [
              1,
              "#f0f921"
             ]
            ],
            "type": "histogram2dcontour"
           }
          ],
          "mesh3d": [
           {
            "colorbar": {
             "outlinewidth": 0,
             "ticks": ""
            },
            "type": "mesh3d"
           }
          ],
          "parcoords": [
           {
            "line": {
             "colorbar": {
              "outlinewidth": 0,
              "ticks": ""
             }
            },
            "type": "parcoords"
           }
          ],
          "pie": [
           {
            "automargin": true,
            "type": "pie"
           }
          ],
          "scatter": [
           {
            "fillpattern": {
             "fillmode": "overlay",
             "size": 10,
             "solidity": 0.2
            },
            "type": "scatter"
           }
          ],
          "scatter3d": [
           {
            "line": {
             "colorbar": {
              "outlinewidth": 0,
              "ticks": ""
             }
            },
            "marker": {
             "colorbar": {
              "outlinewidth": 0,
              "ticks": ""
             }
            },
            "type": "scatter3d"
           }
          ],
          "scattercarpet": [
           {
            "marker": {
             "colorbar": {
              "outlinewidth": 0,
              "ticks": ""
             }
            },
            "type": "scattercarpet"
           }
          ],
          "scattergeo": [
           {
            "marker": {
             "colorbar": {
              "outlinewidth": 0,
              "ticks": ""
             }
            },
            "type": "scattergeo"
           }
          ],
          "scattergl": [
           {
            "marker": {
             "colorbar": {
              "outlinewidth": 0,
              "ticks": ""
             }
            },
            "type": "scattergl"
           }
          ],
          "scattermapbox": [
           {
            "marker": {
             "colorbar": {
              "outlinewidth": 0,
              "ticks": ""
             }
            },
            "type": "scattermapbox"
           }
          ],
          "scatterpolar": [
           {
            "marker": {
             "colorbar": {
              "outlinewidth": 0,
              "ticks": ""
             }
            },
            "type": "scatterpolar"
           }
          ],
          "scatterpolargl": [
           {
            "marker": {
             "colorbar": {
              "outlinewidth": 0,
              "ticks": ""
             }
            },
            "type": "scatterpolargl"
           }
          ],
          "scatterternary": [
           {
            "marker": {
             "colorbar": {
              "outlinewidth": 0,
              "ticks": ""
             }
            },
            "type": "scatterternary"
           }
          ],
          "surface": [
           {
            "colorbar": {
             "outlinewidth": 0,
             "ticks": ""
            },
            "colorscale": [
             [
              0,
              "#0d0887"
             ],
             [
              0.1111111111111111,
              "#46039f"
             ],
             [
              0.2222222222222222,
              "#7201a8"
             ],
             [
              0.3333333333333333,
              "#9c179e"
             ],
             [
              0.4444444444444444,
              "#bd3786"
             ],
             [
              0.5555555555555556,
              "#d8576b"
             ],
             [
              0.6666666666666666,
              "#ed7953"
             ],
             [
              0.7777777777777778,
              "#fb9f3a"
             ],
             [
              0.8888888888888888,
              "#fdca26"
             ],
             [
              1,
              "#f0f921"
             ]
            ],
            "type": "surface"
           }
          ],
          "table": [
           {
            "cells": {
             "fill": {
              "color": "#EBF0F8"
             },
             "line": {
              "color": "white"
             }
            },
            "header": {
             "fill": {
              "color": "#C8D4E3"
             },
             "line": {
              "color": "white"
             }
            },
            "type": "table"
           }
          ]
         },
         "layout": {
          "annotationdefaults": {
           "arrowcolor": "#2a3f5f",
           "arrowhead": 0,
           "arrowwidth": 1
          },
          "autotypenumbers": "strict",
          "coloraxis": {
           "colorbar": {
            "outlinewidth": 0,
            "ticks": ""
           }
          },
          "colorscale": {
           "diverging": [
            [
             0,
             "#8e0152"
            ],
            [
             0.1,
             "#c51b7d"
            ],
            [
             0.2,
             "#de77ae"
            ],
            [
             0.3,
             "#f1b6da"
            ],
            [
             0.4,
             "#fde0ef"
            ],
            [
             0.5,
             "#f7f7f7"
            ],
            [
             0.6,
             "#e6f5d0"
            ],
            [
             0.7,
             "#b8e186"
            ],
            [
             0.8,
             "#7fbc41"
            ],
            [
             0.9,
             "#4d9221"
            ],
            [
             1,
             "#276419"
            ]
           ],
           "sequential": [
            [
             0,
             "#0d0887"
            ],
            [
             0.1111111111111111,
             "#46039f"
            ],
            [
             0.2222222222222222,
             "#7201a8"
            ],
            [
             0.3333333333333333,
             "#9c179e"
            ],
            [
             0.4444444444444444,
             "#bd3786"
            ],
            [
             0.5555555555555556,
             "#d8576b"
            ],
            [
             0.6666666666666666,
             "#ed7953"
            ],
            [
             0.7777777777777778,
             "#fb9f3a"
            ],
            [
             0.8888888888888888,
             "#fdca26"
            ],
            [
             1,
             "#f0f921"
            ]
           ],
           "sequentialminus": [
            [
             0,
             "#0d0887"
            ],
            [
             0.1111111111111111,
             "#46039f"
            ],
            [
             0.2222222222222222,
             "#7201a8"
            ],
            [
             0.3333333333333333,
             "#9c179e"
            ],
            [
             0.4444444444444444,
             "#bd3786"
            ],
            [
             0.5555555555555556,
             "#d8576b"
            ],
            [
             0.6666666666666666,
             "#ed7953"
            ],
            [
             0.7777777777777778,
             "#fb9f3a"
            ],
            [
             0.8888888888888888,
             "#fdca26"
            ],
            [
             1,
             "#f0f921"
            ]
           ]
          },
          "colorway": [
           "#636efa",
           "#EF553B",
           "#00cc96",
           "#ab63fa",
           "#FFA15A",
           "#19d3f3",
           "#FF6692",
           "#B6E880",
           "#FF97FF",
           "#FECB52"
          ],
          "font": {
           "color": "#2a3f5f"
          },
          "geo": {
           "bgcolor": "white",
           "lakecolor": "white",
           "landcolor": "#E5ECF6",
           "showlakes": true,
           "showland": true,
           "subunitcolor": "white"
          },
          "hoverlabel": {
           "align": "left"
          },
          "hovermode": "closest",
          "mapbox": {
           "style": "light"
          },
          "paper_bgcolor": "white",
          "plot_bgcolor": "#E5ECF6",
          "polar": {
           "angularaxis": {
            "gridcolor": "white",
            "linecolor": "white",
            "ticks": ""
           },
           "bgcolor": "#E5ECF6",
           "radialaxis": {
            "gridcolor": "white",
            "linecolor": "white",
            "ticks": ""
           }
          },
          "scene": {
           "xaxis": {
            "backgroundcolor": "#E5ECF6",
            "gridcolor": "white",
            "gridwidth": 2,
            "linecolor": "white",
            "showbackground": true,
            "ticks": "",
            "zerolinecolor": "white"
           },
           "yaxis": {
            "backgroundcolor": "#E5ECF6",
            "gridcolor": "white",
            "gridwidth": 2,
            "linecolor": "white",
            "showbackground": true,
            "ticks": "",
            "zerolinecolor": "white"
           },
           "zaxis": {
            "backgroundcolor": "#E5ECF6",
            "gridcolor": "white",
            "gridwidth": 2,
            "linecolor": "white",
            "showbackground": true,
            "ticks": "",
            "zerolinecolor": "white"
           }
          },
          "shapedefaults": {
           "line": {
            "color": "#2a3f5f"
           }
          },
          "ternary": {
           "aaxis": {
            "gridcolor": "white",
            "linecolor": "white",
            "ticks": ""
           },
           "baxis": {
            "gridcolor": "white",
            "linecolor": "white",
            "ticks": ""
           },
           "bgcolor": "#E5ECF6",
           "caxis": {
            "gridcolor": "white",
            "linecolor": "white",
            "ticks": ""
           }
          },
          "title": {
           "x": 0.05
          },
          "xaxis": {
           "automargin": true,
           "gridcolor": "white",
           "linecolor": "white",
           "ticks": "",
           "title": {
            "standoff": 15
           },
           "zerolinecolor": "white",
           "zerolinewidth": 2
          },
          "yaxis": {
           "automargin": true,
           "gridcolor": "white",
           "linecolor": "white",
           "ticks": "",
           "title": {
            "standoff": 15
           },
           "zerolinecolor": "white",
           "zerolinewidth": 2
          }
         }
        },
        "title": {
         "text": "Hyperparameter Importances"
        },
        "xaxis": {
         "title": {
          "text": "Importance for rmse"
         }
        },
        "yaxis": {
         "title": {
          "text": "Hyperparameter"
         }
        }
       }
      }
     },
     "metadata": {},
     "output_type": "display_data"
    }
   ],
   "source": [
    "optuna.visualization.plot_param_importances(study, target_name=\"rmse\")"
   ]
  },
  {
   "cell_type": "code",
   "execution_count": 16,
   "metadata": {},
   "outputs": [
    {
     "data": {
      "application/vnd.plotly.v1+json": {
       "config": {
        "plotlyServerURL": "https://plot.ly"
       },
       "data": [
        {
         "colorbar": {
          "title": {
           "text": "rsme"
          }
         },
         "colorscale": [
          [
           0,
           "rgb(247,251,255)"
          ],
          [
           0.125,
           "rgb(222,235,247)"
          ],
          [
           0.25,
           "rgb(198,219,239)"
          ],
          [
           0.375,
           "rgb(158,202,225)"
          ],
          [
           0.5,
           "rgb(107,174,214)"
          ],
          [
           0.625,
           "rgb(66,146,198)"
          ],
          [
           0.75,
           "rgb(33,113,181)"
          ],
          [
           0.875,
           "rgb(8,81,156)"
          ],
          [
           1,
           "rgb(8,48,107)"
          ]
         ],
         "connectgaps": true,
         "contours": {
          "coloring": "heatmap"
         },
         "hoverinfo": "none",
         "line": {
          "smoothing": 1.3
         },
         "reversescale": true,
         "type": "contour",
         "x": [
          -0.03158729217558004,
          0.01574221120942059,
          0.01650161066734016,
          0.02134623785003393,
          0.024341994059975752,
          0.03032974342233624,
          0.056000452115238464,
          0.06649037201850252,
          0.06766240501184748,
          0.07654674000052027,
          0.09820865667761478,
          0.0995524390478802,
          0.10025517126848438,
          0.10132124100237531,
          0.1213555127833458,
          0.14624804785977707,
          0.1558965055937957,
          0.15731514140750152,
          0.15774109928765329,
          0.15797742335663176,
          0.17873850091778148,
          0.1814664054954299,
          0.18160336679457403,
          0.20022048319536678,
          0.22974004153682864,
          0.2418828047109613,
          0.249349401586976,
          0.25902923630402713,
          0.3117000440466973,
          0.315586240250073,
          0.346168707816354,
          0.403468116360344,
          0.4540710238450949,
          0.5498030385099932,
          0.6627619688033208,
          0.7306810212361252,
          0.791429223876852,
          0.8973074811535617,
          0.9297295674763578,
          0.9312203813156253,
          0.9623322789094331,
          1.0096617822944336
         ],
         "y": [
          0.55,
          1,
          2,
          3,
          4,
          5,
          6,
          7,
          8,
          9,
          10,
          10.45
         ],
         "z": [
          [
           null,
           null,
           null,
           null,
           null,
           null,
           null,
           null,
           null,
           null,
           null,
           null,
           null,
           null,
           null,
           null,
           null,
           null,
           null,
           null,
           null,
           null,
           null,
           null,
           null,
           null,
           null,
           null,
           null,
           null,
           null,
           null,
           null,
           null,
           null,
           null,
           null,
           null,
           null,
           null,
           null,
           null
          ],
          [
           null,
           null,
           null,
           null,
           null,
           null,
           null,
           null,
           null,
           null,
           null,
           null,
           null,
           null,
           null,
           null,
           null,
           null,
           null,
           null,
           null,
           null,
           null,
           null,
           null,
           null,
           null,
           null,
           null,
           null,
           null,
           344860.9703086121,
           null,
           null,
           null,
           null,
           null,
           null,
           null,
           null,
           null,
           null
          ],
          [
           null,
           null,
           null,
           null,
           null,
           null,
           null,
           null,
           null,
           null,
           null,
           null,
           null,
           null,
           null,
           null,
           null,
           null,
           null,
           null,
           null,
           null,
           null,
           null,
           null,
           null,
           null,
           null,
           null,
           null,
           null,
           null,
           null,
           null,
           null,
           null,
           null,
           null,
           331473.01983934134,
           null,
           null,
           null
          ],
          [
           null,
           null,
           null,
           null,
           null,
           null,
           null,
           null,
           null,
           null,
           null,
           null,
           null,
           null,
           null,
           null,
           null,
           null,
           null,
           null,
           null,
           null,
           null,
           null,
           null,
           null,
           null,
           null,
           null,
           null,
           null,
           null,
           null,
           null,
           null,
           null,
           null,
           null,
           null,
           null,
           352634.5057240892,
           null
          ],
          [
           null,
           null,
           null,
           null,
           null,
           null,
           null,
           null,
           null,
           null,
           null,
           null,
           null,
           null,
           null,
           null,
           null,
           null,
           null,
           null,
           null,
           null,
           null,
           null,
           null,
           null,
           null,
           269337.21197996516,
           null,
           null,
           null,
           null,
           null,
           null,
           null,
           null,
           null,
           null,
           null,
           null,
           null,
           null
          ],
          [
           null,
           null,
           null,
           null,
           null,
           null,
           null,
           null,
           null,
           null,
           null,
           null,
           null,
           null,
           null,
           null,
           null,
           null,
           null,
           null,
           null,
           null,
           null,
           null,
           null,
           null,
           null,
           null,
           null,
           null,
           null,
           null,
           null,
           null,
           null,
           null,
           399628.84937239095,
           null,
           null,
           312603.81443005183,
           null,
           null
          ],
          [
           null,
           null,
           null,
           null,
           null,
           null,
           null,
           null,
           null,
           null,
           null,
           null,
           null,
           null,
           null,
           null,
           null,
           null,
           null,
           null,
           null,
           null,
           null,
           null,
           null,
           251862.2154470351,
           null,
           null,
           248696.5395322157,
           null,
           259752.35378558424,
           null,
           null,
           null,
           null,
           null,
           null,
           null,
           null,
           null,
           null,
           null
          ],
          [
           null,
           null,
           null,
           274066.84440504876,
           null,
           null,
           257417.6426239618,
           null,
           null,
           null,
           null,
           null,
           null,
           null,
           null,
           null,
           null,
           null,
           null,
           null,
           244429.23547512427,
           null,
           null,
           245249.8245186915,
           257532.725184267,
           null,
           null,
           null,
           null,
           null,
           null,
           null,
           277062.0359064567,
           null,
           null,
           null,
           null,
           null,
           null,
           null,
           null,
           null
          ],
          [
           null,
           null,
           null,
           null,
           null,
           null,
           null,
           null,
           null,
           null,
           null,
           null,
           247761.67547916868,
           null,
           null,
           246043.6304815775,
           null,
           null,
           245769.2298981347,
           240478.57220798158,
           null,
           null,
           242395.38530666335,
           null,
           null,
           null,
           null,
           null,
           null,
           null,
           null,
           null,
           null,
           258405.4202929406,
           null,
           null,
           null,
           null,
           null,
           null,
           null,
           null
          ],
          [
           null,
           331225.6830055093,
           null,
           null,
           null,
           null,
           null,
           null,
           257030.12097490163,
           null,
           242484.20873910474,
           241572.8681928076,
           null,
           239947.43788789416,
           253194.8510546283,
           null,
           240733.33853505147,
           null,
           null,
           null,
           null,
           239784.69815351424,
           null,
           null,
           null,
           null,
           244601.9195036017,
           null,
           null,
           null,
           null,
           null,
           null,
           null,
           279725.1418925262,
           null,
           null,
           null,
           null,
           null,
           null,
           null
          ],
          [
           null,
           null,
           258969.91937812365,
           null,
           254407.8010508892,
           251256.50123379313,
           null,
           239430.57322179753,
           null,
           237793.2644967822,
           null,
           null,
           null,
           null,
           null,
           null,
           null,
           237617.4457350021,
           null,
           null,
           null,
           null,
           null,
           null,
           null,
           null,
           null,
           null,
           null,
           245944.75104744546,
           null,
           null,
           null,
           null,
           null,
           381412.4099053585,
           null,
           311042.58201601397,
           null,
           null,
           null,
           null
          ],
          [
           null,
           null,
           null,
           null,
           null,
           null,
           null,
           null,
           null,
           null,
           null,
           null,
           null,
           null,
           null,
           null,
           null,
           null,
           null,
           null,
           null,
           null,
           null,
           null,
           null,
           null,
           null,
           null,
           null,
           null,
           null,
           null,
           null,
           null,
           null,
           null,
           null,
           null,
           null,
           null,
           null,
           null
          ]
         ]
        },
        {
         "marker": {
          "color": "black",
          "line": {
           "color": "Grey",
           "width": 2
          }
         },
         "mode": "markers",
         "showlegend": false,
         "type": "scatter",
         "x": [
          0.01574221120942059,
          0.01650161066734016,
          0.9312203813156253,
          0.7306810212361252,
          0.6627619688033208,
          0.791429223876852,
          0.4540710238450949,
          0.8973074811535617,
          0.9297295674763578,
          0.9623322789094331,
          0.056000452115238464,
          0.02134623785003393,
          0.17873850091778148,
          0.20022048319536678,
          0.2418828047109613,
          0.25902923630402713,
          0.22974004153682864,
          0.403468116360344,
          0.5498030385099932,
          0.346168707816354,
          0.15774109928765329,
          0.14624804785977707,
          0.15797742335663176,
          0.3117000440466973,
          0.10132124100237531,
          0.1213555127833458,
          0.10025517126848438,
          0.1814664054954299,
          0.0995524390478802,
          0.315586240250073,
          0.06766240501184748,
          0.09820865667761478,
          0.1558965055937957,
          0.024341994059975752,
          0.18160336679457403,
          0.249349401586976,
          0.15731514140750152,
          0.06649037201850252,
          0.03032974342233624,
          0.07654674000052027
         ],
         "y": [
          9,
          10,
          5,
          10,
          9,
          5,
          7,
          10,
          2,
          3,
          7,
          7,
          7,
          7,
          6,
          4,
          7,
          1,
          8,
          6,
          8,
          8,
          8,
          6,
          9,
          9,
          8,
          9,
          9,
          10,
          9,
          9,
          9,
          10,
          8,
          9,
          10,
          10,
          10,
          10
         ]
        }
       ],
       "layout": {
        "template": {
         "data": {
          "bar": [
           {
            "error_x": {
             "color": "#2a3f5f"
            },
            "error_y": {
             "color": "#2a3f5f"
            },
            "marker": {
             "line": {
              "color": "#E5ECF6",
              "width": 0.5
             },
             "pattern": {
              "fillmode": "overlay",
              "size": 10,
              "solidity": 0.2
             }
            },
            "type": "bar"
           }
          ],
          "barpolar": [
           {
            "marker": {
             "line": {
              "color": "#E5ECF6",
              "width": 0.5
             },
             "pattern": {
              "fillmode": "overlay",
              "size": 10,
              "solidity": 0.2
             }
            },
            "type": "barpolar"
           }
          ],
          "carpet": [
           {
            "aaxis": {
             "endlinecolor": "#2a3f5f",
             "gridcolor": "white",
             "linecolor": "white",
             "minorgridcolor": "white",
             "startlinecolor": "#2a3f5f"
            },
            "baxis": {
             "endlinecolor": "#2a3f5f",
             "gridcolor": "white",
             "linecolor": "white",
             "minorgridcolor": "white",
             "startlinecolor": "#2a3f5f"
            },
            "type": "carpet"
           }
          ],
          "choropleth": [
           {
            "colorbar": {
             "outlinewidth": 0,
             "ticks": ""
            },
            "type": "choropleth"
           }
          ],
          "contour": [
           {
            "colorbar": {
             "outlinewidth": 0,
             "ticks": ""
            },
            "colorscale": [
             [
              0,
              "#0d0887"
             ],
             [
              0.1111111111111111,
              "#46039f"
             ],
             [
              0.2222222222222222,
              "#7201a8"
             ],
             [
              0.3333333333333333,
              "#9c179e"
             ],
             [
              0.4444444444444444,
              "#bd3786"
             ],
             [
              0.5555555555555556,
              "#d8576b"
             ],
             [
              0.6666666666666666,
              "#ed7953"
             ],
             [
              0.7777777777777778,
              "#fb9f3a"
             ],
             [
              0.8888888888888888,
              "#fdca26"
             ],
             [
              1,
              "#f0f921"
             ]
            ],
            "type": "contour"
           }
          ],
          "contourcarpet": [
           {
            "colorbar": {
             "outlinewidth": 0,
             "ticks": ""
            },
            "type": "contourcarpet"
           }
          ],
          "heatmap": [
           {
            "colorbar": {
             "outlinewidth": 0,
             "ticks": ""
            },
            "colorscale": [
             [
              0,
              "#0d0887"
             ],
             [
              0.1111111111111111,
              "#46039f"
             ],
             [
              0.2222222222222222,
              "#7201a8"
             ],
             [
              0.3333333333333333,
              "#9c179e"
             ],
             [
              0.4444444444444444,
              "#bd3786"
             ],
             [
              0.5555555555555556,
              "#d8576b"
             ],
             [
              0.6666666666666666,
              "#ed7953"
             ],
             [
              0.7777777777777778,
              "#fb9f3a"
             ],
             [
              0.8888888888888888,
              "#fdca26"
             ],
             [
              1,
              "#f0f921"
             ]
            ],
            "type": "heatmap"
           }
          ],
          "heatmapgl": [
           {
            "colorbar": {
             "outlinewidth": 0,
             "ticks": ""
            },
            "colorscale": [
             [
              0,
              "#0d0887"
             ],
             [
              0.1111111111111111,
              "#46039f"
             ],
             [
              0.2222222222222222,
              "#7201a8"
             ],
             [
              0.3333333333333333,
              "#9c179e"
             ],
             [
              0.4444444444444444,
              "#bd3786"
             ],
             [
              0.5555555555555556,
              "#d8576b"
             ],
             [
              0.6666666666666666,
              "#ed7953"
             ],
             [
              0.7777777777777778,
              "#fb9f3a"
             ],
             [
              0.8888888888888888,
              "#fdca26"
             ],
             [
              1,
              "#f0f921"
             ]
            ],
            "type": "heatmapgl"
           }
          ],
          "histogram": [
           {
            "marker": {
             "pattern": {
              "fillmode": "overlay",
              "size": 10,
              "solidity": 0.2
             }
            },
            "type": "histogram"
           }
          ],
          "histogram2d": [
           {
            "colorbar": {
             "outlinewidth": 0,
             "ticks": ""
            },
            "colorscale": [
             [
              0,
              "#0d0887"
             ],
             [
              0.1111111111111111,
              "#46039f"
             ],
             [
              0.2222222222222222,
              "#7201a8"
             ],
             [
              0.3333333333333333,
              "#9c179e"
             ],
             [
              0.4444444444444444,
              "#bd3786"
             ],
             [
              0.5555555555555556,
              "#d8576b"
             ],
             [
              0.6666666666666666,
              "#ed7953"
             ],
             [
              0.7777777777777778,
              "#fb9f3a"
             ],
             [
              0.8888888888888888,
              "#fdca26"
             ],
             [
              1,
              "#f0f921"
             ]
            ],
            "type": "histogram2d"
           }
          ],
          "histogram2dcontour": [
           {
            "colorbar": {
             "outlinewidth": 0,
             "ticks": ""
            },
            "colorscale": [
             [
              0,
              "#0d0887"
             ],
             [
              0.1111111111111111,
              "#46039f"
             ],
             [
              0.2222222222222222,
              "#7201a8"
             ],
             [
              0.3333333333333333,
              "#9c179e"
             ],
             [
              0.4444444444444444,
              "#bd3786"
             ],
             [
              0.5555555555555556,
              "#d8576b"
             ],
             [
              0.6666666666666666,
              "#ed7953"
             ],
             [
              0.7777777777777778,
              "#fb9f3a"
             ],
             [
              0.8888888888888888,
              "#fdca26"
             ],
             [
              1,
              "#f0f921"
             ]
            ],
            "type": "histogram2dcontour"
           }
          ],
          "mesh3d": [
           {
            "colorbar": {
             "outlinewidth": 0,
             "ticks": ""
            },
            "type": "mesh3d"
           }
          ],
          "parcoords": [
           {
            "line": {
             "colorbar": {
              "outlinewidth": 0,
              "ticks": ""
             }
            },
            "type": "parcoords"
           }
          ],
          "pie": [
           {
            "automargin": true,
            "type": "pie"
           }
          ],
          "scatter": [
           {
            "fillpattern": {
             "fillmode": "overlay",
             "size": 10,
             "solidity": 0.2
            },
            "type": "scatter"
           }
          ],
          "scatter3d": [
           {
            "line": {
             "colorbar": {
              "outlinewidth": 0,
              "ticks": ""
             }
            },
            "marker": {
             "colorbar": {
              "outlinewidth": 0,
              "ticks": ""
             }
            },
            "type": "scatter3d"
           }
          ],
          "scattercarpet": [
           {
            "marker": {
             "colorbar": {
              "outlinewidth": 0,
              "ticks": ""
             }
            },
            "type": "scattercarpet"
           }
          ],
          "scattergeo": [
           {
            "marker": {
             "colorbar": {
              "outlinewidth": 0,
              "ticks": ""
             }
            },
            "type": "scattergeo"
           }
          ],
          "scattergl": [
           {
            "marker": {
             "colorbar": {
              "outlinewidth": 0,
              "ticks": ""
             }
            },
            "type": "scattergl"
           }
          ],
          "scattermapbox": [
           {
            "marker": {
             "colorbar": {
              "outlinewidth": 0,
              "ticks": ""
             }
            },
            "type": "scattermapbox"
           }
          ],
          "scatterpolar": [
           {
            "marker": {
             "colorbar": {
              "outlinewidth": 0,
              "ticks": ""
             }
            },
            "type": "scatterpolar"
           }
          ],
          "scatterpolargl": [
           {
            "marker": {
             "colorbar": {
              "outlinewidth": 0,
              "ticks": ""
             }
            },
            "type": "scatterpolargl"
           }
          ],
          "scatterternary": [
           {
            "marker": {
             "colorbar": {
              "outlinewidth": 0,
              "ticks": ""
             }
            },
            "type": "scatterternary"
           }
          ],
          "surface": [
           {
            "colorbar": {
             "outlinewidth": 0,
             "ticks": ""
            },
            "colorscale": [
             [
              0,
              "#0d0887"
             ],
             [
              0.1111111111111111,
              "#46039f"
             ],
             [
              0.2222222222222222,
              "#7201a8"
             ],
             [
              0.3333333333333333,
              "#9c179e"
             ],
             [
              0.4444444444444444,
              "#bd3786"
             ],
             [
              0.5555555555555556,
              "#d8576b"
             ],
             [
              0.6666666666666666,
              "#ed7953"
             ],
             [
              0.7777777777777778,
              "#fb9f3a"
             ],
             [
              0.8888888888888888,
              "#fdca26"
             ],
             [
              1,
              "#f0f921"
             ]
            ],
            "type": "surface"
           }
          ],
          "table": [
           {
            "cells": {
             "fill": {
              "color": "#EBF0F8"
             },
             "line": {
              "color": "white"
             }
            },
            "header": {
             "fill": {
              "color": "#C8D4E3"
             },
             "line": {
              "color": "white"
             }
            },
            "type": "table"
           }
          ]
         },
         "layout": {
          "annotationdefaults": {
           "arrowcolor": "#2a3f5f",
           "arrowhead": 0,
           "arrowwidth": 1
          },
          "autotypenumbers": "strict",
          "coloraxis": {
           "colorbar": {
            "outlinewidth": 0,
            "ticks": ""
           }
          },
          "colorscale": {
           "diverging": [
            [
             0,
             "#8e0152"
            ],
            [
             0.1,
             "#c51b7d"
            ],
            [
             0.2,
             "#de77ae"
            ],
            [
             0.3,
             "#f1b6da"
            ],
            [
             0.4,
             "#fde0ef"
            ],
            [
             0.5,
             "#f7f7f7"
            ],
            [
             0.6,
             "#e6f5d0"
            ],
            [
             0.7,
             "#b8e186"
            ],
            [
             0.8,
             "#7fbc41"
            ],
            [
             0.9,
             "#4d9221"
            ],
            [
             1,
             "#276419"
            ]
           ],
           "sequential": [
            [
             0,
             "#0d0887"
            ],
            [
             0.1111111111111111,
             "#46039f"
            ],
            [
             0.2222222222222222,
             "#7201a8"
            ],
            [
             0.3333333333333333,
             "#9c179e"
            ],
            [
             0.4444444444444444,
             "#bd3786"
            ],
            [
             0.5555555555555556,
             "#d8576b"
            ],
            [
             0.6666666666666666,
             "#ed7953"
            ],
            [
             0.7777777777777778,
             "#fb9f3a"
            ],
            [
             0.8888888888888888,
             "#fdca26"
            ],
            [
             1,
             "#f0f921"
            ]
           ],
           "sequentialminus": [
            [
             0,
             "#0d0887"
            ],
            [
             0.1111111111111111,
             "#46039f"
            ],
            [
             0.2222222222222222,
             "#7201a8"
            ],
            [
             0.3333333333333333,
             "#9c179e"
            ],
            [
             0.4444444444444444,
             "#bd3786"
            ],
            [
             0.5555555555555556,
             "#d8576b"
            ],
            [
             0.6666666666666666,
             "#ed7953"
            ],
            [
             0.7777777777777778,
             "#fb9f3a"
            ],
            [
             0.8888888888888888,
             "#fdca26"
            ],
            [
             1,
             "#f0f921"
            ]
           ]
          },
          "colorway": [
           "#636efa",
           "#EF553B",
           "#00cc96",
           "#ab63fa",
           "#FFA15A",
           "#19d3f3",
           "#FF6692",
           "#B6E880",
           "#FF97FF",
           "#FECB52"
          ],
          "font": {
           "color": "#2a3f5f"
          },
          "geo": {
           "bgcolor": "white",
           "lakecolor": "white",
           "landcolor": "#E5ECF6",
           "showlakes": true,
           "showland": true,
           "subunitcolor": "white"
          },
          "hoverlabel": {
           "align": "left"
          },
          "hovermode": "closest",
          "mapbox": {
           "style": "light"
          },
          "paper_bgcolor": "white",
          "plot_bgcolor": "#E5ECF6",
          "polar": {
           "angularaxis": {
            "gridcolor": "white",
            "linecolor": "white",
            "ticks": ""
           },
           "bgcolor": "#E5ECF6",
           "radialaxis": {
            "gridcolor": "white",
            "linecolor": "white",
            "ticks": ""
           }
          },
          "scene": {
           "xaxis": {
            "backgroundcolor": "#E5ECF6",
            "gridcolor": "white",
            "gridwidth": 2,
            "linecolor": "white",
            "showbackground": true,
            "ticks": "",
            "zerolinecolor": "white"
           },
           "yaxis": {
            "backgroundcolor": "#E5ECF6",
            "gridcolor": "white",
            "gridwidth": 2,
            "linecolor": "white",
            "showbackground": true,
            "ticks": "",
            "zerolinecolor": "white"
           },
           "zaxis": {
            "backgroundcolor": "#E5ECF6",
            "gridcolor": "white",
            "gridwidth": 2,
            "linecolor": "white",
            "showbackground": true,
            "ticks": "",
            "zerolinecolor": "white"
           }
          },
          "shapedefaults": {
           "line": {
            "color": "#2a3f5f"
           }
          },
          "ternary": {
           "aaxis": {
            "gridcolor": "white",
            "linecolor": "white",
            "ticks": ""
           },
           "baxis": {
            "gridcolor": "white",
            "linecolor": "white",
            "ticks": ""
           },
           "bgcolor": "#E5ECF6",
           "caxis": {
            "gridcolor": "white",
            "linecolor": "white",
            "ticks": ""
           }
          },
          "title": {
           "x": 0.05
          },
          "xaxis": {
           "automargin": true,
           "gridcolor": "white",
           "linecolor": "white",
           "ticks": "",
           "title": {
            "standoff": 15
           },
           "zerolinecolor": "white",
           "zerolinewidth": 2
          },
          "yaxis": {
           "automargin": true,
           "gridcolor": "white",
           "linecolor": "white",
           "ticks": "",
           "title": {
            "standoff": 15
           },
           "zerolinecolor": "white",
           "zerolinewidth": 2
          }
         }
        },
        "title": {
         "text": "Contour Plot"
        },
        "xaxis": {
         "range": [
          -0.03158729217558004,
          1.0096617822944336
         ],
         "title": {
          "text": "learning_rate"
         }
        },
        "yaxis": {
         "range": [
          0.55,
          10.45
         ],
         "title": {
          "text": "max_depth"
         }
        }
       }
      }
     },
     "metadata": {},
     "output_type": "display_data"
    }
   ],
   "source": [
    "optuna.visualization.plot_contour(study, params=[\"max_depth\", \"learning_rate\"],\n",
    "                                  target_name=\"rsme\")"
   ]
  },
  {
   "cell_type": "code",
   "execution_count": 31,
   "metadata": {},
   "outputs": [],
   "source": [
    "best_params_ = {'max_depth': 10, 'learning_rate': 0.27709654408982404, 'n_estimators': 665, 'min_child_weight': 5, 'gamma': 0.7761973587710317, 'subsample': 0.7887000601591988, 'colsample_bytree': 0.4221933346229272, 'reg_alpha': 0.342970136714684, 'reg_lambda': 0.8236712370675622}"
   ]
  },
  {
   "cell_type": "code",
   "execution_count": 32,
   "metadata": {},
   "outputs": [
    {
     "name": "stdout",
     "output_type": "stream",
     "text": [
      "Train RMSE: 130805.94783239845\n",
      "Test RMSE: 249211.6072599088\n"
     ]
    }
   ],
   "source": [
    "xgb = XGBRegressor(**best_params_, seed=42)\n",
    "xgb.fit(X_train_scaled, y_train)\n",
    "y_train_pred = xgb.predict(X_train_scaled)\n",
    "y_test_pred  = xgb.predict(X_test_scaled)\n",
    "print('Train RMSE:', mean_squared_error(y_train, y_train_pred, squared=False))\n",
    "print('Test RMSE:', mean_squared_error(y_test, y_test_pred, squared=False))"
   ]
  },
  {
   "cell_type": "code",
   "execution_count": 36,
   "metadata": {},
   "outputs": [
    {
     "name": "stdout",
     "output_type": "stream",
     "text": [
      "Train RMSE: 0.9356075837435911\n",
      "Test RMSE: 0.7697481573940677\n",
      "MeAE on the validation sample: 65739.5 долларов\n"
     ]
    }
   ],
   "source": [
    "''' Мы можем утверждать, что модель уловила около 76% закономерности в данных,\n",
    "а абсолютная медианная ошибка в предсказании стоимости недвижимости составляет\n",
    "65 тыс. долларов'''\n",
    "\n",
    "print('Train RMSE:', r2_score(y_train, y_train_pred))\n",
    "print('Test RMSE:', r2_score(y_test, y_test_pred))\n",
    "\n",
    "print('MeAE on the validation sample: {:.1f} долларов'.format(\n",
    "    metrics.median_absolute_error(y_test, y_test_pred)))"
   ]
  },
  {
   "cell_type": "markdown",
   "metadata": {},
   "source": [
    "## Часть 4. Создание pipeline. ##"
   ]
  },
  {
   "cell_type": "code",
   "execution_count": 7,
   "metadata": {},
   "outputs": [],
   "source": [
    "''' Создание копии исходного датасета, кодирование категориальных признаков'''\n",
    "dft = df.copy()"
   ]
  },
  {
   "cell_type": "code",
   "execution_count": 9,
   "metadata": {},
   "outputs": [],
   "source": [
    "best_params_ = {'max_depth': 10, 'learning_rate': 0.27709654408982404, 'n_estimators': 665, 'min_child_weight': 5, 'gamma': 0.7761973587710317, 'subsample': 0.7887000601591988, 'colsample_bytree': 0.4221933346229272, 'reg_alpha': 0.342970136714684, 'reg_lambda': 0.8236712370675622}"
   ]
  },
  {
   "cell_type": "code",
   "execution_count": 8,
   "metadata": {},
   "outputs": [],
   "source": [
    "preprocessor = make_column_transformer(\n",
    "    (StandardScaler(), num_col),\n",
    "    (OneHotEncoder(handle_unknown=\"ignore\", drop=\"first\"), str_col))"
   ]
  },
  {
   "cell_type": "code",
   "execution_count": 10,
   "metadata": {},
   "outputs": [],
   "source": [
    "clf = make_pipeline(preprocessor, XGBRegressor(**best_params_,seed=42))"
   ]
  },
  {
   "cell_type": "code",
   "execution_count": 11,
   "metadata": {},
   "outputs": [],
   "source": [
    "X = dft.drop('target', axis=1)\n",
    "y = dft['target']\n",
    "X_train, X_test, y_train, y_test = train_test_split(X, y, test_size=0.2, random_state=42)"
   ]
  },
  {
   "cell_type": "code",
   "execution_count": 12,
   "metadata": {},
   "outputs": [
    {
     "data": {
      "text/html": [
       "<style>#sk-container-id-1 {color: black;background-color: white;}#sk-container-id-1 pre{padding: 0;}#sk-container-id-1 div.sk-toggleable {background-color: white;}#sk-container-id-1 label.sk-toggleable__label {cursor: pointer;display: block;width: 100%;margin-bottom: 0;padding: 0.3em;box-sizing: border-box;text-align: center;}#sk-container-id-1 label.sk-toggleable__label-arrow:before {content: \"▸\";float: left;margin-right: 0.25em;color: #696969;}#sk-container-id-1 label.sk-toggleable__label-arrow:hover:before {color: black;}#sk-container-id-1 div.sk-estimator:hover label.sk-toggleable__label-arrow:before {color: black;}#sk-container-id-1 div.sk-toggleable__content {max-height: 0;max-width: 0;overflow: hidden;text-align: left;background-color: #f0f8ff;}#sk-container-id-1 div.sk-toggleable__content pre {margin: 0.2em;color: black;border-radius: 0.25em;background-color: #f0f8ff;}#sk-container-id-1 input.sk-toggleable__control:checked~div.sk-toggleable__content {max-height: 200px;max-width: 100%;overflow: auto;}#sk-container-id-1 input.sk-toggleable__control:checked~label.sk-toggleable__label-arrow:before {content: \"▾\";}#sk-container-id-1 div.sk-estimator input.sk-toggleable__control:checked~label.sk-toggleable__label {background-color: #d4ebff;}#sk-container-id-1 div.sk-label input.sk-toggleable__control:checked~label.sk-toggleable__label {background-color: #d4ebff;}#sk-container-id-1 input.sk-hidden--visually {border: 0;clip: rect(1px 1px 1px 1px);clip: rect(1px, 1px, 1px, 1px);height: 1px;margin: -1px;overflow: hidden;padding: 0;position: absolute;width: 1px;}#sk-container-id-1 div.sk-estimator {font-family: monospace;background-color: #f0f8ff;border: 1px dotted black;border-radius: 0.25em;box-sizing: border-box;margin-bottom: 0.5em;}#sk-container-id-1 div.sk-estimator:hover {background-color: #d4ebff;}#sk-container-id-1 div.sk-parallel-item::after {content: \"\";width: 100%;border-bottom: 1px solid gray;flex-grow: 1;}#sk-container-id-1 div.sk-label:hover label.sk-toggleable__label {background-color: #d4ebff;}#sk-container-id-1 div.sk-serial::before {content: \"\";position: absolute;border-left: 1px solid gray;box-sizing: border-box;top: 0;bottom: 0;left: 50%;z-index: 0;}#sk-container-id-1 div.sk-serial {display: flex;flex-direction: column;align-items: center;background-color: white;padding-right: 0.2em;padding-left: 0.2em;position: relative;}#sk-container-id-1 div.sk-item {position: relative;z-index: 1;}#sk-container-id-1 div.sk-parallel {display: flex;align-items: stretch;justify-content: center;background-color: white;position: relative;}#sk-container-id-1 div.sk-item::before, #sk-container-id-1 div.sk-parallel-item::before {content: \"\";position: absolute;border-left: 1px solid gray;box-sizing: border-box;top: 0;bottom: 0;left: 50%;z-index: -1;}#sk-container-id-1 div.sk-parallel-item {display: flex;flex-direction: column;z-index: 1;position: relative;background-color: white;}#sk-container-id-1 div.sk-parallel-item:first-child::after {align-self: flex-end;width: 50%;}#sk-container-id-1 div.sk-parallel-item:last-child::after {align-self: flex-start;width: 50%;}#sk-container-id-1 div.sk-parallel-item:only-child::after {width: 0;}#sk-container-id-1 div.sk-dashed-wrapped {border: 1px dashed gray;margin: 0 0.4em 0.5em 0.4em;box-sizing: border-box;padding-bottom: 0.4em;background-color: white;}#sk-container-id-1 div.sk-label label {font-family: monospace;font-weight: bold;display: inline-block;line-height: 1.2em;}#sk-container-id-1 div.sk-label-container {text-align: center;}#sk-container-id-1 div.sk-container {/* jupyter's `normalize.less` sets `[hidden] { display: none; }` but bootstrap.min.css set `[hidden] { display: none !important; }` so we also need the `!important` here to be able to override the default hidden behavior on the sphinx rendered scikit-learn.org. See: https://github.com/scikit-learn/scikit-learn/issues/21755 */display: inline-block !important;position: relative;}#sk-container-id-1 div.sk-text-repr-fallback {display: none;}</style><div id=\"sk-container-id-1\" class=\"sk-top-container\"><div class=\"sk-text-repr-fallback\"><pre>Pipeline(steps=[(&#x27;columntransformer&#x27;,\n",
       "                 ColumnTransformer(transformers=[(&#x27;standardscaler&#x27;,\n",
       "                                                  StandardScaler(),\n",
       "                                                  [&#x27;baths&#x27;, &#x27;fireplace&#x27;, &#x27;sqft&#x27;,\n",
       "                                                   &#x27;beds&#x27;, &#x27;stories&#x27;,\n",
       "                                                   &#x27;private_pool&#x27;, &#x27;year_built&#x27;,\n",
       "                                                   &#x27;cooling&#x27;, &#x27;lot_size&#x27;,\n",
       "                                                   &#x27;school_rate_mean&#x27;,\n",
       "                                                   &#x27;school_distance_mean&#x27;,\n",
       "                                                   &#x27;has_parking&#x27;, &#x27;garage&#x27;,\n",
       "                                                   &#x27;parking_spaces&#x27;]),\n",
       "                                                 (&#x27;onehotencoder&#x27;,\n",
       "                                                  OneHotEncoder(drop=&#x27;first&#x27;,\n",
       "                                                                handle_unknown=&#x27;ignore&#x27;)...\n",
       "                              gpu_id=None, grow_policy=None,\n",
       "                              importance_type=None,\n",
       "                              interaction_constraints=None,\n",
       "                              learning_rate=0.27709654408982404, max_bin=None,\n",
       "                              max_cat_threshold=None, max_cat_to_onehot=None,\n",
       "                              max_delta_step=None, max_depth=10,\n",
       "                              max_leaves=None, min_child_weight=5, missing=nan,\n",
       "                              monotone_constraints=None, n_estimators=665,\n",
       "                              n_jobs=None, num_parallel_tree=None,\n",
       "                              predictor=None, random_state=None, ...))])</pre><b>In a Jupyter environment, please rerun this cell to show the HTML representation or trust the notebook. <br />On GitHub, the HTML representation is unable to render, please try loading this page with nbviewer.org.</b></div><div class=\"sk-container\" hidden><div class=\"sk-item sk-dashed-wrapped\"><div class=\"sk-label-container\"><div class=\"sk-label sk-toggleable\"><input class=\"sk-toggleable__control sk-hidden--visually\" id=\"sk-estimator-id-1\" type=\"checkbox\" ><label for=\"sk-estimator-id-1\" class=\"sk-toggleable__label sk-toggleable__label-arrow\">Pipeline</label><div class=\"sk-toggleable__content\"><pre>Pipeline(steps=[(&#x27;columntransformer&#x27;,\n",
       "                 ColumnTransformer(transformers=[(&#x27;standardscaler&#x27;,\n",
       "                                                  StandardScaler(),\n",
       "                                                  [&#x27;baths&#x27;, &#x27;fireplace&#x27;, &#x27;sqft&#x27;,\n",
       "                                                   &#x27;beds&#x27;, &#x27;stories&#x27;,\n",
       "                                                   &#x27;private_pool&#x27;, &#x27;year_built&#x27;,\n",
       "                                                   &#x27;cooling&#x27;, &#x27;lot_size&#x27;,\n",
       "                                                   &#x27;school_rate_mean&#x27;,\n",
       "                                                   &#x27;school_distance_mean&#x27;,\n",
       "                                                   &#x27;has_parking&#x27;, &#x27;garage&#x27;,\n",
       "                                                   &#x27;parking_spaces&#x27;]),\n",
       "                                                 (&#x27;onehotencoder&#x27;,\n",
       "                                                  OneHotEncoder(drop=&#x27;first&#x27;,\n",
       "                                                                handle_unknown=&#x27;ignore&#x27;)...\n",
       "                              gpu_id=None, grow_policy=None,\n",
       "                              importance_type=None,\n",
       "                              interaction_constraints=None,\n",
       "                              learning_rate=0.27709654408982404, max_bin=None,\n",
       "                              max_cat_threshold=None, max_cat_to_onehot=None,\n",
       "                              max_delta_step=None, max_depth=10,\n",
       "                              max_leaves=None, min_child_weight=5, missing=nan,\n",
       "                              monotone_constraints=None, n_estimators=665,\n",
       "                              n_jobs=None, num_parallel_tree=None,\n",
       "                              predictor=None, random_state=None, ...))])</pre></div></div></div><div class=\"sk-serial\"><div class=\"sk-item sk-dashed-wrapped\"><div class=\"sk-label-container\"><div class=\"sk-label sk-toggleable\"><input class=\"sk-toggleable__control sk-hidden--visually\" id=\"sk-estimator-id-2\" type=\"checkbox\" ><label for=\"sk-estimator-id-2\" class=\"sk-toggleable__label sk-toggleable__label-arrow\">columntransformer: ColumnTransformer</label><div class=\"sk-toggleable__content\"><pre>ColumnTransformer(transformers=[(&#x27;standardscaler&#x27;, StandardScaler(),\n",
       "                                 [&#x27;baths&#x27;, &#x27;fireplace&#x27;, &#x27;sqft&#x27;, &#x27;beds&#x27;,\n",
       "                                  &#x27;stories&#x27;, &#x27;private_pool&#x27;, &#x27;year_built&#x27;,\n",
       "                                  &#x27;cooling&#x27;, &#x27;lot_size&#x27;, &#x27;school_rate_mean&#x27;,\n",
       "                                  &#x27;school_distance_mean&#x27;, &#x27;has_parking&#x27;,\n",
       "                                  &#x27;garage&#x27;, &#x27;parking_spaces&#x27;]),\n",
       "                                (&#x27;onehotencoder&#x27;,\n",
       "                                 OneHotEncoder(drop=&#x27;first&#x27;,\n",
       "                                               handle_unknown=&#x27;ignore&#x27;),\n",
       "                                 [&#x27;status&#x27;, &#x27;propertyType&#x27;, &#x27;street&#x27;, &#x27;heating&#x27;,\n",
       "                                  &#x27;states_shoted&#x27;, &#x27;cities_shorted&#x27;])])</pre></div></div></div><div class=\"sk-parallel\"><div class=\"sk-parallel-item\"><div class=\"sk-item\"><div class=\"sk-label-container\"><div class=\"sk-label sk-toggleable\"><input class=\"sk-toggleable__control sk-hidden--visually\" id=\"sk-estimator-id-3\" type=\"checkbox\" ><label for=\"sk-estimator-id-3\" class=\"sk-toggleable__label sk-toggleable__label-arrow\">standardscaler</label><div class=\"sk-toggleable__content\"><pre>[&#x27;baths&#x27;, &#x27;fireplace&#x27;, &#x27;sqft&#x27;, &#x27;beds&#x27;, &#x27;stories&#x27;, &#x27;private_pool&#x27;, &#x27;year_built&#x27;, &#x27;cooling&#x27;, &#x27;lot_size&#x27;, &#x27;school_rate_mean&#x27;, &#x27;school_distance_mean&#x27;, &#x27;has_parking&#x27;, &#x27;garage&#x27;, &#x27;parking_spaces&#x27;]</pre></div></div></div><div class=\"sk-serial\"><div class=\"sk-item\"><div class=\"sk-estimator sk-toggleable\"><input class=\"sk-toggleable__control sk-hidden--visually\" id=\"sk-estimator-id-4\" type=\"checkbox\" ><label for=\"sk-estimator-id-4\" class=\"sk-toggleable__label sk-toggleable__label-arrow\">StandardScaler</label><div class=\"sk-toggleable__content\"><pre>StandardScaler()</pre></div></div></div></div></div></div><div class=\"sk-parallel-item\"><div class=\"sk-item\"><div class=\"sk-label-container\"><div class=\"sk-label sk-toggleable\"><input class=\"sk-toggleable__control sk-hidden--visually\" id=\"sk-estimator-id-5\" type=\"checkbox\" ><label for=\"sk-estimator-id-5\" class=\"sk-toggleable__label sk-toggleable__label-arrow\">onehotencoder</label><div class=\"sk-toggleable__content\"><pre>[&#x27;status&#x27;, &#x27;propertyType&#x27;, &#x27;street&#x27;, &#x27;heating&#x27;, &#x27;states_shoted&#x27;, &#x27;cities_shorted&#x27;]</pre></div></div></div><div class=\"sk-serial\"><div class=\"sk-item\"><div class=\"sk-estimator sk-toggleable\"><input class=\"sk-toggleable__control sk-hidden--visually\" id=\"sk-estimator-id-6\" type=\"checkbox\" ><label for=\"sk-estimator-id-6\" class=\"sk-toggleable__label sk-toggleable__label-arrow\">OneHotEncoder</label><div class=\"sk-toggleable__content\"><pre>OneHotEncoder(drop=&#x27;first&#x27;, handle_unknown=&#x27;ignore&#x27;)</pre></div></div></div></div></div></div></div></div><div class=\"sk-item\"><div class=\"sk-estimator sk-toggleable\"><input class=\"sk-toggleable__control sk-hidden--visually\" id=\"sk-estimator-id-7\" type=\"checkbox\" ><label for=\"sk-estimator-id-7\" class=\"sk-toggleable__label sk-toggleable__label-arrow\">XGBRegressor</label><div class=\"sk-toggleable__content\"><pre>XGBRegressor(base_score=None, booster=None, callbacks=None,\n",
       "             colsample_bylevel=None, colsample_bynode=None,\n",
       "             colsample_bytree=0.4221933346229272, early_stopping_rounds=None,\n",
       "             enable_categorical=False, eval_metric=None, feature_types=None,\n",
       "             gamma=0.7761973587710317, gpu_id=None, grow_policy=None,\n",
       "             importance_type=None, interaction_constraints=None,\n",
       "             learning_rate=0.27709654408982404, max_bin=None,\n",
       "             max_cat_threshold=None, max_cat_to_onehot=None,\n",
       "             max_delta_step=None, max_depth=10, max_leaves=None,\n",
       "             min_child_weight=5, missing=nan, monotone_constraints=None,\n",
       "             n_estimators=665, n_jobs=None, num_parallel_tree=None,\n",
       "             predictor=None, random_state=None, ...)</pre></div></div></div></div></div></div></div>"
      ],
      "text/plain": [
       "Pipeline(steps=[('columntransformer',\n",
       "                 ColumnTransformer(transformers=[('standardscaler',\n",
       "                                                  StandardScaler(),\n",
       "                                                  ['baths', 'fireplace', 'sqft',\n",
       "                                                   'beds', 'stories',\n",
       "                                                   'private_pool', 'year_built',\n",
       "                                                   'cooling', 'lot_size',\n",
       "                                                   'school_rate_mean',\n",
       "                                                   'school_distance_mean',\n",
       "                                                   'has_parking', 'garage',\n",
       "                                                   'parking_spaces']),\n",
       "                                                 ('onehotencoder',\n",
       "                                                  OneHotEncoder(drop='first',\n",
       "                                                                handle_unknown='ignore')...\n",
       "                              gpu_id=None, grow_policy=None,\n",
       "                              importance_type=None,\n",
       "                              interaction_constraints=None,\n",
       "                              learning_rate=0.27709654408982404, max_bin=None,\n",
       "                              max_cat_threshold=None, max_cat_to_onehot=None,\n",
       "                              max_delta_step=None, max_depth=10,\n",
       "                              max_leaves=None, min_child_weight=5, missing=nan,\n",
       "                              monotone_constraints=None, n_estimators=665,\n",
       "                              n_jobs=None, num_parallel_tree=None,\n",
       "                              predictor=None, random_state=None, ...))])"
      ]
     },
     "execution_count": 12,
     "metadata": {},
     "output_type": "execute_result"
    }
   ],
   "source": [
    "clf.fit(X_train,y_train)"
   ]
  },
  {
   "cell_type": "code",
   "execution_count": 13,
   "metadata": {},
   "outputs": [
    {
     "name": "stdout",
     "output_type": "stream",
     "text": [
      "Train RMSE: 133110.3421801776\n",
      "Test RMSE: 249028.9777160837\n"
     ]
    }
   ],
   "source": [
    "y_train_pred = clf.predict(X_train)\n",
    "y_test_pred  = clf.predict(X_test)\n",
    "print('Train RMSE:', mean_squared_error(y_train, y_train_pred, squared=False))\n",
    "print('Test RMSE:', mean_squared_error(y_test, y_test_pred, squared=False))"
   ]
  },
  {
   "cell_type": "code",
   "execution_count": 14,
   "metadata": {},
   "outputs": [
    {
     "name": "stdout",
     "output_type": "stream",
     "text": [
      "Train RMSE: 0.9333188106650816\n",
      "Test RMSE: 0.7700855042890946\n"
     ]
    }
   ],
   "source": [
    "print('Train RMSE:', r2_score(y_train, y_train_pred))\n",
    "print('Test RMSE:', r2_score(y_test, y_test_pred))"
   ]
  },
  {
   "cell_type": "code",
   "execution_count": 15,
   "metadata": {},
   "outputs": [
    {
     "name": "stdout",
     "output_type": "stream",
     "text": [
      "mean rmse is: 131882.0213922286\n",
      "mean rmse is: 246571.01713874043\n"
     ]
    }
   ],
   "source": [
    "from sklearn.model_selection import KFold\n",
    "kf = KFold(n_splits=5, shuffle=True, random_state=42)\n",
    "import numpy as np\n",
    "\n",
    "best_params = best_params_\n",
    "rmse_train = []\n",
    "rmse_test = []\n",
    "for train_index, test_index in kf.split(X):\n",
    "    X_train, X_test = X.iloc[train_index], X.iloc[test_index]\n",
    "    y_train, y_test = y.iloc[train_index], y.iloc[test_index]\n",
    "    clf.fit(X_train, y_train)\n",
    "    y_train_pred = clf.predict(X_train)\n",
    "    y_test_pred = clf.predict(X_test)\n",
    "    rmse_train.append(mean_squared_error(y_train, y_train_pred, squared=False))\n",
    "    rmse_test.append(mean_squared_error(y_test, y_test_pred, squared=False))\n",
    "rmse_train = np.array(rmse_train)\n",
    "rmse_test = np.array(rmse_test)\n",
    "print(\"mean rmse is: {}\".format(rmse_train.mean()))\n",
    "print(\"mean rmse is: {}\".format(rmse_test.mean()))"
   ]
  },
  {
   "cell_type": "code",
   "execution_count": 16,
   "metadata": {},
   "outputs": [
    {
     "data": {
      "image/png": "[encoded data removed]",
      "text/plain": [
       "<Figure size 640x480 with 1 Axes>"
      ]
     },
     "metadata": {},
     "output_type": "display_data"
    }
   ],
   "source": [
    "folds = range(1, kf.get_n_splits() + 1)\n",
    "plt.plot(folds, rmse_train, 'o-', color='green', label='train')\n",
    "plt.plot(folds, rmse_test, 'o-', color='red', label='test')\n",
    "plt.legend()\n",
    "plt.grid()\n",
    "plt.xlabel('Number of fold')\n",
    "plt.ylabel('mean squared error')\n",
    "plt.show()"
   ]
  },
  {
   "cell_type": "markdown",
   "metadata": {},
   "source": [
    "## Часть 5. Финальная подготовка модели. ##"
   ]
  },
  {
   "cell_type": "code",
   "execution_count": 20,
   "metadata": {},
   "outputs": [],
   "source": [
    "import joblib\n",
    "import json"
   ]
  },
  {
   "cell_type": "code",
   "execution_count": 18,
   "metadata": {},
   "outputs": [],
   "source": [
    "path_model = \"models/model2.sav\"\n",
    "path_unique_values = \"data/unique_values2.json\""
   ]
  },
  {
   "cell_type": "code",
   "execution_count": 19,
   "metadata": {},
   "outputs": [
    {
     "name": "stdout",
     "output_type": "stream",
     "text": [
      "<class 'pandas.core.frame.DataFrame'>\n",
      "Index: 348298 entries, 1 to 376608\n",
      "Data columns (total 20 columns):\n",
      " #   Column                Non-Null Count   Dtype  \n",
      "---  ------                --------------   -----  \n",
      " 0   status                348298 non-null  object \n",
      " 1   propertyType          348298 non-null  object \n",
      " 2   street                348298 non-null  object \n",
      " 3   baths                 348298 non-null  int32  \n",
      " 4   fireplace             348298 non-null  int32  \n",
      " 5   sqft                  348298 non-null  float64\n",
      " 6   beds                  348298 non-null  int32  \n",
      " 7   stories               348298 non-null  int32  \n",
      " 8   private_pool          348298 non-null  int64  \n",
      " 9   year_built            348298 non-null  int32  \n",
      " 10  heating               348298 non-null  object \n",
      " 11  cooling               348298 non-null  int32  \n",
      " 12  lot_size              348298 non-null  float64\n",
      " 13  school_rate_mean      348298 non-null  float64\n",
      " 14  school_distance_mean  348298 non-null  float64\n",
      " 15  has_parking           348298 non-null  int64  \n",
      " 16  garage                348298 non-null  int64  \n",
      " 17  parking_spaces        348298 non-null  int32  \n",
      " 18  states_shoted         348298 non-null  object \n",
      " 19  cities_shorted        348298 non-null  object \n",
      "dtypes: float64(4), int32(7), int64(3), object(6)\n",
      "memory usage: 46.5+ MB\n"
     ]
    }
   ],
   "source": [
    "X.info()"
   ]
  },
  {
   "cell_type": "code",
   "execution_count": null,
   "metadata": {},
   "outputs": [],
   "source": [
    "#Saving the model\n",
    "joblib.dump(clf, path_model)\n",
    "\n",
    "#save unique values\n",
    "dict_unique = {key: X[key].unique().tolist() for key in X.columns}\n",
    "with open(path_unique_values, 'w') as file:\n",
    "    json.dump(dict_unique, file)"
   ]
  },
  {
   "cell_type": "code",
   "execution_count": 38,
   "metadata": {},
   "outputs": [],
   "source": [
    "def objective(trial):\n",
    "    param = {\n",
    "        'max_depth': trial.suggest_int('max_depth', 1, 10),\n",
    "        'learning_rate': trial.suggest_float('learning_rate', 0.01, 1.0),\n",
    "        'n_estimators': trial.suggest_int('n_estimators', 50, 1000),\n",
    "        'min_child_weight': trial.suggest_int('min_child_weight', 1, 10),\n",
    "        'gamma': trial.suggest_float('gamma', 0.01, 1.0),\n",
    "        'subsample': trial.suggest_float('subsample', 0.01, 1.0),\n",
    "        'colsample_bytree': trial.suggest_float('colsample_bytree', 0.01, 1.0),\n",
    "        'reg_alpha': trial.suggest_float('reg_alpha', 0.01, 1.0),\n",
    "        'reg_lambda': trial.suggest_float('reg_lambda', 0.01, 1.0),\n",
    "        'random_state': trial.suggest_int('random_state', 1, 1000)\n",
    "    }\n",
    "    model = XGBRegressor(**param)\n",
    "    model.fit(X_train_scaled, y_train)\n",
    "    y_pred = model.predict(X_test_scaled)\n",
    "    return mean_squared_error(y_test, y_pred, squared=False)\n"
   ]
  },
  {
   "cell_type": "code",
   "execution_count": 39,
   "metadata": {},
   "outputs": [
    {
     "name": "stderr",
     "output_type": "stream",
     "text": [
      "\u001b[32m[I 2023-11-27 18:14:49,492]\u001b[0m A new study created in memory with name: regression\u001b[0m\n",
      "\u001b[32m[I 2023-11-27 18:14:56,871]\u001b[0m Trial 0 finished with value: 398445.9956703492 and parameters: {'max_depth': 1, 'learning_rate': 0.41753849123143616, 'n_estimators': 105, 'min_child_weight': 7, 'gamma': 0.7396079174152242, 'subsample': 0.2671811582443633, 'colsample_bytree': 0.8491262030781767, 'reg_alpha': 0.5143726253932969, 'reg_lambda': 0.461045285970103, 'random_state': 977}. Best is trial 0 with value: 398445.9956703492.\u001b[0m\n",
      "\u001b[32m[I 2023-11-27 18:17:33,355]\u001b[0m Trial 1 finished with value: 1017494.6196596569 and parameters: {'max_depth': 9, 'learning_rate': 0.6078608834820108, 'n_estimators': 886, 'min_child_weight': 6, 'gamma': 0.3529235169312115, 'subsample': 0.16339745818124207, 'colsample_bytree': 0.43604602363088185, 'reg_alpha': 0.02368542665831514, 'reg_lambda': 0.9207731010581247, 'random_state': 126}. Best is trial 0 with value: 398445.9956703492.\u001b[0m\n",
      "\u001b[32m[I 2023-11-27 18:18:50,403]\u001b[0m Trial 2 finished with value: 311609.7220823553 and parameters: {'max_depth': 3, 'learning_rate': 0.45905731618014656, 'n_estimators': 930, 'min_child_weight': 5, 'gamma': 0.271140720637586, 'subsample': 0.8599931933946937, 'colsample_bytree': 0.4631574515060802, 'reg_alpha': 0.5736990248213166, 'reg_lambda': 0.3189188524936715, 'random_state': 306}. Best is trial 2 with value: 311609.7220823553.\u001b[0m\n",
      "\u001b[32m[I 2023-11-27 18:19:42,529]\u001b[0m Trial 3 finished with value: 348742.68114448263 and parameters: {'max_depth': 7, 'learning_rate': 0.20987721417957023, 'n_estimators': 654, 'min_child_weight': 5, 'gamma': 0.7730841964181122, 'subsample': 0.04288919626574597, 'colsample_bytree': 0.17274586060927752, 'reg_alpha': 0.7841732837526411, 'reg_lambda': 0.9272700775626148, 'random_state': 257}. Best is trial 2 with value: 311609.7220823553.\u001b[0m\n",
      "\u001b[32m[I 2023-11-27 18:20:09,327]\u001b[0m Trial 4 finished with value: 364120.2937291291 and parameters: {'max_depth': 5, 'learning_rate': 0.7446383359976578, 'n_estimators': 290, 'min_child_weight': 10, 'gamma': 0.5067181227116195, 'subsample': 0.20122636657073464, 'colsample_bytree': 0.32000692705656714, 'reg_alpha': 0.10471614180799309, 'reg_lambda': 0.738293704821228, 'random_state': 419}. Best is trial 2 with value: 311609.7220823553.\u001b[0m\n",
      "\u001b[32m[I 2023-11-27 18:20:27,611]\u001b[0m Trial 5 finished with value: 375506.7720123557 and parameters: {'max_depth': 2, 'learning_rate': 0.26132231993915706, 'n_estimators': 408, 'min_child_weight': 4, 'gamma': 0.4258168029058187, 'subsample': 0.6720992470395368, 'colsample_bytree': 0.03969050449103103, 'reg_alpha': 0.7897827889383379, 'reg_lambda': 0.03155568005730416, 'random_state': 878}. Best is trial 2 with value: 311609.7220823553.\u001b[0m\n",
      "\u001b[32m[I 2023-11-27 18:21:30,409]\u001b[0m Trial 6 finished with value: 308534.10427990305 and parameters: {'max_depth': 8, 'learning_rate': 0.4620004705647757, 'n_estimators': 290, 'min_child_weight': 7, 'gamma': 0.6112240251930244, 'subsample': 0.6125560982344325, 'colsample_bytree': 0.5843223215732959, 'reg_alpha': 0.41058530005285165, 'reg_lambda': 0.21723462596442705, 'random_state': 639}. Best is trial 6 with value: 308534.10427990305.\u001b[0m\n",
      "\u001b[32m[I 2023-11-27 18:22:00,586]\u001b[0m Trial 7 finished with value: 340177.4117122764 and parameters: {'max_depth': 2, 'learning_rate': 0.9281000120946996, 'n_estimators': 337, 'min_child_weight': 4, 'gamma': 0.4303978088359935, 'subsample': 0.7561193770492253, 'colsample_bytree': 0.7656129466094193, 'reg_alpha': 0.19776744683326106, 'reg_lambda': 0.5189263948915994, 'random_state': 290}. Best is trial 6 with value: 308534.10427990305.\u001b[0m\n",
      "\u001b[32m[I 2023-11-27 18:23:28,433]\u001b[0m Trial 8 finished with value: 333158.7183261136 and parameters: {'max_depth': 6, 'learning_rate': 0.5398408084632466, 'n_estimators': 601, 'min_child_weight': 9, 'gamma': 0.37552606841537195, 'subsample': 0.34120503232141386, 'colsample_bytree': 0.5062477740680359, 'reg_alpha': 0.42032271472490856, 'reg_lambda': 0.02638196036756464, 'random_state': 695}. Best is trial 6 with value: 308534.10427990305.\u001b[0m\n",
      "\u001b[32m[I 2023-11-27 18:27:59,642]\u001b[0m Trial 9 finished with value: 301441.8453243442 and parameters: {'max_depth': 8, 'learning_rate': 0.5857603430263628, 'n_estimators': 712, 'min_child_weight': 10, 'gamma': 0.8608770141069374, 'subsample': 0.8914373690290588, 'colsample_bytree': 0.8022520819057581, 'reg_alpha': 0.8200382160134515, 'reg_lambda': 0.882237576161878, 'random_state': 178}. Best is trial 9 with value: 301441.8453243442.\u001b[0m\n"
     ]
    }
   ],
   "source": [
    "# Create the study\n",
    "study = optuna.create_study(direction='minimize', study_name='regression')\n",
    "study.optimize(objective, n_trials=10)\n"
   ]
  },
  {
   "cell_type": "code",
   "execution_count": 40,
   "metadata": {},
   "outputs": [
    {
     "name": "stdout",
     "output_type": "stream",
     "text": [
      "Best parameters {'max_depth': 8, 'learning_rate': 0.5857603430263628, 'n_estimators': 712, 'min_child_weight': 10, 'gamma': 0.8608770141069374, 'subsample': 0.8914373690290588, 'colsample_bytree': 0.8022520819057581, 'reg_alpha': 0.8200382160134515, 'reg_lambda': 0.882237576161878, 'random_state': 178}\n"
     ]
    }
   ],
   "source": [
    "# Print the best parameters\n",
    "print('Best parameters', study.best_params)\n"
   ]
  },
  {
   "cell_type": "code",
   "execution_count": 41,
   "metadata": {},
   "outputs": [
    {
     "name": "stdout",
     "output_type": "stream",
     "text": [
      "Best value 301441.8453243442\n"
     ]
    }
   ],
   "source": [
    "# Print the best value\n",
    "print('Best value', study.best_value)\n"
   ]
  },
  {
   "cell_type": "code",
   "execution_count": 42,
   "metadata": {},
   "outputs": [
    {
     "name": "stdout",
     "output_type": "stream",
     "text": [
      "MSE:  90867186112.54582\n",
      "RMSE:  301441.8453243442\n"
     ]
    }
   ],
   "source": [
    "model = XGBRegressor(**study.best_params)\n",
    "model.fit(X_train_scaled, y_train)\n",
    "y_pred = model.predict(X_test_scaled)\n",
    "\n",
    "print('MSE: ', mean_squared_error(y_test, y_pred))\n",
    "print('RMSE: ', np.sqrt(mean_squared_error(y_test, y_pred)))\n"
   ]
  },
  {
   "cell_type": "code",
   "execution_count": null,
   "metadata": {},
   "outputs": [],
   "source": [
    "filename = \"data/xgbregressor.pickle\"\n",
    "pickle.dump(model, open(filename, \"wb\"))\n"
   ]
  },
  {
   "cell_type": "code",
   "execution_count": 44,
   "metadata": {},
   "outputs": [
    {
     "name": "stdout",
     "output_type": "stream",
     "text": [
      "Test RMSE: 0.7258033230380283\n"
     ]
    }
   ],
   "source": [
    "# print('Train RMSE:', r2_score(y_train, y_train_pred))\n",
    "print('Test RMSE:', r2_score(y_test, y_pred))"
   ]
  },
  {
   "cell_type": "code",
   "execution_count": null,
   "metadata": {},
   "outputs": [],
   "source": [
    "# def rmsle(y_true: np.ndarray, y_pred: np.ndarray) -> np.float64:\n",
    "#     \"\"\"_summary_\n",
    "\n",
    "#     the Root Mean Squared Log Error (RMSLE) metric\n",
    "#     \"\"\"\n",
    "#     return np.sqrt(mean_squared_log_error(y_true,y_pred))"
   ]
  },
  {
   "cell_type": "code",
   "execution_count": null,
   "metadata": {},
   "outputs": [],
   "source": [
    "# # target function\n",
    "\n",
    "# def objective(trial, X, y):\n",
    "#     param_grid = {\n",
    "#         \"n_estimators\": trial.suggest_categorical(\"n_estimators\", [1000]),\n",
    "#         \"learning_rate\": trial.suggest_float(\"learning_rate\", 0.01, 0.3),\n",
    "#         \"num_leaves\": trial.suggest_int(\"num_leaves\", 20, 300, step=50),\n",
    "#         \"max_depth\": trial.suggest_int(\"max_depth\", 3, 10, step=2),\n",
    "#         \"min_child_samples\":trial.suggest_int(\"min_child_samples\", 5, 200, step=50)\n",
    "#     }\n",
    "    \n",
    "#     cv = KFold(n_splits=N_FOLDS, shuffle=True, random_state=RANDOM_STATE)\n",
    "    \n",
    "#     cv_predicts = np.empty(5)\n",
    "#     for idx, (train_idx, test_idx) in enumerate(cv.split(X,y)):\n",
    "#         X_train, X_test = X.iloc[train_idx], X.iloc[test_idx]\n",
    "#         y_train, y_test = y.iloc[train_idx], y.iloc[test_idx]\n",
    "        \n",
    "#         pruning_callback = optuna.integration.LightGBMPruningCallback(\n",
    "#             trial, \"l2\")\n",
    "#         model = XGBRegressor(**param_grid)\n",
    "#         model.fit(X_train_scaled,\n",
    "#                   y_train,\n",
    "#                   eval_set = [(X_test_scaled, y_test)],\n",
    "#                   eval_metric=\"rmse\",\n",
    "#                   callbacks=[pruning_callback]\n",
    "#                 #   verbose = -1\n",
    "#                   # early_stopping_rounds = 100\n",
    "#                   )\n",
    "#     preds = model.predict(X_test)\n",
    "#     cv_predicts[idx] = rmsle(y_test, preds)\n",
    "    \n",
    "#     return np.mean(cv_predicts)      \n",
    "        \n",
    "        "
   ]
  },
  {
   "cell_type": "code",
   "execution_count": null,
   "metadata": {},
   "outputs": [],
   "source": [
    "    param = {\n",
    "        'max_depth': trial.suggest_int('max_depth', 1, 10),\n",
    "        'learning_rate': trial.suggest_float('learning_rate', 0.01, 1.0),\n",
    "        'n_estimators': trial.suggest_int('n_estimators', 50, 1000),\n",
    "        'min_child_weight': trial.suggest_int('min_child_weight', 1, 10),\n",
    "        'gamma': trial.suggest_float('gamma', 0.01, 1.0),\n",
    "        'subsample': trial.suggest_float('subsample', 0.01, 1.0),\n",
    "        'colsample_bytree': trial.suggest_float('colsample_bytree', 0.01, 1.0),\n",
    "        'reg_alpha': trial.suggest_float('reg_alpha', 0.01, 1.0),\n",
    "        'reg_lambda': trial.suggest_float('reg_lambda', 0.01, 1.0),\n",
    "        'random_state': trial.suggest_int('random_state', 1, 1000)\n",
    "    }"
   ]
  },
  {
   "cell_type": "code",
   "execution_count": 21,
   "metadata": {},
   "outputs": [],
   "source": [
    "def optuna_rf(trial):\n",
    "  # задаем пространства поиска гиперпараметров\n",
    "  n_estimators = trial.suggest_int('n_estimators', 50, 500, 50)\n",
    "  max_depth = trial.suggest_int('max_depth', 1, 30, 1)\n",
    "  min_child_weight = trial.suggest_int('min_child_weight', 1, 10, 1)\n",
    "\n",
    "  # создаем модель\n",
    "  model = XGBRegressor(n_estimators=n_estimators,\n",
    "                                          max_depth=max_depth,\n",
    "                                          min_child_weight=min_child_weight,\n",
    "                                          random_state=42)\n",
    "  # обучаем модель\n",
    "  model.fit(X_train_scaled, y_train)\n",
    "  score = metrics.f1_score(y_train, model.predict(X_train_scaled))\n",
    "\n",
    "  return score"
   ]
  },
  {
   "cell_type": "code",
   "execution_count": 22,
   "metadata": {},
   "outputs": [
    {
     "name": "stderr",
     "output_type": "stream",
     "text": [
      "\u001b[32m[I 2023-11-27 22:21:34,989]\u001b[0m A new study created in memory with name: XGboostry\u001b[0m\n",
      "\u001b[33m[W 2023-11-27 22:23:35,017]\u001b[0m Trial 0 failed with parameters: {'n_estimators': 450, 'max_depth': 10, 'min_child_weight': 8} because of the following error: KeyboardInterrupt().\u001b[0m\n",
      "Traceback (most recent call last):\n",
      "  File \"c:\\IDE\\Skillfactory\\.venv\\lib\\site-packages\\optuna\\study\\_optimize.py\", line 200, in _run_trial\n",
      "    value_or_values = func(trial)\n",
      "  File \"C:\\Users\\John Lee\\AppData\\Local\\Temp\\ipykernel_24444\\743921878.py\", line 13, in optuna_rf\n",
      "    model.fit(X_train_scaled, y_train)\n",
      "  File \"c:\\IDE\\Skillfactory\\.venv\\lib\\site-packages\\xgboost\\core.py\", line 620, in inner_f\n",
      "    return func(**kwargs)\n",
      "  File \"c:\\IDE\\Skillfactory\\.venv\\lib\\site-packages\\xgboost\\sklearn.py\", line 1025, in fit\n",
      "    self._Booster = train(\n",
      "  File \"c:\\IDE\\Skillfactory\\.venv\\lib\\site-packages\\xgboost\\core.py\", line 620, in inner_f\n",
      "    return func(**kwargs)\n",
      "  File \"c:\\IDE\\Skillfactory\\.venv\\lib\\site-packages\\xgboost\\training.py\", line 185, in train\n",
      "    bst.update(dtrain, i, obj)\n",
      "  File \"c:\\IDE\\Skillfactory\\.venv\\lib\\site-packages\\xgboost\\core.py\", line 1918, in update\n",
      "    _check_call(_LIB.XGBoosterUpdateOneIter(self.handle,\n",
      "KeyboardInterrupt\n",
      "\u001b[33m[W 2023-11-27 22:23:35,018]\u001b[0m Trial 0 failed with value None.\u001b[0m\n"
     ]
    },
    {
     "ename": "KeyboardInterrupt",
     "evalue": "",
     "output_type": "error",
     "traceback": [
      "\u001b[1;31m---------------------------------------------------------------------------\u001b[0m",
      "\u001b[1;31mKeyboardInterrupt\u001b[0m                         Traceback (most recent call last)",
      "File \u001b[1;32m<timed exec>:5\u001b[0m\n",
      "File \u001b[1;32mc:\\IDE\\Skillfactory\\.venv\\lib\\site-packages\\optuna\\study\\study.py:425\u001b[0m, in \u001b[0;36mStudy.optimize\u001b[1;34m(self, func, n_trials, timeout, n_jobs, catch, callbacks, gc_after_trial, show_progress_bar)\u001b[0m\n\u001b[0;32m    321\u001b[0m \u001b[39mdef\u001b[39;00m \u001b[39moptimize\u001b[39m(\n\u001b[0;32m    322\u001b[0m     \u001b[39mself\u001b[39m,\n\u001b[0;32m    323\u001b[0m     func: ObjectiveFuncType,\n\u001b[1;32m   (...)\u001b[0m\n\u001b[0;32m    330\u001b[0m     show_progress_bar: \u001b[39mbool\u001b[39m \u001b[39m=\u001b[39m \u001b[39mFalse\u001b[39;00m,\n\u001b[0;32m    331\u001b[0m ) \u001b[39m-\u001b[39m\u001b[39m>\u001b[39m \u001b[39mNone\u001b[39;00m:\n\u001b[0;32m    332\u001b[0m \u001b[39m    \u001b[39m\u001b[39m\"\"\"Optimize an objective function.\u001b[39;00m\n\u001b[0;32m    333\u001b[0m \n\u001b[0;32m    334\u001b[0m \u001b[39m    Optimization is done by choosing a suitable set of hyperparameter values from a given\u001b[39;00m\n\u001b[1;32m   (...)\u001b[0m\n\u001b[0;32m    422\u001b[0m \u001b[39m            If nested invocation of this method occurs.\u001b[39;00m\n\u001b[0;32m    423\u001b[0m \u001b[39m    \"\"\"\u001b[39;00m\n\u001b[1;32m--> 425\u001b[0m     _optimize(\n\u001b[0;32m    426\u001b[0m         study\u001b[39m=\u001b[39;49m\u001b[39mself\u001b[39;49m,\n\u001b[0;32m    427\u001b[0m         func\u001b[39m=\u001b[39;49mfunc,\n\u001b[0;32m    428\u001b[0m         n_trials\u001b[39m=\u001b[39;49mn_trials,\n\u001b[0;32m    429\u001b[0m         timeout\u001b[39m=\u001b[39;49mtimeout,\n\u001b[0;32m    430\u001b[0m         n_jobs\u001b[39m=\u001b[39;49mn_jobs,\n\u001b[0;32m    431\u001b[0m         catch\u001b[39m=\u001b[39;49m\u001b[39mtuple\u001b[39;49m(catch) \u001b[39mif\u001b[39;49;00m \u001b[39misinstance\u001b[39;49m(catch, Iterable) \u001b[39melse\u001b[39;49;00m (catch,),\n\u001b[0;32m    432\u001b[0m         callbacks\u001b[39m=\u001b[39;49mcallbacks,\n\u001b[0;32m    433\u001b[0m         gc_after_trial\u001b[39m=\u001b[39;49mgc_after_trial,\n\u001b[0;32m    434\u001b[0m         show_progress_bar\u001b[39m=\u001b[39;49mshow_progress_bar,\n\u001b[0;32m    435\u001b[0m     )\n",
      "File \u001b[1;32mc:\\IDE\\Skillfactory\\.venv\\lib\\site-packages\\optuna\\study\\_optimize.py:66\u001b[0m, in \u001b[0;36m_optimize\u001b[1;34m(study, func, n_trials, timeout, n_jobs, catch, callbacks, gc_after_trial, show_progress_bar)\u001b[0m\n\u001b[0;32m     64\u001b[0m \u001b[39mtry\u001b[39;00m:\n\u001b[0;32m     65\u001b[0m     \u001b[39mif\u001b[39;00m n_jobs \u001b[39m==\u001b[39m \u001b[39m1\u001b[39m:\n\u001b[1;32m---> 66\u001b[0m         _optimize_sequential(\n\u001b[0;32m     67\u001b[0m             study,\n\u001b[0;32m     68\u001b[0m             func,\n\u001b[0;32m     69\u001b[0m             n_trials,\n\u001b[0;32m     70\u001b[0m             timeout,\n\u001b[0;32m     71\u001b[0m             catch,\n\u001b[0;32m     72\u001b[0m             callbacks,\n\u001b[0;32m     73\u001b[0m             gc_after_trial,\n\u001b[0;32m     74\u001b[0m             reseed_sampler_rng\u001b[39m=\u001b[39;49m\u001b[39mFalse\u001b[39;49;00m,\n\u001b[0;32m     75\u001b[0m             time_start\u001b[39m=\u001b[39;49m\u001b[39mNone\u001b[39;49;00m,\n\u001b[0;32m     76\u001b[0m             progress_bar\u001b[39m=\u001b[39;49mprogress_bar,\n\u001b[0;32m     77\u001b[0m         )\n\u001b[0;32m     78\u001b[0m     \u001b[39melse\u001b[39;00m:\n\u001b[0;32m     79\u001b[0m         \u001b[39mif\u001b[39;00m n_jobs \u001b[39m==\u001b[39m \u001b[39m-\u001b[39m\u001b[39m1\u001b[39m:\n",
      "File \u001b[1;32mc:\\IDE\\Skillfactory\\.venv\\lib\\site-packages\\optuna\\study\\_optimize.py:163\u001b[0m, in \u001b[0;36m_optimize_sequential\u001b[1;34m(study, func, n_trials, timeout, catch, callbacks, gc_after_trial, reseed_sampler_rng, time_start, progress_bar)\u001b[0m\n\u001b[0;32m    160\u001b[0m         \u001b[39mbreak\u001b[39;00m\n\u001b[0;32m    162\u001b[0m \u001b[39mtry\u001b[39;00m:\n\u001b[1;32m--> 163\u001b[0m     frozen_trial \u001b[39m=\u001b[39m _run_trial(study, func, catch)\n\u001b[0;32m    164\u001b[0m \u001b[39mfinally\u001b[39;00m:\n\u001b[0;32m    165\u001b[0m     \u001b[39m# The following line mitigates memory problems that can be occurred in some\u001b[39;00m\n\u001b[0;32m    166\u001b[0m     \u001b[39m# environments (e.g., services that use computing containers such as GitHub Actions).\u001b[39;00m\n\u001b[0;32m    167\u001b[0m     \u001b[39m# Please refer to the following PR for further details:\u001b[39;00m\n\u001b[0;32m    168\u001b[0m     \u001b[39m# https://github.com/optuna/optuna/pull/325.\u001b[39;00m\n\u001b[0;32m    169\u001b[0m     \u001b[39mif\u001b[39;00m gc_after_trial:\n",
      "File \u001b[1;32mc:\\IDE\\Skillfactory\\.venv\\lib\\site-packages\\optuna\\study\\_optimize.py:251\u001b[0m, in \u001b[0;36m_run_trial\u001b[1;34m(study, func, catch)\u001b[0m\n\u001b[0;32m    244\u001b[0m         \u001b[39massert\u001b[39;00m \u001b[39mFalse\u001b[39;00m, \u001b[39m\"\u001b[39m\u001b[39mShould not reach.\u001b[39m\u001b[39m\"\u001b[39m\n\u001b[0;32m    246\u001b[0m \u001b[39mif\u001b[39;00m (\n\u001b[0;32m    247\u001b[0m     frozen_trial\u001b[39m.\u001b[39mstate \u001b[39m==\u001b[39m TrialState\u001b[39m.\u001b[39mFAIL\n\u001b[0;32m    248\u001b[0m     \u001b[39mand\u001b[39;00m func_err \u001b[39mis\u001b[39;00m \u001b[39mnot\u001b[39;00m \u001b[39mNone\u001b[39;00m\n\u001b[0;32m    249\u001b[0m     \u001b[39mand\u001b[39;00m \u001b[39mnot\u001b[39;00m \u001b[39misinstance\u001b[39m(func_err, catch)\n\u001b[0;32m    250\u001b[0m ):\n\u001b[1;32m--> 251\u001b[0m     \u001b[39mraise\u001b[39;00m func_err\n\u001b[0;32m    252\u001b[0m \u001b[39mreturn\u001b[39;00m frozen_trial\n",
      "File \u001b[1;32mc:\\IDE\\Skillfactory\\.venv\\lib\\site-packages\\optuna\\study\\_optimize.py:200\u001b[0m, in \u001b[0;36m_run_trial\u001b[1;34m(study, func, catch)\u001b[0m\n\u001b[0;32m    198\u001b[0m \u001b[39mwith\u001b[39;00m get_heartbeat_thread(trial\u001b[39m.\u001b[39m_trial_id, study\u001b[39m.\u001b[39m_storage):\n\u001b[0;32m    199\u001b[0m     \u001b[39mtry\u001b[39;00m:\n\u001b[1;32m--> 200\u001b[0m         value_or_values \u001b[39m=\u001b[39m func(trial)\n\u001b[0;32m    201\u001b[0m     \u001b[39mexcept\u001b[39;00m exceptions\u001b[39m.\u001b[39mTrialPruned \u001b[39mas\u001b[39;00m e:\n\u001b[0;32m    202\u001b[0m         \u001b[39m# TODO(mamu): Handle multi-objective cases.\u001b[39;00m\n\u001b[0;32m    203\u001b[0m         state \u001b[39m=\u001b[39m TrialState\u001b[39m.\u001b[39mPRUNED\n",
      "\u001b[1;32mc:\\IDE\\Skillfactory\\Project_diplom\\home_prices\\Project_5_model_train_i2.ipynb Cell 62\u001b[0m line \u001b[0;36m1\n\u001b[0;32m      <a href='vscode-notebook-cell:/c%3A/IDE/Skillfactory/Project_diplom/home_prices/Project_5_model_train_i2.ipynb#Y132sZmlsZQ%3D%3D?line=7'>8</a>\u001b[0m model \u001b[39m=\u001b[39m XGBRegressor(n_estimators\u001b[39m=\u001b[39mn_estimators,\n\u001b[0;32m      <a href='vscode-notebook-cell:/c%3A/IDE/Skillfactory/Project_diplom/home_prices/Project_5_model_train_i2.ipynb#Y132sZmlsZQ%3D%3D?line=8'>9</a>\u001b[0m                                         max_depth\u001b[39m=\u001b[39mmax_depth,\n\u001b[0;32m     <a href='vscode-notebook-cell:/c%3A/IDE/Skillfactory/Project_diplom/home_prices/Project_5_model_train_i2.ipynb#Y132sZmlsZQ%3D%3D?line=9'>10</a>\u001b[0m                                         min_child_weight\u001b[39m=\u001b[39mmin_child_weight,\n\u001b[0;32m     <a href='vscode-notebook-cell:/c%3A/IDE/Skillfactory/Project_diplom/home_prices/Project_5_model_train_i2.ipynb#Y132sZmlsZQ%3D%3D?line=10'>11</a>\u001b[0m                                         random_state\u001b[39m=\u001b[39m\u001b[39m42\u001b[39m)\n\u001b[0;32m     <a href='vscode-notebook-cell:/c%3A/IDE/Skillfactory/Project_diplom/home_prices/Project_5_model_train_i2.ipynb#Y132sZmlsZQ%3D%3D?line=11'>12</a>\u001b[0m \u001b[39m# обучаем модель\u001b[39;00m\n\u001b[1;32m---> <a href='vscode-notebook-cell:/c%3A/IDE/Skillfactory/Project_diplom/home_prices/Project_5_model_train_i2.ipynb#Y132sZmlsZQ%3D%3D?line=12'>13</a>\u001b[0m model\u001b[39m.\u001b[39;49mfit(X_train_scaled, y_train)\n\u001b[0;32m     <a href='vscode-notebook-cell:/c%3A/IDE/Skillfactory/Project_diplom/home_prices/Project_5_model_train_i2.ipynb#Y132sZmlsZQ%3D%3D?line=13'>14</a>\u001b[0m score \u001b[39m=\u001b[39m metrics\u001b[39m.\u001b[39mf1_score(y_train, model\u001b[39m.\u001b[39mpredict(X_train_scaled))\n\u001b[0;32m     <a href='vscode-notebook-cell:/c%3A/IDE/Skillfactory/Project_diplom/home_prices/Project_5_model_train_i2.ipynb#Y132sZmlsZQ%3D%3D?line=15'>16</a>\u001b[0m \u001b[39mreturn\u001b[39;00m score\n",
      "File \u001b[1;32mc:\\IDE\\Skillfactory\\.venv\\lib\\site-packages\\xgboost\\core.py:620\u001b[0m, in \u001b[0;36mrequire_keyword_args.<locals>.throw_if.<locals>.inner_f\u001b[1;34m(*args, **kwargs)\u001b[0m\n\u001b[0;32m    618\u001b[0m \u001b[39mfor\u001b[39;00m k, arg \u001b[39min\u001b[39;00m \u001b[39mzip\u001b[39m(sig\u001b[39m.\u001b[39mparameters, args):\n\u001b[0;32m    619\u001b[0m     kwargs[k] \u001b[39m=\u001b[39m arg\n\u001b[1;32m--> 620\u001b[0m \u001b[39mreturn\u001b[39;00m func(\u001b[39m*\u001b[39m\u001b[39m*\u001b[39mkwargs)\n",
      "File \u001b[1;32mc:\\IDE\\Skillfactory\\.venv\\lib\\site-packages\\xgboost\\sklearn.py:1025\u001b[0m, in \u001b[0;36mXGBModel.fit\u001b[1;34m(self, X, y, sample_weight, base_margin, eval_set, eval_metric, early_stopping_rounds, verbose, xgb_model, sample_weight_eval_set, base_margin_eval_set, feature_weights, callbacks)\u001b[0m\n\u001b[0;32m   1014\u001b[0m     obj \u001b[39m=\u001b[39m \u001b[39mNone\u001b[39;00m\n\u001b[0;32m   1016\u001b[0m (\n\u001b[0;32m   1017\u001b[0m     model,\n\u001b[0;32m   1018\u001b[0m     metric,\n\u001b[1;32m   (...)\u001b[0m\n\u001b[0;32m   1023\u001b[0m     xgb_model, eval_metric, params, early_stopping_rounds, callbacks\n\u001b[0;32m   1024\u001b[0m )\n\u001b[1;32m-> 1025\u001b[0m \u001b[39mself\u001b[39m\u001b[39m.\u001b[39m_Booster \u001b[39m=\u001b[39m train(\n\u001b[0;32m   1026\u001b[0m     params,\n\u001b[0;32m   1027\u001b[0m     train_dmatrix,\n\u001b[0;32m   1028\u001b[0m     \u001b[39mself\u001b[39;49m\u001b[39m.\u001b[39;49mget_num_boosting_rounds(),\n\u001b[0;32m   1029\u001b[0m     evals\u001b[39m=\u001b[39;49mevals,\n\u001b[0;32m   1030\u001b[0m     early_stopping_rounds\u001b[39m=\u001b[39;49mearly_stopping_rounds,\n\u001b[0;32m   1031\u001b[0m     evals_result\u001b[39m=\u001b[39;49mevals_result,\n\u001b[0;32m   1032\u001b[0m     obj\u001b[39m=\u001b[39;49mobj,\n\u001b[0;32m   1033\u001b[0m     custom_metric\u001b[39m=\u001b[39;49mmetric,\n\u001b[0;32m   1034\u001b[0m     verbose_eval\u001b[39m=\u001b[39;49mverbose,\n\u001b[0;32m   1035\u001b[0m     xgb_model\u001b[39m=\u001b[39;49mmodel,\n\u001b[0;32m   1036\u001b[0m     callbacks\u001b[39m=\u001b[39;49mcallbacks,\n\u001b[0;32m   1037\u001b[0m )\n\u001b[0;32m   1039\u001b[0m \u001b[39mself\u001b[39m\u001b[39m.\u001b[39m_set_evaluation_result(evals_result)\n\u001b[0;32m   1040\u001b[0m \u001b[39mreturn\u001b[39;00m \u001b[39mself\u001b[39m\n",
      "File \u001b[1;32mc:\\IDE\\Skillfactory\\.venv\\lib\\site-packages\\xgboost\\core.py:620\u001b[0m, in \u001b[0;36mrequire_keyword_args.<locals>.throw_if.<locals>.inner_f\u001b[1;34m(*args, **kwargs)\u001b[0m\n\u001b[0;32m    618\u001b[0m \u001b[39mfor\u001b[39;00m k, arg \u001b[39min\u001b[39;00m \u001b[39mzip\u001b[39m(sig\u001b[39m.\u001b[39mparameters, args):\n\u001b[0;32m    619\u001b[0m     kwargs[k] \u001b[39m=\u001b[39m arg\n\u001b[1;32m--> 620\u001b[0m \u001b[39mreturn\u001b[39;00m func(\u001b[39m*\u001b[39m\u001b[39m*\u001b[39mkwargs)\n",
      "File \u001b[1;32mc:\\IDE\\Skillfactory\\.venv\\lib\\site-packages\\xgboost\\training.py:185\u001b[0m, in \u001b[0;36mtrain\u001b[1;34m(params, dtrain, num_boost_round, evals, obj, feval, maximize, early_stopping_rounds, evals_result, verbose_eval, xgb_model, callbacks, custom_metric)\u001b[0m\n\u001b[0;32m    183\u001b[0m \u001b[39mif\u001b[39;00m cb_container\u001b[39m.\u001b[39mbefore_iteration(bst, i, dtrain, evals):\n\u001b[0;32m    184\u001b[0m     \u001b[39mbreak\u001b[39;00m\n\u001b[1;32m--> 185\u001b[0m bst\u001b[39m.\u001b[39;49mupdate(dtrain, i, obj)\n\u001b[0;32m    186\u001b[0m \u001b[39mif\u001b[39;00m cb_container\u001b[39m.\u001b[39mafter_iteration(bst, i, dtrain, evals):\n\u001b[0;32m    187\u001b[0m     \u001b[39mbreak\u001b[39;00m\n",
      "File \u001b[1;32mc:\\IDE\\Skillfactory\\.venv\\lib\\site-packages\\xgboost\\core.py:1918\u001b[0m, in \u001b[0;36mBooster.update\u001b[1;34m(self, dtrain, iteration, fobj)\u001b[0m\n\u001b[0;32m   1915\u001b[0m \u001b[39mself\u001b[39m\u001b[39m.\u001b[39m_validate_dmatrix_features(dtrain)\n\u001b[0;32m   1917\u001b[0m \u001b[39mif\u001b[39;00m fobj \u001b[39mis\u001b[39;00m \u001b[39mNone\u001b[39;00m:\n\u001b[1;32m-> 1918\u001b[0m     _check_call(_LIB\u001b[39m.\u001b[39;49mXGBoosterUpdateOneIter(\u001b[39mself\u001b[39;49m\u001b[39m.\u001b[39;49mhandle,\n\u001b[0;32m   1919\u001b[0m                                             ctypes\u001b[39m.\u001b[39;49mc_int(iteration),\n\u001b[0;32m   1920\u001b[0m                                             dtrain\u001b[39m.\u001b[39;49mhandle))\n\u001b[0;32m   1921\u001b[0m \u001b[39melse\u001b[39;00m:\n\u001b[0;32m   1922\u001b[0m     pred \u001b[39m=\u001b[39m \u001b[39mself\u001b[39m\u001b[39m.\u001b[39mpredict(dtrain, output_margin\u001b[39m=\u001b[39m\u001b[39mTrue\u001b[39;00m, training\u001b[39m=\u001b[39m\u001b[39mTrue\u001b[39;00m)\n",
      "\u001b[1;31mKeyboardInterrupt\u001b[0m: "
     ]
    }
   ],
   "source": [
    "%%time\n",
    "# cоздаем объект исследования\n",
    "# можем напрямую указать, что нам необходимо максимизировать метрику direction=\"maximize\"\n",
    "study = optuna.create_study(study_name=\"XGboostry\", direction=\"minimize\")\n",
    "# ищем лучшую комбинацию гиперпараметров n_trials раз\n",
    "study.optimize(optuna_rf, n_trials=10)"
   ]
  }
 ],
 "metadata": {
  "kernelspec": {
   "display_name": ".venv",
   "language": "python",
   "name": "python3"
  },
  "language_info": {
   "codemirror_mode": {
    "name": "ipython",
    "version": 3
   },
   "file_extension": ".py",
   "mimetype": "text/x-python",
   "name": "python",
   "nbconvert_exporter": "python",
   "pygments_lexer": "ipython3",
   "version": "3.10.5"
  }
 },
 "nbformat": 4,
 "nbformat_minor": 2
}
